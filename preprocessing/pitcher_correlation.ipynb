{
  "nbformat": 4,
  "nbformat_minor": 0,
  "metadata": {
    "kernelspec": {
      "display_name": "Python 3",
      "language": "python",
      "name": "python3"
    },
    "language_info": {
      "codemirror_mode": {
        "name": "ipython",
        "version": 3
      },
      "file_extension": ".py",
      "mimetype": "text/x-python",
      "name": "python",
      "nbconvert_exporter": "python",
      "pygments_lexer": "ipython3",
      "version": "3.7.4"
    },
    "colab": {
      "name": "pitcher_correlation.ipynb",
      "provenance": [],
      "collapsed_sections": []
    }
  },
  "cells": [
    {
      "cell_type": "code",
      "metadata": {
        "id": "LaSxHTMLGfvN",
        "colab_type": "code",
        "colab": {}
      },
      "source": [
        "import pandas as pd\n",
        "import numpy as np\n",
        "from sklearn import preprocessing\n",
        "import matplotlib.pyplot as plt\n",
        "import seaborn as sns\n",
        "%matplotlib inline\n",
        "import missingno as msng"
      ],
      "execution_count": 0,
      "outputs": []
    },
    {
      "cell_type": "code",
      "metadata": {
        "id": "yXWlxmDAGfvR",
        "colab_type": "code",
        "colab": {}
      },
      "source": [
        "pit_total = pd.read_csv('../Data/MLB_data_edit/pit_total.csv', encoding='euc-kr')\n",
        "bat_total = pd.read_csv('../Data/MLB_data_edit/bat_total.csv', encoding='euc-kr')\n",
        "rank_total = pd.read_csv('../Data/MLB_data_edit/rank_total.csv', encoding='euc-kr')\n"
      ],
      "execution_count": 0,
      "outputs": []
    },
    {
      "cell_type": "code",
      "metadata": {
        "id": "mhKqIVgGGfvT",
        "colab_type": "code",
        "colab": {}
      },
      "source": [
        "del pit_total['Unnamed: 0']"
      ],
      "execution_count": 0,
      "outputs": []
    },
    {
      "cell_type": "code",
      "metadata": {
        "id": "e7sbAYIRGfvV",
        "colab_type": "code",
        "colab": {}
      },
      "source": [
        "del bat_total['Unnamed: 0']"
      ],
      "execution_count": 0,
      "outputs": []
    },
    {
      "cell_type": "code",
      "metadata": {
        "id": "sgxJ5dpGGfvX",
        "colab_type": "code",
        "colab": {}
      },
      "source": [
        "del rank_total['Unnamed: 0']"
      ],
      "execution_count": 0,
      "outputs": []
    },
    {
      "cell_type": "code",
      "metadata": {
        "id": "bHRik4FeGfva",
        "colab_type": "code",
        "outputId": "350087e2-1e40-4ca5-cf09-eaaf1ff82d36",
        "colab": {}
      },
      "source": [
        "pit_total"
      ],
      "execution_count": 0,
      "outputs": [
        {
          "output_type": "execute_result",
          "data": {
            "text/html": [
              "<div>\n",
              "<style scoped>\n",
              "    .dataframe tbody tr th:only-of-type {\n",
              "        vertical-align: middle;\n",
              "    }\n",
              "\n",
              "    .dataframe tbody tr th {\n",
              "        vertical-align: top;\n",
              "    }\n",
              "\n",
              "    .dataframe thead th {\n",
              "        text-align: right;\n",
              "    }\n",
              "</style>\n",
              "<table border=\"1\" class=\"dataframe\">\n",
              "  <thead>\n",
              "    <tr style=\"text-align: right;\">\n",
              "      <th></th>\n",
              "      <th>Year</th>\n",
              "      <th>Player</th>\n",
              "      <th>Team</th>\n",
              "      <th>G</th>\n",
              "      <th>GS</th>\n",
              "      <th>CG</th>\n",
              "      <th>SHO</th>\n",
              "      <th>IP</th>\n",
              "      <th>H</th>\n",
              "      <th>ER</th>\n",
              "      <th>K</th>\n",
              "      <th>BB</th>\n",
              "      <th>HR</th>\n",
              "      <th>W</th>\n",
              "      <th>L</th>\n",
              "      <th>SV</th>\n",
              "      <th>BS</th>\n",
              "      <th>HLD</th>\n",
              "      <th>ERA</th>\n",
              "      <th>WHIP</th>\n",
              "    </tr>\n",
              "  </thead>\n",
              "  <tbody>\n",
              "    <tr>\n",
              "      <td>0</td>\n",
              "      <td>2010</td>\n",
              "      <td>Roy Halladay</td>\n",
              "      <td>PHI</td>\n",
              "      <td>33</td>\n",
              "      <td>33</td>\n",
              "      <td>9</td>\n",
              "      <td>4</td>\n",
              "      <td>250.2</td>\n",
              "      <td>231</td>\n",
              "      <td>68</td>\n",
              "      <td>219</td>\n",
              "      <td>30</td>\n",
              "      <td>24</td>\n",
              "      <td>21</td>\n",
              "      <td>10</td>\n",
              "      <td>0</td>\n",
              "      <td>0</td>\n",
              "      <td>0</td>\n",
              "      <td>2.44</td>\n",
              "      <td>1.04</td>\n",
              "    </tr>\n",
              "    <tr>\n",
              "      <td>1</td>\n",
              "      <td>2010</td>\n",
              "      <td>Felix Hernandez</td>\n",
              "      <td>SEA</td>\n",
              "      <td>34</td>\n",
              "      <td>34</td>\n",
              "      <td>6</td>\n",
              "      <td>1</td>\n",
              "      <td>249.2</td>\n",
              "      <td>194</td>\n",
              "      <td>63</td>\n",
              "      <td>232</td>\n",
              "      <td>70</td>\n",
              "      <td>17</td>\n",
              "      <td>13</td>\n",
              "      <td>12</td>\n",
              "      <td>0</td>\n",
              "      <td>0</td>\n",
              "      <td>0</td>\n",
              "      <td>2.27</td>\n",
              "      <td>1.06</td>\n",
              "    </tr>\n",
              "    <tr>\n",
              "      <td>2</td>\n",
              "      <td>2010</td>\n",
              "      <td>CC Sabathia</td>\n",
              "      <td>NYY</td>\n",
              "      <td>34</td>\n",
              "      <td>34</td>\n",
              "      <td>2</td>\n",
              "      <td>0</td>\n",
              "      <td>237.2</td>\n",
              "      <td>209</td>\n",
              "      <td>84</td>\n",
              "      <td>197</td>\n",
              "      <td>74</td>\n",
              "      <td>20</td>\n",
              "      <td>21</td>\n",
              "      <td>7</td>\n",
              "      <td>0</td>\n",
              "      <td>0</td>\n",
              "      <td>0</td>\n",
              "      <td>3.18</td>\n",
              "      <td>1.19</td>\n",
              "    </tr>\n",
              "    <tr>\n",
              "      <td>3</td>\n",
              "      <td>2010</td>\n",
              "      <td>Chris Carpenter</td>\n",
              "      <td>STL</td>\n",
              "      <td>35</td>\n",
              "      <td>35</td>\n",
              "      <td>1</td>\n",
              "      <td>0</td>\n",
              "      <td>235.0</td>\n",
              "      <td>214</td>\n",
              "      <td>84</td>\n",
              "      <td>179</td>\n",
              "      <td>63</td>\n",
              "      <td>21</td>\n",
              "      <td>16</td>\n",
              "      <td>9</td>\n",
              "      <td>0</td>\n",
              "      <td>0</td>\n",
              "      <td>0</td>\n",
              "      <td>3.22</td>\n",
              "      <td>1.18</td>\n",
              "    </tr>\n",
              "    <tr>\n",
              "      <td>4</td>\n",
              "      <td>2010</td>\n",
              "      <td>Adam Wainwright</td>\n",
              "      <td>STL</td>\n",
              "      <td>33</td>\n",
              "      <td>33</td>\n",
              "      <td>5</td>\n",
              "      <td>2</td>\n",
              "      <td>230.1</td>\n",
              "      <td>186</td>\n",
              "      <td>62</td>\n",
              "      <td>213</td>\n",
              "      <td>56</td>\n",
              "      <td>15</td>\n",
              "      <td>20</td>\n",
              "      <td>11</td>\n",
              "      <td>0</td>\n",
              "      <td>0</td>\n",
              "      <td>0</td>\n",
              "      <td>2.42</td>\n",
              "      <td>1.05</td>\n",
              "    </tr>\n",
              "    <tr>\n",
              "      <td>...</td>\n",
              "      <td>...</td>\n",
              "      <td>...</td>\n",
              "      <td>...</td>\n",
              "      <td>...</td>\n",
              "      <td>...</td>\n",
              "      <td>...</td>\n",
              "      <td>...</td>\n",
              "      <td>...</td>\n",
              "      <td>...</td>\n",
              "      <td>...</td>\n",
              "      <td>...</td>\n",
              "      <td>...</td>\n",
              "      <td>...</td>\n",
              "      <td>...</td>\n",
              "      <td>...</td>\n",
              "      <td>...</td>\n",
              "      <td>...</td>\n",
              "      <td>...</td>\n",
              "      <td>...</td>\n",
              "      <td>...</td>\n",
              "    </tr>\n",
              "    <tr>\n",
              "      <td>7633</td>\n",
              "      <td>2019</td>\n",
              "      <td>Deolis Guerra</td>\n",
              "      <td>MIL</td>\n",
              "      <td>1</td>\n",
              "      <td>0</td>\n",
              "      <td>0</td>\n",
              "      <td>0</td>\n",
              "      <td>0.2</td>\n",
              "      <td>4</td>\n",
              "      <td>4</td>\n",
              "      <td>0</td>\n",
              "      <td>0</td>\n",
              "      <td>1</td>\n",
              "      <td>0</td>\n",
              "      <td>0</td>\n",
              "      <td>0</td>\n",
              "      <td>0</td>\n",
              "      <td>0</td>\n",
              "      <td>54.00</td>\n",
              "      <td>6.00</td>\n",
              "    </tr>\n",
              "    <tr>\n",
              "      <td>7634</td>\n",
              "      <td>2019</td>\n",
              "      <td>Dellin Betances</td>\n",
              "      <td>NYY</td>\n",
              "      <td>1</td>\n",
              "      <td>0</td>\n",
              "      <td>0</td>\n",
              "      <td>0</td>\n",
              "      <td>0.2</td>\n",
              "      <td>0</td>\n",
              "      <td>0</td>\n",
              "      <td>2</td>\n",
              "      <td>0</td>\n",
              "      <td>0</td>\n",
              "      <td>0</td>\n",
              "      <td>0</td>\n",
              "      <td>0</td>\n",
              "      <td>0</td>\n",
              "      <td>0</td>\n",
              "      <td>0.00</td>\n",
              "      <td>0.00</td>\n",
              "    </tr>\n",
              "    <tr>\n",
              "      <td>7635</td>\n",
              "      <td>2019</td>\n",
              "      <td>Jose Castillo</td>\n",
              "      <td>SD</td>\n",
              "      <td>1</td>\n",
              "      <td>0</td>\n",
              "      <td>0</td>\n",
              "      <td>0</td>\n",
              "      <td>0.2</td>\n",
              "      <td>0</td>\n",
              "      <td>0</td>\n",
              "      <td>2</td>\n",
              "      <td>1</td>\n",
              "      <td>0</td>\n",
              "      <td>0</td>\n",
              "      <td>0</td>\n",
              "      <td>0</td>\n",
              "      <td>0</td>\n",
              "      <td>0</td>\n",
              "      <td>0.00</td>\n",
              "      <td>1.50</td>\n",
              "    </tr>\n",
              "    <tr>\n",
              "      <td>7636</td>\n",
              "      <td>2019</td>\n",
              "      <td>Austen Williams</td>\n",
              "      <td>WAS</td>\n",
              "      <td>2</td>\n",
              "      <td>0</td>\n",
              "      <td>0</td>\n",
              "      <td>0</td>\n",
              "      <td>0.1</td>\n",
              "      <td>5</td>\n",
              "      <td>6</td>\n",
              "      <td>1</td>\n",
              "      <td>1</td>\n",
              "      <td>2</td>\n",
              "      <td>0</td>\n",
              "      <td>0</td>\n",
              "      <td>0</td>\n",
              "      <td>0</td>\n",
              "      <td>0</td>\n",
              "      <td>162.00</td>\n",
              "      <td>18.00</td>\n",
              "    </tr>\n",
              "    <tr>\n",
              "      <td>7637</td>\n",
              "      <td>2019</td>\n",
              "      <td>Taylor Hearn</td>\n",
              "      <td>TEX</td>\n",
              "      <td>1</td>\n",
              "      <td>1</td>\n",
              "      <td>0</td>\n",
              "      <td>0</td>\n",
              "      <td>0.1</td>\n",
              "      <td>3</td>\n",
              "      <td>4</td>\n",
              "      <td>0</td>\n",
              "      <td>4</td>\n",
              "      <td>0</td>\n",
              "      <td>0</td>\n",
              "      <td>1</td>\n",
              "      <td>0</td>\n",
              "      <td>0</td>\n",
              "      <td>0</td>\n",
              "      <td>108.00</td>\n",
              "      <td>21.00</td>\n",
              "    </tr>\n",
              "  </tbody>\n",
              "</table>\n",
              "<p>7638 rows × 20 columns</p>\n",
              "</div>"
            ],
            "text/plain": [
              "      Year           Player Team   G  GS  CG  SHO     IP    H  ER    K  BB  \\\n",
              "0     2010     Roy Halladay  PHI  33  33   9    4  250.2  231  68  219  30   \n",
              "1     2010  Felix Hernandez  SEA  34  34   6    1  249.2  194  63  232  70   \n",
              "2     2010      CC Sabathia  NYY  34  34   2    0  237.2  209  84  197  74   \n",
              "3     2010  Chris Carpenter  STL  35  35   1    0  235.0  214  84  179  63   \n",
              "4     2010  Adam Wainwright  STL  33  33   5    2  230.1  186  62  213  56   \n",
              "...    ...              ...  ...  ..  ..  ..  ...    ...  ...  ..  ...  ..   \n",
              "7633  2019    Deolis Guerra  MIL   1   0   0    0    0.2    4   4    0   0   \n",
              "7634  2019  Dellin Betances  NYY   1   0   0    0    0.2    0   0    2   0   \n",
              "7635  2019    Jose Castillo   SD   1   0   0    0    0.2    0   0    2   1   \n",
              "7636  2019  Austen Williams  WAS   2   0   0    0    0.1    5   6    1   1   \n",
              "7637  2019     Taylor Hearn  TEX   1   1   0    0    0.1    3   4    0   4   \n",
              "\n",
              "      HR   W   L  SV  BS  HLD     ERA   WHIP  \n",
              "0     24  21  10   0   0    0    2.44   1.04  \n",
              "1     17  13  12   0   0    0    2.27   1.06  \n",
              "2     20  21   7   0   0    0    3.18   1.19  \n",
              "3     21  16   9   0   0    0    3.22   1.18  \n",
              "4     15  20  11   0   0    0    2.42   1.05  \n",
              "...   ..  ..  ..  ..  ..  ...     ...    ...  \n",
              "7633   1   0   0   0   0    0   54.00   6.00  \n",
              "7634   0   0   0   0   0    0    0.00   0.00  \n",
              "7635   0   0   0   0   0    0    0.00   1.50  \n",
              "7636   2   0   0   0   0    0  162.00  18.00  \n",
              "7637   0   0   1   0   0    0  108.00  21.00  \n",
              "\n",
              "[7638 rows x 20 columns]"
            ]
          },
          "metadata": {
            "tags": []
          },
          "execution_count": 151
        }
      ]
    },
    {
      "cell_type": "code",
      "metadata": {
        "id": "go7eEldkGfvd",
        "colab_type": "code",
        "outputId": "a0ad18a9-5b81-454d-ac9f-b9f336c4192c",
        "colab": {}
      },
      "source": [
        "bat_total"
      ],
      "execution_count": 0,
      "outputs": [
        {
          "output_type": "execute_result",
          "data": {
            "text/html": [
              "<div>\n",
              "<style scoped>\n",
              "    .dataframe tbody tr th:only-of-type {\n",
              "        vertical-align: middle;\n",
              "    }\n",
              "\n",
              "    .dataframe tbody tr th {\n",
              "        vertical-align: top;\n",
              "    }\n",
              "\n",
              "    .dataframe thead th {\n",
              "        text-align: right;\n",
              "    }\n",
              "</style>\n",
              "<table border=\"1\" class=\"dataframe\">\n",
              "  <thead>\n",
              "    <tr style=\"text-align: right;\">\n",
              "      <th></th>\n",
              "      <th>Year</th>\n",
              "      <th>Player</th>\n",
              "      <th>Team</th>\n",
              "      <th>Pos</th>\n",
              "      <th>G</th>\n",
              "      <th>AB</th>\n",
              "      <th>R</th>\n",
              "      <th>TH</th>\n",
              "      <th>H</th>\n",
              "      <th>2B</th>\n",
              "      <th>...</th>\n",
              "      <th>CS</th>\n",
              "      <th>BB</th>\n",
              "      <th>SO</th>\n",
              "      <th>SH</th>\n",
              "      <th>SF</th>\n",
              "      <th>HBP</th>\n",
              "      <th>AVG</th>\n",
              "      <th>OBP</th>\n",
              "      <th>SLG</th>\n",
              "      <th>OPS</th>\n",
              "    </tr>\n",
              "  </thead>\n",
              "  <tbody>\n",
              "    <tr>\n",
              "      <td>0</td>\n",
              "      <td>2010</td>\n",
              "      <td>Ichiro Suzuki</td>\n",
              "      <td>SEA</td>\n",
              "      <td>OF</td>\n",
              "      <td>162</td>\n",
              "      <td>680</td>\n",
              "      <td>74</td>\n",
              "      <td>214</td>\n",
              "      <td>175</td>\n",
              "      <td>30</td>\n",
              "      <td>...</td>\n",
              "      <td>9</td>\n",
              "      <td>45</td>\n",
              "      <td>86</td>\n",
              "      <td>3</td>\n",
              "      <td>1</td>\n",
              "      <td>3</td>\n",
              "      <td>0.315</td>\n",
              "      <td>0.359</td>\n",
              "      <td>0.394</td>\n",
              "      <td>0.753</td>\n",
              "    </tr>\n",
              "    <tr>\n",
              "      <td>1</td>\n",
              "      <td>2010</td>\n",
              "      <td>Derek Jeter</td>\n",
              "      <td>NYY</td>\n",
              "      <td>SS</td>\n",
              "      <td>157</td>\n",
              "      <td>663</td>\n",
              "      <td>111</td>\n",
              "      <td>179</td>\n",
              "      <td>136</td>\n",
              "      <td>30</td>\n",
              "      <td>...</td>\n",
              "      <td>5</td>\n",
              "      <td>63</td>\n",
              "      <td>106</td>\n",
              "      <td>1</td>\n",
              "      <td>3</td>\n",
              "      <td>9</td>\n",
              "      <td>0.270</td>\n",
              "      <td>0.340</td>\n",
              "      <td>0.370</td>\n",
              "      <td>0.710</td>\n",
              "    </tr>\n",
              "    <tr>\n",
              "      <td>2</td>\n",
              "      <td>2010</td>\n",
              "      <td>Michael Young</td>\n",
              "      <td>TEX</td>\n",
              "      <td>3B</td>\n",
              "      <td>157</td>\n",
              "      <td>656</td>\n",
              "      <td>99</td>\n",
              "      <td>186</td>\n",
              "      <td>126</td>\n",
              "      <td>36</td>\n",
              "      <td>...</td>\n",
              "      <td>2</td>\n",
              "      <td>50</td>\n",
              "      <td>115</td>\n",
              "      <td>0</td>\n",
              "      <td>11</td>\n",
              "      <td>1</td>\n",
              "      <td>0.284</td>\n",
              "      <td>0.330</td>\n",
              "      <td>0.444</td>\n",
              "      <td>0.774</td>\n",
              "    </tr>\n",
              "    <tr>\n",
              "      <td>3</td>\n",
              "      <td>2010</td>\n",
              "      <td>Juan Pierre</td>\n",
              "      <td>CWS</td>\n",
              "      <td>OF</td>\n",
              "      <td>160</td>\n",
              "      <td>651</td>\n",
              "      <td>96</td>\n",
              "      <td>179</td>\n",
              "      <td>157</td>\n",
              "      <td>18</td>\n",
              "      <td>...</td>\n",
              "      <td>18</td>\n",
              "      <td>45</td>\n",
              "      <td>47</td>\n",
              "      <td>15</td>\n",
              "      <td>2</td>\n",
              "      <td>21</td>\n",
              "      <td>0.275</td>\n",
              "      <td>0.341</td>\n",
              "      <td>0.316</td>\n",
              "      <td>0.657</td>\n",
              "    </tr>\n",
              "    <tr>\n",
              "      <td>4</td>\n",
              "      <td>2010</td>\n",
              "      <td>Rickie Weeks</td>\n",
              "      <td>MIL</td>\n",
              "      <td>DH</td>\n",
              "      <td>160</td>\n",
              "      <td>651</td>\n",
              "      <td>112</td>\n",
              "      <td>175</td>\n",
              "      <td>110</td>\n",
              "      <td>32</td>\n",
              "      <td>...</td>\n",
              "      <td>4</td>\n",
              "      <td>76</td>\n",
              "      <td>184</td>\n",
              "      <td>0</td>\n",
              "      <td>2</td>\n",
              "      <td>25</td>\n",
              "      <td>0.269</td>\n",
              "      <td>0.366</td>\n",
              "      <td>0.464</td>\n",
              "      <td>0.830</td>\n",
              "    </tr>\n",
              "    <tr>\n",
              "      <td>...</td>\n",
              "      <td>...</td>\n",
              "      <td>...</td>\n",
              "      <td>...</td>\n",
              "      <td>...</td>\n",
              "      <td>...</td>\n",
              "      <td>...</td>\n",
              "      <td>...</td>\n",
              "      <td>...</td>\n",
              "      <td>...</td>\n",
              "      <td>...</td>\n",
              "      <td>...</td>\n",
              "      <td>...</td>\n",
              "      <td>...</td>\n",
              "      <td>...</td>\n",
              "      <td>...</td>\n",
              "      <td>...</td>\n",
              "      <td>...</td>\n",
              "      <td>...</td>\n",
              "      <td>...</td>\n",
              "      <td>...</td>\n",
              "      <td>...</td>\n",
              "    </tr>\n",
              "    <tr>\n",
              "      <td>6843</td>\n",
              "      <td>2019</td>\n",
              "      <td>Jose Rondon</td>\n",
              "      <td>BAL</td>\n",
              "      <td>2B</td>\n",
              "      <td>1</td>\n",
              "      <td>1</td>\n",
              "      <td>0</td>\n",
              "      <td>0</td>\n",
              "      <td>0</td>\n",
              "      <td>0</td>\n",
              "      <td>...</td>\n",
              "      <td>0</td>\n",
              "      <td>0</td>\n",
              "      <td>0</td>\n",
              "      <td>0</td>\n",
              "      <td>0</td>\n",
              "      <td>0</td>\n",
              "      <td>0.000</td>\n",
              "      <td>0.000</td>\n",
              "      <td>0.000</td>\n",
              "      <td>0.000</td>\n",
              "    </tr>\n",
              "    <tr>\n",
              "      <td>6844</td>\n",
              "      <td>2019</td>\n",
              "      <td>Travis d'Arnaud</td>\n",
              "      <td>LAD</td>\n",
              "      <td>C</td>\n",
              "      <td>1</td>\n",
              "      <td>1</td>\n",
              "      <td>0</td>\n",
              "      <td>0</td>\n",
              "      <td>0</td>\n",
              "      <td>0</td>\n",
              "      <td>...</td>\n",
              "      <td>0</td>\n",
              "      <td>0</td>\n",
              "      <td>0</td>\n",
              "      <td>0</td>\n",
              "      <td>0</td>\n",
              "      <td>0</td>\n",
              "      <td>0.000</td>\n",
              "      <td>0.000</td>\n",
              "      <td>0.000</td>\n",
              "      <td>0.000</td>\n",
              "    </tr>\n",
              "    <tr>\n",
              "      <td>6845</td>\n",
              "      <td>2019</td>\n",
              "      <td>Aaron Altherr</td>\n",
              "      <td>SF</td>\n",
              "      <td>OF</td>\n",
              "      <td>1</td>\n",
              "      <td>1</td>\n",
              "      <td>0</td>\n",
              "      <td>0</td>\n",
              "      <td>0</td>\n",
              "      <td>0</td>\n",
              "      <td>...</td>\n",
              "      <td>0</td>\n",
              "      <td>0</td>\n",
              "      <td>1</td>\n",
              "      <td>0</td>\n",
              "      <td>0</td>\n",
              "      <td>0</td>\n",
              "      <td>0.000</td>\n",
              "      <td>0.000</td>\n",
              "      <td>0.000</td>\n",
              "      <td>0.000</td>\n",
              "    </tr>\n",
              "    <tr>\n",
              "      <td>6846</td>\n",
              "      <td>2019</td>\n",
              "      <td>Rob Brantly</td>\n",
              "      <td>PHI</td>\n",
              "      <td>C</td>\n",
              "      <td>1</td>\n",
              "      <td>1</td>\n",
              "      <td>0</td>\n",
              "      <td>0</td>\n",
              "      <td>0</td>\n",
              "      <td>0</td>\n",
              "      <td>...</td>\n",
              "      <td>0</td>\n",
              "      <td>0</td>\n",
              "      <td>1</td>\n",
              "      <td>0</td>\n",
              "      <td>0</td>\n",
              "      <td>0</td>\n",
              "      <td>0.000</td>\n",
              "      <td>0.000</td>\n",
              "      <td>0.000</td>\n",
              "      <td>0.000</td>\n",
              "    </tr>\n",
              "    <tr>\n",
              "      <td>6847</td>\n",
              "      <td>2019</td>\n",
              "      <td>John Ryan Murphy</td>\n",
              "      <td>ATL</td>\n",
              "      <td>C</td>\n",
              "      <td>1</td>\n",
              "      <td>1</td>\n",
              "      <td>0</td>\n",
              "      <td>0</td>\n",
              "      <td>0</td>\n",
              "      <td>0</td>\n",
              "      <td>...</td>\n",
              "      <td>0</td>\n",
              "      <td>0</td>\n",
              "      <td>0</td>\n",
              "      <td>0</td>\n",
              "      <td>0</td>\n",
              "      <td>0</td>\n",
              "      <td>0.000</td>\n",
              "      <td>0.000</td>\n",
              "      <td>0.000</td>\n",
              "      <td>0.000</td>\n",
              "    </tr>\n",
              "  </tbody>\n",
              "</table>\n",
              "<p>6848 rows × 24 columns</p>\n",
              "</div>"
            ],
            "text/plain": [
              "      Year            Player Team Pos    G   AB    R   TH    H  2B  ...  CS  \\\n",
              "0     2010     Ichiro Suzuki  SEA  OF  162  680   74  214  175  30  ...   9   \n",
              "1     2010       Derek Jeter  NYY  SS  157  663  111  179  136  30  ...   5   \n",
              "2     2010     Michael Young  TEX  3B  157  656   99  186  126  36  ...   2   \n",
              "3     2010       Juan Pierre  CWS  OF  160  651   96  179  157  18  ...  18   \n",
              "4     2010      Rickie Weeks  MIL  DH  160  651  112  175  110  32  ...   4   \n",
              "...    ...               ...  ...  ..  ...  ...  ...  ...  ...  ..  ...  ..   \n",
              "6843  2019       Jose Rondon  BAL  2B    1    1    0    0    0   0  ...   0   \n",
              "6844  2019   Travis d'Arnaud  LAD   C    1    1    0    0    0   0  ...   0   \n",
              "6845  2019     Aaron Altherr   SF  OF    1    1    0    0    0   0  ...   0   \n",
              "6846  2019       Rob Brantly  PHI   C    1    1    0    0    0   0  ...   0   \n",
              "6847  2019  John Ryan Murphy  ATL   C    1    1    0    0    0   0  ...   0   \n",
              "\n",
              "      BB   SO  SH  SF  HBP    AVG    OBP    SLG    OPS  \n",
              "0     45   86   3   1    3  0.315  0.359  0.394  0.753  \n",
              "1     63  106   1   3    9  0.270  0.340  0.370  0.710  \n",
              "2     50  115   0  11    1  0.284  0.330  0.444  0.774  \n",
              "3     45   47  15   2   21  0.275  0.341  0.316  0.657  \n",
              "4     76  184   0   2   25  0.269  0.366  0.464  0.830  \n",
              "...   ..  ...  ..  ..  ...    ...    ...    ...    ...  \n",
              "6843   0    0   0   0    0  0.000  0.000  0.000  0.000  \n",
              "6844   0    0   0   0    0  0.000  0.000  0.000  0.000  \n",
              "6845   0    1   0   0    0  0.000  0.000  0.000  0.000  \n",
              "6846   0    1   0   0    0  0.000  0.000  0.000  0.000  \n",
              "6847   0    0   0   0    0  0.000  0.000  0.000  0.000  \n",
              "\n",
              "[6848 rows x 24 columns]"
            ]
          },
          "metadata": {
            "tags": []
          },
          "execution_count": 152
        }
      ]
    },
    {
      "cell_type": "code",
      "metadata": {
        "id": "nLFPcQK7Gfvf",
        "colab_type": "code",
        "outputId": "ad20dc67-236a-4d7a-bcdd-285a19b9c290",
        "colab": {}
      },
      "source": [
        "rank_total"
      ],
      "execution_count": 0,
      "outputs": [
        {
          "output_type": "execute_result",
          "data": {
            "text/html": [
              "<div>\n",
              "<style scoped>\n",
              "    .dataframe tbody tr th:only-of-type {\n",
              "        vertical-align: middle;\n",
              "    }\n",
              "\n",
              "    .dataframe tbody tr th {\n",
              "        vertical-align: top;\n",
              "    }\n",
              "\n",
              "    .dataframe thead th {\n",
              "        text-align: right;\n",
              "    }\n",
              "</style>\n",
              "<table border=\"1\" class=\"dataframe\">\n",
              "  <thead>\n",
              "    <tr style=\"text-align: right;\">\n",
              "      <th></th>\n",
              "      <th>Year</th>\n",
              "      <th>Team</th>\n",
              "      <th>W</th>\n",
              "      <th>L</th>\n",
              "      <th>PCT</th>\n",
              "      <th>GB</th>\n",
              "      <th>HOME</th>\n",
              "      <th>AWAY</th>\n",
              "      <th>RS</th>\n",
              "      <th>RA</th>\n",
              "      <th>DIFF</th>\n",
              "    </tr>\n",
              "  </thead>\n",
              "  <tbody>\n",
              "    <tr>\n",
              "      <td>0</td>\n",
              "      <td>2010</td>\n",
              "      <td>Philadelphia Phillies</td>\n",
              "      <td>97</td>\n",
              "      <td>65</td>\n",
              "      <td>0.599</td>\n",
              "      <td>-</td>\n",
              "      <td>54-30</td>\n",
              "      <td>43-35</td>\n",
              "      <td>772</td>\n",
              "      <td>640</td>\n",
              "      <td>132</td>\n",
              "    </tr>\n",
              "    <tr>\n",
              "      <td>1</td>\n",
              "      <td>2010</td>\n",
              "      <td>TB Rays</td>\n",
              "      <td>96</td>\n",
              "      <td>66</td>\n",
              "      <td>0.593</td>\n",
              "      <td>1</td>\n",
              "      <td>49-32</td>\n",
              "      <td>47-34</td>\n",
              "      <td>802</td>\n",
              "      <td>649</td>\n",
              "      <td>153</td>\n",
              "    </tr>\n",
              "    <tr>\n",
              "      <td>2</td>\n",
              "      <td>2010</td>\n",
              "      <td>NY Yankees</td>\n",
              "      <td>95</td>\n",
              "      <td>67</td>\n",
              "      <td>0.586</td>\n",
              "      <td>2</td>\n",
              "      <td>52-29</td>\n",
              "      <td>43-38</td>\n",
              "      <td>859</td>\n",
              "      <td>693</td>\n",
              "      <td>166</td>\n",
              "    </tr>\n",
              "    <tr>\n",
              "      <td>3</td>\n",
              "      <td>2010</td>\n",
              "      <td>Minnesota Twins</td>\n",
              "      <td>94</td>\n",
              "      <td>68</td>\n",
              "      <td>0.580</td>\n",
              "      <td>3</td>\n",
              "      <td>53-28</td>\n",
              "      <td>41-40</td>\n",
              "      <td>781</td>\n",
              "      <td>671</td>\n",
              "      <td>110</td>\n",
              "    </tr>\n",
              "    <tr>\n",
              "      <td>4</td>\n",
              "      <td>2010</td>\n",
              "      <td>San Francisco Giants</td>\n",
              "      <td>92</td>\n",
              "      <td>70</td>\n",
              "      <td>0.568</td>\n",
              "      <td>5</td>\n",
              "      <td>49-32</td>\n",
              "      <td>43-38</td>\n",
              "      <td>697</td>\n",
              "      <td>583</td>\n",
              "      <td>114</td>\n",
              "    </tr>\n",
              "    <tr>\n",
              "      <td>...</td>\n",
              "      <td>...</td>\n",
              "      <td>...</td>\n",
              "      <td>...</td>\n",
              "      <td>...</td>\n",
              "      <td>...</td>\n",
              "      <td>...</td>\n",
              "      <td>...</td>\n",
              "      <td>...</td>\n",
              "      <td>...</td>\n",
              "      <td>...</td>\n",
              "      <td>...</td>\n",
              "    </tr>\n",
              "    <tr>\n",
              "      <td>295</td>\n",
              "      <td>2019</td>\n",
              "      <td>Toronto Blue Jays</td>\n",
              "      <td>67</td>\n",
              "      <td>95</td>\n",
              "      <td>0.414</td>\n",
              "      <td>40</td>\n",
              "      <td>35-46</td>\n",
              "      <td>32-49</td>\n",
              "      <td>726</td>\n",
              "      <td>828</td>\n",
              "      <td>-102</td>\n",
              "    </tr>\n",
              "    <tr>\n",
              "      <td>296</td>\n",
              "      <td>2019</td>\n",
              "      <td>KC Royals</td>\n",
              "      <td>59</td>\n",
              "      <td>103</td>\n",
              "      <td>0.364</td>\n",
              "      <td>48</td>\n",
              "      <td>31-50</td>\n",
              "      <td>28-53</td>\n",
              "      <td>691</td>\n",
              "      <td>869</td>\n",
              "      <td>-178</td>\n",
              "    </tr>\n",
              "    <tr>\n",
              "      <td>297</td>\n",
              "      <td>2019</td>\n",
              "      <td>Miami Marlins</td>\n",
              "      <td>57</td>\n",
              "      <td>105</td>\n",
              "      <td>0.352</td>\n",
              "      <td>50</td>\n",
              "      <td>30-51</td>\n",
              "      <td>27-54</td>\n",
              "      <td>615</td>\n",
              "      <td>808</td>\n",
              "      <td>-193</td>\n",
              "    </tr>\n",
              "    <tr>\n",
              "      <td>298</td>\n",
              "      <td>2019</td>\n",
              "      <td>Baltimore Orioles</td>\n",
              "      <td>54</td>\n",
              "      <td>108</td>\n",
              "      <td>0.333</td>\n",
              "      <td>53</td>\n",
              "      <td>25-56</td>\n",
              "      <td>29-52</td>\n",
              "      <td>729</td>\n",
              "      <td>981</td>\n",
              "      <td>-252</td>\n",
              "    </tr>\n",
              "    <tr>\n",
              "      <td>299</td>\n",
              "      <td>2019</td>\n",
              "      <td>Detroit Tigers</td>\n",
              "      <td>47</td>\n",
              "      <td>114</td>\n",
              "      <td>0.292</td>\n",
              "      <td>59.5</td>\n",
              "      <td>22-59</td>\n",
              "      <td>25-55</td>\n",
              "      <td>582</td>\n",
              "      <td>915</td>\n",
              "      <td>-333</td>\n",
              "    </tr>\n",
              "  </tbody>\n",
              "</table>\n",
              "<p>300 rows × 11 columns</p>\n",
              "</div>"
            ],
            "text/plain": [
              "     Year                   Team   W    L    PCT    GB   HOME   AWAY   RS  \\\n",
              "0    2010  Philadelphia Phillies  97   65  0.599     -  54-30  43-35  772   \n",
              "1    2010                TB Rays  96   66  0.593     1  49-32  47-34  802   \n",
              "2    2010             NY Yankees  95   67  0.586     2  52-29  43-38  859   \n",
              "3    2010        Minnesota Twins  94   68  0.580     3  53-28  41-40  781   \n",
              "4    2010   San Francisco Giants  92   70  0.568     5  49-32  43-38  697   \n",
              "..    ...                    ...  ..  ...    ...   ...    ...    ...  ...   \n",
              "295  2019      Toronto Blue Jays  67   95  0.414    40  35-46  32-49  726   \n",
              "296  2019              KC Royals  59  103  0.364    48  31-50  28-53  691   \n",
              "297  2019          Miami Marlins  57  105  0.352    50  30-51  27-54  615   \n",
              "298  2019      Baltimore Orioles  54  108  0.333    53  25-56  29-52  729   \n",
              "299  2019         Detroit Tigers  47  114  0.292  59.5  22-59  25-55  582   \n",
              "\n",
              "      RA  DIFF  \n",
              "0    640   132  \n",
              "1    649   153  \n",
              "2    693   166  \n",
              "3    671   110  \n",
              "4    583   114  \n",
              "..   ...   ...  \n",
              "295  828  -102  \n",
              "296  869  -178  \n",
              "297  808  -193  \n",
              "298  981  -252  \n",
              "299  915  -333  \n",
              "\n",
              "[300 rows x 11 columns]"
            ]
          },
          "metadata": {
            "tags": []
          },
          "execution_count": 153
        }
      ]
    },
    {
      "cell_type": "code",
      "metadata": {
        "scrolled": true,
        "id": "L1rfN_RcGfvi",
        "colab_type": "code",
        "outputId": "649b0964-3557-478e-a2c1-c370f5b5e017",
        "colab": {}
      },
      "source": [
        "IP=pit_total.groupby(by=['Year','Team']).IP.mean()\n",
        "H=pit_total.groupby(by=['Year','Team']).H.mean()\n",
        "K=pit_total.groupby(by=['Year','Team']).K.mean()\n",
        "BB=pit_total.groupby(by=['Year','Team']).BB.mean()\n",
        "HR=pit_total.groupby(by=['Year','Team']).HR.mean()\n",
        "ERA=pit_total.groupby(by=['Year','Team']).ERA.mean()\n",
        "WHIP=pit_total.groupby(by=['Year','Team']).WHIP.mean()\n",
        "PCT = rank_total.sort_values(by=['Year','Team'])\n",
        "# Year, Team으로 묶여 있으니까 같이 정렬됨\n",
        "\n",
        "pit_df = pd.DataFrame({'IP':pit_total.groupby(by=['Year','Team']).IP.mean().values,\n",
        "                                'H':pit_total.groupby(by=['Year','Team']).H.mean().values,\n",
        "                                'K':pit_total.groupby(by=['Year','Team']).K.mean().values,\n",
        "                                'BB':pit_total.groupby(by=['Year','Team']).BB.mean().values,\n",
        "                                'HR':pit_total.groupby(by=['Year','Team']).HR.mean().values,\n",
        "                                'ERA':pit_total.groupby(by=['Year','Team']).ERA.mean().values,\n",
        "                                'WHIP':pit_total.groupby(by=['Year','Team']).WHIP.mean().values\n",
        "                               })\n",
        "\n",
        "pit_df"
      ],
      "execution_count": 0,
      "outputs": [
        {
          "output_type": "execute_result",
          "data": {
            "text/html": [
              "<div>\n",
              "<style scoped>\n",
              "    .dataframe tbody tr th:only-of-type {\n",
              "        vertical-align: middle;\n",
              "    }\n",
              "\n",
              "    .dataframe tbody tr th {\n",
              "        vertical-align: top;\n",
              "    }\n",
              "\n",
              "    .dataframe thead th {\n",
              "        text-align: right;\n",
              "    }\n",
              "</style>\n",
              "<table border=\"1\" class=\"dataframe\">\n",
              "  <thead>\n",
              "    <tr style=\"text-align: right;\">\n",
              "      <th></th>\n",
              "      <th>IP</th>\n",
              "      <th>H</th>\n",
              "      <th>K</th>\n",
              "      <th>BB</th>\n",
              "      <th>HR</th>\n",
              "      <th>ERA</th>\n",
              "      <th>WHIP</th>\n",
              "    </tr>\n",
              "  </thead>\n",
              "  <tbody>\n",
              "    <tr>\n",
              "      <td>0</td>\n",
              "      <td>50.967857</td>\n",
              "      <td>53.678571</td>\n",
              "      <td>38.214286</td>\n",
              "      <td>19.571429</td>\n",
              "      <td>7.500000</td>\n",
              "      <td>6.366429</td>\n",
              "      <td>1.735714</td>\n",
              "    </tr>\n",
              "    <tr>\n",
              "      <td>1</td>\n",
              "      <td>68.295238</td>\n",
              "      <td>63.142857</td>\n",
              "      <td>59.095238</td>\n",
              "      <td>24.047619</td>\n",
              "      <td>6.000000</td>\n",
              "      <td>5.517143</td>\n",
              "      <td>1.557143</td>\n",
              "    </tr>\n",
              "    <tr>\n",
              "      <td>2</td>\n",
              "      <td>62.165217</td>\n",
              "      <td>65.565217</td>\n",
              "      <td>43.782609</td>\n",
              "      <td>22.608696</td>\n",
              "      <td>8.086957</td>\n",
              "      <td>5.522609</td>\n",
              "      <td>1.606957</td>\n",
              "    </tr>\n",
              "    <tr>\n",
              "      <td>3</td>\n",
              "      <td>63.043478</td>\n",
              "      <td>60.869565</td>\n",
              "      <td>52.434783</td>\n",
              "      <td>25.217391</td>\n",
              "      <td>6.565217</td>\n",
              "      <td>6.027826</td>\n",
              "      <td>1.750870</td>\n",
              "    </tr>\n",
              "    <tr>\n",
              "      <td>4</td>\n",
              "      <td>62.260870</td>\n",
              "      <td>61.260870</td>\n",
              "      <td>55.130435</td>\n",
              "      <td>26.304348</td>\n",
              "      <td>6.695652</td>\n",
              "      <td>5.504783</td>\n",
              "      <td>1.597391</td>\n",
              "    </tr>\n",
              "    <tr>\n",
              "      <td>...</td>\n",
              "      <td>...</td>\n",
              "      <td>...</td>\n",
              "      <td>...</td>\n",
              "      <td>...</td>\n",
              "      <td>...</td>\n",
              "      <td>...</td>\n",
              "      <td>...</td>\n",
              "    </tr>\n",
              "    <tr>\n",
              "      <td>295</td>\n",
              "      <td>65.345455</td>\n",
              "      <td>58.363636</td>\n",
              "      <td>63.545455</td>\n",
              "      <td>24.772727</td>\n",
              "      <td>8.681818</td>\n",
              "      <td>5.150455</td>\n",
              "      <td>1.466818</td>\n",
              "    </tr>\n",
              "    <tr>\n",
              "      <td>296</td>\n",
              "      <td>47.209677</td>\n",
              "      <td>40.903226</td>\n",
              "      <td>52.290323</td>\n",
              "      <td>14.612903</td>\n",
              "      <td>5.806452</td>\n",
              "      <td>4.217097</td>\n",
              "      <td>1.288710</td>\n",
              "    </tr>\n",
              "    <tr>\n",
              "      <td>297</td>\n",
              "      <td>41.958824</td>\n",
              "      <td>44.382353</td>\n",
              "      <td>40.529412</td>\n",
              "      <td>17.147059</td>\n",
              "      <td>7.029412</td>\n",
              "      <td>8.743235</td>\n",
              "      <td>2.190294</td>\n",
              "    </tr>\n",
              "    <tr>\n",
              "      <td>298</td>\n",
              "      <td>38.594595</td>\n",
              "      <td>39.054054</td>\n",
              "      <td>35.918919</td>\n",
              "      <td>16.297297</td>\n",
              "      <td>6.135135</td>\n",
              "      <td>6.418919</td>\n",
              "      <td>1.740541</td>\n",
              "    </tr>\n",
              "    <tr>\n",
              "      <td>299</td>\n",
              "      <td>49.420690</td>\n",
              "      <td>46.103448</td>\n",
              "      <td>52.103448</td>\n",
              "      <td>17.689655</td>\n",
              "      <td>6.931034</td>\n",
              "      <td>13.482414</td>\n",
              "      <td>2.436207</td>\n",
              "    </tr>\n",
              "  </tbody>\n",
              "</table>\n",
              "<p>300 rows × 7 columns</p>\n",
              "</div>"
            ],
            "text/plain": [
              "            IP          H          K         BB        HR        ERA      WHIP\n",
              "0    50.967857  53.678571  38.214286  19.571429  7.500000   6.366429  1.735714\n",
              "1    68.295238  63.142857  59.095238  24.047619  6.000000   5.517143  1.557143\n",
              "2    62.165217  65.565217  43.782609  22.608696  8.086957   5.522609  1.606957\n",
              "3    63.043478  60.869565  52.434783  25.217391  6.565217   6.027826  1.750870\n",
              "4    62.260870  61.260870  55.130435  26.304348  6.695652   5.504783  1.597391\n",
              "..         ...        ...        ...        ...       ...        ...       ...\n",
              "295  65.345455  58.363636  63.545455  24.772727  8.681818   5.150455  1.466818\n",
              "296  47.209677  40.903226  52.290323  14.612903  5.806452   4.217097  1.288710\n",
              "297  41.958824  44.382353  40.529412  17.147059  7.029412   8.743235  2.190294\n",
              "298  38.594595  39.054054  35.918919  16.297297  6.135135   6.418919  1.740541\n",
              "299  49.420690  46.103448  52.103448  17.689655  6.931034  13.482414  2.436207\n",
              "\n",
              "[300 rows x 7 columns]"
            ]
          },
          "metadata": {
            "tags": []
          },
          "execution_count": 22
        }
      ]
    },
    {
      "cell_type": "code",
      "metadata": {
        "id": "wAB2uZSjGfvk",
        "colab_type": "code",
        "colab": {}
      },
      "source": [
        "pit_df[\"PCT\"]=rank_total[\"PCT\"]"
      ],
      "execution_count": 0,
      "outputs": []
    },
    {
      "cell_type": "code",
      "metadata": {
        "id": "-uu8QJyCGfvm",
        "colab_type": "code",
        "colab": {}
      },
      "source": [
        "pit_df.to_csv('../Data/MLB_data_edit/p_total_no_scale.csv')"
      ],
      "execution_count": 0,
      "outputs": []
    },
    {
      "cell_type": "code",
      "metadata": {
        "id": "-8W5ZB3PGfvp",
        "colab_type": "code",
        "outputId": "f4916baf-bec9-43bd-869d-3400bf19ffcf",
        "colab": {}
      },
      "source": [
        "pit_df"
      ],
      "execution_count": 0,
      "outputs": [
        {
          "output_type": "execute_result",
          "data": {
            "text/html": [
              "<div>\n",
              "<style scoped>\n",
              "    .dataframe tbody tr th:only-of-type {\n",
              "        vertical-align: middle;\n",
              "    }\n",
              "\n",
              "    .dataframe tbody tr th {\n",
              "        vertical-align: top;\n",
              "    }\n",
              "\n",
              "    .dataframe thead th {\n",
              "        text-align: right;\n",
              "    }\n",
              "</style>\n",
              "<table border=\"1\" class=\"dataframe\">\n",
              "  <thead>\n",
              "    <tr style=\"text-align: right;\">\n",
              "      <th></th>\n",
              "      <th>IP</th>\n",
              "      <th>H</th>\n",
              "      <th>K</th>\n",
              "      <th>BB</th>\n",
              "      <th>HR</th>\n",
              "      <th>ERA</th>\n",
              "      <th>WHIP</th>\n",
              "      <th>PCT</th>\n",
              "    </tr>\n",
              "  </thead>\n",
              "  <tbody>\n",
              "    <tr>\n",
              "      <td>0</td>\n",
              "      <td>50.967857</td>\n",
              "      <td>53.678571</td>\n",
              "      <td>38.214286</td>\n",
              "      <td>19.571429</td>\n",
              "      <td>7.500000</td>\n",
              "      <td>6.366429</td>\n",
              "      <td>1.735714</td>\n",
              "      <td>0.599</td>\n",
              "    </tr>\n",
              "    <tr>\n",
              "      <td>1</td>\n",
              "      <td>68.295238</td>\n",
              "      <td>63.142857</td>\n",
              "      <td>59.095238</td>\n",
              "      <td>24.047619</td>\n",
              "      <td>6.000000</td>\n",
              "      <td>5.517143</td>\n",
              "      <td>1.557143</td>\n",
              "      <td>0.593</td>\n",
              "    </tr>\n",
              "    <tr>\n",
              "      <td>2</td>\n",
              "      <td>62.165217</td>\n",
              "      <td>65.565217</td>\n",
              "      <td>43.782609</td>\n",
              "      <td>22.608696</td>\n",
              "      <td>8.086957</td>\n",
              "      <td>5.522609</td>\n",
              "      <td>1.606957</td>\n",
              "      <td>0.586</td>\n",
              "    </tr>\n",
              "    <tr>\n",
              "      <td>3</td>\n",
              "      <td>63.043478</td>\n",
              "      <td>60.869565</td>\n",
              "      <td>52.434783</td>\n",
              "      <td>25.217391</td>\n",
              "      <td>6.565217</td>\n",
              "      <td>6.027826</td>\n",
              "      <td>1.750870</td>\n",
              "      <td>0.580</td>\n",
              "    </tr>\n",
              "    <tr>\n",
              "      <td>4</td>\n",
              "      <td>62.260870</td>\n",
              "      <td>61.260870</td>\n",
              "      <td>55.130435</td>\n",
              "      <td>26.304348</td>\n",
              "      <td>6.695652</td>\n",
              "      <td>5.504783</td>\n",
              "      <td>1.597391</td>\n",
              "      <td>0.568</td>\n",
              "    </tr>\n",
              "    <tr>\n",
              "      <td>...</td>\n",
              "      <td>...</td>\n",
              "      <td>...</td>\n",
              "      <td>...</td>\n",
              "      <td>...</td>\n",
              "      <td>...</td>\n",
              "      <td>...</td>\n",
              "      <td>...</td>\n",
              "      <td>...</td>\n",
              "    </tr>\n",
              "    <tr>\n",
              "      <td>295</td>\n",
              "      <td>65.345455</td>\n",
              "      <td>58.363636</td>\n",
              "      <td>63.545455</td>\n",
              "      <td>24.772727</td>\n",
              "      <td>8.681818</td>\n",
              "      <td>5.150455</td>\n",
              "      <td>1.466818</td>\n",
              "      <td>0.414</td>\n",
              "    </tr>\n",
              "    <tr>\n",
              "      <td>296</td>\n",
              "      <td>47.209677</td>\n",
              "      <td>40.903226</td>\n",
              "      <td>52.290323</td>\n",
              "      <td>14.612903</td>\n",
              "      <td>5.806452</td>\n",
              "      <td>4.217097</td>\n",
              "      <td>1.288710</td>\n",
              "      <td>0.364</td>\n",
              "    </tr>\n",
              "    <tr>\n",
              "      <td>297</td>\n",
              "      <td>41.958824</td>\n",
              "      <td>44.382353</td>\n",
              "      <td>40.529412</td>\n",
              "      <td>17.147059</td>\n",
              "      <td>7.029412</td>\n",
              "      <td>8.743235</td>\n",
              "      <td>2.190294</td>\n",
              "      <td>0.352</td>\n",
              "    </tr>\n",
              "    <tr>\n",
              "      <td>298</td>\n",
              "      <td>38.594595</td>\n",
              "      <td>39.054054</td>\n",
              "      <td>35.918919</td>\n",
              "      <td>16.297297</td>\n",
              "      <td>6.135135</td>\n",
              "      <td>6.418919</td>\n",
              "      <td>1.740541</td>\n",
              "      <td>0.333</td>\n",
              "    </tr>\n",
              "    <tr>\n",
              "      <td>299</td>\n",
              "      <td>49.420690</td>\n",
              "      <td>46.103448</td>\n",
              "      <td>52.103448</td>\n",
              "      <td>17.689655</td>\n",
              "      <td>6.931034</td>\n",
              "      <td>13.482414</td>\n",
              "      <td>2.436207</td>\n",
              "      <td>0.292</td>\n",
              "    </tr>\n",
              "  </tbody>\n",
              "</table>\n",
              "<p>300 rows × 8 columns</p>\n",
              "</div>"
            ],
            "text/plain": [
              "            IP          H          K         BB        HR        ERA  \\\n",
              "0    50.967857  53.678571  38.214286  19.571429  7.500000   6.366429   \n",
              "1    68.295238  63.142857  59.095238  24.047619  6.000000   5.517143   \n",
              "2    62.165217  65.565217  43.782609  22.608696  8.086957   5.522609   \n",
              "3    63.043478  60.869565  52.434783  25.217391  6.565217   6.027826   \n",
              "4    62.260870  61.260870  55.130435  26.304348  6.695652   5.504783   \n",
              "..         ...        ...        ...        ...       ...        ...   \n",
              "295  65.345455  58.363636  63.545455  24.772727  8.681818   5.150455   \n",
              "296  47.209677  40.903226  52.290323  14.612903  5.806452   4.217097   \n",
              "297  41.958824  44.382353  40.529412  17.147059  7.029412   8.743235   \n",
              "298  38.594595  39.054054  35.918919  16.297297  6.135135   6.418919   \n",
              "299  49.420690  46.103448  52.103448  17.689655  6.931034  13.482414   \n",
              "\n",
              "         WHIP    PCT  \n",
              "0    1.735714  0.599  \n",
              "1    1.557143  0.593  \n",
              "2    1.606957  0.586  \n",
              "3    1.750870  0.580  \n",
              "4    1.597391  0.568  \n",
              "..        ...    ...  \n",
              "295  1.466818  0.414  \n",
              "296  1.288710  0.364  \n",
              "297  2.190294  0.352  \n",
              "298  1.740541  0.333  \n",
              "299  2.436207  0.292  \n",
              "\n",
              "[300 rows x 8 columns]"
            ]
          },
          "metadata": {
            "tags": []
          },
          "execution_count": 162
        }
      ]
    },
    {
      "cell_type": "code",
      "metadata": {
        "id": "QXQqRgDJGfvr",
        "colab_type": "code",
        "colab": {}
      },
      "source": [
        "# 상관계수 구하기\n",
        "col = ['IP','H','K','BB','HR','ERA','WHIP']\n",
        "IP=np.corrcoef(pit_df['IP'],pit_df['PCT'])\n",
        "H=np.corrcoef(pit_df['H'],pit_df['PCT'])\n",
        "K=np.corrcoef(pit_df['K'],pit_df['PCT'])\n",
        "BB=np.corrcoef(pit_df['BB'],pit_df['PCT'])\n",
        "HR=np.corrcoef(pit_df['HR'],pit_df['PCT'])\n",
        "ERA=np.corrcoef(pit_df['ERA'],pit_df['PCT'])\n",
        "WHIP=np.corrcoef(pit_df['WHIP'],pit_df['PCT'])"
      ],
      "execution_count": 0,
      "outputs": []
    },
    {
      "cell_type": "code",
      "metadata": {
        "id": "lUU7cAoaGfvt",
        "colab_type": "code",
        "colab": {}
      },
      "source": [
        "hitmap = pd.DataFrame({\n",
        "    'IP':IP[1][0],\n",
        "    'H':H[1][0],\n",
        "    'K':K[1][0],\n",
        "    'BB':BB[1][0],\n",
        "    'HR':HR[1][0],\n",
        "    'ERA':ERA[1][0],\n",
        "    'WHIP':WHIP[1][0]\n",
        "},index=['corrcoef'])"
      ],
      "execution_count": 0,
      "outputs": []
    },
    {
      "cell_type": "code",
      "metadata": {
        "id": "DYRoWBt-Gfvv",
        "colab_type": "code",
        "colab": {}
      },
      "source": [
        "hitmap=np.abs(hitmap)"
      ],
      "execution_count": 0,
      "outputs": []
    },
    {
      "cell_type": "code",
      "metadata": {
        "id": "-pb4rwFNGfvw",
        "colab_type": "code",
        "colab": {}
      },
      "source": [
        ""
      ],
      "execution_count": 0,
      "outputs": []
    },
    {
      "cell_type": "code",
      "metadata": {
        "id": "hDs5ezxyGfvy",
        "colab_type": "code",
        "outputId": "1385b652-fffa-4a0c-82bd-83646fda38b6",
        "colab": {}
      },
      "source": [
        "plt.figure(figsize=(5,10))\n",
        "sns.heatmap(hitmap[col].T,annot=True, fmt='f', linewidths=1, cmap='RdPu')\n",
        "plt.title('corrcoef of Pitcher')\n",
        "plt.show()\n",
        "# 표준화 하지 않은 히트맵"
      ],
      "execution_count": 0,
      "outputs": [
        {
          "output_type": "display_data",
          "data": {
            "image/png": "[encoded data removed]",
            "text/plain": [
              "<Figure size 360x720 with 2 Axes>"
            ]
          },
          "metadata": {
            "tags": [],
            "needs_background": "light"
          }
        }
      ]
    },
    {
      "cell_type": "code",
      "metadata": {
        "scrolled": false,
        "id": "wsL3G_wmGfv0",
        "colab_type": "code",
        "colab": {}
      },
      "source": [
        ""
      ],
      "execution_count": 0,
      "outputs": []
    },
    {
      "cell_type": "code",
      "metadata": {
        "id": "ICVsdxdFGfv6",
        "colab_type": "code",
        "colab": {}
      },
      "source": [
        "# MinMaxscaler 표준화 작업\n",
        "\n",
        "col=['IP', 'H', 'K','BB', 'HR', 'ERA', 'WHIP','PCT']\n",
        "x=pit_df.values\n",
        "min_max_scaler = preprocessing.MinMaxScaler()\n",
        "x_MMS = min_max_scaler.fit_transform(x)"
      ],
      "execution_count": 0,
      "outputs": []
    },
    {
      "cell_type": "code",
      "metadata": {
        "id": "q8SbYh5XGfv-",
        "colab_type": "code",
        "colab": {}
      },
      "source": [
        "pit_MMS = pd.DataFrame(x_MMS, columns=col, index=pit_df.index)"
      ],
      "execution_count": 0,
      "outputs": []
    },
    {
      "cell_type": "code",
      "metadata": {
        "id": "kzQbxgGRGfwA",
        "colab_type": "code",
        "outputId": "983d0912-a631-4ba6-b6c4-c2041c63be73",
        "colab": {}
      },
      "source": [
        "pit_df.head(1)"
      ],
      "execution_count": 0,
      "outputs": [
        {
          "output_type": "execute_result",
          "data": {
            "text/html": [
              "<div>\n",
              "<style scoped>\n",
              "    .dataframe tbody tr th:only-of-type {\n",
              "        vertical-align: middle;\n",
              "    }\n",
              "\n",
              "    .dataframe tbody tr th {\n",
              "        vertical-align: top;\n",
              "    }\n",
              "\n",
              "    .dataframe thead th {\n",
              "        text-align: right;\n",
              "    }\n",
              "</style>\n",
              "<table border=\"1\" class=\"dataframe\">\n",
              "  <thead>\n",
              "    <tr style=\"text-align: right;\">\n",
              "      <th></th>\n",
              "      <th>IP</th>\n",
              "      <th>H</th>\n",
              "      <th>K</th>\n",
              "      <th>BB</th>\n",
              "      <th>HR</th>\n",
              "      <th>ERA</th>\n",
              "      <th>WHIP</th>\n",
              "      <th>PCT</th>\n",
              "    </tr>\n",
              "  </thead>\n",
              "  <tbody>\n",
              "    <tr>\n",
              "      <td>0</td>\n",
              "      <td>50.967857</td>\n",
              "      <td>53.678571</td>\n",
              "      <td>38.214286</td>\n",
              "      <td>19.571429</td>\n",
              "      <td>7.5</td>\n",
              "      <td>6.366429</td>\n",
              "      <td>1.735714</td>\n",
              "      <td>0.599</td>\n",
              "    </tr>\n",
              "  </tbody>\n",
              "</table>\n",
              "</div>"
            ],
            "text/plain": [
              "          IP          H          K         BB   HR       ERA      WHIP    PCT\n",
              "0  50.967857  53.678571  38.214286  19.571429  7.5  6.366429  1.735714  0.599"
            ]
          },
          "metadata": {
            "tags": []
          },
          "execution_count": 241
        }
      ]
    },
    {
      "cell_type": "code",
      "metadata": {
        "id": "4vcelpCQGfwC",
        "colab_type": "code",
        "outputId": "8600cbdc-ab72-45c2-8462-33d41077c0ed",
        "colab": {}
      },
      "source": [
        "pit_MMS.head(1)"
      ],
      "execution_count": 0,
      "outputs": [
        {
          "output_type": "execute_result",
          "data": {
            "text/html": [
              "<div>\n",
              "<style scoped>\n",
              "    .dataframe tbody tr th:only-of-type {\n",
              "        vertical-align: middle;\n",
              "    }\n",
              "\n",
              "    .dataframe tbody tr th {\n",
              "        vertical-align: top;\n",
              "    }\n",
              "\n",
              "    .dataframe thead th {\n",
              "        text-align: right;\n",
              "    }\n",
              "</style>\n",
              "<table border=\"1\" class=\"dataframe\">\n",
              "  <thead>\n",
              "    <tr style=\"text-align: right;\">\n",
              "      <th></th>\n",
              "      <th>IP</th>\n",
              "      <th>H</th>\n",
              "      <th>K</th>\n",
              "      <th>BB</th>\n",
              "      <th>HR</th>\n",
              "      <th>ERA</th>\n",
              "      <th>WHIP</th>\n",
              "      <th>PCT</th>\n",
              "    </tr>\n",
              "  </thead>\n",
              "  <tbody>\n",
              "    <tr>\n",
              "      <td>0</td>\n",
              "      <td>0.303595</td>\n",
              "      <td>0.394479</td>\n",
              "      <td>0.149912</td>\n",
              "      <td>0.348935</td>\n",
              "      <td>0.573123</td>\n",
              "      <td>0.34942</td>\n",
              "      <td>0.459961</td>\n",
              "      <td>0.819629</td>\n",
              "    </tr>\n",
              "  </tbody>\n",
              "</table>\n",
              "</div>"
            ],
            "text/plain": [
              "         IP         H         K        BB        HR      ERA      WHIP  \\\n",
              "0  0.303595  0.394479  0.149912  0.348935  0.573123  0.34942  0.459961   \n",
              "\n",
              "        PCT  \n",
              "0  0.819629  "
            ]
          },
          "metadata": {
            "tags": []
          },
          "execution_count": 242
        }
      ]
    },
    {
      "cell_type": "code",
      "metadata": {
        "id": "KpxVL8oHGfwD",
        "colab_type": "code",
        "colab": {}
      },
      "source": [
        "pit_MMS.to_csv('../Data/MLB_data_edit/p_total_MMS.csv')"
      ],
      "execution_count": 0,
      "outputs": []
    },
    {
      "cell_type": "code",
      "metadata": {
        "id": "2dfkX06VGfwF",
        "colab_type": "code",
        "colab": {}
      },
      "source": [
        "# 상관계수 구하기\n",
        "col = ['IP','H','K','BB','HR','ERA','WHIP']\n",
        "IP=np.corrcoef(pit_MMS['IP'],pit_MMS['PCT'])\n",
        "H=np.corrcoef(pit_MMS['H'],pit_MMS['PCT'])\n",
        "K=np.corrcoef(pit_MMS['K'],pit_MMS['PCT'])\n",
        "BB=np.corrcoef(pit_MMS['BB'],pit_MMS['PCT'])\n",
        "HR=np.corrcoef(pit_MMS['HR'],pit_MMS['PCT'])\n",
        "ERA=np.corrcoef(pit_MMS['ERA'],pit_MMS['PCT'])\n",
        "WHIP=np.corrcoef(pit_MMS['WHIP'],pit_MMS['PCT'])"
      ],
      "execution_count": 0,
      "outputs": []
    },
    {
      "cell_type": "code",
      "metadata": {
        "id": "N9MZsa6pGfwH",
        "colab_type": "code",
        "colab": {}
      },
      "source": [
        "hitmap = pd.DataFrame({\n",
        "    'IP':IP[1][0],\n",
        "    'H':H[1][0],\n",
        "    'K':K[1][0],\n",
        "    'BB':BB[1][0],\n",
        "    'HR':HR[1][0],\n",
        "    'ERA':ERA[1][0],\n",
        "    'WHIP':WHIP[1][0]\n",
        "},index=['corrcoef'])"
      ],
      "execution_count": 0,
      "outputs": []
    },
    {
      "cell_type": "code",
      "metadata": {
        "scrolled": false,
        "id": "gZa4YJNiGfwJ",
        "colab_type": "code",
        "colab": {}
      },
      "source": [
        "hitmap=np.abs(hitmap)"
      ],
      "execution_count": 0,
      "outputs": []
    },
    {
      "cell_type": "code",
      "metadata": {
        "id": "4iKrDeM_GfwK",
        "colab_type": "code",
        "outputId": "72892279-ff1e-43dc-b3a8-457985ee2f70",
        "colab": {}
      },
      "source": [
        "plt.figure(figsize=(5,10))\n",
        "sns.heatmap(hitmap[col].T,annot=True, fmt='f', linewidths=1, cmap='RdPu')\n",
        "plt.title('corrcoef of Pitcher')\n",
        "plt.show()"
      ],
      "execution_count": 0,
      "outputs": [
        {
          "output_type": "display_data",
          "data": {
            "image/png": "[encoded data removed]",
            "text/plain": [
              "<Figure size 360x720 with 2 Axes>"
            ]
          },
          "metadata": {
            "tags": [],
            "needs_background": "light"
          }
        }
      ]
    },
    {
      "cell_type": "code",
      "metadata": {
        "id": "_n_RifErGfwN",
        "colab_type": "code",
        "outputId": "9bebbb92-0d04-45de-979b-6387fea8875c",
        "colab": {}
      },
      "source": [
        "pit_df.head(1)"
      ],
      "execution_count": 0,
      "outputs": [
        {
          "output_type": "execute_result",
          "data": {
            "text/html": [
              "<div>\n",
              "<style scoped>\n",
              "    .dataframe tbody tr th:only-of-type {\n",
              "        vertical-align: middle;\n",
              "    }\n",
              "\n",
              "    .dataframe tbody tr th {\n",
              "        vertical-align: top;\n",
              "    }\n",
              "\n",
              "    .dataframe thead th {\n",
              "        text-align: right;\n",
              "    }\n",
              "</style>\n",
              "<table border=\"1\" class=\"dataframe\">\n",
              "  <thead>\n",
              "    <tr style=\"text-align: right;\">\n",
              "      <th></th>\n",
              "      <th>IP</th>\n",
              "      <th>H</th>\n",
              "      <th>K</th>\n",
              "      <th>BB</th>\n",
              "      <th>HR</th>\n",
              "      <th>ERA</th>\n",
              "      <th>WHIP</th>\n",
              "      <th>PCT</th>\n",
              "    </tr>\n",
              "  </thead>\n",
              "  <tbody>\n",
              "    <tr>\n",
              "      <td>0</td>\n",
              "      <td>50.967857</td>\n",
              "      <td>53.678571</td>\n",
              "      <td>38.214286</td>\n",
              "      <td>19.571429</td>\n",
              "      <td>7.5</td>\n",
              "      <td>6.366429</td>\n",
              "      <td>1.735714</td>\n",
              "      <td>0.599</td>\n",
              "    </tr>\n",
              "  </tbody>\n",
              "</table>\n",
              "</div>"
            ],
            "text/plain": [
              "          IP          H          K         BB   HR       ERA      WHIP    PCT\n",
              "0  50.967857  53.678571  38.214286  19.571429  7.5  6.366429  1.735714  0.599"
            ]
          },
          "metadata": {
            "tags": []
          },
          "execution_count": 246
        }
      ]
    },
    {
      "cell_type": "code",
      "metadata": {
        "id": "dz7-Bs95GfwO",
        "colab_type": "code",
        "colab": {}
      },
      "source": [
        "from sklearn.preprocessing import StandardScaler\n",
        "StandardScaler = StandardScaler()"
      ],
      "execution_count": 0,
      "outputs": []
    },
    {
      "cell_type": "code",
      "metadata": {
        "id": "uwFFZI3jGfwQ",
        "colab_type": "code",
        "colab": {}
      },
      "source": [
        "# StandardScaler 표준화 작업\n",
        "\n",
        "col=['IP', 'H', 'K','BB', 'HR', 'ERA', 'WHIP','PCT']\n",
        "x=pit_df.values\n",
        "StandardScaler = preprocessing.StandardScaler()\n",
        "x_SSC = StandardScaler.fit_transform(x)"
      ],
      "execution_count": 0,
      "outputs": []
    },
    {
      "cell_type": "code",
      "metadata": {
        "id": "bioCWHJrGfwS",
        "colab_type": "code",
        "colab": {}
      },
      "source": [
        "pit_SSC = pd.DataFrame(x_SSC, columns=col, index=pit_df.index)"
      ],
      "execution_count": 0,
      "outputs": []
    },
    {
      "cell_type": "code",
      "metadata": {
        "id": "fm8JDUxmGfwU",
        "colab_type": "code",
        "outputId": "6dcc832c-6553-4aa2-8f73-a1baf25399ef",
        "colab": {}
      },
      "source": [
        "pit_SSC"
      ],
      "execution_count": 0,
      "outputs": [
        {
          "output_type": "execute_result",
          "data": {
            "text/html": [
              "<div>\n",
              "<style scoped>\n",
              "    .dataframe tbody tr th:only-of-type {\n",
              "        vertical-align: middle;\n",
              "    }\n",
              "\n",
              "    .dataframe tbody tr th {\n",
              "        vertical-align: top;\n",
              "    }\n",
              "\n",
              "    .dataframe thead th {\n",
              "        text-align: right;\n",
              "    }\n",
              "</style>\n",
              "<table border=\"1\" class=\"dataframe\">\n",
              "  <thead>\n",
              "    <tr style=\"text-align: right;\">\n",
              "      <th></th>\n",
              "      <th>IP</th>\n",
              "      <th>H</th>\n",
              "      <th>K</th>\n",
              "      <th>BB</th>\n",
              "      <th>HR</th>\n",
              "      <th>ERA</th>\n",
              "      <th>WHIP</th>\n",
              "      <th>PCT</th>\n",
              "    </tr>\n",
              "  </thead>\n",
              "  <tbody>\n",
              "    <tr>\n",
              "      <td>0</td>\n",
              "      <td>-0.756509</td>\n",
              "      <td>-0.295178</td>\n",
              "      <td>-1.374112</td>\n",
              "      <td>-0.164588</td>\n",
              "      <td>0.571534</td>\n",
              "      <td>0.937228</td>\n",
              "      <td>1.320349</td>\n",
              "      <td>1.350501</td>\n",
              "    </tr>\n",
              "    <tr>\n",
              "      <td>1</td>\n",
              "      <td>1.088609</td>\n",
              "      <td>0.795338</td>\n",
              "      <td>0.890813</td>\n",
              "      <td>1.224710</td>\n",
              "      <td>-0.738494</td>\n",
              "      <td>0.279088</td>\n",
              "      <td>0.300800</td>\n",
              "      <td>1.268644</td>\n",
              "    </tr>\n",
              "    <tr>\n",
              "      <td>2</td>\n",
              "      <td>0.435849</td>\n",
              "      <td>1.074453</td>\n",
              "      <td>-0.770124</td>\n",
              "      <td>0.778104</td>\n",
              "      <td>1.084154</td>\n",
              "      <td>0.283324</td>\n",
              "      <td>0.585210</td>\n",
              "      <td>1.173145</td>\n",
              "    </tr>\n",
              "    <tr>\n",
              "      <td>3</td>\n",
              "      <td>0.529372</td>\n",
              "      <td>0.533399</td>\n",
              "      <td>0.168363</td>\n",
              "      <td>1.587778</td>\n",
              "      <td>-0.244860</td>\n",
              "      <td>0.674833</td>\n",
              "      <td>1.406878</td>\n",
              "      <td>1.091288</td>\n",
              "    </tr>\n",
              "    <tr>\n",
              "      <td>4</td>\n",
              "      <td>0.446035</td>\n",
              "      <td>0.578487</td>\n",
              "      <td>0.460757</td>\n",
              "      <td>1.925142</td>\n",
              "      <td>-0.130945</td>\n",
              "      <td>0.269510</td>\n",
              "      <td>0.530597</td>\n",
              "      <td>0.927574</td>\n",
              "    </tr>\n",
              "    <tr>\n",
              "      <td>...</td>\n",
              "      <td>...</td>\n",
              "      <td>...</td>\n",
              "      <td>...</td>\n",
              "      <td>...</td>\n",
              "      <td>...</td>\n",
              "      <td>...</td>\n",
              "      <td>...</td>\n",
              "      <td>...</td>\n",
              "    </tr>\n",
              "    <tr>\n",
              "      <td>295</td>\n",
              "      <td>0.774499</td>\n",
              "      <td>0.244655</td>\n",
              "      <td>1.373521</td>\n",
              "      <td>1.449766</td>\n",
              "      <td>1.603677</td>\n",
              "      <td>-0.005071</td>\n",
              "      <td>-0.214907</td>\n",
              "      <td>-1.173417</td>\n",
              "    </tr>\n",
              "    <tr>\n",
              "      <td>296</td>\n",
              "      <td>-1.156702</td>\n",
              "      <td>-1.767208</td>\n",
              "      <td>0.152694</td>\n",
              "      <td>-1.703590</td>\n",
              "      <td>-0.907530</td>\n",
              "      <td>-0.728360</td>\n",
              "      <td>-1.231813</td>\n",
              "      <td>-1.855557</td>\n",
              "    </tr>\n",
              "    <tr>\n",
              "      <td>297</td>\n",
              "      <td>-1.715842</td>\n",
              "      <td>-1.366328</td>\n",
              "      <td>-1.122994</td>\n",
              "      <td>-0.917052</td>\n",
              "      <td>0.160545</td>\n",
              "      <td>2.779093</td>\n",
              "      <td>3.915761</td>\n",
              "      <td>-2.019271</td>\n",
              "    </tr>\n",
              "    <tr>\n",
              "      <td>298</td>\n",
              "      <td>-2.074085</td>\n",
              "      <td>-1.980278</td>\n",
              "      <td>-1.623086</td>\n",
              "      <td>-1.180796</td>\n",
              "      <td>-0.620474</td>\n",
              "      <td>0.977904</td>\n",
              "      <td>1.347904</td>\n",
              "      <td>-2.278484</td>\n",
              "    </tr>\n",
              "    <tr>\n",
              "      <td>299</td>\n",
              "      <td>-0.921260</td>\n",
              "      <td>-1.168016</td>\n",
              "      <td>0.132424</td>\n",
              "      <td>-0.748643</td>\n",
              "      <td>0.074627</td>\n",
              "      <td>6.451639</td>\n",
              "      <td>5.319794</td>\n",
              "      <td>-2.837839</td>\n",
              "    </tr>\n",
              "  </tbody>\n",
              "</table>\n",
              "<p>300 rows × 8 columns</p>\n",
              "</div>"
            ],
            "text/plain": [
              "           IP         H         K        BB        HR       ERA      WHIP  \\\n",
              "0   -0.756509 -0.295178 -1.374112 -0.164588  0.571534  0.937228  1.320349   \n",
              "1    1.088609  0.795338  0.890813  1.224710 -0.738494  0.279088  0.300800   \n",
              "2    0.435849  1.074453 -0.770124  0.778104  1.084154  0.283324  0.585210   \n",
              "3    0.529372  0.533399  0.168363  1.587778 -0.244860  0.674833  1.406878   \n",
              "4    0.446035  0.578487  0.460757  1.925142 -0.130945  0.269510  0.530597   \n",
              "..        ...       ...       ...       ...       ...       ...       ...   \n",
              "295  0.774499  0.244655  1.373521  1.449766  1.603677 -0.005071 -0.214907   \n",
              "296 -1.156702 -1.767208  0.152694 -1.703590 -0.907530 -0.728360 -1.231813   \n",
              "297 -1.715842 -1.366328 -1.122994 -0.917052  0.160545  2.779093  3.915761   \n",
              "298 -2.074085 -1.980278 -1.623086 -1.180796 -0.620474  0.977904  1.347904   \n",
              "299 -0.921260 -1.168016  0.132424 -0.748643  0.074627  6.451639  5.319794   \n",
              "\n",
              "          PCT  \n",
              "0    1.350501  \n",
              "1    1.268644  \n",
              "2    1.173145  \n",
              "3    1.091288  \n",
              "4    0.927574  \n",
              "..        ...  \n",
              "295 -1.173417  \n",
              "296 -1.855557  \n",
              "297 -2.019271  \n",
              "298 -2.278484  \n",
              "299 -2.837839  \n",
              "\n",
              "[300 rows x 8 columns]"
            ]
          },
          "metadata": {
            "tags": []
          },
          "execution_count": 250
        }
      ]
    },
    {
      "cell_type": "code",
      "metadata": {
        "id": "PWpq4MKtGfwW",
        "colab_type": "code",
        "colab": {}
      },
      "source": [
        "pit_SSC.to_csv('../Data/MLB_data_edit/p_total_SSC.csv')"
      ],
      "execution_count": 0,
      "outputs": []
    },
    {
      "cell_type": "code",
      "metadata": {
        "id": "EjhAQCIJGfwX",
        "colab_type": "code",
        "colab": {}
      },
      "source": [
        "# 상관계수 구하기\n",
        "col = ['IP','H','K','BB','HR','ERA','WHIP']\n",
        "IP=np.corrcoef(pit_SSC['IP'],pit_SSC['PCT'])\n",
        "H=np.corrcoef(pit_SSC['H'],pit_SSC['PCT'])\n",
        "K=np.corrcoef(pit_SSC['K'],pit_SSC['PCT'])\n",
        "BB=np.corrcoef(pit_SSC['BB'],pit_SSC['PCT'])\n",
        "HR=np.corrcoef(pit_SSC['HR'],pit_SSC['PCT'])\n",
        "ERA=np.corrcoef(pit_SSC['ERA'],pit_SSC['PCT'])\n",
        "WHIP=np.corrcoef(pit_SSC['WHIP'],pit_SSC['PCT'])"
      ],
      "execution_count": 0,
      "outputs": []
    },
    {
      "cell_type": "code",
      "metadata": {
        "id": "Rhf7_sbZGfwZ",
        "colab_type": "code",
        "colab": {}
      },
      "source": [
        "hitmap = pd.DataFrame({\n",
        "    'IP':IP[1][0],\n",
        "    'H':H[1][0],\n",
        "    'K':K[1][0],\n",
        "    'BB':BB[1][0],\n",
        "    'HR':HR[1][0],\n",
        "    'ERA':ERA[1][0],\n",
        "    'WHIP':WHIP[1][0]\n",
        "},index=['corrcoef'])"
      ],
      "execution_count": 0,
      "outputs": []
    },
    {
      "cell_type": "code",
      "metadata": {
        "id": "NCNOMOa_Gfwb",
        "colab_type": "code",
        "outputId": "f692a511-9302-45fd-9f8e-91f55d86eee5",
        "colab": {}
      },
      "source": [
        "plt.figure(figsize=(5,10))\n",
        "sns.heatmap(hitmap[col].T,annot=True, fmt='f', linewidths=1, cmap='RdPu')\n",
        "plt.title('corrcoef of Pitcher')\n",
        "plt.show()"
      ],
      "execution_count": 0,
      "outputs": [
        {
          "output_type": "display_data",
          "data": {
            "image/png": "[encoded data removed]",
            "text/plain": [
              "<Figure size 360x720 with 2 Axes>"
            ]
          },
          "metadata": {
            "tags": [],
            "needs_background": "light"
          }
        }
      ]
    },
    {
      "cell_type": "code",
      "metadata": {
        "id": "_ueCH33VGfwd",
        "colab_type": "code",
        "colab": {}
      },
      "source": [
        "# RobustScaler 표준화\n",
        "from sklearn.preprocessing import RobustScaler\n",
        "col=['IP', 'H', 'K','BB', 'HR', 'ERA', 'WHIP','PCT']\n",
        "x=pit_df.values\n",
        "robustScaler = RobustScaler()\n",
        "x_RBS = robustScaler.fit_transform(x)"
      ],
      "execution_count": 0,
      "outputs": []
    },
    {
      "cell_type": "code",
      "metadata": {
        "id": "tYhZl-_-Gfwf",
        "colab_type": "code",
        "colab": {}
      },
      "source": [
        "pit_RBS = pd.DataFrame(x_RBS, columns=col, index=pit_df.index)"
      ],
      "execution_count": 0,
      "outputs": []
    },
    {
      "cell_type": "code",
      "metadata": {
        "id": "Sao099lnGfwh",
        "colab_type": "code",
        "outputId": "adbaa773-b138-4c15-afc9-712c1918ef25",
        "colab": {}
      },
      "source": [
        "pit_RBS"
      ],
      "execution_count": 0,
      "outputs": [
        {
          "output_type": "execute_result",
          "data": {
            "text/html": [
              "<div>\n",
              "<style scoped>\n",
              "    .dataframe tbody tr th:only-of-type {\n",
              "        vertical-align: middle;\n",
              "    }\n",
              "\n",
              "    .dataframe tbody tr th {\n",
              "        vertical-align: top;\n",
              "    }\n",
              "\n",
              "    .dataframe thead th {\n",
              "        text-align: right;\n",
              "    }\n",
              "</style>\n",
              "<table border=\"1\" class=\"dataframe\">\n",
              "  <thead>\n",
              "    <tr style=\"text-align: right;\">\n",
              "      <th></th>\n",
              "      <th>IP</th>\n",
              "      <th>H</th>\n",
              "      <th>K</th>\n",
              "      <th>BB</th>\n",
              "      <th>HR</th>\n",
              "      <th>ERA</th>\n",
              "      <th>WHIP</th>\n",
              "      <th>PCT</th>\n",
              "    </tr>\n",
              "  </thead>\n",
              "  <tbody>\n",
              "    <tr>\n",
              "      <td>0</td>\n",
              "      <td>-0.467509</td>\n",
              "      <td>-0.173646</td>\n",
              "      <td>-1.020035</td>\n",
              "      <td>-0.064764</td>\n",
              "      <td>0.453189</td>\n",
              "      <td>1.035645</td>\n",
              "      <td>1.199840</td>\n",
              "      <td>0.880000</td>\n",
              "    </tr>\n",
              "    <tr>\n",
              "      <td>1</td>\n",
              "      <td>0.756136</td>\n",
              "      <td>0.557416</td>\n",
              "      <td>0.768441</td>\n",
              "      <td>0.995262</td>\n",
              "      <td>-0.512184</td>\n",
              "      <td>0.416406</td>\n",
              "      <td>0.347278</td>\n",
              "      <td>0.826667</td>\n",
              "    </tr>\n",
              "    <tr>\n",
              "      <td>2</td>\n",
              "      <td>0.323239</td>\n",
              "      <td>0.744530</td>\n",
              "      <td>-0.543102</td>\n",
              "      <td>0.654505</td>\n",
              "      <td>0.830943</td>\n",
              "      <td>0.420392</td>\n",
              "      <td>0.585106</td>\n",
              "      <td>0.764444</td>\n",
              "    </tr>\n",
              "    <tr>\n",
              "      <td>3</td>\n",
              "      <td>0.385261</td>\n",
              "      <td>0.381817</td>\n",
              "      <td>0.197966</td>\n",
              "      <td>1.272281</td>\n",
              "      <td>-0.148420</td>\n",
              "      <td>0.788760</td>\n",
              "      <td>1.272197</td>\n",
              "      <td>0.711111</td>\n",
              "    </tr>\n",
              "    <tr>\n",
              "      <td>4</td>\n",
              "      <td>0.329994</td>\n",
              "      <td>0.412043</td>\n",
              "      <td>0.428851</td>\n",
              "      <td>1.529688</td>\n",
              "      <td>-0.064475</td>\n",
              "      <td>0.407394</td>\n",
              "      <td>0.539438</td>\n",
              "      <td>0.604444</td>\n",
              "    </tr>\n",
              "    <tr>\n",
              "      <td>...</td>\n",
              "      <td>...</td>\n",
              "      <td>...</td>\n",
              "      <td>...</td>\n",
              "      <td>...</td>\n",
              "      <td>...</td>\n",
              "      <td>...</td>\n",
              "      <td>...</td>\n",
              "      <td>...</td>\n",
              "    </tr>\n",
              "    <tr>\n",
              "      <td>295</td>\n",
              "      <td>0.547824</td>\n",
              "      <td>0.188248</td>\n",
              "      <td>1.149607</td>\n",
              "      <td>1.166978</td>\n",
              "      <td>1.213785</td>\n",
              "      <td>0.149043</td>\n",
              "      <td>-0.083963</td>\n",
              "      <td>-0.764444</td>\n",
              "    </tr>\n",
              "    <tr>\n",
              "      <td>296</td>\n",
              "      <td>-0.732908</td>\n",
              "      <td>-1.160470</td>\n",
              "      <td>0.185593</td>\n",
              "      <td>-1.239014</td>\n",
              "      <td>-0.636748</td>\n",
              "      <td>-0.531495</td>\n",
              "      <td>-0.934315</td>\n",
              "      <td>-1.208889</td>\n",
              "    </tr>\n",
              "    <tr>\n",
              "      <td>297</td>\n",
              "      <td>-1.103718</td>\n",
              "      <td>-0.891727</td>\n",
              "      <td>-0.821742</td>\n",
              "      <td>-0.638889</td>\n",
              "      <td>0.150327</td>\n",
              "      <td>2.768644</td>\n",
              "      <td>3.370161</td>\n",
              "      <td>-1.315556</td>\n",
              "    </tr>\n",
              "    <tr>\n",
              "      <td>298</td>\n",
              "      <td>-1.341297</td>\n",
              "      <td>-1.303308</td>\n",
              "      <td>-1.216636</td>\n",
              "      <td>-0.840125</td>\n",
              "      <td>-0.425213</td>\n",
              "      <td>1.073917</td>\n",
              "      <td>1.222882</td>\n",
              "      <td>-1.484444</td>\n",
              "    </tr>\n",
              "    <tr>\n",
              "      <td>299</td>\n",
              "      <td>-0.576768</td>\n",
              "      <td>-0.758782</td>\n",
              "      <td>0.169587</td>\n",
              "      <td>-0.510395</td>\n",
              "      <td>0.087013</td>\n",
              "      <td>6.224116</td>\n",
              "      <td>4.544234</td>\n",
              "      <td>-1.848889</td>\n",
              "    </tr>\n",
              "  </tbody>\n",
              "</table>\n",
              "<p>300 rows × 8 columns</p>\n",
              "</div>"
            ],
            "text/plain": [
              "           IP         H         K        BB        HR       ERA      WHIP  \\\n",
              "0   -0.467509 -0.173646 -1.020035 -0.064764  0.453189  1.035645  1.199840   \n",
              "1    0.756136  0.557416  0.768441  0.995262 -0.512184  0.416406  0.347278   \n",
              "2    0.323239  0.744530 -0.543102  0.654505  0.830943  0.420392  0.585106   \n",
              "3    0.385261  0.381817  0.197966  1.272281 -0.148420  0.788760  1.272197   \n",
              "4    0.329994  0.412043  0.428851  1.529688 -0.064475  0.407394  0.539438   \n",
              "..        ...       ...       ...       ...       ...       ...       ...   \n",
              "295  0.547824  0.188248  1.149607  1.166978  1.213785  0.149043 -0.083963   \n",
              "296 -0.732908 -1.160470  0.185593 -1.239014 -0.636748 -0.531495 -0.934315   \n",
              "297 -1.103718 -0.891727 -0.821742 -0.638889  0.150327  2.768644  3.370161   \n",
              "298 -1.341297 -1.303308 -1.216636 -0.840125 -0.425213  1.073917  1.222882   \n",
              "299 -0.576768 -0.758782  0.169587 -0.510395  0.087013  6.224116  4.544234   \n",
              "\n",
              "          PCT  \n",
              "0    0.880000  \n",
              "1    0.826667  \n",
              "2    0.764444  \n",
              "3    0.711111  \n",
              "4    0.604444  \n",
              "..        ...  \n",
              "295 -0.764444  \n",
              "296 -1.208889  \n",
              "297 -1.315556  \n",
              "298 -1.484444  \n",
              "299 -1.848889  \n",
              "\n",
              "[300 rows x 8 columns]"
            ]
          },
          "metadata": {
            "tags": []
          },
          "execution_count": 258
        }
      ]
    },
    {
      "cell_type": "code",
      "metadata": {
        "id": "k6f66XPDGfwi",
        "colab_type": "code",
        "colab": {}
      },
      "source": [
        "# RBS 스케일러 저장\n",
        "pit_RBS.to_csv('../Data/MLB_data_edit/p_total_RBS.csv')"
      ],
      "execution_count": 0,
      "outputs": []
    },
    {
      "cell_type": "code",
      "metadata": {
        "id": "yXdpQofXGfwl",
        "colab_type": "code",
        "colab": {}
      },
      "source": [
        "# RBS 상관계수 구하기\n",
        "col = ['IP','H','K','BB','HR','ERA','WHIP']\n",
        "IP=np.corrcoef(pit_RBS['IP'],pit_RBS['PCT'])\n",
        "H=np.corrcoef(pit_RBS['H'],pit_RBS['PCT'])\n",
        "K=np.corrcoef(pit_RBS['K'],pit_RBS['PCT'])\n",
        "BB=np.corrcoef(pit_RBS['BB'],pit_RBS['PCT'])\n",
        "HR=np.corrcoef(pit_RBS['HR'],pit_RBS['PCT'])\n",
        "ERA=np.corrcoef(pit_RBS['ERA'],pit_RBS['PCT'])\n",
        "WHIP=np.corrcoef(pit_RBS['WHIP'],pit_RBS['PCT'])"
      ],
      "execution_count": 0,
      "outputs": []
    },
    {
      "cell_type": "code",
      "metadata": {
        "id": "LQFdWu6cGfwn",
        "colab_type": "code",
        "colab": {}
      },
      "source": [
        "hitmap = pd.DataFrame({\n",
        "    'IP':IP[1][0],\n",
        "    'H':H[1][0],\n",
        "    'K':K[1][0],\n",
        "    'BB':BB[1][0],\n",
        "    'HR':HR[1][0],\n",
        "    'ERA':ERA[1][0],\n",
        "    'WHIP':WHIP[1][0]\n",
        "},index=['corrcoef'])"
      ],
      "execution_count": 0,
      "outputs": []
    },
    {
      "cell_type": "code",
      "metadata": {
        "id": "a9VhnbXYGfwq",
        "colab_type": "code",
        "outputId": "4349b96a-4c68-4990-8b3f-7095ecf077c0",
        "colab": {}
      },
      "source": [
        "plt.figure(figsize=(5,10))\n",
        "sns.heatmap(hitmap[col].T,annot=True, fmt='f', linewidths=1, cmap='RdPu')\n",
        "plt.title('corrcoef of Pitcher')\n",
        "plt.show()"
      ],
      "execution_count": 0,
      "outputs": [
        {
          "output_type": "display_data",
          "data": {
            "image/png": "[encoded data removed]",
            "text/plain": [
              "<Figure size 360x720 with 2 Axes>"
            ]
          },
          "metadata": {
            "tags": [],
            "needs_background": "light"
          }
        }
      ]
    },
    {
      "cell_type": "code",
      "metadata": {
        "id": "87Zbqm_tGfws",
        "colab_type": "code",
        "colab": {}
      },
      "source": [
        "del pit_df['PCT']"
      ],
      "execution_count": 0,
      "outputs": []
    },
    {
      "cell_type": "code",
      "metadata": {
        "id": "r7h5RYMuGfwv",
        "colab_type": "code",
        "outputId": "6fe6e310-01c1-423e-a6cb-7c4d1dabc937",
        "colab": {}
      },
      "source": [
        "pit_df"
      ],
      "execution_count": 0,
      "outputs": [
        {
          "output_type": "execute_result",
          "data": {
            "text/html": [
              "<div>\n",
              "<style scoped>\n",
              "    .dataframe tbody tr th:only-of-type {\n",
              "        vertical-align: middle;\n",
              "    }\n",
              "\n",
              "    .dataframe tbody tr th {\n",
              "        vertical-align: top;\n",
              "    }\n",
              "\n",
              "    .dataframe thead th {\n",
              "        text-align: right;\n",
              "    }\n",
              "</style>\n",
              "<table border=\"1\" class=\"dataframe\">\n",
              "  <thead>\n",
              "    <tr style=\"text-align: right;\">\n",
              "      <th></th>\n",
              "      <th>IP</th>\n",
              "      <th>H</th>\n",
              "      <th>K</th>\n",
              "      <th>BB</th>\n",
              "      <th>HR</th>\n",
              "      <th>ERA</th>\n",
              "      <th>WHIP</th>\n",
              "    </tr>\n",
              "  </thead>\n",
              "  <tbody>\n",
              "    <tr>\n",
              "      <td>0</td>\n",
              "      <td>50.967857</td>\n",
              "      <td>53.678571</td>\n",
              "      <td>38.214286</td>\n",
              "      <td>19.571429</td>\n",
              "      <td>7.500000</td>\n",
              "      <td>6.366429</td>\n",
              "      <td>1.735714</td>\n",
              "    </tr>\n",
              "    <tr>\n",
              "      <td>1</td>\n",
              "      <td>68.295238</td>\n",
              "      <td>63.142857</td>\n",
              "      <td>59.095238</td>\n",
              "      <td>24.047619</td>\n",
              "      <td>6.000000</td>\n",
              "      <td>5.517143</td>\n",
              "      <td>1.557143</td>\n",
              "    </tr>\n",
              "    <tr>\n",
              "      <td>2</td>\n",
              "      <td>62.165217</td>\n",
              "      <td>65.565217</td>\n",
              "      <td>43.782609</td>\n",
              "      <td>22.608696</td>\n",
              "      <td>8.086957</td>\n",
              "      <td>5.522609</td>\n",
              "      <td>1.606957</td>\n",
              "    </tr>\n",
              "    <tr>\n",
              "      <td>3</td>\n",
              "      <td>63.043478</td>\n",
              "      <td>60.869565</td>\n",
              "      <td>52.434783</td>\n",
              "      <td>25.217391</td>\n",
              "      <td>6.565217</td>\n",
              "      <td>6.027826</td>\n",
              "      <td>1.750870</td>\n",
              "    </tr>\n",
              "    <tr>\n",
              "      <td>4</td>\n",
              "      <td>62.260870</td>\n",
              "      <td>61.260870</td>\n",
              "      <td>55.130435</td>\n",
              "      <td>26.304348</td>\n",
              "      <td>6.695652</td>\n",
              "      <td>5.504783</td>\n",
              "      <td>1.597391</td>\n",
              "    </tr>\n",
              "    <tr>\n",
              "      <td>...</td>\n",
              "      <td>...</td>\n",
              "      <td>...</td>\n",
              "      <td>...</td>\n",
              "      <td>...</td>\n",
              "      <td>...</td>\n",
              "      <td>...</td>\n",
              "      <td>...</td>\n",
              "    </tr>\n",
              "    <tr>\n",
              "      <td>295</td>\n",
              "      <td>65.345455</td>\n",
              "      <td>58.363636</td>\n",
              "      <td>63.545455</td>\n",
              "      <td>24.772727</td>\n",
              "      <td>8.681818</td>\n",
              "      <td>5.150455</td>\n",
              "      <td>1.466818</td>\n",
              "    </tr>\n",
              "    <tr>\n",
              "      <td>296</td>\n",
              "      <td>47.209677</td>\n",
              "      <td>40.903226</td>\n",
              "      <td>52.290323</td>\n",
              "      <td>14.612903</td>\n",
              "      <td>5.806452</td>\n",
              "      <td>4.217097</td>\n",
              "      <td>1.288710</td>\n",
              "    </tr>\n",
              "    <tr>\n",
              "      <td>297</td>\n",
              "      <td>41.958824</td>\n",
              "      <td>44.382353</td>\n",
              "      <td>40.529412</td>\n",
              "      <td>17.147059</td>\n",
              "      <td>7.029412</td>\n",
              "      <td>8.743235</td>\n",
              "      <td>2.190294</td>\n",
              "    </tr>\n",
              "    <tr>\n",
              "      <td>298</td>\n",
              "      <td>38.594595</td>\n",
              "      <td>39.054054</td>\n",
              "      <td>35.918919</td>\n",
              "      <td>16.297297</td>\n",
              "      <td>6.135135</td>\n",
              "      <td>6.418919</td>\n",
              "      <td>1.740541</td>\n",
              "    </tr>\n",
              "    <tr>\n",
              "      <td>299</td>\n",
              "      <td>49.420690</td>\n",
              "      <td>46.103448</td>\n",
              "      <td>52.103448</td>\n",
              "      <td>17.689655</td>\n",
              "      <td>6.931034</td>\n",
              "      <td>13.482414</td>\n",
              "      <td>2.436207</td>\n",
              "    </tr>\n",
              "  </tbody>\n",
              "</table>\n",
              "<p>300 rows × 7 columns</p>\n",
              "</div>"
            ],
            "text/plain": [
              "            IP          H          K         BB        HR        ERA      WHIP\n",
              "0    50.967857  53.678571  38.214286  19.571429  7.500000   6.366429  1.735714\n",
              "1    68.295238  63.142857  59.095238  24.047619  6.000000   5.517143  1.557143\n",
              "2    62.165217  65.565217  43.782609  22.608696  8.086957   5.522609  1.606957\n",
              "3    63.043478  60.869565  52.434783  25.217391  6.565217   6.027826  1.750870\n",
              "4    62.260870  61.260870  55.130435  26.304348  6.695652   5.504783  1.597391\n",
              "..         ...        ...        ...        ...       ...        ...       ...\n",
              "295  65.345455  58.363636  63.545455  24.772727  8.681818   5.150455  1.466818\n",
              "296  47.209677  40.903226  52.290323  14.612903  5.806452   4.217097  1.288710\n",
              "297  41.958824  44.382353  40.529412  17.147059  7.029412   8.743235  2.190294\n",
              "298  38.594595  39.054054  35.918919  16.297297  6.135135   6.418919  1.740541\n",
              "299  49.420690  46.103448  52.103448  17.689655  6.931034  13.482414  2.436207\n",
              "\n",
              "[300 rows x 7 columns]"
            ]
          },
          "metadata": {
            "tags": []
          },
          "execution_count": 265
        }
      ]
    },
    {
      "cell_type": "code",
      "metadata": {
        "id": "80C7XqyeGfww",
        "colab_type": "code",
        "colab": {}
      },
      "source": [
        "pit_df.to_csv('../Data/MLB_data_edit/p_total_PCT_none.csv')"
      ],
      "execution_count": 0,
      "outputs": []
    },
    {
      "cell_type": "code",
      "metadata": {
        "id": "UZijYztPGfwy",
        "colab_type": "code",
        "colab": {}
      },
      "source": [
        "pit_df1=pd.read_csv('../Data/MLB_data_edit/p_total_PCT_none.csv')"
      ],
      "execution_count": 0,
      "outputs": []
    },
    {
      "cell_type": "code",
      "metadata": {
        "id": "53m9jjLqGfwz",
        "colab_type": "code",
        "colab": {}
      },
      "source": [
        "del pit_df1['Unnamed: 0']"
      ],
      "execution_count": 0,
      "outputs": []
    },
    {
      "cell_type": "code",
      "metadata": {
        "scrolled": false,
        "id": "aha6dqQTGfw1",
        "colab_type": "code",
        "outputId": "70560f41-2c89-47ee-9d94-8e645020c048",
        "colab": {}
      },
      "source": [
        "pit_df1.head(1)"
      ],
      "execution_count": 0,
      "outputs": [
        {
          "output_type": "execute_result",
          "data": {
            "text/html": [
              "<div>\n",
              "<style scoped>\n",
              "    .dataframe tbody tr th:only-of-type {\n",
              "        vertical-align: middle;\n",
              "    }\n",
              "\n",
              "    .dataframe tbody tr th {\n",
              "        vertical-align: top;\n",
              "    }\n",
              "\n",
              "    .dataframe thead th {\n",
              "        text-align: right;\n",
              "    }\n",
              "</style>\n",
              "<table border=\"1\" class=\"dataframe\">\n",
              "  <thead>\n",
              "    <tr style=\"text-align: right;\">\n",
              "      <th></th>\n",
              "      <th>IP</th>\n",
              "      <th>H</th>\n",
              "      <th>K</th>\n",
              "      <th>BB</th>\n",
              "      <th>HR</th>\n",
              "      <th>ERA</th>\n",
              "      <th>WHIP</th>\n",
              "    </tr>\n",
              "  </thead>\n",
              "  <tbody>\n",
              "    <tr>\n",
              "      <td>0</td>\n",
              "      <td>50.967857</td>\n",
              "      <td>53.678571</td>\n",
              "      <td>38.214286</td>\n",
              "      <td>19.571429</td>\n",
              "      <td>7.5</td>\n",
              "      <td>6.366429</td>\n",
              "      <td>1.735714</td>\n",
              "    </tr>\n",
              "  </tbody>\n",
              "</table>\n",
              "</div>"
            ],
            "text/plain": [
              "          IP          H          K         BB   HR       ERA      WHIP\n",
              "0  50.967857  53.678571  38.214286  19.571429  7.5  6.366429  1.735714"
            ]
          },
          "metadata": {
            "tags": []
          },
          "execution_count": 277
        }
      ]
    },
    {
      "cell_type": "code",
      "metadata": {
        "id": "O2kivK-JGfw3",
        "colab_type": "code",
        "colab": {}
      },
      "source": [
        "col=['IP', 'H', 'K','BB', 'HR', 'ERA', 'WHIP']\n",
        "x=pit_df1.values\n",
        "min_max_scaler = preprocessing.MinMaxScaler()\n",
        "x_MMS = min_max_scaler.fit_transform(x)\n",
        "pit_MMS = pd.DataFrame(x_MMS, columns=col, index=pit_df1.index)"
      ],
      "execution_count": 0,
      "outputs": []
    },
    {
      "cell_type": "code",
      "metadata": {
        "id": "S2i-2QTQGfw6",
        "colab_type": "code",
        "outputId": "db163841-a1ce-456e-9a03-54fd10f6c605",
        "colab": {}
      },
      "source": [
        "pit_MMS.head(1)"
      ],
      "execution_count": 0,
      "outputs": [
        {
          "output_type": "execute_result",
          "data": {
            "text/html": [
              "<div>\n",
              "<style scoped>\n",
              "    .dataframe tbody tr th:only-of-type {\n",
              "        vertical-align: middle;\n",
              "    }\n",
              "\n",
              "    .dataframe tbody tr th {\n",
              "        vertical-align: top;\n",
              "    }\n",
              "\n",
              "    .dataframe thead th {\n",
              "        text-align: right;\n",
              "    }\n",
              "</style>\n",
              "<table border=\"1\" class=\"dataframe\">\n",
              "  <thead>\n",
              "    <tr style=\"text-align: right;\">\n",
              "      <th></th>\n",
              "      <th>IP</th>\n",
              "      <th>H</th>\n",
              "      <th>K</th>\n",
              "      <th>BB</th>\n",
              "      <th>HR</th>\n",
              "      <th>ERA</th>\n",
              "      <th>WHIP</th>\n",
              "    </tr>\n",
              "  </thead>\n",
              "  <tbody>\n",
              "    <tr>\n",
              "      <td>0</td>\n",
              "      <td>0.303595</td>\n",
              "      <td>0.394479</td>\n",
              "      <td>0.149912</td>\n",
              "      <td>0.348935</td>\n",
              "      <td>0.573123</td>\n",
              "      <td>0.34942</td>\n",
              "      <td>0.459961</td>\n",
              "    </tr>\n",
              "  </tbody>\n",
              "</table>\n",
              "</div>"
            ],
            "text/plain": [
              "         IP         H         K        BB        HR      ERA      WHIP\n",
              "0  0.303595  0.394479  0.149912  0.348935  0.573123  0.34942  0.459961"
            ]
          },
          "metadata": {
            "tags": []
          },
          "execution_count": 280
        }
      ]
    },
    {
      "cell_type": "code",
      "metadata": {
        "id": "gAbWnLeGGfw8",
        "colab_type": "code",
        "outputId": "73e217d1-4472-4933-f608-21adf7a49f80",
        "colab": {}
      },
      "source": [
        "rank_total.head(1)"
      ],
      "execution_count": 0,
      "outputs": [
        {
          "output_type": "execute_result",
          "data": {
            "text/html": [
              "<div>\n",
              "<style scoped>\n",
              "    .dataframe tbody tr th:only-of-type {\n",
              "        vertical-align: middle;\n",
              "    }\n",
              "\n",
              "    .dataframe tbody tr th {\n",
              "        vertical-align: top;\n",
              "    }\n",
              "\n",
              "    .dataframe thead th {\n",
              "        text-align: right;\n",
              "    }\n",
              "</style>\n",
              "<table border=\"1\" class=\"dataframe\">\n",
              "  <thead>\n",
              "    <tr style=\"text-align: right;\">\n",
              "      <th></th>\n",
              "      <th>Year</th>\n",
              "      <th>Team</th>\n",
              "      <th>W</th>\n",
              "      <th>L</th>\n",
              "      <th>PCT</th>\n",
              "      <th>GB</th>\n",
              "      <th>HOME</th>\n",
              "      <th>AWAY</th>\n",
              "      <th>RS</th>\n",
              "      <th>RA</th>\n",
              "      <th>DIFF</th>\n",
              "    </tr>\n",
              "  </thead>\n",
              "  <tbody>\n",
              "    <tr>\n",
              "      <td>0</td>\n",
              "      <td>2010</td>\n",
              "      <td>Philadelphia Phillies</td>\n",
              "      <td>97</td>\n",
              "      <td>65</td>\n",
              "      <td>0.599</td>\n",
              "      <td>-</td>\n",
              "      <td>54-30</td>\n",
              "      <td>43-35</td>\n",
              "      <td>772</td>\n",
              "      <td>640</td>\n",
              "      <td>132</td>\n",
              "    </tr>\n",
              "  </tbody>\n",
              "</table>\n",
              "</div>"
            ],
            "text/plain": [
              "   Year                   Team   W   L    PCT GB   HOME   AWAY   RS   RA  DIFF\n",
              "0  2010  Philadelphia Phillies  97  65  0.599  -  54-30  43-35  772  640   132"
            ]
          },
          "metadata": {
            "tags": []
          },
          "execution_count": 282
        }
      ]
    },
    {
      "cell_type": "code",
      "metadata": {
        "id": "vEPyYwviGfw-",
        "colab_type": "code",
        "outputId": "c0fc3d5e-a355-4307-e1b7-dfd43536e0ec",
        "colab": {}
      },
      "source": [
        "# MinScaler without PCT\n",
        "col = ['IP','H','K','BB','HR','ERA','WHIP']\n",
        "IP=np.corrcoef(pit_MMS['IP'],rank_total['PCT'])\n",
        "H=np.corrcoef(pit_MMS['H'],rank_total['PCT'])\n",
        "K=np.corrcoef(pit_MMS['K'],rank_total['PCT'])\n",
        "BB=np.corrcoef(pit_MMS['BB'],rank_total['PCT'])\n",
        "HR=np.corrcoef(pit_MMS['HR'],rank_total['PCT'])\n",
        "ERA=np.corrcoef(pit_MMS['ERA'],rank_total['PCT'])\n",
        "WHIP=np.corrcoef(pit_MMS['WHIP'],rank_total['PCT'])\n",
        "hitmap = pd.DataFrame({\n",
        "    'IP':IP[1][0],\n",
        "    'H':H[1][0],\n",
        "    'K':K[1][0],\n",
        "    'BB':BB[1][0],\n",
        "    'HR':HR[1][0],\n",
        "    'ERA':ERA[1][0],\n",
        "    'WHIP':WHIP[1][0]\n",
        "},index=['corrcoef'])\n",
        "plt.figure(figsize=(5,10))\n",
        "sns.heatmap(hitmap[col].T,annot=True, fmt='f', linewidths=1, cmap='RdPu')\n",
        "plt.title('corrcoef of Pitcher')\n",
        "plt.show()"
      ],
      "execution_count": 0,
      "outputs": [
        {
          "output_type": "display_data",
          "data": {
            "image/png": "[encoded data removed]",
            "text/plain": [
              "<Figure size 360x720 with 2 Axes>"
            ]
          },
          "metadata": {
            "tags": [],
            "needs_background": "light"
          }
        }
      ]
    },
    {
      "cell_type": "code",
      "metadata": {
        "id": "MTrgDw_xGfxm",
        "colab_type": "code",
        "colab": {}
      },
      "source": [
        ""
      ],
      "execution_count": 0,
      "outputs": []
    },
    {
      "cell_type": "code",
      "metadata": {
        "id": "-J6cb76oGfxo",
        "colab_type": "code",
        "colab": {}
      },
      "source": [
        ""
      ],
      "execution_count": 0,
      "outputs": []
    },
    {
      "cell_type": "code",
      "metadata": {
        "scrolled": false,
        "id": "Tv4jzl3DGfxp",
        "colab_type": "code",
        "colab": {}
      },
      "source": [
        ""
      ],
      "execution_count": 0,
      "outputs": []
    },
    {
      "cell_type": "code",
      "metadata": {
        "id": "M7A0apklGfxs",
        "colab_type": "code",
        "colab": {}
      },
      "source": [
        ""
      ],
      "execution_count": 0,
      "outputs": []
    },
    {
      "cell_type": "code",
      "metadata": {
        "id": "DOSf-4z6Gfxt",
        "colab_type": "code",
        "colab": {}
      },
      "source": [
        ""
      ],
      "execution_count": 0,
      "outputs": []
    },
    {
      "cell_type": "code",
      "metadata": {
        "id": "DdseXBniGfxu",
        "colab_type": "code",
        "colab": {}
      },
      "source": [
        ""
      ],
      "execution_count": 0,
      "outputs": []
    },
    {
      "cell_type": "code",
      "metadata": {
        "id": "yHIBAV_OGfxw",
        "colab_type": "code",
        "colab": {}
      },
      "source": [
        ""
      ],
      "execution_count": 0,
      "outputs": []
    },
    {
      "cell_type": "code",
      "metadata": {
        "id": "OqGzg-UAGfxx",
        "colab_type": "code",
        "colab": {}
      },
      "source": [
        ""
      ],
      "execution_count": 0,
      "outputs": []
    },
    {
      "cell_type": "code",
      "metadata": {
        "id": "jPQnbKIpGfxy",
        "colab_type": "code",
        "colab": {}
      },
      "source": [
        ""
      ],
      "execution_count": 0,
      "outputs": []
    },
    {
      "cell_type": "code",
      "metadata": {
        "id": "9H6q2KJoGfxz",
        "colab_type": "code",
        "colab": {}
      },
      "source": [
        ""
      ],
      "execution_count": 0,
      "outputs": []
    },
    {
      "cell_type": "code",
      "metadata": {
        "id": "iay0J0utGfx0",
        "colab_type": "code",
        "colab": {}
      },
      "source": [
        ""
      ],
      "execution_count": 0,
      "outputs": []
    },
    {
      "cell_type": "code",
      "metadata": {
        "id": "yozUU32gGfx1",
        "colab_type": "code",
        "colab": {}
      },
      "source": [
        ""
      ],
      "execution_count": 0,
      "outputs": []
    },
    {
      "cell_type": "code",
      "metadata": {
        "id": "423vfSpIGfx2",
        "colab_type": "code",
        "colab": {}
      },
      "source": [
        ""
      ],
      "execution_count": 0,
      "outputs": []
    },
    {
      "cell_type": "code",
      "metadata": {
        "id": "io7GChz_Gfx3",
        "colab_type": "code",
        "colab": {}
      },
      "source": [
        ""
      ],
      "execution_count": 0,
      "outputs": []
    },
    {
      "cell_type": "code",
      "metadata": {
        "id": "c0oaZZtdGfx4",
        "colab_type": "code",
        "colab": {}
      },
      "source": [
        ""
      ],
      "execution_count": 0,
      "outputs": []
    },
    {
      "cell_type": "code",
      "metadata": {
        "id": "axQVWWbcGfx6",
        "colab_type": "code",
        "colab": {}
      },
      "source": [
        ""
      ],
      "execution_count": 0,
      "outputs": []
    },
    {
      "cell_type": "code",
      "metadata": {
        "id": "-kSQX71jGfx7",
        "colab_type": "code",
        "colab": {}
      },
      "source": [
        ""
      ],
      "execution_count": 0,
      "outputs": []
    },
    {
      "cell_type": "code",
      "metadata": {
        "id": "zKyst8i8Gfx8",
        "colab_type": "code",
        "colab": {}
      },
      "source": [
        ""
      ],
      "execution_count": 0,
      "outputs": []
    },
    {
      "cell_type": "code",
      "metadata": {
        "id": "29P4OLRvGfx9",
        "colab_type": "code",
        "colab": {}
      },
      "source": [
        ""
      ],
      "execution_count": 0,
      "outputs": []
    },
    {
      "cell_type": "code",
      "metadata": {
        "id": "rqG5_ArUGfx-",
        "colab_type": "code",
        "colab": {}
      },
      "source": [
        ""
      ],
      "execution_count": 0,
      "outputs": []
    },
    {
      "cell_type": "code",
      "metadata": {
        "id": "B-nie2w9Gfx_",
        "colab_type": "code",
        "colab": {}
      },
      "source": [
        ""
      ],
      "execution_count": 0,
      "outputs": []
    },
    {
      "cell_type": "code",
      "metadata": {
        "id": "I0yvQtkfGfyA",
        "colab_type": "code",
        "colab": {}
      },
      "source": [
        ""
      ],
      "execution_count": 0,
      "outputs": []
    },
    {
      "cell_type": "code",
      "metadata": {
        "id": "6vJ-nb95GfyB",
        "colab_type": "code",
        "colab": {}
      },
      "source": [
        ""
      ],
      "execution_count": 0,
      "outputs": []
    },
    {
      "cell_type": "code",
      "metadata": {
        "id": "SzMhmGxaGfyC",
        "colab_type": "code",
        "colab": {}
      },
      "source": [
        ""
      ],
      "execution_count": 0,
      "outputs": []
    },
    {
      "cell_type": "code",
      "metadata": {
        "id": "5SNj9IV2GfyD",
        "colab_type": "code",
        "colab": {}
      },
      "source": [
        ""
      ],
      "execution_count": 0,
      "outputs": []
    },
    {
      "cell_type": "code",
      "metadata": {
        "id": "uprFuRcMGfyE",
        "colab_type": "code",
        "colab": {}
      },
      "source": [
        ""
      ],
      "execution_count": 0,
      "outputs": []
    },
    {
      "cell_type": "code",
      "metadata": {
        "id": "4c2-rsG_GfyF",
        "colab_type": "code",
        "colab": {}
      },
      "source": [
        ""
      ],
      "execution_count": 0,
      "outputs": []
    },
    {
      "cell_type": "code",
      "metadata": {
        "id": "25-P2Q0SGfyH",
        "colab_type": "code",
        "colab": {}
      },
      "source": [
        ""
      ],
      "execution_count": 0,
      "outputs": []
    },
    {
      "cell_type": "code",
      "metadata": {
        "id": "XYMqMvNUGfyI",
        "colab_type": "code",
        "colab": {}
      },
      "source": [
        ""
      ],
      "execution_count": 0,
      "outputs": []
    },
    {
      "cell_type": "code",
      "metadata": {
        "id": "x5zjbC-TGfyJ",
        "colab_type": "code",
        "colab": {}
      },
      "source": [
        ""
      ],
      "execution_count": 0,
      "outputs": []
    },
    {
      "cell_type": "code",
      "metadata": {
        "id": "kSYCiHi2GfyL",
        "colab_type": "code",
        "colab": {}
      },
      "source": [
        ""
      ],
      "execution_count": 0,
      "outputs": []
    },
    {
      "cell_type": "code",
      "metadata": {
        "id": "TnfN_khlGfyM",
        "colab_type": "code",
        "colab": {}
      },
      "source": [
        ""
      ],
      "execution_count": 0,
      "outputs": []
    },
    {
      "cell_type": "code",
      "metadata": {
        "id": "geeX8w4LGfyN",
        "colab_type": "code",
        "colab": {}
      },
      "source": [
        ""
      ],
      "execution_count": 0,
      "outputs": []
    },
    {
      "cell_type": "code",
      "metadata": {
        "id": "vnTS5o4qGfyO",
        "colab_type": "code",
        "colab": {}
      },
      "source": [
        ""
      ],
      "execution_count": 0,
      "outputs": []
    },
    {
      "cell_type": "code",
      "metadata": {
        "id": "BJi0nq_UGfyR",
        "colab_type": "code",
        "colab": {}
      },
      "source": [
        ""
      ],
      "execution_count": 0,
      "outputs": []
    },
    {
      "cell_type": "code",
      "metadata": {
        "id": "GwaGeEZBGfyR",
        "colab_type": "code",
        "colab": {}
      },
      "source": [
        ""
      ],
      "execution_count": 0,
      "outputs": []
    },
    {
      "cell_type": "code",
      "metadata": {
        "id": "vtm27v-bGfyS",
        "colab_type": "code",
        "colab": {}
      },
      "source": [
        ""
      ],
      "execution_count": 0,
      "outputs": []
    },
    {
      "cell_type": "code",
      "metadata": {
        "id": "rCjYTL8GGfyT",
        "colab_type": "code",
        "colab": {}
      },
      "source": [
        ""
      ],
      "execution_count": 0,
      "outputs": []
    },
    {
      "cell_type": "code",
      "metadata": {
        "id": "YM0TevyRGfyU",
        "colab_type": "code",
        "colab": {}
      },
      "source": [
        ""
      ],
      "execution_count": 0,
      "outputs": []
    },
    {
      "cell_type": "code",
      "metadata": {
        "id": "l1pGM9enGfyV",
        "colab_type": "code",
        "colab": {}
      },
      "source": [
        ""
      ],
      "execution_count": 0,
      "outputs": []
    },
    {
      "cell_type": "code",
      "metadata": {
        "id": "vPOodyElGfyW",
        "colab_type": "code",
        "colab": {}
      },
      "source": [
        ""
      ],
      "execution_count": 0,
      "outputs": []
    },
    {
      "cell_type": "code",
      "metadata": {
        "id": "0eABwpR3GfyX",
        "colab_type": "code",
        "colab": {}
      },
      "source": [
        ""
      ],
      "execution_count": 0,
      "outputs": []
    },
    {
      "cell_type": "code",
      "metadata": {
        "id": "FuR7koGbGfyX",
        "colab_type": "code",
        "colab": {}
      },
      "source": [
        ""
      ],
      "execution_count": 0,
      "outputs": []
    },
    {
      "cell_type": "code",
      "metadata": {
        "id": "sXlK72LjGfyY",
        "colab_type": "code",
        "colab": {}
      },
      "source": [
        ""
      ],
      "execution_count": 0,
      "outputs": []
    },
    {
      "cell_type": "code",
      "metadata": {
        "id": "H12si7lJGfya",
        "colab_type": "code",
        "colab": {}
      },
      "source": [
        ""
      ],
      "execution_count": 0,
      "outputs": []
    },
    {
      "cell_type": "code",
      "metadata": {
        "id": "CG8DBzeDGfyc",
        "colab_type": "code",
        "colab": {}
      },
      "source": [
        ""
      ],
      "execution_count": 0,
      "outputs": []
    },
    {
      "cell_type": "code",
      "metadata": {
        "id": "CLtrx1GvGfyc",
        "colab_type": "code",
        "colab": {}
      },
      "source": [
        ""
      ],
      "execution_count": 0,
      "outputs": []
    },
    {
      "cell_type": "code",
      "metadata": {
        "id": "j_od-v2IGfyd",
        "colab_type": "code",
        "colab": {}
      },
      "source": [
        ""
      ],
      "execution_count": 0,
      "outputs": []
    },
    {
      "cell_type": "code",
      "metadata": {
        "id": "858kUdTdGfye",
        "colab_type": "code",
        "colab": {}
      },
      "source": [
        ""
      ],
      "execution_count": 0,
      "outputs": []
    },
    {
      "cell_type": "code",
      "metadata": {
        "id": "Xbw1VdD8Gfyh",
        "colab_type": "code",
        "colab": {}
      },
      "source": [
        ""
      ],
      "execution_count": 0,
      "outputs": []
    },
    {
      "cell_type": "code",
      "metadata": {
        "id": "7sf1c0JkGfyh",
        "colab_type": "code",
        "colab": {}
      },
      "source": [
        ""
      ],
      "execution_count": 0,
      "outputs": []
    },
    {
      "cell_type": "code",
      "metadata": {
        "id": "-agoBfIGGfyi",
        "colab_type": "code",
        "colab": {}
      },
      "source": [
        ""
      ],
      "execution_count": 0,
      "outputs": []
    },
    {
      "cell_type": "code",
      "metadata": {
        "id": "ba72oobjGfyj",
        "colab_type": "code",
        "colab": {}
      },
      "source": [
        ""
      ],
      "execution_count": 0,
      "outputs": []
    },
    {
      "cell_type": "code",
      "metadata": {
        "id": "Ihj5iEjoGfyl",
        "colab_type": "code",
        "colab": {}
      },
      "source": [
        ""
      ],
      "execution_count": 0,
      "outputs": []
    },
    {
      "cell_type": "code",
      "metadata": {
        "id": "wDe8rgmGGfym",
        "colab_type": "code",
        "colab": {}
      },
      "source": [
        ""
      ],
      "execution_count": 0,
      "outputs": []
    },
    {
      "cell_type": "code",
      "metadata": {
        "id": "89MuMDB8Gfyn",
        "colab_type": "code",
        "colab": {}
      },
      "source": [
        ""
      ],
      "execution_count": 0,
      "outputs": []
    },
    {
      "cell_type": "code",
      "metadata": {
        "id": "owTuLxe-Gfyo",
        "colab_type": "code",
        "colab": {}
      },
      "source": [
        ""
      ],
      "execution_count": 0,
      "outputs": []
    },
    {
      "cell_type": "code",
      "metadata": {
        "id": "gIw_Vp2gGfyq",
        "colab_type": "code",
        "colab": {}
      },
      "source": [
        ""
      ],
      "execution_count": 0,
      "outputs": []
    },
    {
      "cell_type": "code",
      "metadata": {
        "id": "mTyNjX2RGfyr",
        "colab_type": "code",
        "colab": {}
      },
      "source": [
        ""
      ],
      "execution_count": 0,
      "outputs": []
    },
    {
      "cell_type": "code",
      "metadata": {
        "id": "KHQWAA6iGfys",
        "colab_type": "code",
        "colab": {}
      },
      "source": [
        ""
      ],
      "execution_count": 0,
      "outputs": []
    },
    {
      "cell_type": "code",
      "metadata": {
        "id": "WeXqzk5UGfyt",
        "colab_type": "code",
        "colab": {}
      },
      "source": [
        ""
      ],
      "execution_count": 0,
      "outputs": []
    },
    {
      "cell_type": "code",
      "metadata": {
        "id": "KkWR8hUbGfyu",
        "colab_type": "code",
        "colab": {}
      },
      "source": [
        ""
      ],
      "execution_count": 0,
      "outputs": []
    },
    {
      "cell_type": "code",
      "metadata": {
        "id": "LWwkxDyvGfyw",
        "colab_type": "code",
        "colab": {}
      },
      "source": [
        ""
      ],
      "execution_count": 0,
      "outputs": []
    },
    {
      "cell_type": "code",
      "metadata": {
        "id": "tJ2-DE8gGfyx",
        "colab_type": "code",
        "colab": {}
      },
      "source": [
        ""
      ],
      "execution_count": 0,
      "outputs": []
    },
    {
      "cell_type": "code",
      "metadata": {
        "id": "ebZoAlSCGfyy",
        "colab_type": "code",
        "colab": {}
      },
      "source": [
        ""
      ],
      "execution_count": 0,
      "outputs": []
    },
    {
      "cell_type": "code",
      "metadata": {
        "id": "iAAlabqZGfy0",
        "colab_type": "code",
        "colab": {}
      },
      "source": [
        ""
      ],
      "execution_count": 0,
      "outputs": []
    },
    {
      "cell_type": "code",
      "metadata": {
        "id": "Kl32ej9OGfy1",
        "colab_type": "code",
        "colab": {}
      },
      "source": [
        ""
      ],
      "execution_count": 0,
      "outputs": []
    },
    {
      "cell_type": "code",
      "metadata": {
        "id": "3q8clvlmGfy2",
        "colab_type": "code",
        "colab": {}
      },
      "source": [
        ""
      ],
      "execution_count": 0,
      "outputs": []
    },
    {
      "cell_type": "code",
      "metadata": {
        "id": "yUoxkklrGfy3",
        "colab_type": "code",
        "colab": {}
      },
      "source": [
        ""
      ],
      "execution_count": 0,
      "outputs": []
    },
    {
      "cell_type": "code",
      "metadata": {
        "id": "uTvCQUrtGfy3",
        "colab_type": "code",
        "colab": {}
      },
      "source": [
        ""
      ],
      "execution_count": 0,
      "outputs": []
    },
    {
      "cell_type": "code",
      "metadata": {
        "id": "zdFJ067aGfy4",
        "colab_type": "code",
        "colab": {}
      },
      "source": [
        ""
      ],
      "execution_count": 0,
      "outputs": []
    },
    {
      "cell_type": "code",
      "metadata": {
        "id": "UesoLP12Gfy5",
        "colab_type": "code",
        "colab": {}
      },
      "source": [
        ""
      ],
      "execution_count": 0,
      "outputs": []
    },
    {
      "cell_type": "code",
      "metadata": {
        "id": "w6gMU7gQGfy7",
        "colab_type": "code",
        "colab": {}
      },
      "source": [
        ""
      ],
      "execution_count": 0,
      "outputs": []
    },
    {
      "cell_type": "code",
      "metadata": {
        "id": "uXk79aTMGfy8",
        "colab_type": "code",
        "colab": {}
      },
      "source": [
        ""
      ],
      "execution_count": 0,
      "outputs": []
    },
    {
      "cell_type": "code",
      "metadata": {
        "id": "FM-aDoHNGfy8",
        "colab_type": "code",
        "colab": {}
      },
      "source": [
        ""
      ],
      "execution_count": 0,
      "outputs": []
    },
    {
      "cell_type": "code",
      "metadata": {
        "id": "Q_Zc3LYaGfy9",
        "colab_type": "code",
        "colab": {}
      },
      "source": [
        ""
      ],
      "execution_count": 0,
      "outputs": []
    },
    {
      "cell_type": "code",
      "metadata": {
        "id": "4HAfMwk2Gfy-",
        "colab_type": "code",
        "colab": {}
      },
      "source": [
        ""
      ],
      "execution_count": 0,
      "outputs": []
    },
    {
      "cell_type": "code",
      "metadata": {
        "id": "Yl1a15MFGfy_",
        "colab_type": "code",
        "colab": {}
      },
      "source": [
        ""
      ],
      "execution_count": 0,
      "outputs": []
    },
    {
      "cell_type": "code",
      "metadata": {
        "id": "ZIpwnTU3GfzB",
        "colab_type": "code",
        "colab": {}
      },
      "source": [
        ""
      ],
      "execution_count": 0,
      "outputs": []
    },
    {
      "cell_type": "code",
      "metadata": {
        "id": "OW6fIe73GfzB",
        "colab_type": "code",
        "colab": {}
      },
      "source": [
        ""
      ],
      "execution_count": 0,
      "outputs": []
    },
    {
      "cell_type": "code",
      "metadata": {
        "id": "YzE5IBPpGfzC",
        "colab_type": "code",
        "colab": {}
      },
      "source": [
        ""
      ],
      "execution_count": 0,
      "outputs": []
    },
    {
      "cell_type": "code",
      "metadata": {
        "id": "G1x7WAsDGfzD",
        "colab_type": "code",
        "colab": {}
      },
      "source": [
        ""
      ],
      "execution_count": 0,
      "outputs": []
    },
    {
      "cell_type": "code",
      "metadata": {
        "id": "quKPxAVsGfzE",
        "colab_type": "code",
        "colab": {}
      },
      "source": [
        ""
      ],
      "execution_count": 0,
      "outputs": []
    },
    {
      "cell_type": "code",
      "metadata": {
        "id": "EvXS6adyGfzF",
        "colab_type": "code",
        "colab": {}
      },
      "source": [
        ""
      ],
      "execution_count": 0,
      "outputs": []
    },
    {
      "cell_type": "code",
      "metadata": {
        "id": "NBfl_SxfGfzG",
        "colab_type": "code",
        "colab": {}
      },
      "source": [
        ""
      ],
      "execution_count": 0,
      "outputs": []
    },
    {
      "cell_type": "code",
      "metadata": {
        "id": "TxloSnLTGfzG",
        "colab_type": "code",
        "colab": {}
      },
      "source": [
        ""
      ],
      "execution_count": 0,
      "outputs": []
    },
    {
      "cell_type": "code",
      "metadata": {
        "id": "akJiCv5NGfzH",
        "colab_type": "code",
        "colab": {}
      },
      "source": [
        ""
      ],
      "execution_count": 0,
      "outputs": []
    },
    {
      "cell_type": "code",
      "metadata": {
        "id": "-hnFBm7gGfzI",
        "colab_type": "code",
        "colab": {}
      },
      "source": [
        ""
      ],
      "execution_count": 0,
      "outputs": []
    },
    {
      "cell_type": "code",
      "metadata": {
        "id": "kkrH-KkNGfzI",
        "colab_type": "code",
        "colab": {}
      },
      "source": [
        ""
      ],
      "execution_count": 0,
      "outputs": []
    },
    {
      "cell_type": "code",
      "metadata": {
        "id": "yUpxkZuaGfzJ",
        "colab_type": "code",
        "colab": {}
      },
      "source": [
        ""
      ],
      "execution_count": 0,
      "outputs": []
    },
    {
      "cell_type": "code",
      "metadata": {
        "id": "N5oFLqxjGfzK",
        "colab_type": "code",
        "colab": {}
      },
      "source": [
        ""
      ],
      "execution_count": 0,
      "outputs": []
    },
    {
      "cell_type": "code",
      "metadata": {
        "id": "E_3O72JXGfzM",
        "colab_type": "code",
        "colab": {}
      },
      "source": [
        ""
      ],
      "execution_count": 0,
      "outputs": []
    },
    {
      "cell_type": "code",
      "metadata": {
        "id": "6uJPzBf8GfzN",
        "colab_type": "code",
        "colab": {}
      },
      "source": [
        ""
      ],
      "execution_count": 0,
      "outputs": []
    },
    {
      "cell_type": "code",
      "metadata": {
        "id": "R2icOAGGGfzO",
        "colab_type": "code",
        "colab": {}
      },
      "source": [
        ""
      ],
      "execution_count": 0,
      "outputs": []
    },
    {
      "cell_type": "code",
      "metadata": {
        "id": "pecP6APzGfzR",
        "colab_type": "code",
        "colab": {}
      },
      "source": [
        ""
      ],
      "execution_count": 0,
      "outputs": []
    },
    {
      "cell_type": "code",
      "metadata": {
        "id": "OZZizVwwGfzT",
        "colab_type": "code",
        "colab": {}
      },
      "source": [
        ""
      ],
      "execution_count": 0,
      "outputs": []
    },
    {
      "cell_type": "code",
      "metadata": {
        "id": "1RUXHsEwGfzV",
        "colab_type": "code",
        "colab": {}
      },
      "source": [
        ""
      ],
      "execution_count": 0,
      "outputs": []
    },
    {
      "cell_type": "code",
      "metadata": {
        "id": "s3vqWhMtGfzW",
        "colab_type": "code",
        "colab": {}
      },
      "source": [
        ""
      ],
      "execution_count": 0,
      "outputs": []
    },
    {
      "cell_type": "code",
      "metadata": {
        "id": "7O6sQPYCGfzW",
        "colab_type": "code",
        "colab": {}
      },
      "source": [
        ""
      ],
      "execution_count": 0,
      "outputs": []
    },
    {
      "cell_type": "code",
      "metadata": {
        "id": "f8DZ0r6vGfzX",
        "colab_type": "code",
        "colab": {}
      },
      "source": [
        ""
      ],
      "execution_count": 0,
      "outputs": []
    },
    {
      "cell_type": "code",
      "metadata": {
        "id": "XhSg4EkLGfzY",
        "colab_type": "code",
        "colab": {}
      },
      "source": [
        ""
      ],
      "execution_count": 0,
      "outputs": []
    },
    {
      "cell_type": "code",
      "metadata": {
        "id": "6EyW_G5KGfzY",
        "colab_type": "code",
        "colab": {}
      },
      "source": [
        ""
      ],
      "execution_count": 0,
      "outputs": []
    },
    {
      "cell_type": "code",
      "metadata": {
        "id": "JwMoZyKRGfzZ",
        "colab_type": "code",
        "colab": {}
      },
      "source": [
        ""
      ],
      "execution_count": 0,
      "outputs": []
    },
    {
      "cell_type": "code",
      "metadata": {
        "id": "4k8jZa8NGfza",
        "colab_type": "code",
        "colab": {}
      },
      "source": [
        ""
      ],
      "execution_count": 0,
      "outputs": []
    },
    {
      "cell_type": "code",
      "metadata": {
        "id": "aTII3ybhGfzd",
        "colab_type": "code",
        "colab": {}
      },
      "source": [
        ""
      ],
      "execution_count": 0,
      "outputs": []
    },
    {
      "cell_type": "code",
      "metadata": {
        "id": "i_JSz6EwGfzd",
        "colab_type": "code",
        "colab": {}
      },
      "source": [
        ""
      ],
      "execution_count": 0,
      "outputs": []
    },
    {
      "cell_type": "code",
      "metadata": {
        "id": "0uNqDi5tGfzf",
        "colab_type": "code",
        "colab": {}
      },
      "source": [
        ""
      ],
      "execution_count": 0,
      "outputs": []
    },
    {
      "cell_type": "code",
      "metadata": {
        "id": "ONItnmCdGfzf",
        "colab_type": "code",
        "colab": {}
      },
      "source": [
        ""
      ],
      "execution_count": 0,
      "outputs": []
    }
  ]
}