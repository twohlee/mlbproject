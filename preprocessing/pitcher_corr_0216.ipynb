{
  "nbformat": 4,
  "nbformat_minor": 0,
  "metadata": {
    "kernelspec": {
      "display_name": "Python 3",
      "language": "python",
      "name": "python3"
    },
    "language_info": {
      "codemirror_mode": {
        "name": "ipython",
        "version": 3
      },
      "file_extension": ".py",
      "mimetype": "text/x-python",
      "name": "python",
      "nbconvert_exporter": "python",
      "pygments_lexer": "ipython3",
      "version": "3.7.4"
    },
    "colab": {
      "name": "pitcher_corr_0216.ipynb",
      "provenance": []
    }
  },
  "cells": [
    {
      "cell_type": "code",
      "metadata": {
        "id": "0Hn2tsLbtzEo",
        "colab_type": "code",
        "colab": {}
      },
      "source": [
        "import pandas as pd\n",
        "import numpy as np\n",
        "from sklearn import preprocessing\n",
        "import matplotlib.pyplot as plt\n",
        "import seaborn as sns\n",
        "%matplotlib inline\n",
        "import missingno as msng\n",
        "pit_total=pd.read_csv('../Data/MLB_data_edit/pit_total.csv')\n",
        "bat_total=pd.read_csv('../Data/MLB_data_edit/bat_total.csv')\n",
        "rank_total=pd.read_csv('../Data/MLB_data_edit/rank_total.csv')\n",
        "p_total_no_scale=pd.read_csv('../Data/MLB_data_edit/p_total_no_scale.csv')\n",
        "p_total_no_PCT=pd.read_csv('../Data/MLB_data_edit/p_total_PCT_none.csv')"
      ],
      "execution_count": 0,
      "outputs": []
    },
    {
      "cell_type": "code",
      "metadata": {
        "id": "gkodsgmRtzEr",
        "colab_type": "code",
        "colab": {}
      },
      "source": [
        "del pit_total['Unnamed: 0']\n",
        "del bat_total['Unnamed: 0']\n",
        "del rank_total['Unnamed: 0']\n",
        "del p_total_no_scale['Unnamed: 0']\n",
        "del p_total_no_PCT['Unnamed: 0']"
      ],
      "execution_count": 0,
      "outputs": []
    },
    {
      "cell_type": "code",
      "metadata": {
        "id": "GxQv2vC3tzEt",
        "colab_type": "code",
        "colab": {},
        "outputId": "5f5fac9d-6a3e-442b-edc1-e01822260a2d"
      },
      "source": [
        "p_total_no_scale"
      ],
      "execution_count": 0,
      "outputs": [
        {
          "output_type": "execute_result",
          "data": {
            "text/html": [
              "<div>\n",
              "<style scoped>\n",
              "    .dataframe tbody tr th:only-of-type {\n",
              "        vertical-align: middle;\n",
              "    }\n",
              "\n",
              "    .dataframe tbody tr th {\n",
              "        vertical-align: top;\n",
              "    }\n",
              "\n",
              "    .dataframe thead th {\n",
              "        text-align: right;\n",
              "    }\n",
              "</style>\n",
              "<table border=\"1\" class=\"dataframe\">\n",
              "  <thead>\n",
              "    <tr style=\"text-align: right;\">\n",
              "      <th></th>\n",
              "      <th>IP</th>\n",
              "      <th>H</th>\n",
              "      <th>K</th>\n",
              "      <th>BB</th>\n",
              "      <th>HR</th>\n",
              "      <th>ERA</th>\n",
              "      <th>WHIP</th>\n",
              "      <th>PCT</th>\n",
              "    </tr>\n",
              "  </thead>\n",
              "  <tbody>\n",
              "    <tr>\n",
              "      <td>0</td>\n",
              "      <td>50.967857</td>\n",
              "      <td>53.678571</td>\n",
              "      <td>38.214286</td>\n",
              "      <td>19.571429</td>\n",
              "      <td>7.500000</td>\n",
              "      <td>6.366429</td>\n",
              "      <td>1.735714</td>\n",
              "      <td>0.599</td>\n",
              "    </tr>\n",
              "    <tr>\n",
              "      <td>1</td>\n",
              "      <td>68.295238</td>\n",
              "      <td>63.142857</td>\n",
              "      <td>59.095238</td>\n",
              "      <td>24.047619</td>\n",
              "      <td>6.000000</td>\n",
              "      <td>5.517143</td>\n",
              "      <td>1.557143</td>\n",
              "      <td>0.593</td>\n",
              "    </tr>\n",
              "    <tr>\n",
              "      <td>2</td>\n",
              "      <td>62.165217</td>\n",
              "      <td>65.565217</td>\n",
              "      <td>43.782609</td>\n",
              "      <td>22.608696</td>\n",
              "      <td>8.086957</td>\n",
              "      <td>5.522609</td>\n",
              "      <td>1.606957</td>\n",
              "      <td>0.586</td>\n",
              "    </tr>\n",
              "    <tr>\n",
              "      <td>3</td>\n",
              "      <td>63.043478</td>\n",
              "      <td>60.869565</td>\n",
              "      <td>52.434783</td>\n",
              "      <td>25.217391</td>\n",
              "      <td>6.565217</td>\n",
              "      <td>6.027826</td>\n",
              "      <td>1.750870</td>\n",
              "      <td>0.580</td>\n",
              "    </tr>\n",
              "    <tr>\n",
              "      <td>4</td>\n",
              "      <td>62.260870</td>\n",
              "      <td>61.260870</td>\n",
              "      <td>55.130435</td>\n",
              "      <td>26.304348</td>\n",
              "      <td>6.695652</td>\n",
              "      <td>5.504783</td>\n",
              "      <td>1.597391</td>\n",
              "      <td>0.568</td>\n",
              "    </tr>\n",
              "    <tr>\n",
              "      <td>...</td>\n",
              "      <td>...</td>\n",
              "      <td>...</td>\n",
              "      <td>...</td>\n",
              "      <td>...</td>\n",
              "      <td>...</td>\n",
              "      <td>...</td>\n",
              "      <td>...</td>\n",
              "      <td>...</td>\n",
              "    </tr>\n",
              "    <tr>\n",
              "      <td>295</td>\n",
              "      <td>65.345455</td>\n",
              "      <td>58.363636</td>\n",
              "      <td>63.545455</td>\n",
              "      <td>24.772727</td>\n",
              "      <td>8.681818</td>\n",
              "      <td>5.150455</td>\n",
              "      <td>1.466818</td>\n",
              "      <td>0.414</td>\n",
              "    </tr>\n",
              "    <tr>\n",
              "      <td>296</td>\n",
              "      <td>47.209677</td>\n",
              "      <td>40.903226</td>\n",
              "      <td>52.290323</td>\n",
              "      <td>14.612903</td>\n",
              "      <td>5.806452</td>\n",
              "      <td>4.217097</td>\n",
              "      <td>1.288710</td>\n",
              "      <td>0.364</td>\n",
              "    </tr>\n",
              "    <tr>\n",
              "      <td>297</td>\n",
              "      <td>41.958824</td>\n",
              "      <td>44.382353</td>\n",
              "      <td>40.529412</td>\n",
              "      <td>17.147059</td>\n",
              "      <td>7.029412</td>\n",
              "      <td>8.743235</td>\n",
              "      <td>2.190294</td>\n",
              "      <td>0.352</td>\n",
              "    </tr>\n",
              "    <tr>\n",
              "      <td>298</td>\n",
              "      <td>38.594595</td>\n",
              "      <td>39.054054</td>\n",
              "      <td>35.918919</td>\n",
              "      <td>16.297297</td>\n",
              "      <td>6.135135</td>\n",
              "      <td>6.418919</td>\n",
              "      <td>1.740541</td>\n",
              "      <td>0.333</td>\n",
              "    </tr>\n",
              "    <tr>\n",
              "      <td>299</td>\n",
              "      <td>49.420690</td>\n",
              "      <td>46.103448</td>\n",
              "      <td>52.103448</td>\n",
              "      <td>17.689655</td>\n",
              "      <td>6.931034</td>\n",
              "      <td>13.482414</td>\n",
              "      <td>2.436207</td>\n",
              "      <td>0.292</td>\n",
              "    </tr>\n",
              "  </tbody>\n",
              "</table>\n",
              "<p>300 rows × 8 columns</p>\n",
              "</div>"
            ],
            "text/plain": [
              "            IP          H          K         BB        HR        ERA  \\\n",
              "0    50.967857  53.678571  38.214286  19.571429  7.500000   6.366429   \n",
              "1    68.295238  63.142857  59.095238  24.047619  6.000000   5.517143   \n",
              "2    62.165217  65.565217  43.782609  22.608696  8.086957   5.522609   \n",
              "3    63.043478  60.869565  52.434783  25.217391  6.565217   6.027826   \n",
              "4    62.260870  61.260870  55.130435  26.304348  6.695652   5.504783   \n",
              "..         ...        ...        ...        ...       ...        ...   \n",
              "295  65.345455  58.363636  63.545455  24.772727  8.681818   5.150455   \n",
              "296  47.209677  40.903226  52.290323  14.612903  5.806452   4.217097   \n",
              "297  41.958824  44.382353  40.529412  17.147059  7.029412   8.743235   \n",
              "298  38.594595  39.054054  35.918919  16.297297  6.135135   6.418919   \n",
              "299  49.420690  46.103448  52.103448  17.689655  6.931034  13.482414   \n",
              "\n",
              "         WHIP    PCT  \n",
              "0    1.735714  0.599  \n",
              "1    1.557143  0.593  \n",
              "2    1.606957  0.586  \n",
              "3    1.750870  0.580  \n",
              "4    1.597391  0.568  \n",
              "..        ...    ...  \n",
              "295  1.466818  0.414  \n",
              "296  1.288710  0.364  \n",
              "297  2.190294  0.352  \n",
              "298  1.740541  0.333  \n",
              "299  2.436207  0.292  \n",
              "\n",
              "[300 rows x 8 columns]"
            ]
          },
          "metadata": {
            "tags": []
          },
          "execution_count": 13
        }
      ]
    },
    {
      "cell_type": "code",
      "metadata": {
        "id": "kkAfl_N5tzEw",
        "colab_type": "code",
        "colab": {}
      },
      "source": [
        "col=['IP', 'H', 'K','BB', 'HR', 'ERA', 'WHIP']\n",
        "a = p_total_no_scale[['IP']].values\n",
        "b = p_total_no_scale[['H']].values\n",
        "c = p_total_no_scale[['K']].values\n",
        "d = p_total_no_scale[['BB']].values\n",
        "e = p_total_no_scale[['HR']].values\n",
        "f = p_total_no_scale[['ERA']].values\n",
        "g = p_total_no_scale[['WHIP']].values\n",
        "h = p_total_no_scale[['PCT']].values"
      ],
      "execution_count": 0,
      "outputs": []
    },
    {
      "cell_type": "code",
      "metadata": {
        "id": "qYdGw4Q7tzEy",
        "colab_type": "code",
        "colab": {}
      },
      "source": [
        "StandardScaler = preprocessing.StandardScaler()\n",
        "\n",
        "\n",
        "a_scaled = StandardScaler.fit_transform(a)\n",
        "b_scaled = StandardScaler.fit_transform(b)\n",
        "c_scaled = StandardScaler.fit_transform(c)\n",
        "d_scaled = StandardScaler.fit_transform(d)\n",
        "e_scaled = StandardScaler.fit_transform(e)\n",
        "f_scaled = StandardScaler.fit_transform(f)\n",
        "g_scaled = StandardScaler.fit_transform(g)\n",
        "h_scaled = StandardScaler.fit_transform(h)"
      ],
      "execution_count": 0,
      "outputs": []
    },
    {
      "cell_type": "code",
      "metadata": {
        "id": "AOrDjq0QtzE0",
        "colab_type": "code",
        "colab": {}
      },
      "source": [
        ""
      ],
      "execution_count": 0,
      "outputs": []
    },
    {
      "cell_type": "code",
      "metadata": {
        "id": "NqV2qfWVtzE2",
        "colab_type": "code",
        "colab": {}
      },
      "source": [
        ""
      ],
      "execution_count": 0,
      "outputs": []
    },
    {
      "cell_type": "code",
      "metadata": {
        "id": "wWJnMdrJtzE7",
        "colab_type": "code",
        "colab": {}
      },
      "source": [
        "a_scaled_t = list()\n",
        "for i in a_scaled:\n",
        "    a_scaled_t.append(i[0])\n",
        "b_scaled_t = list()\n",
        "for i in b_scaled:\n",
        "    b_scaled_t.append(i[0])\n",
        "c_scaled_t = list()\n",
        "for i in c_scaled:\n",
        "    c_scaled_t.append(i[0])\n",
        "d_scaled_t = list()\n",
        "for i in d_scaled:\n",
        "    d_scaled_t.append(i[0])\n",
        "e_scaled_t = list()\n",
        "for i in e_scaled:\n",
        "    e_scaled_t.append(i[0])\n",
        "f_scaled_t = list()\n",
        "for i in f_scaled:\n",
        "    f_scaled_t.append(i[0])\n",
        "g_scaled_t = list()\n",
        "for i in g_scaled:\n",
        "    g_scaled_t.append(i[0])\n",
        "h_scaled_t = list()\n",
        "for i in h_scaled:\n",
        "    h_scaled_t.append(i[0])"
      ],
      "execution_count": 0,
      "outputs": []
    },
    {
      "cell_type": "code",
      "metadata": {
        "id": "DhRdFzrCtzE9",
        "colab_type": "code",
        "colab": {}
      },
      "source": [
        "df_normalized = pd.DataFrame(data = {'IP':a_scaled_t,\n",
        "                      'H':b_scaled_t,\n",
        "                      'K':c_scaled_t,\n",
        "                      'BB':d_scaled_t,\n",
        "                      'HR':e_scaled_t,\n",
        "                      'ERA':f_scaled_t,\n",
        "                      'WHIP':g_scaled_t,\n",
        "                      'PCT':h_scaled_t\n",
        "                             })"
      ],
      "execution_count": 0,
      "outputs": []
    },
    {
      "cell_type": "code",
      "metadata": {
        "id": "LKPiYtNNtzE-",
        "colab_type": "code",
        "colab": {}
      },
      "source": [
        ""
      ],
      "execution_count": 0,
      "outputs": []
    },
    {
      "cell_type": "code",
      "metadata": {
        "id": "WOfoSqeetzFA",
        "colab_type": "code",
        "colab": {}
      },
      "source": [
        "del df_normalized['PCT']"
      ],
      "execution_count": 0,
      "outputs": []
    },
    {
      "cell_type": "code",
      "metadata": {
        "id": "_31yrZEgtzFC",
        "colab_type": "code",
        "colab": {}
      },
      "source": [
        "df_normalized['PCT']=rank_total['PCT']"
      ],
      "execution_count": 0,
      "outputs": []
    },
    {
      "cell_type": "code",
      "metadata": {
        "id": "9i6DKtl3tzFE",
        "colab_type": "code",
        "colab": {},
        "outputId": "e3861524-6e6b-41fe-acb7-6c7e8a540059"
      },
      "source": [
        "df_normalized"
      ],
      "execution_count": 0,
      "outputs": [
        {
          "output_type": "execute_result",
          "data": {
            "text/html": [
              "<div>\n",
              "<style scoped>\n",
              "    .dataframe tbody tr th:only-of-type {\n",
              "        vertical-align: middle;\n",
              "    }\n",
              "\n",
              "    .dataframe tbody tr th {\n",
              "        vertical-align: top;\n",
              "    }\n",
              "\n",
              "    .dataframe thead th {\n",
              "        text-align: right;\n",
              "    }\n",
              "</style>\n",
              "<table border=\"1\" class=\"dataframe\">\n",
              "  <thead>\n",
              "    <tr style=\"text-align: right;\">\n",
              "      <th></th>\n",
              "      <th>IP</th>\n",
              "      <th>H</th>\n",
              "      <th>K</th>\n",
              "      <th>BB</th>\n",
              "      <th>HR</th>\n",
              "      <th>ERA</th>\n",
              "      <th>WHIP</th>\n",
              "      <th>PCT</th>\n",
              "    </tr>\n",
              "  </thead>\n",
              "  <tbody>\n",
              "    <tr>\n",
              "      <td>0</td>\n",
              "      <td>-0.756509</td>\n",
              "      <td>-0.295178</td>\n",
              "      <td>-1.374112</td>\n",
              "      <td>-0.164588</td>\n",
              "      <td>0.571534</td>\n",
              "      <td>0.937228</td>\n",
              "      <td>1.320349</td>\n",
              "      <td>0.599</td>\n",
              "    </tr>\n",
              "    <tr>\n",
              "      <td>1</td>\n",
              "      <td>1.088609</td>\n",
              "      <td>0.795338</td>\n",
              "      <td>0.890813</td>\n",
              "      <td>1.224710</td>\n",
              "      <td>-0.738494</td>\n",
              "      <td>0.279088</td>\n",
              "      <td>0.300800</td>\n",
              "      <td>0.593</td>\n",
              "    </tr>\n",
              "    <tr>\n",
              "      <td>2</td>\n",
              "      <td>0.435849</td>\n",
              "      <td>1.074453</td>\n",
              "      <td>-0.770124</td>\n",
              "      <td>0.778104</td>\n",
              "      <td>1.084154</td>\n",
              "      <td>0.283324</td>\n",
              "      <td>0.585210</td>\n",
              "      <td>0.586</td>\n",
              "    </tr>\n",
              "    <tr>\n",
              "      <td>3</td>\n",
              "      <td>0.529372</td>\n",
              "      <td>0.533399</td>\n",
              "      <td>0.168363</td>\n",
              "      <td>1.587778</td>\n",
              "      <td>-0.244860</td>\n",
              "      <td>0.674833</td>\n",
              "      <td>1.406878</td>\n",
              "      <td>0.580</td>\n",
              "    </tr>\n",
              "    <tr>\n",
              "      <td>4</td>\n",
              "      <td>0.446035</td>\n",
              "      <td>0.578487</td>\n",
              "      <td>0.460757</td>\n",
              "      <td>1.925142</td>\n",
              "      <td>-0.130945</td>\n",
              "      <td>0.269510</td>\n",
              "      <td>0.530597</td>\n",
              "      <td>0.568</td>\n",
              "    </tr>\n",
              "    <tr>\n",
              "      <td>...</td>\n",
              "      <td>...</td>\n",
              "      <td>...</td>\n",
              "      <td>...</td>\n",
              "      <td>...</td>\n",
              "      <td>...</td>\n",
              "      <td>...</td>\n",
              "      <td>...</td>\n",
              "      <td>...</td>\n",
              "    </tr>\n",
              "    <tr>\n",
              "      <td>295</td>\n",
              "      <td>0.774499</td>\n",
              "      <td>0.244655</td>\n",
              "      <td>1.373521</td>\n",
              "      <td>1.449766</td>\n",
              "      <td>1.603677</td>\n",
              "      <td>-0.005071</td>\n",
              "      <td>-0.214907</td>\n",
              "      <td>0.414</td>\n",
              "    </tr>\n",
              "    <tr>\n",
              "      <td>296</td>\n",
              "      <td>-1.156702</td>\n",
              "      <td>-1.767208</td>\n",
              "      <td>0.152694</td>\n",
              "      <td>-1.703590</td>\n",
              "      <td>-0.907530</td>\n",
              "      <td>-0.728360</td>\n",
              "      <td>-1.231813</td>\n",
              "      <td>0.364</td>\n",
              "    </tr>\n",
              "    <tr>\n",
              "      <td>297</td>\n",
              "      <td>-1.715842</td>\n",
              "      <td>-1.366328</td>\n",
              "      <td>-1.122994</td>\n",
              "      <td>-0.917052</td>\n",
              "      <td>0.160545</td>\n",
              "      <td>2.779093</td>\n",
              "      <td>3.915761</td>\n",
              "      <td>0.352</td>\n",
              "    </tr>\n",
              "    <tr>\n",
              "      <td>298</td>\n",
              "      <td>-2.074085</td>\n",
              "      <td>-1.980278</td>\n",
              "      <td>-1.623086</td>\n",
              "      <td>-1.180796</td>\n",
              "      <td>-0.620474</td>\n",
              "      <td>0.977904</td>\n",
              "      <td>1.347904</td>\n",
              "      <td>0.333</td>\n",
              "    </tr>\n",
              "    <tr>\n",
              "      <td>299</td>\n",
              "      <td>-0.921260</td>\n",
              "      <td>-1.168016</td>\n",
              "      <td>0.132424</td>\n",
              "      <td>-0.748643</td>\n",
              "      <td>0.074627</td>\n",
              "      <td>6.451639</td>\n",
              "      <td>5.319794</td>\n",
              "      <td>0.292</td>\n",
              "    </tr>\n",
              "  </tbody>\n",
              "</table>\n",
              "<p>300 rows × 8 columns</p>\n",
              "</div>"
            ],
            "text/plain": [
              "           IP         H         K        BB        HR       ERA      WHIP  \\\n",
              "0   -0.756509 -0.295178 -1.374112 -0.164588  0.571534  0.937228  1.320349   \n",
              "1    1.088609  0.795338  0.890813  1.224710 -0.738494  0.279088  0.300800   \n",
              "2    0.435849  1.074453 -0.770124  0.778104  1.084154  0.283324  0.585210   \n",
              "3    0.529372  0.533399  0.168363  1.587778 -0.244860  0.674833  1.406878   \n",
              "4    0.446035  0.578487  0.460757  1.925142 -0.130945  0.269510  0.530597   \n",
              "..        ...       ...       ...       ...       ...       ...       ...   \n",
              "295  0.774499  0.244655  1.373521  1.449766  1.603677 -0.005071 -0.214907   \n",
              "296 -1.156702 -1.767208  0.152694 -1.703590 -0.907530 -0.728360 -1.231813   \n",
              "297 -1.715842 -1.366328 -1.122994 -0.917052  0.160545  2.779093  3.915761   \n",
              "298 -2.074085 -1.980278 -1.623086 -1.180796 -0.620474  0.977904  1.347904   \n",
              "299 -0.921260 -1.168016  0.132424 -0.748643  0.074627  6.451639  5.319794   \n",
              "\n",
              "       PCT  \n",
              "0    0.599  \n",
              "1    0.593  \n",
              "2    0.586  \n",
              "3    0.580  \n",
              "4    0.568  \n",
              "..     ...  \n",
              "295  0.414  \n",
              "296  0.364  \n",
              "297  0.352  \n",
              "298  0.333  \n",
              "299  0.292  \n",
              "\n",
              "[300 rows x 8 columns]"
            ]
          },
          "metadata": {
            "tags": []
          },
          "execution_count": 74
        }
      ]
    },
    {
      "cell_type": "code",
      "metadata": {
        "id": "5QYLUa6WtzFG",
        "colab_type": "code",
        "colab": {}
      },
      "source": [
        "col=['R', 'TH', 'H', '2B', '3B', 'HR','RBI','SB','CS','BB','SO','SH','SF','HBP','AVG','OBP','SLG','OPS']\n",
        "\n",
        "\n",
        "rank_total_k = rank_total.sort_values(by=['Year','Team'])['PCT']\n",
        "R=np.corrcoef(df_normalized1.groupby(by=['Year','Team']).R.mean(),rank_total_k)\n",
        "TH=np.corrcoef(df_normalized1.groupby(by=['Year','Team']).TH.mean(),rank_total_k)\n",
        "H=np.corrcoef(df_normalized1.groupby(by=['Year','Team']).H.mean(),rank_total_k)\n",
        "B2=np.corrcoef(df_normalized1.groupby(by=['Year','Team'])['2B'].mean(),rank_total_k)\n",
        "B3=np.corrcoef(df_normalized1.groupby(by=['Year','Team'])['3B'].mean(),rank_total_k)\n",
        "HR=np.corrcoef(df_normalized1.groupby(by=['Year','Team']).HR.mean(),rank_total_k)\n",
        "RBI=np.corrcoef(df_normalized1.groupby(by=['Year','Team']).RBI.mean(),rank_total_k)\n",
        "SB=np.corrcoef(df_normalized1.groupby(by=['Year','Team']).SB.mean(),rank_total_k)\n",
        "CS=np.corrcoef(df_normalized1.groupby(by=['Year','Team']).CS.mean(),rank_total_k)\n",
        "BB=np.corrcoef(df_normalized1.groupby(by=['Year','Team']).BB.mean(),rank_total_k)\n",
        "SO=np.corrcoef(df_normalized1.groupby(by=['Year','Team']).SO.mean(),rank_total_k)\n",
        "SH=np.corrcoef(df_normalized1.groupby(by=['Year','Team']).SH.mean(),rank_total_k)\n",
        "SF=np.corrcoef(df_normalized1.groupby(by=['Year','Team']).SF.mean(),rank_total_k)\n",
        "HBP=np.corrcoef(df_normalized1.groupby(by=['Year','Team']).HBP.mean(),rank_total_k)\n",
        "AVG=np.corrcoef(df_normalized1.groupby(by=['Year','Team']).AVG.mean(),rank_total_k)\n",
        "OBP=np.corrcoef(df_normalized1.groupby(by=['Year','Team']).OBP.mean(),rank_total_k)\n",
        "SLG=np.corrcoef(df_normalized1.groupby(by=['Year','Team']).SLG.mean(),rank_total_k)\n",
        "OPS=np.corrcoef(df_normalized1.groupby(by=['Year','Team']).OPS.mean(),rank_total_k)\n",
        "\n",
        "hitmap = pd.DataFrame({\n",
        "    'R':R[1][0],\n",
        "    'TH':TH[1][0],\n",
        "    'H':H[1][0],\n",
        "    '2B':B2[1][0],\n",
        "    '3B':B3[1][0],\n",
        "    'HR':HR[1][0],\n",
        "    'RBI':RBI[1][0],\n",
        "    'SB':SB[1][0],\n",
        "    'CS':CS[1][0],\n",
        "    'BB':BB[1][0],\n",
        "    'SO':SO[1][0],\n",
        "    'SH':SH[1][0],\n",
        "    'SF':SF[1][0],\n",
        "    'HBP':HBP[1][0],\n",
        "    'AVG':AVG[1][0],\n",
        "    'OBP':OBP[1][0],\n",
        "    'SLG':SLG[1][0],\n",
        "    'OPS':OPS[1][0],\n",
        "\n",
        "},index=['corrcoef'])\n",
        "plt.figure(figsize=(5,10))\n",
        "sns.heatmap(hitmap[col].T,annot=True, fmt='f', linewidths=1, cmap='RdPu')\n",
        "plt.title('corrcoef of BATTER')\n",
        "plt.show()"
      ],
      "execution_count": 0,
      "outputs": []
    },
    {
      "cell_type": "code",
      "metadata": {
        "id": "VDUsoOUotzFI",
        "colab_type": "code",
        "colab": {},
        "outputId": "54b376ba-9594-4dd6-ddf2-afe1f7312260"
      },
      "source": [
        "col = ['IP','H','K','BB','HR','ERA','WHIP']\n",
        "\n",
        "\n",
        "\n",
        "rank_total_k = rank_total.sort_values(by=['Year','Team'])['PCT']\n",
        "\n",
        "\n",
        "IP=np.corrcoef(df_normalized['IP'],rank_total_k)\n",
        "H=np.corrcoef(df_normalized['H'],rank_total_k)\n",
        "K=np.corrcoef(df_normalized['K'],rank_total_k)\n",
        "BB=np.corrcoef(df_normalized['BB'],rank_total_k)\n",
        "HR=np.corrcoef(df_normalized['HR'],rank_total_k)\n",
        "ERA=np.corrcoef(df_normalized['ERA'],rank_total_k)\n",
        "WHIP=np.corrcoef(df_normalized['WHIP'],rank_total_k)\n",
        "\n",
        "\n",
        "\n",
        "\n",
        "\n",
        "hitmap = pd.DataFrame({\n",
        "    'IP':IP[1][0],\n",
        "    'H':H[1][0],\n",
        "    'K':K[1][0],\n",
        "    'BB':BB[1][0],\n",
        "    'HR':HR[1][0],\n",
        "    'ERA':ERA[1][0],\n",
        "    'WHIP':WHIP[1][0],\n",
        "    \n",
        "    \n",
        "\n",
        "},index=['corrcoef'])\n",
        "plt.figure(figsize=(5,15))\n",
        "sns.heatmap(hitmap[col].T,annot=True, fmt='f', linewidths=1, cmap='RdPu')\n",
        "plt.title('corrcoef of PITCHER')\n",
        "plt.show()\n",
        "\n",
        "\n"
      ],
      "execution_count": 0,
      "outputs": [
        {
          "output_type": "display_data",
          "data": {
            "image/png": "[encoded data removed]",
            "text/plain": [
              "<Figure size 360x1080 with 2 Axes>"
            ]
          },
          "metadata": {
            "tags": [],
            "needs_background": "light"
          }
        }
      ]
    },
    {
      "cell_type": "code",
      "metadata": {
        "id": "tZ8K96VFtzFL",
        "colab_type": "code",
        "colab": {},
        "outputId": "5998b498-2e7e-4667-d28d-243646e182af"
      },
      "source": [
        "IP"
      ],
      "execution_count": 0,
      "outputs": [
        {
          "output_type": "execute_result",
          "data": {
            "text/plain": [
              "array([[1.        , 0.25249176],\n",
              "       [0.25249176, 1.        ]])"
            ]
          },
          "metadata": {
            "tags": []
          },
          "execution_count": 85
        }
      ]
    },
    {
      "cell_type": "code",
      "metadata": {
        "id": "YysOg5rstzFN",
        "colab_type": "code",
        "colab": {}
      },
      "source": [
        ""
      ],
      "execution_count": 0,
      "outputs": []
    },
    {
      "cell_type": "code",
      "metadata": {
        "id": "VO5uO9j_tzFP",
        "colab_type": "code",
        "colab": {}
      },
      "source": [
        ""
      ],
      "execution_count": 0,
      "outputs": []
    },
    {
      "cell_type": "code",
      "metadata": {
        "id": "8Tu5Vb2xtzFS",
        "colab_type": "code",
        "colab": {}
      },
      "source": [
        ""
      ],
      "execution_count": 0,
      "outputs": []
    },
    {
      "cell_type": "code",
      "metadata": {
        "id": "gBNue6mNtzFU",
        "colab_type": "code",
        "colab": {}
      },
      "source": [
        ""
      ],
      "execution_count": 0,
      "outputs": []
    },
    {
      "cell_type": "code",
      "metadata": {
        "id": "WMbRFU0mtzFV",
        "colab_type": "code",
        "colab": {}
      },
      "source": [
        ""
      ],
      "execution_count": 0,
      "outputs": []
    },
    {
      "cell_type": "code",
      "metadata": {
        "id": "Bjuds7HLtzFX",
        "colab_type": "code",
        "colab": {}
      },
      "source": [
        ""
      ],
      "execution_count": 0,
      "outputs": []
    },
    {
      "cell_type": "code",
      "metadata": {
        "id": "3bxjBN1QtzFZ",
        "colab_type": "code",
        "colab": {}
      },
      "source": [
        ""
      ],
      "execution_count": 0,
      "outputs": []
    },
    {
      "cell_type": "code",
      "metadata": {
        "scrolled": true,
        "id": "4ZmHG-BPtzFb",
        "colab_type": "code",
        "colab": {}
      },
      "source": [
        ""
      ],
      "execution_count": 0,
      "outputs": []
    },
    {
      "cell_type": "code",
      "metadata": {
        "id": "Nn7PajIYtzFc",
        "colab_type": "code",
        "colab": {}
      },
      "source": [
        ""
      ],
      "execution_count": 0,
      "outputs": []
    }
  ]
}