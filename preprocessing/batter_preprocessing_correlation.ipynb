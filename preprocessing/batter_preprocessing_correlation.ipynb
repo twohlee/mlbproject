{
  "nbformat": 4,
  "nbformat_minor": 0,
  "metadata": {
    "kernelspec": {
      "display_name": "Python 3",
      "language": "python",
      "name": "python3"
    },
    "language_info": {
      "codemirror_mode": {
        "name": "ipython",
        "version": 3
      },
      "file_extension": ".py",
      "mimetype": "text/x-python",
      "name": "python",
      "nbconvert_exporter": "python",
      "pygments_lexer": "ipython3",
      "version": "3.7.4"
    },
    "colab": {
      "name": "batter_preprocessing_correlation.ipynb",
      "provenance": [],
      "collapsed_sections": []
    }
  },
  "cells": [
    {
      "cell_type": "markdown",
      "metadata": {
        "id": "l1oQrs-pzsre",
        "colab_type": "text"
      },
      "source": [
        "## 파일명 : batter_preprocessing_correlation.ipynb\n",
        "- 2010~2019 타자 데이터 전처리\n",
        "- 2010~2019 MLB 시즌 랭킹 데이터 전처리 \n",
        "- 타자 지표와 PCT 상관계수 구함 "
      ]
    },
    {
      "cell_type": "code",
      "metadata": {
        "id": "J7aM0WfHNou8",
        "colab_type": "code",
        "colab": {}
      },
      "source": [
        "# 타자 데이터 전처리\n",
        "\n",
        "import pandas as pd\n",
        "import numpy as np "
      ],
      "execution_count": 0,
      "outputs": []
    },
    {
      "cell_type": "code",
      "metadata": {
        "id": "eo1HoJjJNou_",
        "colab_type": "code",
        "colab": {}
      },
      "source": [
        ""
      ],
      "execution_count": 0,
      "outputs": []
    },
    {
      "cell_type": "code",
      "metadata": {
        "scrolled": false,
        "id": "iA8SKszcNovB",
        "colab_type": "code",
        "outputId": "a8559dcf-2450-469d-f513-80afd4363553",
        "colab": {}
      },
      "source": [
        "bat_10 = pd.read_csv('../Data/MLB_data_edit/2010_bat.csv')\n",
        "bat_10.head()"
      ],
      "execution_count": 0,
      "outputs": [
        {
          "output_type": "execute_result",
          "data": {
            "text/html": [
              "<div>\n",
              "<style scoped>\n",
              "    .dataframe tbody tr th:only-of-type {\n",
              "        vertical-align: middle;\n",
              "    }\n",
              "\n",
              "    .dataframe tbody tr th {\n",
              "        vertical-align: top;\n",
              "    }\n",
              "\n",
              "    .dataframe thead th {\n",
              "        text-align: right;\n",
              "    }\n",
              "</style>\n",
              "<table border=\"1\" class=\"dataframe\">\n",
              "  <thead>\n",
              "    <tr style=\"text-align: right;\">\n",
              "      <th></th>\n",
              "      <th>Unnamed: 0</th>\n",
              "      <th>Player</th>\n",
              "      <th>Team</th>\n",
              "      <th>Pos</th>\n",
              "      <th>G</th>\n",
              "      <th>AB</th>\n",
              "      <th>R</th>\n",
              "      <th>TH</th>\n",
              "      <th>H</th>\n",
              "      <th>2B</th>\n",
              "      <th>...</th>\n",
              "      <th>CS</th>\n",
              "      <th>BB</th>\n",
              "      <th>SO</th>\n",
              "      <th>SH</th>\n",
              "      <th>SF</th>\n",
              "      <th>HBP</th>\n",
              "      <th>AVG</th>\n",
              "      <th>OBP</th>\n",
              "      <th>SLG</th>\n",
              "      <th>OPS</th>\n",
              "    </tr>\n",
              "  </thead>\n",
              "  <tbody>\n",
              "    <tr>\n",
              "      <td>0</td>\n",
              "      <td>0</td>\n",
              "      <td>Ichiro Suzuki</td>\n",
              "      <td>SEA</td>\n",
              "      <td>OF</td>\n",
              "      <td>162</td>\n",
              "      <td>680</td>\n",
              "      <td>74</td>\n",
              "      <td>214</td>\n",
              "      <td>175</td>\n",
              "      <td>30</td>\n",
              "      <td>...</td>\n",
              "      <td>9</td>\n",
              "      <td>45</td>\n",
              "      <td>86</td>\n",
              "      <td>3</td>\n",
              "      <td>1</td>\n",
              "      <td>3</td>\n",
              "      <td>0.315</td>\n",
              "      <td>0.359</td>\n",
              "      <td>0.394</td>\n",
              "      <td>0.753</td>\n",
              "    </tr>\n",
              "    <tr>\n",
              "      <td>1</td>\n",
              "      <td>1</td>\n",
              "      <td>Derek Jeter</td>\n",
              "      <td>NYY</td>\n",
              "      <td>SS</td>\n",
              "      <td>157</td>\n",
              "      <td>663</td>\n",
              "      <td>111</td>\n",
              "      <td>179</td>\n",
              "      <td>136</td>\n",
              "      <td>30</td>\n",
              "      <td>...</td>\n",
              "      <td>5</td>\n",
              "      <td>63</td>\n",
              "      <td>106</td>\n",
              "      <td>1</td>\n",
              "      <td>3</td>\n",
              "      <td>9</td>\n",
              "      <td>0.270</td>\n",
              "      <td>0.340</td>\n",
              "      <td>0.370</td>\n",
              "      <td>0.710</td>\n",
              "    </tr>\n",
              "    <tr>\n",
              "      <td>2</td>\n",
              "      <td>2</td>\n",
              "      <td>Michael Young</td>\n",
              "      <td>TEX</td>\n",
              "      <td>3B</td>\n",
              "      <td>157</td>\n",
              "      <td>656</td>\n",
              "      <td>99</td>\n",
              "      <td>186</td>\n",
              "      <td>126</td>\n",
              "      <td>36</td>\n",
              "      <td>...</td>\n",
              "      <td>2</td>\n",
              "      <td>50</td>\n",
              "      <td>115</td>\n",
              "      <td>0</td>\n",
              "      <td>11</td>\n",
              "      <td>1</td>\n",
              "      <td>0.284</td>\n",
              "      <td>0.330</td>\n",
              "      <td>0.444</td>\n",
              "      <td>0.774</td>\n",
              "    </tr>\n",
              "    <tr>\n",
              "      <td>3</td>\n",
              "      <td>3</td>\n",
              "      <td>Juan Pierre</td>\n",
              "      <td>CWS</td>\n",
              "      <td>OF</td>\n",
              "      <td>160</td>\n",
              "      <td>651</td>\n",
              "      <td>96</td>\n",
              "      <td>179</td>\n",
              "      <td>157</td>\n",
              "      <td>18</td>\n",
              "      <td>...</td>\n",
              "      <td>18</td>\n",
              "      <td>45</td>\n",
              "      <td>47</td>\n",
              "      <td>15</td>\n",
              "      <td>2</td>\n",
              "      <td>21</td>\n",
              "      <td>0.275</td>\n",
              "      <td>0.341</td>\n",
              "      <td>0.316</td>\n",
              "      <td>0.657</td>\n",
              "    </tr>\n",
              "    <tr>\n",
              "      <td>4</td>\n",
              "      <td>4</td>\n",
              "      <td>Rickie Weeks</td>\n",
              "      <td>MIL</td>\n",
              "      <td>DH</td>\n",
              "      <td>160</td>\n",
              "      <td>651</td>\n",
              "      <td>112</td>\n",
              "      <td>175</td>\n",
              "      <td>110</td>\n",
              "      <td>32</td>\n",
              "      <td>...</td>\n",
              "      <td>4</td>\n",
              "      <td>76</td>\n",
              "      <td>184</td>\n",
              "      <td>0</td>\n",
              "      <td>2</td>\n",
              "      <td>25</td>\n",
              "      <td>0.269</td>\n",
              "      <td>0.366</td>\n",
              "      <td>0.464</td>\n",
              "      <td>0.830</td>\n",
              "    </tr>\n",
              "  </tbody>\n",
              "</table>\n",
              "<p>5 rows × 24 columns</p>\n",
              "</div>"
            ],
            "text/plain": [
              "   Unnamed: 0         Player Team Pos    G   AB    R   TH    H  2B  ...  CS  \\\n",
              "0           0  Ichiro Suzuki  SEA  OF  162  680   74  214  175  30  ...   9   \n",
              "1           1    Derek Jeter  NYY  SS  157  663  111  179  136  30  ...   5   \n",
              "2           2  Michael Young  TEX  3B  157  656   99  186  126  36  ...   2   \n",
              "3           3    Juan Pierre  CWS  OF  160  651   96  179  157  18  ...  18   \n",
              "4           4   Rickie Weeks  MIL  DH  160  651  112  175  110  32  ...   4   \n",
              "\n",
              "   BB   SO  SH  SF  HBP    AVG    OBP    SLG    OPS  \n",
              "0  45   86   3   1    3  0.315  0.359  0.394  0.753  \n",
              "1  63  106   1   3    9  0.270  0.340  0.370  0.710  \n",
              "2  50  115   0  11    1  0.284  0.330  0.444  0.774  \n",
              "3  45   47  15   2   21  0.275  0.341  0.316  0.657  \n",
              "4  76  184   0   2   25  0.269  0.366  0.464  0.830  \n",
              "\n",
              "[5 rows x 24 columns]"
            ]
          },
          "metadata": {
            "tags": []
          },
          "execution_count": 2
        }
      ]
    },
    {
      "cell_type": "code",
      "metadata": {
        "id": "Le3FhbCjNovE",
        "colab_type": "code",
        "colab": {}
      },
      "source": [
        "bat_11 = pd.read_csv('../Data/MLB_data_edit/2011_bat.csv')"
      ],
      "execution_count": 0,
      "outputs": []
    },
    {
      "cell_type": "code",
      "metadata": {
        "id": "ZMAR20_8NovH",
        "colab_type": "code",
        "colab": {}
      },
      "source": [
        "bat_12 = pd.read_csv('../Data/MLB_data_edit/2012_bat.csv')"
      ],
      "execution_count": 0,
      "outputs": []
    },
    {
      "cell_type": "code",
      "metadata": {
        "id": "LLuTd-t2NovJ",
        "colab_type": "code",
        "colab": {}
      },
      "source": [
        "bat_13 = pd.read_csv('../Data/MLB_data_edit/2013_bat.csv')"
      ],
      "execution_count": 0,
      "outputs": []
    },
    {
      "cell_type": "code",
      "metadata": {
        "id": "FoaYG-I1NovL",
        "colab_type": "code",
        "colab": {}
      },
      "source": [
        "bat_14 = pd.read_csv('../Data/MLB_data_edit/2014_bat.csv')"
      ],
      "execution_count": 0,
      "outputs": []
    },
    {
      "cell_type": "code",
      "metadata": {
        "id": "FtDgY-aANovN",
        "colab_type": "code",
        "colab": {}
      },
      "source": [
        "bat_15 = pd.read_csv('../Data/MLB_data_edit/2015_bat.csv')"
      ],
      "execution_count": 0,
      "outputs": []
    },
    {
      "cell_type": "code",
      "metadata": {
        "id": "1-e28UttNovP",
        "colab_type": "code",
        "colab": {}
      },
      "source": [
        "bat_16 = pd.read_csv('../Data/MLB_data_edit/2016_bat.csv')"
      ],
      "execution_count": 0,
      "outputs": []
    },
    {
      "cell_type": "code",
      "metadata": {
        "id": "abesdBvxNovR",
        "colab_type": "code",
        "colab": {}
      },
      "source": [
        "bat_17 = pd.read_csv('../Data/MLB_data_edit/2017_bat.csv')"
      ],
      "execution_count": 0,
      "outputs": []
    },
    {
      "cell_type": "code",
      "metadata": {
        "id": "gS4ie9EpNovT",
        "colab_type": "code",
        "colab": {}
      },
      "source": [
        "bat_18 = pd.read_csv('../Data/MLB_data_edit/2018_bat.csv')"
      ],
      "execution_count": 0,
      "outputs": []
    },
    {
      "cell_type": "code",
      "metadata": {
        "id": "VoE4xbJcNovV",
        "colab_type": "code",
        "colab": {}
      },
      "source": [
        "bat_19 = pd.read_csv('../Data/MLB_data_edit/2019_bat.csv')"
      ],
      "execution_count": 0,
      "outputs": []
    },
    {
      "cell_type": "code",
      "metadata": {
        "id": "Xn6eAZQQNovY",
        "colab_type": "code",
        "colab": {}
      },
      "source": [
        "rank_10 = pd.read_csv('../Data/MLB_Season_Ranking/2010_ranking.csv')"
      ],
      "execution_count": 0,
      "outputs": []
    },
    {
      "cell_type": "code",
      "metadata": {
        "id": "eflocTxNNova",
        "colab_type": "code",
        "colab": {}
      },
      "source": [
        "rank_11 = pd.read_csv('../Data/MLB_Season_Ranking/2011_ranking.csv')"
      ],
      "execution_count": 0,
      "outputs": []
    },
    {
      "cell_type": "code",
      "metadata": {
        "id": "aTzxmU7ENovd",
        "colab_type": "code",
        "colab": {}
      },
      "source": [
        "rank_12 = pd.read_csv('../Data/MLB_Season_Ranking/2012_ranking.csv')"
      ],
      "execution_count": 0,
      "outputs": []
    },
    {
      "cell_type": "code",
      "metadata": {
        "id": "4ImnSld8Nove",
        "colab_type": "code",
        "colab": {}
      },
      "source": [
        "rank_13 = pd.read_csv('../Data/MLB_Season_Ranking/2013_ranking.csv')"
      ],
      "execution_count": 0,
      "outputs": []
    },
    {
      "cell_type": "code",
      "metadata": {
        "id": "6csi-J9VNovg",
        "colab_type": "code",
        "colab": {}
      },
      "source": [
        "rank_14 = pd.read_csv('../Data/MLB_Season_Ranking/2014_ranking.csv')"
      ],
      "execution_count": 0,
      "outputs": []
    },
    {
      "cell_type": "code",
      "metadata": {
        "id": "CjvrDgBjNovi",
        "colab_type": "code",
        "colab": {}
      },
      "source": [
        "rank_15 = pd.read_csv('../Data/MLB_Season_Ranking/2015_ranking.csv')"
      ],
      "execution_count": 0,
      "outputs": []
    },
    {
      "cell_type": "code",
      "metadata": {
        "id": "id9BUvAUNovk",
        "colab_type": "code",
        "colab": {}
      },
      "source": [
        "rank_16 = pd.read_csv('../Data/MLB_Season_Ranking/2016_ranking.csv', encoding = 'euc-kr')"
      ],
      "execution_count": 0,
      "outputs": []
    },
    {
      "cell_type": "code",
      "metadata": {
        "id": "GYKoGREsNovm",
        "colab_type": "code",
        "colab": {}
      },
      "source": [
        "rank_17 = pd.read_csv('../Data/MLB_Season_Ranking/2017_ranking.csv', encoding = 'euc-kr')"
      ],
      "execution_count": 0,
      "outputs": []
    },
    {
      "cell_type": "code",
      "metadata": {
        "id": "8Zm0EzWWNovo",
        "colab_type": "code",
        "colab": {}
      },
      "source": [
        "rank_18 = pd.read_csv('../Data/MLB_Season_Ranking/2018_ranking.csv', encoding = 'euc-kr')"
      ],
      "execution_count": 0,
      "outputs": []
    },
    {
      "cell_type": "code",
      "metadata": {
        "id": "QWQ0zt2aNovp",
        "colab_type": "code",
        "colab": {}
      },
      "source": [
        "rank_19 = pd.read_csv('../Data/MLB_Season_Ranking/2019_ranking.csv', encoding = 'euc-kr')"
      ],
      "execution_count": 0,
      "outputs": []
    },
    {
      "cell_type": "code",
      "metadata": {
        "id": "vUo5I7Y0Novr",
        "colab_type": "code",
        "colab": {}
      },
      "source": [
        "bat_10['Year'] = 2010"
      ],
      "execution_count": 0,
      "outputs": []
    },
    {
      "cell_type": "code",
      "metadata": {
        "id": "KAu3l8lTNovs",
        "colab_type": "code",
        "colab": {}
      },
      "source": [
        "bat_11['Year'] = 2011"
      ],
      "execution_count": 0,
      "outputs": []
    },
    {
      "cell_type": "code",
      "metadata": {
        "id": "Iv9i7-HjNovu",
        "colab_type": "code",
        "colab": {}
      },
      "source": [
        "bat_12['Year'] = 2012"
      ],
      "execution_count": 0,
      "outputs": []
    },
    {
      "cell_type": "code",
      "metadata": {
        "id": "WYj8uGUtNovx",
        "colab_type": "code",
        "colab": {}
      },
      "source": [
        "bat_13['Year'] = 2013"
      ],
      "execution_count": 0,
      "outputs": []
    },
    {
      "cell_type": "code",
      "metadata": {
        "id": "Ge6qrg2lNovz",
        "colab_type": "code",
        "colab": {}
      },
      "source": [
        "bat_14['Year'] = 2014"
      ],
      "execution_count": 0,
      "outputs": []
    },
    {
      "cell_type": "code",
      "metadata": {
        "id": "cLzk7wctNov1",
        "colab_type": "code",
        "colab": {}
      },
      "source": [
        "bat_15['Year'] = 2015"
      ],
      "execution_count": 0,
      "outputs": []
    },
    {
      "cell_type": "code",
      "metadata": {
        "id": "3CdOlG06Nov2",
        "colab_type": "code",
        "colab": {}
      },
      "source": [
        "bat_16['Year'] = 2016"
      ],
      "execution_count": 0,
      "outputs": []
    },
    {
      "cell_type": "code",
      "metadata": {
        "id": "_AigLLEgNov4",
        "colab_type": "code",
        "colab": {}
      },
      "source": [
        "bat_17['Year'] = 2017"
      ],
      "execution_count": 0,
      "outputs": []
    },
    {
      "cell_type": "code",
      "metadata": {
        "id": "fyr7o6yfNov6",
        "colab_type": "code",
        "colab": {}
      },
      "source": [
        "bat_18['Year'] = 2018"
      ],
      "execution_count": 0,
      "outputs": []
    },
    {
      "cell_type": "code",
      "metadata": {
        "id": "WyLWNMzuNov8",
        "colab_type": "code",
        "colab": {}
      },
      "source": [
        "bat_19['Year'] = 2019"
      ],
      "execution_count": 0,
      "outputs": []
    },
    {
      "cell_type": "code",
      "metadata": {
        "id": "hPQyE-EfNov9",
        "colab_type": "code",
        "colab": {}
      },
      "source": [
        "rank_10['Year'] = 2010"
      ],
      "execution_count": 0,
      "outputs": []
    },
    {
      "cell_type": "code",
      "metadata": {
        "id": "GMGlgR4YNov_",
        "colab_type": "code",
        "colab": {}
      },
      "source": [
        "rank_11['Year'] = 2011"
      ],
      "execution_count": 0,
      "outputs": []
    },
    {
      "cell_type": "code",
      "metadata": {
        "id": "Xodlu5SFNowB",
        "colab_type": "code",
        "colab": {}
      },
      "source": [
        "rank_12['Year'] = 2012"
      ],
      "execution_count": 0,
      "outputs": []
    },
    {
      "cell_type": "code",
      "metadata": {
        "id": "N1Yg9gLwNowC",
        "colab_type": "code",
        "colab": {}
      },
      "source": [
        "rank_13['Year'] = 2013"
      ],
      "execution_count": 0,
      "outputs": []
    },
    {
      "cell_type": "code",
      "metadata": {
        "id": "dTOExl85NowE",
        "colab_type": "code",
        "colab": {}
      },
      "source": [
        "rank_14['Year'] = 2014"
      ],
      "execution_count": 0,
      "outputs": []
    },
    {
      "cell_type": "code",
      "metadata": {
        "id": "_wrl22P1NowG",
        "colab_type": "code",
        "colab": {}
      },
      "source": [
        "rank_15['Year'] = 2015"
      ],
      "execution_count": 0,
      "outputs": []
    },
    {
      "cell_type": "code",
      "metadata": {
        "id": "PAfxlCldNowI",
        "colab_type": "code",
        "colab": {}
      },
      "source": [
        "rank_16['Year'] = 2016"
      ],
      "execution_count": 0,
      "outputs": []
    },
    {
      "cell_type": "code",
      "metadata": {
        "id": "uc835hVyNowK",
        "colab_type": "code",
        "colab": {}
      },
      "source": [
        "rank_17['Year'] = 2017"
      ],
      "execution_count": 0,
      "outputs": []
    },
    {
      "cell_type": "code",
      "metadata": {
        "id": "cdl0KlUCNowL",
        "colab_type": "code",
        "colab": {}
      },
      "source": [
        "rank_18['Year'] = 2018"
      ],
      "execution_count": 0,
      "outputs": []
    },
    {
      "cell_type": "code",
      "metadata": {
        "id": "MnJ96rLXNowN",
        "colab_type": "code",
        "colab": {}
      },
      "source": [
        "rank_19['Year'] = 2019"
      ],
      "execution_count": 0,
      "outputs": []
    },
    {
      "cell_type": "code",
      "metadata": {
        "id": "ts1WmP-5NowO",
        "colab_type": "code",
        "colab": {}
      },
      "source": [
        "bat_total = pd.concat([bat_10,bat_11,bat_12,bat_13,bat_14,bat_15,bat_16,bat_17,bat_18,bat_19])"
      ],
      "execution_count": 0,
      "outputs": []
    },
    {
      "cell_type": "code",
      "metadata": {
        "id": "Yp7qlCg8NowQ",
        "colab_type": "code",
        "colab": {}
      },
      "source": [
        "rank_total = pd.concat([rank_10,rank_11,rank_12,rank_13,rank_14,rank_15,rank_16,rank_17,rank_18,rank_19])"
      ],
      "execution_count": 0,
      "outputs": []
    },
    {
      "cell_type": "code",
      "metadata": {
        "id": "pqE0SzJ2NowS",
        "colab_type": "code",
        "colab": {}
      },
      "source": [
        "del bat_total['Unnamed: 0']"
      ],
      "execution_count": 0,
      "outputs": []
    },
    {
      "cell_type": "code",
      "metadata": {
        "id": "aNCw27ElNowU",
        "colab_type": "code",
        "outputId": "21fe8608-6649-4cc3-b682-d4b72cbf9f07",
        "colab": {}
      },
      "source": [
        "bat_total"
      ],
      "execution_count": 0,
      "outputs": [
        {
          "output_type": "execute_result",
          "data": {
            "text/html": [
              "<div>\n",
              "<style scoped>\n",
              "    .dataframe tbody tr th:only-of-type {\n",
              "        vertical-align: middle;\n",
              "    }\n",
              "\n",
              "    .dataframe tbody tr th {\n",
              "        vertical-align: top;\n",
              "    }\n",
              "\n",
              "    .dataframe thead th {\n",
              "        text-align: right;\n",
              "    }\n",
              "</style>\n",
              "<table border=\"1\" class=\"dataframe\">\n",
              "  <thead>\n",
              "    <tr style=\"text-align: right;\">\n",
              "      <th></th>\n",
              "      <th>Player</th>\n",
              "      <th>Team</th>\n",
              "      <th>Pos</th>\n",
              "      <th>G</th>\n",
              "      <th>AB</th>\n",
              "      <th>R</th>\n",
              "      <th>TH</th>\n",
              "      <th>H</th>\n",
              "      <th>2B</th>\n",
              "      <th>3B</th>\n",
              "      <th>...</th>\n",
              "      <th>BB</th>\n",
              "      <th>SO</th>\n",
              "      <th>SH</th>\n",
              "      <th>SF</th>\n",
              "      <th>HBP</th>\n",
              "      <th>AVG</th>\n",
              "      <th>OBP</th>\n",
              "      <th>SLG</th>\n",
              "      <th>OPS</th>\n",
              "      <th>Year</th>\n",
              "    </tr>\n",
              "  </thead>\n",
              "  <tbody>\n",
              "    <tr>\n",
              "      <td>0</td>\n",
              "      <td>Ichiro Suzuki</td>\n",
              "      <td>SEA</td>\n",
              "      <td>OF</td>\n",
              "      <td>162</td>\n",
              "      <td>680</td>\n",
              "      <td>74</td>\n",
              "      <td>214</td>\n",
              "      <td>175</td>\n",
              "      <td>30</td>\n",
              "      <td>3</td>\n",
              "      <td>...</td>\n",
              "      <td>45</td>\n",
              "      <td>86</td>\n",
              "      <td>3</td>\n",
              "      <td>1</td>\n",
              "      <td>3</td>\n",
              "      <td>0.315</td>\n",
              "      <td>0.359</td>\n",
              "      <td>0.394</td>\n",
              "      <td>0.753</td>\n",
              "      <td>2010</td>\n",
              "    </tr>\n",
              "    <tr>\n",
              "      <td>1</td>\n",
              "      <td>Derek Jeter</td>\n",
              "      <td>NYY</td>\n",
              "      <td>SS</td>\n",
              "      <td>157</td>\n",
              "      <td>663</td>\n",
              "      <td>111</td>\n",
              "      <td>179</td>\n",
              "      <td>136</td>\n",
              "      <td>30</td>\n",
              "      <td>3</td>\n",
              "      <td>...</td>\n",
              "      <td>63</td>\n",
              "      <td>106</td>\n",
              "      <td>1</td>\n",
              "      <td>3</td>\n",
              "      <td>9</td>\n",
              "      <td>0.270</td>\n",
              "      <td>0.340</td>\n",
              "      <td>0.370</td>\n",
              "      <td>0.710</td>\n",
              "      <td>2010</td>\n",
              "    </tr>\n",
              "    <tr>\n",
              "      <td>2</td>\n",
              "      <td>Michael Young</td>\n",
              "      <td>TEX</td>\n",
              "      <td>3B</td>\n",
              "      <td>157</td>\n",
              "      <td>656</td>\n",
              "      <td>99</td>\n",
              "      <td>186</td>\n",
              "      <td>126</td>\n",
              "      <td>36</td>\n",
              "      <td>3</td>\n",
              "      <td>...</td>\n",
              "      <td>50</td>\n",
              "      <td>115</td>\n",
              "      <td>0</td>\n",
              "      <td>11</td>\n",
              "      <td>1</td>\n",
              "      <td>0.284</td>\n",
              "      <td>0.330</td>\n",
              "      <td>0.444</td>\n",
              "      <td>0.774</td>\n",
              "      <td>2010</td>\n",
              "    </tr>\n",
              "    <tr>\n",
              "      <td>3</td>\n",
              "      <td>Juan Pierre</td>\n",
              "      <td>CWS</td>\n",
              "      <td>OF</td>\n",
              "      <td>160</td>\n",
              "      <td>651</td>\n",
              "      <td>96</td>\n",
              "      <td>179</td>\n",
              "      <td>157</td>\n",
              "      <td>18</td>\n",
              "      <td>3</td>\n",
              "      <td>...</td>\n",
              "      <td>45</td>\n",
              "      <td>47</td>\n",
              "      <td>15</td>\n",
              "      <td>2</td>\n",
              "      <td>21</td>\n",
              "      <td>0.275</td>\n",
              "      <td>0.341</td>\n",
              "      <td>0.316</td>\n",
              "      <td>0.657</td>\n",
              "      <td>2010</td>\n",
              "    </tr>\n",
              "    <tr>\n",
              "      <td>4</td>\n",
              "      <td>Rickie Weeks</td>\n",
              "      <td>MIL</td>\n",
              "      <td>DH</td>\n",
              "      <td>160</td>\n",
              "      <td>651</td>\n",
              "      <td>112</td>\n",
              "      <td>175</td>\n",
              "      <td>110</td>\n",
              "      <td>32</td>\n",
              "      <td>4</td>\n",
              "      <td>...</td>\n",
              "      <td>76</td>\n",
              "      <td>184</td>\n",
              "      <td>0</td>\n",
              "      <td>2</td>\n",
              "      <td>25</td>\n",
              "      <td>0.269</td>\n",
              "      <td>0.366</td>\n",
              "      <td>0.464</td>\n",
              "      <td>0.830</td>\n",
              "      <td>2010</td>\n",
              "    </tr>\n",
              "    <tr>\n",
              "      <td>...</td>\n",
              "      <td>...</td>\n",
              "      <td>...</td>\n",
              "      <td>...</td>\n",
              "      <td>...</td>\n",
              "      <td>...</td>\n",
              "      <td>...</td>\n",
              "      <td>...</td>\n",
              "      <td>...</td>\n",
              "      <td>...</td>\n",
              "      <td>...</td>\n",
              "      <td>...</td>\n",
              "      <td>...</td>\n",
              "      <td>...</td>\n",
              "      <td>...</td>\n",
              "      <td>...</td>\n",
              "      <td>...</td>\n",
              "      <td>...</td>\n",
              "      <td>...</td>\n",
              "      <td>...</td>\n",
              "      <td>...</td>\n",
              "      <td>...</td>\n",
              "    </tr>\n",
              "    <tr>\n",
              "      <td>688</td>\n",
              "      <td>Jose Rondon</td>\n",
              "      <td>BAL</td>\n",
              "      <td>2B</td>\n",
              "      <td>1</td>\n",
              "      <td>1</td>\n",
              "      <td>0</td>\n",
              "      <td>0</td>\n",
              "      <td>0</td>\n",
              "      <td>0</td>\n",
              "      <td>0</td>\n",
              "      <td>...</td>\n",
              "      <td>0</td>\n",
              "      <td>0</td>\n",
              "      <td>0</td>\n",
              "      <td>0</td>\n",
              "      <td>0</td>\n",
              "      <td>0.000</td>\n",
              "      <td>0.000</td>\n",
              "      <td>0.000</td>\n",
              "      <td>0.000</td>\n",
              "      <td>2019</td>\n",
              "    </tr>\n",
              "    <tr>\n",
              "      <td>689</td>\n",
              "      <td>Travis d'Arnaud</td>\n",
              "      <td>LAD</td>\n",
              "      <td>C</td>\n",
              "      <td>1</td>\n",
              "      <td>1</td>\n",
              "      <td>0</td>\n",
              "      <td>0</td>\n",
              "      <td>0</td>\n",
              "      <td>0</td>\n",
              "      <td>0</td>\n",
              "      <td>...</td>\n",
              "      <td>0</td>\n",
              "      <td>0</td>\n",
              "      <td>0</td>\n",
              "      <td>0</td>\n",
              "      <td>0</td>\n",
              "      <td>0.000</td>\n",
              "      <td>0.000</td>\n",
              "      <td>0.000</td>\n",
              "      <td>0.000</td>\n",
              "      <td>2019</td>\n",
              "    </tr>\n",
              "    <tr>\n",
              "      <td>690</td>\n",
              "      <td>Aaron Altherr</td>\n",
              "      <td>SF</td>\n",
              "      <td>OF</td>\n",
              "      <td>1</td>\n",
              "      <td>1</td>\n",
              "      <td>0</td>\n",
              "      <td>0</td>\n",
              "      <td>0</td>\n",
              "      <td>0</td>\n",
              "      <td>0</td>\n",
              "      <td>...</td>\n",
              "      <td>0</td>\n",
              "      <td>1</td>\n",
              "      <td>0</td>\n",
              "      <td>0</td>\n",
              "      <td>0</td>\n",
              "      <td>0.000</td>\n",
              "      <td>0.000</td>\n",
              "      <td>0.000</td>\n",
              "      <td>0.000</td>\n",
              "      <td>2019</td>\n",
              "    </tr>\n",
              "    <tr>\n",
              "      <td>691</td>\n",
              "      <td>Rob Brantly</td>\n",
              "      <td>PHI</td>\n",
              "      <td>C</td>\n",
              "      <td>1</td>\n",
              "      <td>1</td>\n",
              "      <td>0</td>\n",
              "      <td>0</td>\n",
              "      <td>0</td>\n",
              "      <td>0</td>\n",
              "      <td>0</td>\n",
              "      <td>...</td>\n",
              "      <td>0</td>\n",
              "      <td>1</td>\n",
              "      <td>0</td>\n",
              "      <td>0</td>\n",
              "      <td>0</td>\n",
              "      <td>0.000</td>\n",
              "      <td>0.000</td>\n",
              "      <td>0.000</td>\n",
              "      <td>0.000</td>\n",
              "      <td>2019</td>\n",
              "    </tr>\n",
              "    <tr>\n",
              "      <td>692</td>\n",
              "      <td>John Ryan Murphy</td>\n",
              "      <td>ATL</td>\n",
              "      <td>C</td>\n",
              "      <td>1</td>\n",
              "      <td>1</td>\n",
              "      <td>0</td>\n",
              "      <td>0</td>\n",
              "      <td>0</td>\n",
              "      <td>0</td>\n",
              "      <td>0</td>\n",
              "      <td>...</td>\n",
              "      <td>0</td>\n",
              "      <td>0</td>\n",
              "      <td>0</td>\n",
              "      <td>0</td>\n",
              "      <td>0</td>\n",
              "      <td>0.000</td>\n",
              "      <td>0.000</td>\n",
              "      <td>0.000</td>\n",
              "      <td>0.000</td>\n",
              "      <td>2019</td>\n",
              "    </tr>\n",
              "  </tbody>\n",
              "</table>\n",
              "<p>6848 rows × 24 columns</p>\n",
              "</div>"
            ],
            "text/plain": [
              "               Player Team Pos    G   AB    R   TH    H  2B  3B  ...  BB   SO  \\\n",
              "0       Ichiro Suzuki  SEA  OF  162  680   74  214  175  30   3  ...  45   86   \n",
              "1         Derek Jeter  NYY  SS  157  663  111  179  136  30   3  ...  63  106   \n",
              "2       Michael Young  TEX  3B  157  656   99  186  126  36   3  ...  50  115   \n",
              "3         Juan Pierre  CWS  OF  160  651   96  179  157  18   3  ...  45   47   \n",
              "4        Rickie Weeks  MIL  DH  160  651  112  175  110  32   4  ...  76  184   \n",
              "..                ...  ...  ..  ...  ...  ...  ...  ...  ..  ..  ...  ..  ...   \n",
              "688       Jose Rondon  BAL  2B    1    1    0    0    0   0   0  ...   0    0   \n",
              "689   Travis d'Arnaud  LAD   C    1    1    0    0    0   0   0  ...   0    0   \n",
              "690     Aaron Altherr   SF  OF    1    1    0    0    0   0   0  ...   0    1   \n",
              "691       Rob Brantly  PHI   C    1    1    0    0    0   0   0  ...   0    1   \n",
              "692  John Ryan Murphy  ATL   C    1    1    0    0    0   0   0  ...   0    0   \n",
              "\n",
              "     SH  SF  HBP    AVG    OBP    SLG    OPS  Year  \n",
              "0     3   1    3  0.315  0.359  0.394  0.753  2010  \n",
              "1     1   3    9  0.270  0.340  0.370  0.710  2010  \n",
              "2     0  11    1  0.284  0.330  0.444  0.774  2010  \n",
              "3    15   2   21  0.275  0.341  0.316  0.657  2010  \n",
              "4     0   2   25  0.269  0.366  0.464  0.830  2010  \n",
              "..   ..  ..  ...    ...    ...    ...    ...   ...  \n",
              "688   0   0    0  0.000  0.000  0.000  0.000  2019  \n",
              "689   0   0    0  0.000  0.000  0.000  0.000  2019  \n",
              "690   0   0    0  0.000  0.000  0.000  0.000  2019  \n",
              "691   0   0    0  0.000  0.000  0.000  0.000  2019  \n",
              "692   0   0    0  0.000  0.000  0.000  0.000  2019  \n",
              "\n",
              "[6848 rows x 24 columns]"
            ]
          },
          "metadata": {
            "tags": []
          },
          "execution_count": 45
        }
      ]
    },
    {
      "cell_type": "code",
      "metadata": {
        "id": "hzVqEq3WNowX",
        "colab_type": "code",
        "outputId": "56797577-e92a-43ea-b307-68d76b481f9d",
        "colab": {}
      },
      "source": [
        "rank_total.sample(5)"
      ],
      "execution_count": 0,
      "outputs": [
        {
          "output_type": "execute_result",
          "data": {
            "text/html": [
              "<div>\n",
              "<style scoped>\n",
              "    .dataframe tbody tr th:only-of-type {\n",
              "        vertical-align: middle;\n",
              "    }\n",
              "\n",
              "    .dataframe tbody tr th {\n",
              "        vertical-align: top;\n",
              "    }\n",
              "\n",
              "    .dataframe thead th {\n",
              "        text-align: right;\n",
              "    }\n",
              "</style>\n",
              "<table border=\"1\" class=\"dataframe\">\n",
              "  <thead>\n",
              "    <tr style=\"text-align: right;\">\n",
              "      <th></th>\n",
              "      <th>Team</th>\n",
              "      <th>W</th>\n",
              "      <th>L</th>\n",
              "      <th>PCT</th>\n",
              "      <th>GB</th>\n",
              "      <th>HOME</th>\n",
              "      <th>AWAY</th>\n",
              "      <th>RS</th>\n",
              "      <th>RA</th>\n",
              "      <th>DIFF</th>\n",
              "      <th>Year</th>\n",
              "    </tr>\n",
              "  </thead>\n",
              "  <tbody>\n",
              "    <tr>\n",
              "      <td>3</td>\n",
              "      <td>MIN</td>\n",
              "      <td>101</td>\n",
              "      <td>61</td>\n",
              "      <td>0.623</td>\n",
              "      <td>6</td>\n",
              "      <td>46-35</td>\n",
              "      <td>55-26</td>\n",
              "      <td>939</td>\n",
              "      <td>754</td>\n",
              "      <td>185</td>\n",
              "      <td>2019</td>\n",
              "    </tr>\n",
              "    <tr>\n",
              "      <td>19</td>\n",
              "      <td>PIT</td>\n",
              "      <td>75</td>\n",
              "      <td>87</td>\n",
              "      <td>0.463</td>\n",
              "      <td>29</td>\n",
              "      <td>44-37</td>\n",
              "      <td>31-50</td>\n",
              "      <td>668</td>\n",
              "      <td>731</td>\n",
              "      <td>-63</td>\n",
              "      <td>2017</td>\n",
              "    </tr>\n",
              "    <tr>\n",
              "      <td>19</td>\n",
              "      <td>CHW</td>\n",
              "      <td>76</td>\n",
              "      <td>86</td>\n",
              "      <td>0.469</td>\n",
              "      <td>24</td>\n",
              "      <td>40-41</td>\n",
              "      <td>36-45</td>\n",
              "      <td>622</td>\n",
              "      <td>701</td>\n",
              "      <td>-79</td>\n",
              "      <td>2015</td>\n",
              "    </tr>\n",
              "    <tr>\n",
              "      <td>11</td>\n",
              "      <td>SF</td>\n",
              "      <td>86</td>\n",
              "      <td>76</td>\n",
              "      <td>0.531</td>\n",
              "      <td>16</td>\n",
              "      <td>46-35</td>\n",
              "      <td>40-41</td>\n",
              "      <td>570</td>\n",
              "      <td>578</td>\n",
              "      <td>-8</td>\n",
              "      <td>2011</td>\n",
              "    </tr>\n",
              "    <tr>\n",
              "      <td>25</td>\n",
              "      <td>DET</td>\n",
              "      <td>64</td>\n",
              "      <td>98</td>\n",
              "      <td>0.395</td>\n",
              "      <td>44</td>\n",
              "      <td>38-43</td>\n",
              "      <td>26-55</td>\n",
              "      <td>630</td>\n",
              "      <td>796</td>\n",
              "      <td>-166</td>\n",
              "      <td>2018</td>\n",
              "    </tr>\n",
              "  </tbody>\n",
              "</table>\n",
              "</div>"
            ],
            "text/plain": [
              "   Team    W   L    PCT  GB   HOME   AWAY   RS   RA  DIFF  Year\n",
              "3   MIN  101  61  0.623   6  46-35  55-26  939  754   185  2019\n",
              "19  PIT   75  87  0.463  29  44-37  31-50  668  731   -63  2017\n",
              "19  CHW   76  86  0.469  24  40-41  36-45  622  701   -79  2015\n",
              "11   SF   86  76  0.531  16  46-35  40-41  570  578    -8  2011\n",
              "25  DET   64  98  0.395  44  38-43  26-55  630  796  -166  2018"
            ]
          },
          "metadata": {
            "tags": []
          },
          "execution_count": 46
        }
      ]
    },
    {
      "cell_type": "code",
      "metadata": {
        "id": "uweEeYrFNowY",
        "colab_type": "code",
        "outputId": "ae465a0c-fe29-4f9c-e115-73a7b31d4c8b",
        "colab": {}
      },
      "source": [
        "print(bat_total)"
      ],
      "execution_count": 0,
      "outputs": [
        {
          "output_type": "stream",
          "text": [
            "               Player Team Pos    G   AB    R   TH    H  2B  3B  ...  BB   SO  \\\n",
            "0       Ichiro Suzuki  SEA  OF  162  680   74  214  175  30   3  ...  45   86   \n",
            "1         Derek Jeter  NYY  SS  157  663  111  179  136  30   3  ...  63  106   \n",
            "2       Michael Young  TEX  3B  157  656   99  186  126  36   3  ...  50  115   \n",
            "3         Juan Pierre  CWS  OF  160  651   96  179  157  18   3  ...  45   47   \n",
            "4        Rickie Weeks  MIL  DH  160  651  112  175  110  32   4  ...  76  184   \n",
            "..                ...  ...  ..  ...  ...  ...  ...  ...  ..  ..  ...  ..  ...   \n",
            "688       Jose Rondon  BAL  2B    1    1    0    0    0   0   0  ...   0    0   \n",
            "689   Travis d'Arnaud  LAD   C    1    1    0    0    0   0   0  ...   0    0   \n",
            "690     Aaron Altherr   SF  OF    1    1    0    0    0   0   0  ...   0    1   \n",
            "691       Rob Brantly  PHI   C    1    1    0    0    0   0   0  ...   0    1   \n",
            "692  John Ryan Murphy  ATL   C    1    1    0    0    0   0   0  ...   0    0   \n",
            "\n",
            "     SH  SF  HBP    AVG    OBP    SLG    OPS  Year  \n",
            "0     3   1    3  0.315  0.359  0.394  0.753  2010  \n",
            "1     1   3    9  0.270  0.340  0.370  0.710  2010  \n",
            "2     0  11    1  0.284  0.330  0.444  0.774  2010  \n",
            "3    15   2   21  0.275  0.341  0.316  0.657  2010  \n",
            "4     0   2   25  0.269  0.366  0.464  0.830  2010  \n",
            "..   ..  ..  ...    ...    ...    ...    ...   ...  \n",
            "688   0   0    0  0.000  0.000  0.000  0.000  2019  \n",
            "689   0   0    0  0.000  0.000  0.000  0.000  2019  \n",
            "690   0   0    0  0.000  0.000  0.000  0.000  2019  \n",
            "691   0   0    0  0.000  0.000  0.000  0.000  2019  \n",
            "692   0   0    0  0.000  0.000  0.000  0.000  2019  \n",
            "\n",
            "[6848 rows x 24 columns]\n"
          ],
          "name": "stdout"
        }
      ]
    },
    {
      "cell_type": "code",
      "metadata": {
        "id": "iy0hJUleNowa",
        "colab_type": "code",
        "outputId": "23775ee8-d875-4f97-9657-bf51a2f93038",
        "colab": {}
      },
      "source": [
        "bat_total.isnull().sum()"
      ],
      "execution_count": 0,
      "outputs": [
        {
          "output_type": "execute_result",
          "data": {
            "text/plain": [
              "Player    0\n",
              "Team      0\n",
              "Pos       0\n",
              "G         0\n",
              "AB        0\n",
              "R         0\n",
              "TH        0\n",
              "H         0\n",
              "2B        0\n",
              "3B        0\n",
              "HR        0\n",
              "RBI       0\n",
              "SB        0\n",
              "CS        0\n",
              "BB        0\n",
              "SO        0\n",
              "SH        0\n",
              "SF        0\n",
              "HBP       0\n",
              "AVG       0\n",
              "OBP       0\n",
              "SLG       0\n",
              "OPS       0\n",
              "Year      0\n",
              "dtype: int64"
            ]
          },
          "metadata": {
            "tags": []
          },
          "execution_count": 48
        }
      ]
    },
    {
      "cell_type": "code",
      "metadata": {
        "id": "N4zYYeioNowb",
        "colab_type": "code",
        "colab": {}
      },
      "source": [
        "# 상관계수 구하기 위한 변수 만들기 for batter (독립변수)\n",
        "import numpy as np\n",
        "# 상관계수 :  0.1 이하 : 무시\n",
        "# ~0.3 이하 :  약한 상관관계\n",
        "# ~0.7 이하 :  뚜렷한 상관관계\n",
        "# np.corrcoef() : 상관계수 계산함수\n",
        "# 대각선을 기준으로 대칭인 행렬\n",
        "# 대각선을 제외하고 값을 확인하면 된다\n",
        "# 0.22536935 => 약한 상관관계\n",
        "bat_indexR=bat_total.groupby(by=['Year','Team']).R.mean() \n",
        "bat_indexTH=bat_total.groupby(by=['Year','Team']).TH.mean()\n",
        "bat_indexH=bat_total.groupby(by=['Year','Team']).H.mean()\n",
        "bat_index2B=bat_total.groupby(by=['Year','Team'])['2B'].mean()\n",
        "bat_index3B=bat_total.groupby(by=['Year','Team'])['3B'].mean()\n",
        "bat_indexHR=bat_total.groupby(by=['Year','Team']).HR.mean()\n",
        "bat_indexRBI=bat_total.groupby(by=['Year','Team']).RBI.mean()\n",
        "bat_indexSB=bat_total.groupby(by=['Year','Team']).SB.mean()\n",
        "bat_indexCS=bat_total.groupby(by=['Year','Team']).CS.mean()\n",
        "bat_indexBB=bat_total.groupby(by=['Year','Team']).BB.mean()\n",
        "bat_indexSO=bat_total.groupby(by=['Year','Team']).SO.mean()\n",
        "bat_indexSH=bat_total.groupby(by=['Year','Team']).SH.mean()\n",
        "bat_indexSF=bat_total.groupby(by=['Year','Team']).SF.mean()\n",
        "bat_indexHBP=bat_total.groupby(by=['Year','Team']).HBP.mean()\n",
        "bat_indexAVG=bat_total.groupby(by=['Year','Team']).AVG.mean()\n",
        "bat_indexOBP=bat_total.groupby(by=['Year','Team']).OBP.mean()\n",
        "bat_indexSLG=bat_total.groupby(by=['Year','Team']).SLG.mean()\n",
        "bat_indexOPS=bat_total.groupby(by=['Year','Team']).OPS.mean()\n"
      ],
      "execution_count": 0,
      "outputs": []
    },
    {
      "cell_type": "code",
      "metadata": {
        "id": "dfn8s1GFNowd",
        "colab_type": "code",
        "colab": {}
      },
      "source": [
        "# 상관계수 구하기 위한 변수 만들기 for 승률(종속변수)\n",
        "rank_total_k = rank_total.sort_values(by=['Year','Team']) "
      ],
      "execution_count": 0,
      "outputs": []
    },
    {
      "cell_type": "code",
      "metadata": {
        "id": "3WLOi0VgNowe",
        "colab_type": "code",
        "outputId": "77419e6c-a2f3-46a6-acbf-c39090b093d6",
        "colab": {}
      },
      "source": [
        "#상관계수 구하기 \n",
        "np.corrcoef(bat_indexR,rank_total_k['PCT'])"
      ],
      "execution_count": 0,
      "outputs": [
        {
          "output_type": "execute_result",
          "data": {
            "text/plain": [
              "array([[1.        , 0.46582901],\n",
              "       [0.46582901, 1.        ]])"
            ]
          },
          "metadata": {
            "tags": []
          },
          "execution_count": 51
        }
      ]
    },
    {
      "cell_type": "code",
      "metadata": {
        "id": "mbPn4lLyNowh",
        "colab_type": "code",
        "outputId": "eea63bd2-3d7d-4caf-fd15-13699391a37e",
        "colab": {}
      },
      "source": [
        "#상관계수 구하기 \n",
        "np.corrcoef(bat_indexTH,rank_total_k['PCT'])"
      ],
      "execution_count": 0,
      "outputs": [
        {
          "output_type": "execute_result",
          "data": {
            "text/plain": [
              "array([[1.       , 0.2883857],\n",
              "       [0.2883857, 1.       ]])"
            ]
          },
          "metadata": {
            "tags": []
          },
          "execution_count": 52
        }
      ]
    },
    {
      "cell_type": "code",
      "metadata": {
        "id": "fhqeaUrFNowk",
        "colab_type": "code",
        "outputId": "fc1c6b05-41c5-4b1b-b5b2-3796b8182e5e",
        "colab": {}
      },
      "source": [
        "#상관계수 구하기 \n",
        "np.corrcoef(bat_indexH,rank_total_k['PCT'])"
      ],
      "execution_count": 0,
      "outputs": [
        {
          "output_type": "execute_result",
          "data": {
            "text/plain": [
              "array([[1.        , 0.17704569],\n",
              "       [0.17704569, 1.        ]])"
            ]
          },
          "metadata": {
            "tags": []
          },
          "execution_count": 53
        }
      ]
    },
    {
      "cell_type": "code",
      "metadata": {
        "id": "eUU-mpw-Nowm",
        "colab_type": "code",
        "outputId": "a0b625cc-b5ec-4593-8126-9ae376de0a6e",
        "colab": {}
      },
      "source": [
        "#상관계수 구하기 \n",
        "np.corrcoef(bat_index2B,rank_total_k['PCT'])"
      ],
      "execution_count": 0,
      "outputs": [
        {
          "output_type": "execute_result",
          "data": {
            "text/plain": [
              "array([[1.        , 0.31835109],\n",
              "       [0.31835109, 1.        ]])"
            ]
          },
          "metadata": {
            "tags": []
          },
          "execution_count": 54
        }
      ]
    },
    {
      "cell_type": "code",
      "metadata": {
        "id": "vyEyLCZbNown",
        "colab_type": "code",
        "outputId": "30e268b6-404c-44d0-a969-a1c3633b9c3a",
        "colab": {}
      },
      "source": [
        "#상관계수 구하기 \n",
        "np.corrcoef(bat_index3B,rank_total_k['PCT'])"
      ],
      "execution_count": 0,
      "outputs": [
        {
          "output_type": "execute_result",
          "data": {
            "text/plain": [
              "array([[1.        , 0.02751998],\n",
              "       [0.02751998, 1.        ]])"
            ]
          },
          "metadata": {
            "tags": []
          },
          "execution_count": 55
        }
      ]
    },
    {
      "cell_type": "code",
      "metadata": {
        "id": "LQBDG-4zNowq",
        "colab_type": "code",
        "outputId": "b6bcd82d-7b13-4683-af16-c5983ef0b9df",
        "colab": {}
      },
      "source": [
        "#상관계수 구하기 \n",
        "np.corrcoef(bat_indexHR,rank_total_k['PCT'])"
      ],
      "execution_count": 0,
      "outputs": [
        {
          "output_type": "execute_result",
          "data": {
            "text/plain": [
              "array([[1.        , 0.36342579],\n",
              "       [0.36342579, 1.        ]])"
            ]
          },
          "metadata": {
            "tags": []
          },
          "execution_count": 56
        }
      ]
    },
    {
      "cell_type": "code",
      "metadata": {
        "id": "E0XpFYBmNowr",
        "colab_type": "code",
        "outputId": "699b444e-b275-4c9a-dea5-900b3ea4ef23",
        "colab": {}
      },
      "source": [
        "#상관계수 구하기 \n",
        "np.corrcoef(bat_indexRBI,rank_total_k['PCT'])"
      ],
      "execution_count": 0,
      "outputs": [
        {
          "output_type": "execute_result",
          "data": {
            "text/plain": [
              "array([[1.        , 0.46609286],\n",
              "       [0.46609286, 1.        ]])"
            ]
          },
          "metadata": {
            "tags": []
          },
          "execution_count": 57
        }
      ]
    },
    {
      "cell_type": "code",
      "metadata": {
        "id": "Z5VuybudNowt",
        "colab_type": "code",
        "outputId": "55c242ae-ea25-42b6-ed8d-4e57d856adae",
        "colab": {}
      },
      "source": [
        "#상관계수 구하기 \n",
        "np.corrcoef(bat_indexSB,rank_total_k['PCT'])"
      ],
      "execution_count": 0,
      "outputs": [
        {
          "output_type": "execute_result",
          "data": {
            "text/plain": [
              "array([[1.        , 0.01152051],\n",
              "       [0.01152051, 1.        ]])"
            ]
          },
          "metadata": {
            "tags": []
          },
          "execution_count": 58
        }
      ]
    },
    {
      "cell_type": "code",
      "metadata": {
        "id": "F3DLIDgWNowu",
        "colab_type": "code",
        "outputId": "5ab2f786-25ec-467c-ddc7-3ef6350146ce",
        "colab": {}
      },
      "source": [
        "#상관계수 구하기 \n",
        "np.corrcoef(bat_indexCS,rank_total_k['PCT'])"
      ],
      "execution_count": 0,
      "outputs": [
        {
          "output_type": "execute_result",
          "data": {
            "text/plain": [
              "array([[ 1.        , -0.06969977],\n",
              "       [-0.06969977,  1.        ]])"
            ]
          },
          "metadata": {
            "tags": []
          },
          "execution_count": 59
        }
      ]
    },
    {
      "cell_type": "code",
      "metadata": {
        "id": "g1APjIcwNoww",
        "colab_type": "code",
        "outputId": "57e783e2-9fbe-4c57-8c2a-6d402833f352",
        "colab": {}
      },
      "source": [
        "#상관계수 구하기 \n",
        "np.corrcoef(bat_indexBB,rank_total_k['PCT'])"
      ],
      "execution_count": 0,
      "outputs": [
        {
          "output_type": "execute_result",
          "data": {
            "text/plain": [
              "array([[1.        , 0.38522231],\n",
              "       [0.38522231, 1.        ]])"
            ]
          },
          "metadata": {
            "tags": []
          },
          "execution_count": 60
        }
      ]
    },
    {
      "cell_type": "code",
      "metadata": {
        "id": "H023gLReNowy",
        "colab_type": "code",
        "outputId": "4eeeee63-843d-4632-d3f0-597b96f13d80",
        "colab": {}
      },
      "source": [
        "#상관계수 구하기 \n",
        "np.corrcoef(bat_indexSO,rank_total_k['PCT'])"
      ],
      "execution_count": 0,
      "outputs": [
        {
          "output_type": "execute_result",
          "data": {
            "text/plain": [
              "array([[ 1.        , -0.01383354],\n",
              "       [-0.01383354,  1.        ]])"
            ]
          },
          "metadata": {
            "tags": []
          },
          "execution_count": 61
        }
      ]
    },
    {
      "cell_type": "code",
      "metadata": {
        "id": "XBdnkgD9Nowz",
        "colab_type": "code",
        "outputId": "9bec837b-8cff-4084-ffdb-84296fb5a9e9",
        "colab": {}
      },
      "source": [
        "#상관계수 구하기 \n",
        "np.corrcoef(bat_indexSH,rank_total_k['PCT'])"
      ],
      "execution_count": 0,
      "outputs": [
        {
          "output_type": "execute_result",
          "data": {
            "text/plain": [
              "array([[ 1.        , -0.05826497],\n",
              "       [-0.05826497,  1.        ]])"
            ]
          },
          "metadata": {
            "tags": []
          },
          "execution_count": 62
        }
      ]
    },
    {
      "cell_type": "code",
      "metadata": {
        "id": "p3ph4YFCNow1",
        "colab_type": "code",
        "outputId": "437b750b-2bb3-4855-988e-a1eaf87a2863",
        "colab": {}
      },
      "source": [
        "#상관계수 구하기 \n",
        "np.corrcoef(bat_indexSF,rank_total_k['PCT'])"
      ],
      "execution_count": 0,
      "outputs": [
        {
          "output_type": "execute_result",
          "data": {
            "text/plain": [
              "array([[1.       , 0.2872214],\n",
              "       [0.2872214, 1.       ]])"
            ]
          },
          "metadata": {
            "tags": []
          },
          "execution_count": 63
        }
      ]
    },
    {
      "cell_type": "code",
      "metadata": {
        "id": "XWd1nwUNNow2",
        "colab_type": "code",
        "outputId": "5d989161-0f5a-4e62-e4be-fc2ccecc321b",
        "colab": {}
      },
      "source": [
        "#상관계수 구하기 \n",
        "np.corrcoef(bat_indexHBP,rank_total_k['PCT'])"
      ],
      "execution_count": 0,
      "outputs": [
        {
          "output_type": "execute_result",
          "data": {
            "text/plain": [
              "array([[1.        , 0.22498279],\n",
              "       [0.22498279, 1.        ]])"
            ]
          },
          "metadata": {
            "tags": []
          },
          "execution_count": 64
        }
      ]
    },
    {
      "cell_type": "code",
      "metadata": {
        "id": "rBtnvKEBNow3",
        "colab_type": "code",
        "outputId": "3fbb1544-010b-43cb-fdbf-0388d92178f6",
        "colab": {}
      },
      "source": [
        "#상관계수 구하기 \n",
        "np.corrcoef(bat_indexAVG,rank_total_k['PCT'])"
      ],
      "execution_count": 0,
      "outputs": [
        {
          "output_type": "execute_result",
          "data": {
            "text/plain": [
              "array([[1.        , 0.19411922],\n",
              "       [0.19411922, 1.        ]])"
            ]
          },
          "metadata": {
            "tags": []
          },
          "execution_count": 65
        }
      ]
    },
    {
      "cell_type": "code",
      "metadata": {
        "id": "cIwf4CyyNow6",
        "colab_type": "code",
        "outputId": "a9c731cb-50c3-48d6-f9a5-342606925e87",
        "colab": {}
      },
      "source": [
        "#상관계수 구하기 \n",
        "np.corrcoef(bat_indexOBP,rank_total_k['PCT'])"
      ],
      "execution_count": 0,
      "outputs": [
        {
          "output_type": "execute_result",
          "data": {
            "text/plain": [
              "array([[1.        , 0.27472181],\n",
              "       [0.27472181, 1.        ]])"
            ]
          },
          "metadata": {
            "tags": []
          },
          "execution_count": 66
        }
      ]
    },
    {
      "cell_type": "code",
      "metadata": {
        "id": "GvVjaWWgNow7",
        "colab_type": "code",
        "outputId": "5e1b3f25-c748-4446-b2d1-09a954c05b4e",
        "colab": {}
      },
      "source": [
        "#상관계수 구하기 \n",
        "np.corrcoef(bat_indexSLG,rank_total_k['PCT'])"
      ],
      "execution_count": 0,
      "outputs": [
        {
          "output_type": "execute_result",
          "data": {
            "text/plain": [
              "array([[1.        , 0.30031062],\n",
              "       [0.30031062, 1.        ]])"
            ]
          },
          "metadata": {
            "tags": []
          },
          "execution_count": 67
        }
      ]
    },
    {
      "cell_type": "code",
      "metadata": {
        "id": "5z_ydUKfNow8",
        "colab_type": "code",
        "outputId": "930e5998-bff0-49eb-e91b-b4e93340835b",
        "colab": {}
      },
      "source": [
        "#상관계수 구하기 \n",
        "np.corrcoef(bat_indexOPS,rank_total_k['PCT'])"
      ],
      "execution_count": 0,
      "outputs": [
        {
          "output_type": "execute_result",
          "data": {
            "text/plain": [
              "array([[1.        , 0.31315581],\n",
              "       [0.31315581, 1.        ]])"
            ]
          },
          "metadata": {
            "tags": []
          },
          "execution_count": 68
        }
      ]
    },
    {
      "cell_type": "code",
      "metadata": {
        "id": "qzPoGZXhNow9",
        "colab_type": "code",
        "outputId": "61f68326-7979-4e52-a5db-ba6d376614a6",
        "colab": {}
      },
      "source": [
        "np.corrcoef(bat_indexR,rank_total_k['PCT'])\n",
        "np.corrcoef(bat_indexTH,rank_total_k['PCT'])\n",
        "np.corrcoef(bat_indexH,rank_total_k['PCT'])\n",
        "np.corrcoef(bat_index2B,rank_total_k['PCT'])\n",
        "np.corrcoef(bat_index3B,rank_total_k['PCT'])\n",
        "np.corrcoef(bat_indexHR,rank_total_k['PCT'])\n",
        "np.corrcoef(bat_indexRBI,rank_total_k['PCT'])\n",
        "np.corrcoef(bat_indexSB,rank_total_k['PCT'])\n",
        "np.corrcoef(bat_indexCS,rank_total_k['PCT'])\n",
        "np.corrcoef(bat_indexBB,rank_total_k['PCT'])\n",
        "np.corrcoef(bat_indexSO,rank_total_k['PCT'])\n",
        "np.corrcoef(bat_indexSH,rank_total_k['PCT'])\n",
        "np.corrcoef(bat_indexSF,rank_total_k['PCT'])\n",
        "np.corrcoef(bat_indexHBP,rank_total_k['PCT'])\n",
        "np.corrcoef(bat_indexAVG,rank_total_k['PCT'])\n",
        "np.corrcoef(bat_indexOBP,rank_total_k['PCT'])\n",
        "np.corrcoef(bat_indexSLG,rank_total_k['PCT'])\n",
        "np.corrcoef(bat_indexOPS,rank_total_k['PCT'])"
      ],
      "execution_count": 0,
      "outputs": [
        {
          "output_type": "execute_result",
          "data": {
            "text/plain": [
              "array([[1.        , 0.31315581],\n",
              "       [0.31315581, 1.        ]])"
            ]
          },
          "metadata": {
            "tags": []
          },
          "execution_count": 69
        }
      ]
    },
    {
      "cell_type": "code",
      "metadata": {
        "id": "PMAzvzgYNoxA",
        "colab_type": "code",
        "outputId": "41fec77f-9d06-4c49-c691-856507c2edf7",
        "colab": {}
      },
      "source": [
        "bat_total"
      ],
      "execution_count": 0,
      "outputs": [
        {
          "output_type": "execute_result",
          "data": {
            "text/html": [
              "<div>\n",
              "<style scoped>\n",
              "    .dataframe tbody tr th:only-of-type {\n",
              "        vertical-align: middle;\n",
              "    }\n",
              "\n",
              "    .dataframe tbody tr th {\n",
              "        vertical-align: top;\n",
              "    }\n",
              "\n",
              "    .dataframe thead th {\n",
              "        text-align: right;\n",
              "    }\n",
              "</style>\n",
              "<table border=\"1\" class=\"dataframe\">\n",
              "  <thead>\n",
              "    <tr style=\"text-align: right;\">\n",
              "      <th></th>\n",
              "      <th>Year</th>\n",
              "      <th>Player</th>\n",
              "      <th>Team</th>\n",
              "      <th>Pos</th>\n",
              "      <th>G</th>\n",
              "      <th>AB</th>\n",
              "      <th>R</th>\n",
              "      <th>TH</th>\n",
              "      <th>H</th>\n",
              "      <th>2B</th>\n",
              "      <th>...</th>\n",
              "      <th>CS</th>\n",
              "      <th>BB</th>\n",
              "      <th>SO</th>\n",
              "      <th>SH</th>\n",
              "      <th>SF</th>\n",
              "      <th>HBP</th>\n",
              "      <th>AVG</th>\n",
              "      <th>OBP</th>\n",
              "      <th>SLG</th>\n",
              "      <th>OPS</th>\n",
              "    </tr>\n",
              "  </thead>\n",
              "  <tbody>\n",
              "    <tr>\n",
              "      <td>0</td>\n",
              "      <td>2010</td>\n",
              "      <td>Ichiro Suzuki</td>\n",
              "      <td>SEA</td>\n",
              "      <td>OF</td>\n",
              "      <td>162</td>\n",
              "      <td>680</td>\n",
              "      <td>74</td>\n",
              "      <td>214</td>\n",
              "      <td>175</td>\n",
              "      <td>30</td>\n",
              "      <td>...</td>\n",
              "      <td>9</td>\n",
              "      <td>45</td>\n",
              "      <td>86</td>\n",
              "      <td>3</td>\n",
              "      <td>1</td>\n",
              "      <td>3</td>\n",
              "      <td>0.315</td>\n",
              "      <td>0.359</td>\n",
              "      <td>0.394</td>\n",
              "      <td>0.753</td>\n",
              "    </tr>\n",
              "    <tr>\n",
              "      <td>1</td>\n",
              "      <td>2010</td>\n",
              "      <td>Derek Jeter</td>\n",
              "      <td>NYY</td>\n",
              "      <td>SS</td>\n",
              "      <td>157</td>\n",
              "      <td>663</td>\n",
              "      <td>111</td>\n",
              "      <td>179</td>\n",
              "      <td>136</td>\n",
              "      <td>30</td>\n",
              "      <td>...</td>\n",
              "      <td>5</td>\n",
              "      <td>63</td>\n",
              "      <td>106</td>\n",
              "      <td>1</td>\n",
              "      <td>3</td>\n",
              "      <td>9</td>\n",
              "      <td>0.270</td>\n",
              "      <td>0.340</td>\n",
              "      <td>0.370</td>\n",
              "      <td>0.710</td>\n",
              "    </tr>\n",
              "    <tr>\n",
              "      <td>2</td>\n",
              "      <td>2010</td>\n",
              "      <td>Michael Young</td>\n",
              "      <td>TEX</td>\n",
              "      <td>3B</td>\n",
              "      <td>157</td>\n",
              "      <td>656</td>\n",
              "      <td>99</td>\n",
              "      <td>186</td>\n",
              "      <td>126</td>\n",
              "      <td>36</td>\n",
              "      <td>...</td>\n",
              "      <td>2</td>\n",
              "      <td>50</td>\n",
              "      <td>115</td>\n",
              "      <td>0</td>\n",
              "      <td>11</td>\n",
              "      <td>1</td>\n",
              "      <td>0.284</td>\n",
              "      <td>0.330</td>\n",
              "      <td>0.444</td>\n",
              "      <td>0.774</td>\n",
              "    </tr>\n",
              "    <tr>\n",
              "      <td>3</td>\n",
              "      <td>2010</td>\n",
              "      <td>Juan Pierre</td>\n",
              "      <td>CWS</td>\n",
              "      <td>OF</td>\n",
              "      <td>160</td>\n",
              "      <td>651</td>\n",
              "      <td>96</td>\n",
              "      <td>179</td>\n",
              "      <td>157</td>\n",
              "      <td>18</td>\n",
              "      <td>...</td>\n",
              "      <td>18</td>\n",
              "      <td>45</td>\n",
              "      <td>47</td>\n",
              "      <td>15</td>\n",
              "      <td>2</td>\n",
              "      <td>21</td>\n",
              "      <td>0.275</td>\n",
              "      <td>0.341</td>\n",
              "      <td>0.316</td>\n",
              "      <td>0.657</td>\n",
              "    </tr>\n",
              "    <tr>\n",
              "      <td>4</td>\n",
              "      <td>2010</td>\n",
              "      <td>Rickie Weeks</td>\n",
              "      <td>MIL</td>\n",
              "      <td>DH</td>\n",
              "      <td>160</td>\n",
              "      <td>651</td>\n",
              "      <td>112</td>\n",
              "      <td>175</td>\n",
              "      <td>110</td>\n",
              "      <td>32</td>\n",
              "      <td>...</td>\n",
              "      <td>4</td>\n",
              "      <td>76</td>\n",
              "      <td>184</td>\n",
              "      <td>0</td>\n",
              "      <td>2</td>\n",
              "      <td>25</td>\n",
              "      <td>0.269</td>\n",
              "      <td>0.366</td>\n",
              "      <td>0.464</td>\n",
              "      <td>0.830</td>\n",
              "    </tr>\n",
              "    <tr>\n",
              "      <td>...</td>\n",
              "      <td>...</td>\n",
              "      <td>...</td>\n",
              "      <td>...</td>\n",
              "      <td>...</td>\n",
              "      <td>...</td>\n",
              "      <td>...</td>\n",
              "      <td>...</td>\n",
              "      <td>...</td>\n",
              "      <td>...</td>\n",
              "      <td>...</td>\n",
              "      <td>...</td>\n",
              "      <td>...</td>\n",
              "      <td>...</td>\n",
              "      <td>...</td>\n",
              "      <td>...</td>\n",
              "      <td>...</td>\n",
              "      <td>...</td>\n",
              "      <td>...</td>\n",
              "      <td>...</td>\n",
              "      <td>...</td>\n",
              "      <td>...</td>\n",
              "    </tr>\n",
              "    <tr>\n",
              "      <td>688</td>\n",
              "      <td>2019</td>\n",
              "      <td>Jose Rondon</td>\n",
              "      <td>BAL</td>\n",
              "      <td>2B</td>\n",
              "      <td>1</td>\n",
              "      <td>1</td>\n",
              "      <td>0</td>\n",
              "      <td>0</td>\n",
              "      <td>0</td>\n",
              "      <td>0</td>\n",
              "      <td>...</td>\n",
              "      <td>0</td>\n",
              "      <td>0</td>\n",
              "      <td>0</td>\n",
              "      <td>0</td>\n",
              "      <td>0</td>\n",
              "      <td>0</td>\n",
              "      <td>0.000</td>\n",
              "      <td>0.000</td>\n",
              "      <td>0.000</td>\n",
              "      <td>0.000</td>\n",
              "    </tr>\n",
              "    <tr>\n",
              "      <td>689</td>\n",
              "      <td>2019</td>\n",
              "      <td>Travis d'Arnaud</td>\n",
              "      <td>LAD</td>\n",
              "      <td>C</td>\n",
              "      <td>1</td>\n",
              "      <td>1</td>\n",
              "      <td>0</td>\n",
              "      <td>0</td>\n",
              "      <td>0</td>\n",
              "      <td>0</td>\n",
              "      <td>...</td>\n",
              "      <td>0</td>\n",
              "      <td>0</td>\n",
              "      <td>0</td>\n",
              "      <td>0</td>\n",
              "      <td>0</td>\n",
              "      <td>0</td>\n",
              "      <td>0.000</td>\n",
              "      <td>0.000</td>\n",
              "      <td>0.000</td>\n",
              "      <td>0.000</td>\n",
              "    </tr>\n",
              "    <tr>\n",
              "      <td>690</td>\n",
              "      <td>2019</td>\n",
              "      <td>Aaron Altherr</td>\n",
              "      <td>SF</td>\n",
              "      <td>OF</td>\n",
              "      <td>1</td>\n",
              "      <td>1</td>\n",
              "      <td>0</td>\n",
              "      <td>0</td>\n",
              "      <td>0</td>\n",
              "      <td>0</td>\n",
              "      <td>...</td>\n",
              "      <td>0</td>\n",
              "      <td>0</td>\n",
              "      <td>1</td>\n",
              "      <td>0</td>\n",
              "      <td>0</td>\n",
              "      <td>0</td>\n",
              "      <td>0.000</td>\n",
              "      <td>0.000</td>\n",
              "      <td>0.000</td>\n",
              "      <td>0.000</td>\n",
              "    </tr>\n",
              "    <tr>\n",
              "      <td>691</td>\n",
              "      <td>2019</td>\n",
              "      <td>Rob Brantly</td>\n",
              "      <td>PHI</td>\n",
              "      <td>C</td>\n",
              "      <td>1</td>\n",
              "      <td>1</td>\n",
              "      <td>0</td>\n",
              "      <td>0</td>\n",
              "      <td>0</td>\n",
              "      <td>0</td>\n",
              "      <td>...</td>\n",
              "      <td>0</td>\n",
              "      <td>0</td>\n",
              "      <td>1</td>\n",
              "      <td>0</td>\n",
              "      <td>0</td>\n",
              "      <td>0</td>\n",
              "      <td>0.000</td>\n",
              "      <td>0.000</td>\n",
              "      <td>0.000</td>\n",
              "      <td>0.000</td>\n",
              "    </tr>\n",
              "    <tr>\n",
              "      <td>692</td>\n",
              "      <td>2019</td>\n",
              "      <td>John Ryan Murphy</td>\n",
              "      <td>ATL</td>\n",
              "      <td>C</td>\n",
              "      <td>1</td>\n",
              "      <td>1</td>\n",
              "      <td>0</td>\n",
              "      <td>0</td>\n",
              "      <td>0</td>\n",
              "      <td>0</td>\n",
              "      <td>...</td>\n",
              "      <td>0</td>\n",
              "      <td>0</td>\n",
              "      <td>0</td>\n",
              "      <td>0</td>\n",
              "      <td>0</td>\n",
              "      <td>0</td>\n",
              "      <td>0.000</td>\n",
              "      <td>0.000</td>\n",
              "      <td>0.000</td>\n",
              "      <td>0.000</td>\n",
              "    </tr>\n",
              "  </tbody>\n",
              "</table>\n",
              "<p>6848 rows × 24 columns</p>\n",
              "</div>"
            ],
            "text/plain": [
              "     Year            Player Team Pos    G   AB    R   TH    H  2B  ...  CS  \\\n",
              "0    2010     Ichiro Suzuki  SEA  OF  162  680   74  214  175  30  ...   9   \n",
              "1    2010       Derek Jeter  NYY  SS  157  663  111  179  136  30  ...   5   \n",
              "2    2010     Michael Young  TEX  3B  157  656   99  186  126  36  ...   2   \n",
              "3    2010       Juan Pierre  CWS  OF  160  651   96  179  157  18  ...  18   \n",
              "4    2010      Rickie Weeks  MIL  DH  160  651  112  175  110  32  ...   4   \n",
              "..    ...               ...  ...  ..  ...  ...  ...  ...  ...  ..  ...  ..   \n",
              "688  2019       Jose Rondon  BAL  2B    1    1    0    0    0   0  ...   0   \n",
              "689  2019   Travis d'Arnaud  LAD   C    1    1    0    0    0   0  ...   0   \n",
              "690  2019     Aaron Altherr   SF  OF    1    1    0    0    0   0  ...   0   \n",
              "691  2019       Rob Brantly  PHI   C    1    1    0    0    0   0  ...   0   \n",
              "692  2019  John Ryan Murphy  ATL   C    1    1    0    0    0   0  ...   0   \n",
              "\n",
              "     BB   SO  SH  SF  HBP    AVG    OBP    SLG    OPS  \n",
              "0    45   86   3   1    3  0.315  0.359  0.394  0.753  \n",
              "1    63  106   1   3    9  0.270  0.340  0.370  0.710  \n",
              "2    50  115   0  11    1  0.284  0.330  0.444  0.774  \n",
              "3    45   47  15   2   21  0.275  0.341  0.316  0.657  \n",
              "4    76  184   0   2   25  0.269  0.366  0.464  0.830  \n",
              "..   ..  ...  ..  ..  ...    ...    ...    ...    ...  \n",
              "688   0    0   0   0    0  0.000  0.000  0.000  0.000  \n",
              "689   0    0   0   0    0  0.000  0.000  0.000  0.000  \n",
              "690   0    1   0   0    0  0.000  0.000  0.000  0.000  \n",
              "691   0    1   0   0    0  0.000  0.000  0.000  0.000  \n",
              "692   0    0   0   0    0  0.000  0.000  0.000  0.000  \n",
              "\n",
              "[6848 rows x 24 columns]"
            ]
          },
          "metadata": {
            "tags": []
          },
          "execution_count": 76
        }
      ]
    },
    {
      "cell_type": "code",
      "metadata": {
        "id": "b6QTNfDXNoxB",
        "colab_type": "code",
        "colab": {}
      },
      "source": [
        "bat_total=bat_total[['Year','Player', 'Team', 'Pos', 'G', 'AB', 'R', 'TH', 'H', '2B', '3B', 'HR',\n",
        "       'RBI', 'SB', 'CS', 'BB', 'SO', 'SH', 'SF', 'HBP', 'AVG', 'OBP', 'SLG','OPS']]"
      ],
      "execution_count": 0,
      "outputs": []
    },
    {
      "cell_type": "code",
      "metadata": {
        "id": "SAqO7ZKrNoxC",
        "colab_type": "code",
        "colab": {}
      },
      "source": [
        "bat_total.to_csv('../Data/MLB_data_edit/bat_total.csv')"
      ],
      "execution_count": 0,
      "outputs": []
    },
    {
      "cell_type": "code",
      "metadata": {
        "id": "3niNAQzcNoxM",
        "colab_type": "code",
        "colab": {}
      },
      "source": [
        "from sklearn import preprocessing"
      ],
      "execution_count": 0,
      "outputs": []
    },
    {
      "cell_type": "code",
      "metadata": {
        "id": "11vUkOQ0NoxO",
        "colab_type": "code",
        "outputId": "765b9ec2-cf76-49a7-a73f-daaae8c597e9",
        "colab": {}
      },
      "source": [
        "# col이라는 변수에 각 컬럼명의 내용을 담음\n",
        "\n",
        "\n",
        "R = bat_total.groupby(by=['Year','Team']).R.mean()\n",
        "TH = bat_total.groupby(by=['Year','Team']).TH.mean()\n",
        "H= bat_total.groupby(by=['Year','Team']).H.mean()\n",
        "B2= bat_total.groupby(by=['Year','Team']).2B.mean()\n",
        "B3= bat_total.groupby(by=['Year','Team']).3B.mean()\n",
        "HR= bat_totall.groupby(by=['Year','Team']).HR.mean()\n",
        "RBI= bat_total.groupby(by=['Year','Team']).RBI.mean()\n",
        "SB= bat_total.groupby(by=['Year','Team']).SB.mean()\n",
        "CS =  bat_total.groupby(by=['Year','Team']).CS.mean()\n",
        "BB =  bat_total.groupby(by=['Year','Team']).BB.mean()\n",
        "SO =  bat_total.groupby(by=['Year','Team']).SO.mean()\n",
        "SH =  bat_total.groupby(by=['Year','Team']).SH.mean()\n",
        "SF =  bat_total.groupby(by=['Year','Team']).SF.mean()\n",
        "HBP =  bat_total.groupby(by=['Year','Team']).HBP.mean()\n",
        "AVG =  bat_total.groupby(by=['Year','Team']).AVG.mean()\n",
        "OBP =  bat_total.groupby(by=['Year','Team']).OBP.mean()\n",
        "SLG =  bat_total.groupby(by=['Year','Team']).SLG.mean()\n",
        "OPS =  bat_total.groupby(by=['Year','Team']).OPS.mean()\n",
        "PCT = rank_total.sort_values(by=['Year','Team']) # 승률\n",
        "\n"
      ],
      "execution_count": 0,
      "outputs": [
        {
          "output_type": "error",
          "ename": "SyntaxError",
          "evalue": "invalid syntax (<ipython-input-81-f1df3f40567f>, line 7)",
          "traceback": [
            "\u001b[1;36m  File \u001b[1;32m\"<ipython-input-81-f1df3f40567f>\"\u001b[1;36m, line \u001b[1;32m7\u001b[0m\n\u001b[1;33m    B2= bat_total.groupby(by=['Year','Team']).2B.mean()\u001b[0m\n\u001b[1;37m                                              ^\u001b[0m\n\u001b[1;31mSyntaxError\u001b[0m\u001b[1;31m:\u001b[0m invalid syntax\n"
          ]
        }
      ]
    },
    {
      "cell_type": "code",
      "metadata": {
        "id": "0EOPMJTENoxQ",
        "colab_type": "code",
        "colab": {}
      },
      "source": [
        "bat_df = pd.DataFrame(index=['R', 'TH', 'H', '2B', '3B', 'HR','RBI','SB','CS','BB','SO','SH','SF','HBP','AVG','OBP','SLG','OPS'],columns={'PCT':0})"
      ],
      "execution_count": 0,
      "outputs": []
    },
    {
      "cell_type": "code",
      "metadata": {
        "id": "f0JRv2FYNoxR",
        "colab_type": "code",
        "colab": {}
      },
      "source": [
        "bat_df"
      ],
      "execution_count": 0,
      "outputs": []
    },
    {
      "cell_type": "code",
      "metadata": {
        "scrolled": true,
        "id": "EBIzy3oeNoxS",
        "colab_type": "code",
        "outputId": "4482fbf1-41b9-4417-c64d-10490879bb46",
        "colab": {}
      },
      "source": [
        "\n",
        "\"\"\"\n",
        "R = bat_total.groupby(by=['Year','Team']).R.mean()\n",
        "TH = bat_total.groupby(by=['Year','Team']).TH.mean()\n",
        "H= bat_total.groupby(by=['Year','Team']).H.mean()\n",
        "2B= bat_total.groupby(by=['Year','Team'])['2B'].mean()\n",
        "3B= bat_total.groupby(by=['Year','Team'])['3B'].mean()\n",
        "HR= bat_totall.groupby(by=['Year','Team']).HR.mean()\n",
        "RBI= bat_total.groupby(by=['Year','Team']).RBI.mean()\n",
        "SB= bat_total.groupby(by=['Year','Team']).SB.mean()\n",
        "CS =  bat_total.groupby(by=['Year','Team']).CS.mean()\n",
        "BB =  bat_total.groupby(by=['Year','Team']).BB.mean()\n",
        "SO =  bat_total.groupby(by=['Year','Team']).SO.mean()\n",
        "SH =  bat_total.groupby(by=['Year','Team']).SH.mean()\n",
        "SF =  bat_total.groupby(by=['Year','Team']).SF.mean()\n",
        "HBP =  bat_total.groupby(by=['Year','Team']).HBP.mean()\n",
        "AVG =  bat_total.groupby(by=['Year','Team']).AVG.mean()\n",
        "OBP =  bat_total.groupby(by=['Year','Team']).OBP.mean()\n",
        "SLG =  bat_total.groupby(by=['Year','Team']).SLG.mean()\n",
        "OPS =  bat_total.groupby(by=['Year','Team']).OPS.mean()\n",
        "PCT = rank_total.sort_values(by=['Year','Team'])\n",
        "\"\"\"\n",
        "\n",
        "\n",
        "bat_df1 = pd.DataFrame({'R':bat_total.groupby(by=['Year','Team']).R.mean().values,\n",
        "                        'TH':bat_total.groupby(by=['Year','Team']).TH.mean().values,\n",
        "                        'H':bat_total.groupby(by=['Year','Team']).H.mean().values,\n",
        "                        '2B':bat_total.groupby(by=['Year','Team'])['2B'].mean().values,\n",
        "                        '3B':bat_total.groupby(by=['Year','Team'])['3B'].mean().values,\n",
        "                        'HR':bat_total.groupby(by=['Year','Team']).HR.mean().values,\n",
        "                        'RBI':bat_total.groupby(by=['Year','Team']).RBI.mean().values,\n",
        "                        'SB':bat_total.groupby(by=['Year','Team']).SB.mean().values,\n",
        "                        'CS':bat_total.groupby(by=['Year','Team']).CS.mean().values,\n",
        "                        'BB':bat_total.groupby(by=['Year','Team']).BB.mean().values,\n",
        "                        'SO':bat_total.groupby(by=['Year','Team']).SO.mean().values,\n",
        "                        'SH':bat_total.groupby(by=['Year','Team']).SH.mean().values,\n",
        "                        'SF':bat_total.groupby(by=['Year','Team']).SF.mean().values,\n",
        "                        'HBP':bat_total.groupby(by=['Year','Team']).HBP.mean().values,\n",
        "                        'AVG':bat_total.groupby(by=['Year','Team']).AVG.mean().values,\n",
        "                        'OBP':bat_total.groupby(by=['Year','Team']).OBP.mean().values,\n",
        "                        'SLG':bat_total.groupby(by=['Year','Team']).SLG.mean().values,\n",
        "                        'OPS':bat_total.groupby(by=['Year','Team']).OPS.mean().values                       \n",
        "                })\n",
        "\n",
        "bat_df1.head()"
      ],
      "execution_count": 0,
      "outputs": [
        {
          "output_type": "execute_result",
          "data": {
            "text/html": [
              "<div>\n",
              "<style scoped>\n",
              "    .dataframe tbody tr th:only-of-type {\n",
              "        vertical-align: middle;\n",
              "    }\n",
              "\n",
              "    .dataframe tbody tr th {\n",
              "        vertical-align: top;\n",
              "    }\n",
              "\n",
              "    .dataframe thead th {\n",
              "        text-align: right;\n",
              "    }\n",
              "</style>\n",
              "<table border=\"1\" class=\"dataframe\">\n",
              "  <thead>\n",
              "    <tr style=\"text-align: right;\">\n",
              "      <th></th>\n",
              "      <th>R</th>\n",
              "      <th>TH</th>\n",
              "      <th>H</th>\n",
              "      <th>2B</th>\n",
              "      <th>3B</th>\n",
              "      <th>HR</th>\n",
              "      <th>RBI</th>\n",
              "      <th>SB</th>\n",
              "      <th>CS</th>\n",
              "      <th>BB</th>\n",
              "      <th>SO</th>\n",
              "      <th>SH</th>\n",
              "      <th>SF</th>\n",
              "      <th>HBP</th>\n",
              "      <th>AVG</th>\n",
              "      <th>OBP</th>\n",
              "      <th>SLG</th>\n",
              "      <th>OPS</th>\n",
              "    </tr>\n",
              "  </thead>\n",
              "  <tbody>\n",
              "    <tr>\n",
              "      <td>0</td>\n",
              "      <td>34.400000</td>\n",
              "      <td>65.350000</td>\n",
              "      <td>40.200000</td>\n",
              "      <td>14.550000</td>\n",
              "      <td>1.700000</td>\n",
              "      <td>8.900000</td>\n",
              "      <td>33.250000</td>\n",
              "      <td>4.250000</td>\n",
              "      <td>2.050000</td>\n",
              "      <td>28.750000</td>\n",
              "      <td>70.300000</td>\n",
              "      <td>0.800000</td>\n",
              "      <td>1.900000</td>\n",
              "      <td>1.850000</td>\n",
              "      <td>0.234700</td>\n",
              "      <td>0.308250</td>\n",
              "      <td>0.380750</td>\n",
              "      <td>0.689000</td>\n",
              "    </tr>\n",
              "    <tr>\n",
              "      <td>1</td>\n",
              "      <td>33.333333</td>\n",
              "      <td>63.952381</td>\n",
              "      <td>42.238095</td>\n",
              "      <td>14.047619</td>\n",
              "      <td>1.142857</td>\n",
              "      <td>6.523810</td>\n",
              "      <td>32.095238</td>\n",
              "      <td>2.904762</td>\n",
              "      <td>1.333333</td>\n",
              "      <td>28.428571</td>\n",
              "      <td>46.714286</td>\n",
              "      <td>1.523810</td>\n",
              "      <td>1.619048</td>\n",
              "      <td>2.285714</td>\n",
              "      <td>0.227238</td>\n",
              "      <td>0.346238</td>\n",
              "      <td>0.377143</td>\n",
              "      <td>0.723381</td>\n",
              "    </tr>\n",
              "    <tr>\n",
              "      <td>2</td>\n",
              "      <td>27.863636</td>\n",
              "      <td>65.409091</td>\n",
              "      <td>46.409091</td>\n",
              "      <td>12.000000</td>\n",
              "      <td>0.954545</td>\n",
              "      <td>6.045455</td>\n",
              "      <td>26.227273</td>\n",
              "      <td>3.454545</td>\n",
              "      <td>1.545455</td>\n",
              "      <td>19.227273</td>\n",
              "      <td>47.636364</td>\n",
              "      <td>1.409091</td>\n",
              "      <td>2.045455</td>\n",
              "      <td>2.454545</td>\n",
              "      <td>0.237455</td>\n",
              "      <td>0.285273</td>\n",
              "      <td>0.345000</td>\n",
              "      <td>0.630273</td>\n",
              "    </tr>\n",
              "    <tr>\n",
              "      <td>3</td>\n",
              "      <td>27.233333</td>\n",
              "      <td>50.200000</td>\n",
              "      <td>30.533333</td>\n",
              "      <td>11.900000</td>\n",
              "      <td>0.733333</td>\n",
              "      <td>7.033333</td>\n",
              "      <td>26.000000</td>\n",
              "      <td>2.266667</td>\n",
              "      <td>0.566667</td>\n",
              "      <td>19.500000</td>\n",
              "      <td>37.833333</td>\n",
              "      <td>0.800000</td>\n",
              "      <td>1.500000</td>\n",
              "      <td>1.566667</td>\n",
              "      <td>0.212200</td>\n",
              "      <td>0.274267</td>\n",
              "      <td>0.347033</td>\n",
              "      <td>0.621300</td>\n",
              "    </tr>\n",
              "    <tr>\n",
              "      <td>4</td>\n",
              "      <td>31.952381</td>\n",
              "      <td>65.428571</td>\n",
              "      <td>43.142857</td>\n",
              "      <td>13.952381</td>\n",
              "      <td>1.285714</td>\n",
              "      <td>7.047619</td>\n",
              "      <td>30.428571</td>\n",
              "      <td>2.619048</td>\n",
              "      <td>1.476190</td>\n",
              "      <td>22.190476</td>\n",
              "      <td>52.904762</td>\n",
              "      <td>0.761905</td>\n",
              "      <td>1.761905</td>\n",
              "      <td>2.333333</td>\n",
              "      <td>0.252381</td>\n",
              "      <td>0.322190</td>\n",
              "      <td>0.380048</td>\n",
              "      <td>0.702238</td>\n",
              "    </tr>\n",
              "  </tbody>\n",
              "</table>\n",
              "</div>"
            ],
            "text/plain": [
              "           R         TH          H         2B        3B        HR        RBI  \\\n",
              "0  34.400000  65.350000  40.200000  14.550000  1.700000  8.900000  33.250000   \n",
              "1  33.333333  63.952381  42.238095  14.047619  1.142857  6.523810  32.095238   \n",
              "2  27.863636  65.409091  46.409091  12.000000  0.954545  6.045455  26.227273   \n",
              "3  27.233333  50.200000  30.533333  11.900000  0.733333  7.033333  26.000000   \n",
              "4  31.952381  65.428571  43.142857  13.952381  1.285714  7.047619  30.428571   \n",
              "\n",
              "         SB        CS         BB         SO        SH        SF       HBP  \\\n",
              "0  4.250000  2.050000  28.750000  70.300000  0.800000  1.900000  1.850000   \n",
              "1  2.904762  1.333333  28.428571  46.714286  1.523810  1.619048  2.285714   \n",
              "2  3.454545  1.545455  19.227273  47.636364  1.409091  2.045455  2.454545   \n",
              "3  2.266667  0.566667  19.500000  37.833333  0.800000  1.500000  1.566667   \n",
              "4  2.619048  1.476190  22.190476  52.904762  0.761905  1.761905  2.333333   \n",
              "\n",
              "        AVG       OBP       SLG       OPS  \n",
              "0  0.234700  0.308250  0.380750  0.689000  \n",
              "1  0.227238  0.346238  0.377143  0.723381  \n",
              "2  0.237455  0.285273  0.345000  0.630273  \n",
              "3  0.212200  0.274267  0.347033  0.621300  \n",
              "4  0.252381  0.322190  0.380048  0.702238  "
            ]
          },
          "metadata": {
            "tags": []
          },
          "execution_count": 86
        }
      ]
    },
    {
      "cell_type": "code",
      "metadata": {
        "scrolled": true,
        "id": "qPx9ZAkENoxT",
        "colab_type": "code",
        "colab": {}
      },
      "source": [
        "rank_total.reset_index(inplace=True)"
      ],
      "execution_count": 0,
      "outputs": []
    },
    {
      "cell_type": "code",
      "metadata": {
        "id": "x5Wom547NoxU",
        "colab_type": "code",
        "colab": {}
      },
      "source": [
        "del rank_total['index']"
      ],
      "execution_count": 0,
      "outputs": []
    },
    {
      "cell_type": "code",
      "metadata": {
        "id": "_IRE8LAwNoxV",
        "colab_type": "code",
        "outputId": "f36ef0a9-67a1-4adb-9f0b-cc40ac55a0fd",
        "colab": {}
      },
      "source": [
        "rank_total.head()"
      ],
      "execution_count": 0,
      "outputs": [
        {
          "output_type": "execute_result",
          "data": {
            "text/html": [
              "<div>\n",
              "<style scoped>\n",
              "    .dataframe tbody tr th:only-of-type {\n",
              "        vertical-align: middle;\n",
              "    }\n",
              "\n",
              "    .dataframe tbody tr th {\n",
              "        vertical-align: top;\n",
              "    }\n",
              "\n",
              "    .dataframe thead th {\n",
              "        text-align: right;\n",
              "    }\n",
              "</style>\n",
              "<table border=\"1\" class=\"dataframe\">\n",
              "  <thead>\n",
              "    <tr style=\"text-align: right;\">\n",
              "      <th></th>\n",
              "      <th>Team</th>\n",
              "      <th>W</th>\n",
              "      <th>L</th>\n",
              "      <th>PCT</th>\n",
              "      <th>GB</th>\n",
              "      <th>HOME</th>\n",
              "      <th>AWAY</th>\n",
              "      <th>RS</th>\n",
              "      <th>RA</th>\n",
              "      <th>DIFF</th>\n",
              "      <th>Year</th>\n",
              "    </tr>\n",
              "  </thead>\n",
              "  <tbody>\n",
              "    <tr>\n",
              "      <td>0</td>\n",
              "      <td>PHI</td>\n",
              "      <td>97</td>\n",
              "      <td>65</td>\n",
              "      <td>0.599</td>\n",
              "      <td>-</td>\n",
              "      <td>54-30</td>\n",
              "      <td>43-35</td>\n",
              "      <td>772</td>\n",
              "      <td>640</td>\n",
              "      <td>132</td>\n",
              "      <td>2010</td>\n",
              "    </tr>\n",
              "    <tr>\n",
              "      <td>1</td>\n",
              "      <td>TB</td>\n",
              "      <td>96</td>\n",
              "      <td>66</td>\n",
              "      <td>0.593</td>\n",
              "      <td>1</td>\n",
              "      <td>49-32</td>\n",
              "      <td>47-34</td>\n",
              "      <td>802</td>\n",
              "      <td>649</td>\n",
              "      <td>153</td>\n",
              "      <td>2010</td>\n",
              "    </tr>\n",
              "    <tr>\n",
              "      <td>2</td>\n",
              "      <td>NYY</td>\n",
              "      <td>95</td>\n",
              "      <td>67</td>\n",
              "      <td>0.586</td>\n",
              "      <td>2</td>\n",
              "      <td>52-29</td>\n",
              "      <td>43-38</td>\n",
              "      <td>859</td>\n",
              "      <td>693</td>\n",
              "      <td>166</td>\n",
              "      <td>2010</td>\n",
              "    </tr>\n",
              "    <tr>\n",
              "      <td>3</td>\n",
              "      <td>MIN</td>\n",
              "      <td>94</td>\n",
              "      <td>68</td>\n",
              "      <td>0.580</td>\n",
              "      <td>3</td>\n",
              "      <td>53-28</td>\n",
              "      <td>41-40</td>\n",
              "      <td>781</td>\n",
              "      <td>671</td>\n",
              "      <td>110</td>\n",
              "      <td>2010</td>\n",
              "    </tr>\n",
              "    <tr>\n",
              "      <td>4</td>\n",
              "      <td>SF</td>\n",
              "      <td>92</td>\n",
              "      <td>70</td>\n",
              "      <td>0.568</td>\n",
              "      <td>5</td>\n",
              "      <td>49-32</td>\n",
              "      <td>43-38</td>\n",
              "      <td>697</td>\n",
              "      <td>583</td>\n",
              "      <td>114</td>\n",
              "      <td>2010</td>\n",
              "    </tr>\n",
              "  </tbody>\n",
              "</table>\n",
              "</div>"
            ],
            "text/plain": [
              "  Team   W   L    PCT GB   HOME   AWAY   RS   RA  DIFF  Year\n",
              "0  PHI  97  65  0.599  -  54-30  43-35  772  640   132  2010\n",
              "1   TB  96  66  0.593  1  49-32  47-34  802  649   153  2010\n",
              "2  NYY  95  67  0.586  2  52-29  43-38  859  693   166  2010\n",
              "3  MIN  94  68  0.580  3  53-28  41-40  781  671   110  2010\n",
              "4   SF  92  70  0.568  5  49-32  43-38  697  583   114  2010"
            ]
          },
          "metadata": {
            "tags": []
          },
          "execution_count": 89
        }
      ]
    },
    {
      "cell_type": "code",
      "metadata": {
        "id": "RT-1ac8LNoxX",
        "colab_type": "code",
        "colab": {}
      },
      "source": [
        "bat_df1.reset_index(inplace=True)"
      ],
      "execution_count": 0,
      "outputs": []
    },
    {
      "cell_type": "code",
      "metadata": {
        "id": "EnDSj0tTNoxX",
        "colab_type": "code",
        "colab": {}
      },
      "source": [
        "del bat_df1['index']"
      ],
      "execution_count": 0,
      "outputs": []
    },
    {
      "cell_type": "code",
      "metadata": {
        "id": "lSmtHjBsNoxZ",
        "colab_type": "code",
        "outputId": "718096ef-fa07-485a-843d-6ee332c4595f",
        "colab": {}
      },
      "source": [
        "bat_df1.head()"
      ],
      "execution_count": 0,
      "outputs": [
        {
          "output_type": "execute_result",
          "data": {
            "text/html": [
              "<div>\n",
              "<style scoped>\n",
              "    .dataframe tbody tr th:only-of-type {\n",
              "        vertical-align: middle;\n",
              "    }\n",
              "\n",
              "    .dataframe tbody tr th {\n",
              "        vertical-align: top;\n",
              "    }\n",
              "\n",
              "    .dataframe thead th {\n",
              "        text-align: right;\n",
              "    }\n",
              "</style>\n",
              "<table border=\"1\" class=\"dataframe\">\n",
              "  <thead>\n",
              "    <tr style=\"text-align: right;\">\n",
              "      <th></th>\n",
              "      <th>R</th>\n",
              "      <th>TH</th>\n",
              "      <th>H</th>\n",
              "      <th>2B</th>\n",
              "      <th>3B</th>\n",
              "      <th>HR</th>\n",
              "      <th>RBI</th>\n",
              "      <th>SB</th>\n",
              "      <th>CS</th>\n",
              "      <th>BB</th>\n",
              "      <th>SO</th>\n",
              "      <th>SH</th>\n",
              "      <th>SF</th>\n",
              "      <th>HBP</th>\n",
              "      <th>AVG</th>\n",
              "      <th>OBP</th>\n",
              "      <th>SLG</th>\n",
              "      <th>OPS</th>\n",
              "    </tr>\n",
              "  </thead>\n",
              "  <tbody>\n",
              "    <tr>\n",
              "      <td>0</td>\n",
              "      <td>34.400000</td>\n",
              "      <td>65.350000</td>\n",
              "      <td>40.200000</td>\n",
              "      <td>14.550000</td>\n",
              "      <td>1.700000</td>\n",
              "      <td>8.900000</td>\n",
              "      <td>33.250000</td>\n",
              "      <td>4.250000</td>\n",
              "      <td>2.050000</td>\n",
              "      <td>28.750000</td>\n",
              "      <td>70.300000</td>\n",
              "      <td>0.800000</td>\n",
              "      <td>1.900000</td>\n",
              "      <td>1.850000</td>\n",
              "      <td>0.234700</td>\n",
              "      <td>0.308250</td>\n",
              "      <td>0.380750</td>\n",
              "      <td>0.689000</td>\n",
              "    </tr>\n",
              "    <tr>\n",
              "      <td>1</td>\n",
              "      <td>33.333333</td>\n",
              "      <td>63.952381</td>\n",
              "      <td>42.238095</td>\n",
              "      <td>14.047619</td>\n",
              "      <td>1.142857</td>\n",
              "      <td>6.523810</td>\n",
              "      <td>32.095238</td>\n",
              "      <td>2.904762</td>\n",
              "      <td>1.333333</td>\n",
              "      <td>28.428571</td>\n",
              "      <td>46.714286</td>\n",
              "      <td>1.523810</td>\n",
              "      <td>1.619048</td>\n",
              "      <td>2.285714</td>\n",
              "      <td>0.227238</td>\n",
              "      <td>0.346238</td>\n",
              "      <td>0.377143</td>\n",
              "      <td>0.723381</td>\n",
              "    </tr>\n",
              "    <tr>\n",
              "      <td>2</td>\n",
              "      <td>27.863636</td>\n",
              "      <td>65.409091</td>\n",
              "      <td>46.409091</td>\n",
              "      <td>12.000000</td>\n",
              "      <td>0.954545</td>\n",
              "      <td>6.045455</td>\n",
              "      <td>26.227273</td>\n",
              "      <td>3.454545</td>\n",
              "      <td>1.545455</td>\n",
              "      <td>19.227273</td>\n",
              "      <td>47.636364</td>\n",
              "      <td>1.409091</td>\n",
              "      <td>2.045455</td>\n",
              "      <td>2.454545</td>\n",
              "      <td>0.237455</td>\n",
              "      <td>0.285273</td>\n",
              "      <td>0.345000</td>\n",
              "      <td>0.630273</td>\n",
              "    </tr>\n",
              "    <tr>\n",
              "      <td>3</td>\n",
              "      <td>27.233333</td>\n",
              "      <td>50.200000</td>\n",
              "      <td>30.533333</td>\n",
              "      <td>11.900000</td>\n",
              "      <td>0.733333</td>\n",
              "      <td>7.033333</td>\n",
              "      <td>26.000000</td>\n",
              "      <td>2.266667</td>\n",
              "      <td>0.566667</td>\n",
              "      <td>19.500000</td>\n",
              "      <td>37.833333</td>\n",
              "      <td>0.800000</td>\n",
              "      <td>1.500000</td>\n",
              "      <td>1.566667</td>\n",
              "      <td>0.212200</td>\n",
              "      <td>0.274267</td>\n",
              "      <td>0.347033</td>\n",
              "      <td>0.621300</td>\n",
              "    </tr>\n",
              "    <tr>\n",
              "      <td>4</td>\n",
              "      <td>31.952381</td>\n",
              "      <td>65.428571</td>\n",
              "      <td>43.142857</td>\n",
              "      <td>13.952381</td>\n",
              "      <td>1.285714</td>\n",
              "      <td>7.047619</td>\n",
              "      <td>30.428571</td>\n",
              "      <td>2.619048</td>\n",
              "      <td>1.476190</td>\n",
              "      <td>22.190476</td>\n",
              "      <td>52.904762</td>\n",
              "      <td>0.761905</td>\n",
              "      <td>1.761905</td>\n",
              "      <td>2.333333</td>\n",
              "      <td>0.252381</td>\n",
              "      <td>0.322190</td>\n",
              "      <td>0.380048</td>\n",
              "      <td>0.702238</td>\n",
              "    </tr>\n",
              "  </tbody>\n",
              "</table>\n",
              "</div>"
            ],
            "text/plain": [
              "           R         TH          H         2B        3B        HR        RBI  \\\n",
              "0  34.400000  65.350000  40.200000  14.550000  1.700000  8.900000  33.250000   \n",
              "1  33.333333  63.952381  42.238095  14.047619  1.142857  6.523810  32.095238   \n",
              "2  27.863636  65.409091  46.409091  12.000000  0.954545  6.045455  26.227273   \n",
              "3  27.233333  50.200000  30.533333  11.900000  0.733333  7.033333  26.000000   \n",
              "4  31.952381  65.428571  43.142857  13.952381  1.285714  7.047619  30.428571   \n",
              "\n",
              "         SB        CS         BB         SO        SH        SF       HBP  \\\n",
              "0  4.250000  2.050000  28.750000  70.300000  0.800000  1.900000  1.850000   \n",
              "1  2.904762  1.333333  28.428571  46.714286  1.523810  1.619048  2.285714   \n",
              "2  3.454545  1.545455  19.227273  47.636364  1.409091  2.045455  2.454545   \n",
              "3  2.266667  0.566667  19.500000  37.833333  0.800000  1.500000  1.566667   \n",
              "4  2.619048  1.476190  22.190476  52.904762  0.761905  1.761905  2.333333   \n",
              "\n",
              "        AVG       OBP       SLG       OPS  \n",
              "0  0.234700  0.308250  0.380750  0.689000  \n",
              "1  0.227238  0.346238  0.377143  0.723381  \n",
              "2  0.237455  0.285273  0.345000  0.630273  \n",
              "3  0.212200  0.274267  0.347033  0.621300  \n",
              "4  0.252381  0.322190  0.380048  0.702238  "
            ]
          },
          "metadata": {
            "tags": []
          },
          "execution_count": 92
        }
      ]
    },
    {
      "cell_type": "code",
      "metadata": {
        "id": "hmrkUwqeNoxa",
        "colab_type": "code",
        "colab": {}
      },
      "source": [
        ""
      ],
      "execution_count": 0,
      "outputs": []
    },
    {
      "cell_type": "code",
      "metadata": {
        "scrolled": true,
        "id": "3unB7h-vNoxb",
        "colab_type": "code",
        "colab": {}
      },
      "source": [
        "bat_df1[\"PCT\"]=rank_total[\"PCT\"]"
      ],
      "execution_count": 0,
      "outputs": []
    },
    {
      "cell_type": "code",
      "metadata": {
        "id": "_wfjiuErNoxc",
        "colab_type": "code",
        "outputId": "50201083-5d6d-49cc-99a1-8b81d346f953",
        "colab": {}
      },
      "source": [
        "bat_df1"
      ],
      "execution_count": 0,
      "outputs": [
        {
          "output_type": "execute_result",
          "data": {
            "text/html": [
              "<div>\n",
              "<style scoped>\n",
              "    .dataframe tbody tr th:only-of-type {\n",
              "        vertical-align: middle;\n",
              "    }\n",
              "\n",
              "    .dataframe tbody tr th {\n",
              "        vertical-align: top;\n",
              "    }\n",
              "\n",
              "    .dataframe thead th {\n",
              "        text-align: right;\n",
              "    }\n",
              "</style>\n",
              "<table border=\"1\" class=\"dataframe\">\n",
              "  <thead>\n",
              "    <tr style=\"text-align: right;\">\n",
              "      <th></th>\n",
              "      <th>R</th>\n",
              "      <th>TH</th>\n",
              "      <th>H</th>\n",
              "      <th>2B</th>\n",
              "      <th>3B</th>\n",
              "      <th>HR</th>\n",
              "      <th>RBI</th>\n",
              "      <th>SB</th>\n",
              "      <th>CS</th>\n",
              "      <th>BB</th>\n",
              "      <th>SO</th>\n",
              "      <th>SH</th>\n",
              "      <th>SF</th>\n",
              "      <th>HBP</th>\n",
              "      <th>AVG</th>\n",
              "      <th>OBP</th>\n",
              "      <th>SLG</th>\n",
              "      <th>OPS</th>\n",
              "      <th>PCT</th>\n",
              "    </tr>\n",
              "  </thead>\n",
              "  <tbody>\n",
              "    <tr>\n",
              "      <td>0</td>\n",
              "      <td>34.400000</td>\n",
              "      <td>65.350000</td>\n",
              "      <td>40.200000</td>\n",
              "      <td>14.550000</td>\n",
              "      <td>1.700000</td>\n",
              "      <td>8.900000</td>\n",
              "      <td>33.250000</td>\n",
              "      <td>4.250000</td>\n",
              "      <td>2.050000</td>\n",
              "      <td>28.750000</td>\n",
              "      <td>70.300000</td>\n",
              "      <td>0.800000</td>\n",
              "      <td>1.900000</td>\n",
              "      <td>1.850000</td>\n",
              "      <td>0.234700</td>\n",
              "      <td>0.308250</td>\n",
              "      <td>0.380750</td>\n",
              "      <td>0.689000</td>\n",
              "      <td>0.599</td>\n",
              "    </tr>\n",
              "    <tr>\n",
              "      <td>1</td>\n",
              "      <td>33.333333</td>\n",
              "      <td>63.952381</td>\n",
              "      <td>42.238095</td>\n",
              "      <td>14.047619</td>\n",
              "      <td>1.142857</td>\n",
              "      <td>6.523810</td>\n",
              "      <td>32.095238</td>\n",
              "      <td>2.904762</td>\n",
              "      <td>1.333333</td>\n",
              "      <td>28.428571</td>\n",
              "      <td>46.714286</td>\n",
              "      <td>1.523810</td>\n",
              "      <td>1.619048</td>\n",
              "      <td>2.285714</td>\n",
              "      <td>0.227238</td>\n",
              "      <td>0.346238</td>\n",
              "      <td>0.377143</td>\n",
              "      <td>0.723381</td>\n",
              "      <td>0.593</td>\n",
              "    </tr>\n",
              "    <tr>\n",
              "      <td>2</td>\n",
              "      <td>27.863636</td>\n",
              "      <td>65.409091</td>\n",
              "      <td>46.409091</td>\n",
              "      <td>12.000000</td>\n",
              "      <td>0.954545</td>\n",
              "      <td>6.045455</td>\n",
              "      <td>26.227273</td>\n",
              "      <td>3.454545</td>\n",
              "      <td>1.545455</td>\n",
              "      <td>19.227273</td>\n",
              "      <td>47.636364</td>\n",
              "      <td>1.409091</td>\n",
              "      <td>2.045455</td>\n",
              "      <td>2.454545</td>\n",
              "      <td>0.237455</td>\n",
              "      <td>0.285273</td>\n",
              "      <td>0.345000</td>\n",
              "      <td>0.630273</td>\n",
              "      <td>0.586</td>\n",
              "    </tr>\n",
              "    <tr>\n",
              "      <td>3</td>\n",
              "      <td>27.233333</td>\n",
              "      <td>50.200000</td>\n",
              "      <td>30.533333</td>\n",
              "      <td>11.900000</td>\n",
              "      <td>0.733333</td>\n",
              "      <td>7.033333</td>\n",
              "      <td>26.000000</td>\n",
              "      <td>2.266667</td>\n",
              "      <td>0.566667</td>\n",
              "      <td>19.500000</td>\n",
              "      <td>37.833333</td>\n",
              "      <td>0.800000</td>\n",
              "      <td>1.500000</td>\n",
              "      <td>1.566667</td>\n",
              "      <td>0.212200</td>\n",
              "      <td>0.274267</td>\n",
              "      <td>0.347033</td>\n",
              "      <td>0.621300</td>\n",
              "      <td>0.580</td>\n",
              "    </tr>\n",
              "    <tr>\n",
              "      <td>4</td>\n",
              "      <td>31.952381</td>\n",
              "      <td>65.428571</td>\n",
              "      <td>43.142857</td>\n",
              "      <td>13.952381</td>\n",
              "      <td>1.285714</td>\n",
              "      <td>7.047619</td>\n",
              "      <td>30.428571</td>\n",
              "      <td>2.619048</td>\n",
              "      <td>1.476190</td>\n",
              "      <td>22.190476</td>\n",
              "      <td>52.904762</td>\n",
              "      <td>0.761905</td>\n",
              "      <td>1.761905</td>\n",
              "      <td>2.333333</td>\n",
              "      <td>0.252381</td>\n",
              "      <td>0.322190</td>\n",
              "      <td>0.380048</td>\n",
              "      <td>0.702238</td>\n",
              "      <td>0.568</td>\n",
              "    </tr>\n",
              "    <tr>\n",
              "      <td>...</td>\n",
              "      <td>...</td>\n",
              "      <td>...</td>\n",
              "      <td>...</td>\n",
              "      <td>...</td>\n",
              "      <td>...</td>\n",
              "      <td>...</td>\n",
              "      <td>...</td>\n",
              "      <td>...</td>\n",
              "      <td>...</td>\n",
              "      <td>...</td>\n",
              "      <td>...</td>\n",
              "      <td>...</td>\n",
              "      <td>...</td>\n",
              "      <td>...</td>\n",
              "      <td>...</td>\n",
              "      <td>...</td>\n",
              "      <td>...</td>\n",
              "      <td>...</td>\n",
              "      <td>...</td>\n",
              "    </tr>\n",
              "    <tr>\n",
              "      <td>295</td>\n",
              "      <td>35.619048</td>\n",
              "      <td>61.809524</td>\n",
              "      <td>39.333333</td>\n",
              "      <td>11.333333</td>\n",
              "      <td>1.142857</td>\n",
              "      <td>10.000000</td>\n",
              "      <td>33.380952</td>\n",
              "      <td>5.476190</td>\n",
              "      <td>1.333333</td>\n",
              "      <td>26.428571</td>\n",
              "      <td>61.714286</td>\n",
              "      <td>0.428571</td>\n",
              "      <td>1.761905</td>\n",
              "      <td>3.571429</td>\n",
              "      <td>0.233810</td>\n",
              "      <td>0.304381</td>\n",
              "      <td>0.388571</td>\n",
              "      <td>0.692952</td>\n",
              "      <td>0.414</td>\n",
              "    </tr>\n",
              "    <tr>\n",
              "      <td>296</td>\n",
              "      <td>29.500000</td>\n",
              "      <td>54.769231</td>\n",
              "      <td>34.153846</td>\n",
              "      <td>11.192308</td>\n",
              "      <td>1.115385</td>\n",
              "      <td>8.307692</td>\n",
              "      <td>28.000000</td>\n",
              "      <td>3.615385</td>\n",
              "      <td>1.423077</td>\n",
              "      <td>20.807692</td>\n",
              "      <td>56.961538</td>\n",
              "      <td>0.307692</td>\n",
              "      <td>1.307692</td>\n",
              "      <td>2.807692</td>\n",
              "      <td>0.236462</td>\n",
              "      <td>0.293769</td>\n",
              "      <td>0.393846</td>\n",
              "      <td>0.687615</td>\n",
              "      <td>0.364</td>\n",
              "    </tr>\n",
              "    <tr>\n",
              "      <td>297</td>\n",
              "      <td>42.631579</td>\n",
              "      <td>72.263158</td>\n",
              "      <td>43.684211</td>\n",
              "      <td>15.578947</td>\n",
              "      <td>1.263158</td>\n",
              "      <td>11.736842</td>\n",
              "      <td>40.263158</td>\n",
              "      <td>6.894737</td>\n",
              "      <td>2.000000</td>\n",
              "      <td>28.000000</td>\n",
              "      <td>82.315789</td>\n",
              "      <td>0.842105</td>\n",
              "      <td>2.315789</td>\n",
              "      <td>3.526316</td>\n",
              "      <td>0.237842</td>\n",
              "      <td>0.306947</td>\n",
              "      <td>0.410684</td>\n",
              "      <td>0.717632</td>\n",
              "      <td>0.352</td>\n",
              "    </tr>\n",
              "    <tr>\n",
              "      <td>298</td>\n",
              "      <td>30.166667</td>\n",
              "      <td>54.041667</td>\n",
              "      <td>31.625000</td>\n",
              "      <td>11.250000</td>\n",
              "      <td>0.875000</td>\n",
              "      <td>10.291667</td>\n",
              "      <td>29.041667</td>\n",
              "      <td>2.125000</td>\n",
              "      <td>0.833333</td>\n",
              "      <td>21.166667</td>\n",
              "      <td>62.666667</td>\n",
              "      <td>0.583333</td>\n",
              "      <td>1.166667</td>\n",
              "      <td>1.875000</td>\n",
              "      <td>0.207583</td>\n",
              "      <td>0.266583</td>\n",
              "      <td>0.364167</td>\n",
              "      <td>0.630750</td>\n",
              "      <td>0.333</td>\n",
              "    </tr>\n",
              "    <tr>\n",
              "      <td>299</td>\n",
              "      <td>40.619048</td>\n",
              "      <td>67.571429</td>\n",
              "      <td>41.238095</td>\n",
              "      <td>14.095238</td>\n",
              "      <td>1.285714</td>\n",
              "      <td>10.952381</td>\n",
              "      <td>38.380952</td>\n",
              "      <td>5.428571</td>\n",
              "      <td>1.380952</td>\n",
              "      <td>27.380952</td>\n",
              "      <td>55.857143</td>\n",
              "      <td>0.904762</td>\n",
              "      <td>2.000000</td>\n",
              "      <td>3.857143</td>\n",
              "      <td>0.239952</td>\n",
              "      <td>0.305714</td>\n",
              "      <td>0.392952</td>\n",
              "      <td>0.698667</td>\n",
              "      <td>0.292</td>\n",
              "    </tr>\n",
              "  </tbody>\n",
              "</table>\n",
              "<p>300 rows × 19 columns</p>\n",
              "</div>"
            ],
            "text/plain": [
              "             R         TH          H         2B        3B         HR  \\\n",
              "0    34.400000  65.350000  40.200000  14.550000  1.700000   8.900000   \n",
              "1    33.333333  63.952381  42.238095  14.047619  1.142857   6.523810   \n",
              "2    27.863636  65.409091  46.409091  12.000000  0.954545   6.045455   \n",
              "3    27.233333  50.200000  30.533333  11.900000  0.733333   7.033333   \n",
              "4    31.952381  65.428571  43.142857  13.952381  1.285714   7.047619   \n",
              "..         ...        ...        ...        ...       ...        ...   \n",
              "295  35.619048  61.809524  39.333333  11.333333  1.142857  10.000000   \n",
              "296  29.500000  54.769231  34.153846  11.192308  1.115385   8.307692   \n",
              "297  42.631579  72.263158  43.684211  15.578947  1.263158  11.736842   \n",
              "298  30.166667  54.041667  31.625000  11.250000  0.875000  10.291667   \n",
              "299  40.619048  67.571429  41.238095  14.095238  1.285714  10.952381   \n",
              "\n",
              "           RBI        SB        CS         BB         SO        SH        SF  \\\n",
              "0    33.250000  4.250000  2.050000  28.750000  70.300000  0.800000  1.900000   \n",
              "1    32.095238  2.904762  1.333333  28.428571  46.714286  1.523810  1.619048   \n",
              "2    26.227273  3.454545  1.545455  19.227273  47.636364  1.409091  2.045455   \n",
              "3    26.000000  2.266667  0.566667  19.500000  37.833333  0.800000  1.500000   \n",
              "4    30.428571  2.619048  1.476190  22.190476  52.904762  0.761905  1.761905   \n",
              "..         ...       ...       ...        ...        ...       ...       ...   \n",
              "295  33.380952  5.476190  1.333333  26.428571  61.714286  0.428571  1.761905   \n",
              "296  28.000000  3.615385  1.423077  20.807692  56.961538  0.307692  1.307692   \n",
              "297  40.263158  6.894737  2.000000  28.000000  82.315789  0.842105  2.315789   \n",
              "298  29.041667  2.125000  0.833333  21.166667  62.666667  0.583333  1.166667   \n",
              "299  38.380952  5.428571  1.380952  27.380952  55.857143  0.904762  2.000000   \n",
              "\n",
              "          HBP       AVG       OBP       SLG       OPS    PCT  \n",
              "0    1.850000  0.234700  0.308250  0.380750  0.689000  0.599  \n",
              "1    2.285714  0.227238  0.346238  0.377143  0.723381  0.593  \n",
              "2    2.454545  0.237455  0.285273  0.345000  0.630273  0.586  \n",
              "3    1.566667  0.212200  0.274267  0.347033  0.621300  0.580  \n",
              "4    2.333333  0.252381  0.322190  0.380048  0.702238  0.568  \n",
              "..        ...       ...       ...       ...       ...    ...  \n",
              "295  3.571429  0.233810  0.304381  0.388571  0.692952  0.414  \n",
              "296  2.807692  0.236462  0.293769  0.393846  0.687615  0.364  \n",
              "297  3.526316  0.237842  0.306947  0.410684  0.717632  0.352  \n",
              "298  1.875000  0.207583  0.266583  0.364167  0.630750  0.333  \n",
              "299  3.857143  0.239952  0.305714  0.392952  0.698667  0.292  \n",
              "\n",
              "[300 rows x 19 columns]"
            ]
          },
          "metadata": {
            "tags": []
          },
          "execution_count": 94
        }
      ]
    },
    {
      "cell_type": "code",
      "metadata": {
        "id": "4KshKiS_Noxd",
        "colab_type": "code",
        "colab": {}
      },
      "source": [
        "bat_df1.to_csv('../Data/MLB_data_edit/b_total_no_scale.csv')"
      ],
      "execution_count": 0,
      "outputs": []
    },
    {
      "cell_type": "code",
      "metadata": {
        "id": "3nNu59d9Noxf",
        "colab_type": "code",
        "colab": {}
      },
      "source": [
        "# 표준화 작업\n",
        "col = ['R', 'TH', 'H', '2B', '3B', 'HR','RBI','SB','CS','BB','SO','SH','SF','HBP','AVG','OBP','SLG','OPS','PCT']\n",
        "x=bat_df1[col].values\n",
        "min_max_scaler = preprocessing.MinMaxScaler()\n",
        "x_scaled = min_max_scaler.fit_transform(x)"
      ],
      "execution_count": 0,
      "outputs": []
    },
    {
      "cell_type": "code",
      "metadata": {
        "id": "rla_QEgNNoxh",
        "colab_type": "code",
        "colab": {}
      },
      "source": [
        "x_scaled"
      ],
      "execution_count": 0,
      "outputs": []
    },
    {
      "cell_type": "code",
      "metadata": {
        "id": "7AAG_dMHNoxi",
        "colab_type": "code",
        "colab": {}
      },
      "source": [
        "bat_scaled = pd.DataFrame(x_scaled, columns=col, index=bat_df1.index)"
      ],
      "execution_count": 0,
      "outputs": []
    },
    {
      "cell_type": "code",
      "metadata": {
        "scrolled": true,
        "id": "edm-PzZQNoxj",
        "colab_type": "code",
        "colab": {}
      },
      "source": [
        "bat_scaled"
      ],
      "execution_count": 0,
      "outputs": []
    },
    {
      "cell_type": "code",
      "metadata": {
        "id": "7PJehIcXNoxk",
        "colab_type": "code",
        "colab": {}
      },
      "source": [
        "import numpy as np\n",
        "import matplotlib.pyplot as plt\n",
        "import seaborn as sns\n",
        "\n",
        "%matplotlib inline\n"
      ],
      "execution_count": 0,
      "outputs": []
    },
    {
      "cell_type": "code",
      "metadata": {
        "id": "b0gi6JMQNoxm",
        "colab_type": "code",
        "colab": {}
      },
      "source": [
        "# 상관계수 구하자\n",
        "col = ['R', 'TH', 'H', '2B', '3B', 'HR','RBI','SB','CS','BB','SO','SH','SF','HBP','AVG','OBP','SLG','OPS']\n",
        "R=np.corrcoef(bat_scaled['R'],bat_scaled['PCT'])\n",
        "TH=np.corrcoef(bat_scaled['TH'],bat_scaled['PCT'])\n",
        "H=np.corrcoef(bat_scaled['H'],bat_scaled['PCT'])\n",
        "B2=np.corrcoef(bat_scaled['2B'],bat_scaled['PCT'])\n",
        "B3=np.corrcoef(bat_scaled['3B'],bat_scaled['PCT'])\n",
        "HR=np.corrcoef(bat_scaled['HR'],bat_scaled['PCT'])\n",
        "RBI=np.corrcoef(bat_scaled['RBI'],bat_scaled['PCT'])\n",
        "SB=np.corrcoef(bat_scaled['SB'],bat_scaled['PCT'])\n",
        "CS=np.corrcoef(bat_scaled['CS'],bat_scaled['PCT'])\n",
        "BB=np.corrcoef(bat_scaled['BB'],bat_scaled['PCT'])\n",
        "SO=np.corrcoef(bat_scaled['SO'],bat_scaled['PCT'])\n",
        "SH=np.corrcoef(bat_scaled['SH'],bat_scaled['PCT'])\n",
        "SF=np.corrcoef(bat_scaled['SF'],bat_scaled['PCT'])\n",
        "HBP=np.corrcoef(bat_scaled['HBP'],bat_scaled['PCT'])\n",
        "AVG=np.corrcoef(bat_scaled['AVG'],bat_scaled['PCT'])\n",
        "OBP=np.corrcoef(bat_scaled['OBP'],bat_scaled['PCT'])\n",
        "SLG=np.corrcoef(bat_scaled['SLG'],bat_scaled['PCT'])\n",
        "OPS=np.corrcoef(bat_scaled['OPS'],bat_scaled['PCT'])"
      ],
      "execution_count": 0,
      "outputs": []
    },
    {
      "cell_type": "code",
      "metadata": {
        "id": "2HUXc2pHNoxn",
        "colab_type": "code",
        "colab": {}
      },
      "source": [
        "hitmap = pd.DataFrame({\n",
        "    'R':R[1][0],\n",
        "    'TH':TH[1][0],\n",
        "    'H':H[1][0],\n",
        "    '2B':B2[1][0],\n",
        "    '3B':B3[1][0],\n",
        "    'HR':HR[1][0],\n",
        "    'RBI':RBI[1][0],\n",
        "    'SB':SB[1][0],\n",
        "    'CS':CS[1][0],\n",
        "    'BB':BB[1][0],\n",
        "    'SO':SO[1][0],\n",
        "    'SH':SH[1][0],\n",
        "    'SF':SF[1][0],\n",
        "    'HBP':HBP[1][0],\n",
        "    'AVG':AVG[1][0],\n",
        "    'OBP':OBP[1][0],\n",
        "    'SLG':SLG[1][0],\n",
        "    'OPS':OPS[1][0],\n",
        "    \n",
        "},index=['corrcoef'])"
      ],
      "execution_count": 0,
      "outputs": []
    },
    {
      "cell_type": "code",
      "metadata": {
        "id": "RQPKamg6Noxo",
        "colab_type": "code",
        "colab": {}
      },
      "source": [
        "hitmap=np.abs(hitmap)"
      ],
      "execution_count": 0,
      "outputs": []
    },
    {
      "cell_type": "code",
      "metadata": {
        "id": "RSF4i22XNoxp",
        "colab_type": "code",
        "colab": {}
      },
      "source": [
        "import matplotlib.pyplot as plt\n",
        "import seaborn as sns\n",
        "\n",
        "%matplotlib inline"
      ],
      "execution_count": 0,
      "outputs": []
    },
    {
      "cell_type": "code",
      "metadata": {
        "id": "7ghQaSZ-Noxq",
        "colab_type": "code",
        "colab": {}
      },
      "source": [
        "plt.figure(figsize=(5,15))\n",
        "sns.heatmap(hitmap[col].T,annot=True, fmt='f', linewidths=1, cmap='RdPu')\n",
        "plt.title('corrcoef of Batter')\n",
        "plt.show()"
      ],
      "execution_count": 0,
      "outputs": []
    },
    {
      "cell_type": "code",
      "metadata": {
        "id": "yzl3khNZNoxr",
        "colab_type": "code",
        "colab": {}
      },
      "source": [
        ""
      ],
      "execution_count": 0,
      "outputs": []
    },
    {
      "cell_type": "code",
      "metadata": {
        "id": "3zar8lCqNoxs",
        "colab_type": "code",
        "colab": {}
      },
      "source": [
        ""
      ],
      "execution_count": 0,
      "outputs": []
    },
    {
      "cell_type": "code",
      "metadata": {
        "id": "zeohZZY_Nox5",
        "colab_type": "code",
        "colab": {}
      },
      "source": [
        "\n",
        "x = bat_total[col].values\n",
        "# min_max_scaler이라는 변수에 min,max값을 계산해주는 것을 담고\n",
        "# 그 최대 최소 값을 이용해 단위를 줄여줌\n",
        "min_max_scaler = preprocessing.MinMaxScaler()\n",
        "# x_sacled 새로운 변수에 x를 넣어서 실행\n",
        "x_sacled = min_max_scaler.fit_transform(x)"
      ],
      "execution_count": 0,
      "outputs": []
    },
    {
      "cell_type": "code",
      "metadata": {
        "id": "WaolxSVnNoyM",
        "colab_type": "code",
        "colab": {}
      },
      "source": [
        "import matplotlib.pyplot as plt\n",
        "import missingno as msng\n",
        "msng.matrix(bat_10)"
      ],
      "execution_count": 0,
      "outputs": []
    },
    {
      "cell_type": "code",
      "metadata": {
        "id": "xyhgVUHTNoyQ",
        "colab_type": "code",
        "colab": {}
      },
      "source": [
        "bat_10 = pd.read_csv('../Data/MLB_data_edit/2019_bat.csv')"
      ],
      "execution_count": 0,
      "outputs": []
    },
    {
      "cell_type": "code",
      "metadata": {
        "id": "rqGH-oyRNoyS",
        "colab_type": "code",
        "colab": {}
      },
      "source": [
        "bat_10.head()"
      ],
      "execution_count": 0,
      "outputs": []
    },
    {
      "cell_type": "code",
      "metadata": {
        "scrolled": true,
        "id": "WVsaOdCLNoyV",
        "colab_type": "code",
        "colab": {}
      },
      "source": [
        "bat_10.drop['Unnamed']"
      ],
      "execution_count": 0,
      "outputs": []
    },
    {
      "cell_type": "code",
      "metadata": {
        "id": "n-6OfIDrNoyW",
        "colab_type": "code",
        "colab": {}
      },
      "source": [
        "bat_10 =  bat_10[['Player', 'Team', 'Pos', 'G', 'AB', 'R', 'TH','H', '2B', '3B', 'HR', 'RBI',\n",
        "       'SB', 'CS', 'BB', 'SO', 'SH', 'SF', 'HBP', 'AVG', 'OBP', 'SLG', 'OPS']]"
      ],
      "execution_count": 0,
      "outputs": []
    },
    {
      "cell_type": "code",
      "metadata": {
        "id": "DoY4MTKzNoyW",
        "colab_type": "code",
        "colab": {}
      },
      "source": [
        "bat_10.head()"
      ],
      "execution_count": 0,
      "outputs": []
    },
    {
      "cell_type": "code",
      "metadata": {
        "id": "NRbYReWxNoyX",
        "colab_type": "code",
        "colab": {}
      },
      "source": [
        "# 수정본 저장\n",
        "bat_10.to_csv('../Data/MLB_data/2019_bat.csv')"
      ],
      "execution_count": 0,
      "outputs": []
    },
    {
      "cell_type": "code",
      "metadata": {
        "id": "BZB0fXlpNoyY",
        "colab_type": "code",
        "colab": {}
      },
      "source": [
        "def save(x):\n",
        "    del x['Age']\n",
        "    x.rename(columns={\"H\":\"TH\"}, inplace=True)\n",
        "    x['H']=x['TH']-(x['2B']+x['3B']+x['HR'])\n",
        "    x=x[['Player', 'Team', 'Pos', 'G', 'AB', 'R', 'TH', 'H','2B', '3B', 'HR', 'RBI','SB', 'CS', 'BB', 'SO', 'SH', 'SF', 'HBP', 'AVG', 'OBP', 'SLG', 'OPS']]"
      ],
      "execution_count": 0,
      "outputs": []
    },
    {
      "cell_type": "code",
      "metadata": {
        "id": "BTB4xDN9Noyi",
        "colab_type": "code",
        "colab": {}
      },
      "source": [
        ""
      ],
      "execution_count": 0,
      "outputs": []
    },
    {
      "cell_type": "code",
      "metadata": {
        "id": "HbY4ocKPNoyj",
        "colab_type": "code",
        "colab": {}
      },
      "source": [
        ""
      ],
      "execution_count": 0,
      "outputs": []
    },
    {
      "cell_type": "code",
      "metadata": {
        "id": "aKSybcPWNoyj",
        "colab_type": "code",
        "colab": {}
      },
      "source": [
        ""
      ],
      "execution_count": 0,
      "outputs": []
    },
    {
      "cell_type": "code",
      "metadata": {
        "id": "dke_OKI1Noyk",
        "colab_type": "code",
        "colab": {}
      },
      "source": [
        ""
      ],
      "execution_count": 0,
      "outputs": []
    },
    {
      "cell_type": "code",
      "metadata": {
        "id": "XRUvfb1NNoyo",
        "colab_type": "code",
        "colab": {}
      },
      "source": [
        ""
      ],
      "execution_count": 0,
      "outputs": []
    },
    {
      "cell_type": "code",
      "metadata": {
        "id": "T5zc7q47Noyo",
        "colab_type": "code",
        "colab": {}
      },
      "source": [
        ""
      ],
      "execution_count": 0,
      "outputs": []
    },
    {
      "cell_type": "code",
      "metadata": {
        "id": "rCR9KZ4tNoyp",
        "colab_type": "code",
        "colab": {}
      },
      "source": [
        ""
      ],
      "execution_count": 0,
      "outputs": []
    },
    {
      "cell_type": "code",
      "metadata": {
        "id": "6JKWIqgSNoyq",
        "colab_type": "code",
        "colab": {}
      },
      "source": [
        ""
      ],
      "execution_count": 0,
      "outputs": []
    },
    {
      "cell_type": "code",
      "metadata": {
        "id": "DBiBkmTlNozC",
        "colab_type": "code",
        "colab": {}
      },
      "source": [
        ""
      ],
      "execution_count": 0,
      "outputs": []
    },
    {
      "cell_type": "code",
      "metadata": {
        "id": "ohBAa7qvNozD",
        "colab_type": "code",
        "colab": {}
      },
      "source": [
        ""
      ],
      "execution_count": 0,
      "outputs": []
    },
    {
      "cell_type": "code",
      "metadata": {
        "id": "phoIawPZNozE",
        "colab_type": "code",
        "colab": {}
      },
      "source": [
        ""
      ],
      "execution_count": 0,
      "outputs": []
    },
    {
      "cell_type": "code",
      "metadata": {
        "id": "TU0G-pJDNozF",
        "colab_type": "code",
        "colab": {}
      },
      "source": [
        ""
      ],
      "execution_count": 0,
      "outputs": []
    },
    {
      "cell_type": "code",
      "metadata": {
        "id": "dKBETBHmNozG",
        "colab_type": "code",
        "colab": {}
      },
      "source": [
        ""
      ],
      "execution_count": 0,
      "outputs": []
    },
    {
      "cell_type": "code",
      "metadata": {
        "id": "MG3hYh2ANozG",
        "colab_type": "code",
        "colab": {}
      },
      "source": [
        ""
      ],
      "execution_count": 0,
      "outputs": []
    },
    {
      "cell_type": "code",
      "metadata": {
        "id": "H9WAClazNozH",
        "colab_type": "code",
        "colab": {}
      },
      "source": [
        ""
      ],
      "execution_count": 0,
      "outputs": []
    },
    {
      "cell_type": "code",
      "metadata": {
        "id": "xkg7M-AFNozI",
        "colab_type": "code",
        "colab": {}
      },
      "source": [
        ""
      ],
      "execution_count": 0,
      "outputs": []
    },
    {
      "cell_type": "code",
      "metadata": {
        "id": "J9z_E8FzNozJ",
        "colab_type": "code",
        "colab": {}
      },
      "source": [
        ""
      ],
      "execution_count": 0,
      "outputs": []
    },
    {
      "cell_type": "code",
      "metadata": {
        "id": "HwFzLUiaNozJ",
        "colab_type": "code",
        "colab": {}
      },
      "source": [
        ""
      ],
      "execution_count": 0,
      "outputs": []
    },
    {
      "cell_type": "code",
      "metadata": {
        "id": "Z80tlqrKNozK",
        "colab_type": "code",
        "colab": {}
      },
      "source": [
        ""
      ],
      "execution_count": 0,
      "outputs": []
    },
    {
      "cell_type": "code",
      "metadata": {
        "id": "NKDgfDMvNozK",
        "colab_type": "code",
        "colab": {}
      },
      "source": [
        ""
      ],
      "execution_count": 0,
      "outputs": []
    },
    {
      "cell_type": "code",
      "metadata": {
        "id": "EueBnxOHNozL",
        "colab_type": "code",
        "colab": {}
      },
      "source": [
        ""
      ],
      "execution_count": 0,
      "outputs": []
    },
    {
      "cell_type": "code",
      "metadata": {
        "id": "rI3JU2xzNozM",
        "colab_type": "code",
        "colab": {}
      },
      "source": [
        ""
      ],
      "execution_count": 0,
      "outputs": []
    },
    {
      "cell_type": "code",
      "metadata": {
        "id": "5EyDHysrNozO",
        "colab_type": "code",
        "colab": {}
      },
      "source": [
        ""
      ],
      "execution_count": 0,
      "outputs": []
    },
    {
      "cell_type": "code",
      "metadata": {
        "id": "k969Nl9hNozO",
        "colab_type": "code",
        "colab": {}
      },
      "source": [
        ""
      ],
      "execution_count": 0,
      "outputs": []
    },
    {
      "cell_type": "code",
      "metadata": {
        "id": "8a7oku85NozP",
        "colab_type": "code",
        "colab": {}
      },
      "source": [
        ""
      ],
      "execution_count": 0,
      "outputs": []
    },
    {
      "cell_type": "code",
      "metadata": {
        "id": "FgEb9mJjNozQ",
        "colab_type": "code",
        "colab": {}
      },
      "source": [
        ""
      ],
      "execution_count": 0,
      "outputs": []
    },
    {
      "cell_type": "code",
      "metadata": {
        "id": "6eLYL8FYNozQ",
        "colab_type": "code",
        "colab": {}
      },
      "source": [
        ""
      ],
      "execution_count": 0,
      "outputs": []
    },
    {
      "cell_type": "code",
      "metadata": {
        "id": "RlLXCv3wNozR",
        "colab_type": "code",
        "colab": {}
      },
      "source": [
        ""
      ],
      "execution_count": 0,
      "outputs": []
    },
    {
      "cell_type": "code",
      "metadata": {
        "id": "b22zD9PINozR",
        "colab_type": "code",
        "colab": {}
      },
      "source": [
        ""
      ],
      "execution_count": 0,
      "outputs": []
    },
    {
      "cell_type": "code",
      "metadata": {
        "id": "z0LAmBbXNozS",
        "colab_type": "code",
        "colab": {}
      },
      "source": [
        ""
      ],
      "execution_count": 0,
      "outputs": []
    },
    {
      "cell_type": "code",
      "metadata": {
        "id": "yW_TJFyYNozS",
        "colab_type": "code",
        "colab": {}
      },
      "source": [
        ""
      ],
      "execution_count": 0,
      "outputs": []
    },
    {
      "cell_type": "code",
      "metadata": {
        "id": "RwOFTGh9NozT",
        "colab_type": "code",
        "colab": {}
      },
      "source": [
        ""
      ],
      "execution_count": 0,
      "outputs": []
    },
    {
      "cell_type": "code",
      "metadata": {
        "id": "d5oDbJcpNozU",
        "colab_type": "code",
        "colab": {}
      },
      "source": [
        ""
      ],
      "execution_count": 0,
      "outputs": []
    },
    {
      "cell_type": "code",
      "metadata": {
        "id": "5klDSM47NozV",
        "colab_type": "code",
        "colab": {}
      },
      "source": [
        ""
      ],
      "execution_count": 0,
      "outputs": []
    },
    {
      "cell_type": "code",
      "metadata": {
        "id": "G9amuTAANozX",
        "colab_type": "code",
        "colab": {}
      },
      "source": [
        ""
      ],
      "execution_count": 0,
      "outputs": []
    },
    {
      "cell_type": "code",
      "metadata": {
        "id": "HqbGY9o1NozX",
        "colab_type": "code",
        "colab": {}
      },
      "source": [
        ""
      ],
      "execution_count": 0,
      "outputs": []
    },
    {
      "cell_type": "code",
      "metadata": {
        "id": "OuIw9Q-XNozY",
        "colab_type": "code",
        "colab": {}
      },
      "source": [
        ""
      ],
      "execution_count": 0,
      "outputs": []
    },
    {
      "cell_type": "code",
      "metadata": {
        "id": "eOm6VvyqNozY",
        "colab_type": "code",
        "colab": {}
      },
      "source": [
        ""
      ],
      "execution_count": 0,
      "outputs": []
    },
    {
      "cell_type": "code",
      "metadata": {
        "id": "AGfmmC_ANozZ",
        "colab_type": "code",
        "colab": {}
      },
      "source": [
        ""
      ],
      "execution_count": 0,
      "outputs": []
    },
    {
      "cell_type": "code",
      "metadata": {
        "id": "wMtecSaXNoza",
        "colab_type": "code",
        "colab": {}
      },
      "source": [
        ""
      ],
      "execution_count": 0,
      "outputs": []
    },
    {
      "cell_type": "code",
      "metadata": {
        "id": "THpjGFK-Noza",
        "colab_type": "code",
        "colab": {}
      },
      "source": [
        ""
      ],
      "execution_count": 0,
      "outputs": []
    },
    {
      "cell_type": "code",
      "metadata": {
        "id": "3Z37EFHNNozb",
        "colab_type": "code",
        "colab": {}
      },
      "source": [
        ""
      ],
      "execution_count": 0,
      "outputs": []
    },
    {
      "cell_type": "code",
      "metadata": {
        "id": "KkBjuDDMNozb",
        "colab_type": "code",
        "colab": {}
      },
      "source": [
        ""
      ],
      "execution_count": 0,
      "outputs": []
    },
    {
      "cell_type": "code",
      "metadata": {
        "id": "e3ZvfP1CNozc",
        "colab_type": "code",
        "colab": {}
      },
      "source": [
        ""
      ],
      "execution_count": 0,
      "outputs": []
    },
    {
      "cell_type": "code",
      "metadata": {
        "id": "uyCdpAGwNozd",
        "colab_type": "code",
        "colab": {}
      },
      "source": [
        ""
      ],
      "execution_count": 0,
      "outputs": []
    },
    {
      "cell_type": "code",
      "metadata": {
        "id": "-5mmCoiMNoze",
        "colab_type": "code",
        "colab": {}
      },
      "source": [
        ""
      ],
      "execution_count": 0,
      "outputs": []
    },
    {
      "cell_type": "code",
      "metadata": {
        "id": "goqwBTD4Noze",
        "colab_type": "code",
        "colab": {}
      },
      "source": [
        ""
      ],
      "execution_count": 0,
      "outputs": []
    },
    {
      "cell_type": "code",
      "metadata": {
        "id": "JSA4MKlQNozf",
        "colab_type": "code",
        "colab": {}
      },
      "source": [
        ""
      ],
      "execution_count": 0,
      "outputs": []
    },
    {
      "cell_type": "code",
      "metadata": {
        "id": "wqDgIzriNozf",
        "colab_type": "code",
        "colab": {}
      },
      "source": [
        ""
      ],
      "execution_count": 0,
      "outputs": []
    },
    {
      "cell_type": "code",
      "metadata": {
        "id": "V1jdTt4gNozg",
        "colab_type": "code",
        "colab": {}
      },
      "source": [
        ""
      ],
      "execution_count": 0,
      "outputs": []
    },
    {
      "cell_type": "code",
      "metadata": {
        "id": "whyW3wiINozg",
        "colab_type": "code",
        "colab": {}
      },
      "source": [
        ""
      ],
      "execution_count": 0,
      "outputs": []
    },
    {
      "cell_type": "code",
      "metadata": {
        "id": "_Km6OA5_Nozh",
        "colab_type": "code",
        "colab": {}
      },
      "source": [
        ""
      ],
      "execution_count": 0,
      "outputs": []
    },
    {
      "cell_type": "code",
      "metadata": {
        "id": "E4EoQ4Z4Nozh",
        "colab_type": "code",
        "colab": {}
      },
      "source": [
        ""
      ],
      "execution_count": 0,
      "outputs": []
    },
    {
      "cell_type": "code",
      "metadata": {
        "id": "wNWAGRQKNozi",
        "colab_type": "code",
        "colab": {}
      },
      "source": [
        ""
      ],
      "execution_count": 0,
      "outputs": []
    },
    {
      "cell_type": "code",
      "metadata": {
        "id": "OM9ugp4fNozi",
        "colab_type": "code",
        "colab": {}
      },
      "source": [
        ""
      ],
      "execution_count": 0,
      "outputs": []
    },
    {
      "cell_type": "code",
      "metadata": {
        "id": "rPRDOYDwNozj",
        "colab_type": "code",
        "colab": {}
      },
      "source": [
        ""
      ],
      "execution_count": 0,
      "outputs": []
    },
    {
      "cell_type": "code",
      "metadata": {
        "id": "AHYxU6XeNozj",
        "colab_type": "code",
        "colab": {}
      },
      "source": [
        ""
      ],
      "execution_count": 0,
      "outputs": []
    },
    {
      "cell_type": "code",
      "metadata": {
        "id": "HS0vck2XNozj",
        "colab_type": "code",
        "colab": {}
      },
      "source": [
        ""
      ],
      "execution_count": 0,
      "outputs": []
    },
    {
      "cell_type": "code",
      "metadata": {
        "id": "4xkoi6ZWNozl",
        "colab_type": "code",
        "colab": {}
      },
      "source": [
        ""
      ],
      "execution_count": 0,
      "outputs": []
    },
    {
      "cell_type": "code",
      "metadata": {
        "id": "mxqyCa-jNozm",
        "colab_type": "code",
        "colab": {}
      },
      "source": [
        ""
      ],
      "execution_count": 0,
      "outputs": []
    },
    {
      "cell_type": "code",
      "metadata": {
        "id": "0rtT2vPONozm",
        "colab_type": "code",
        "colab": {}
      },
      "source": [
        ""
      ],
      "execution_count": 0,
      "outputs": []
    },
    {
      "cell_type": "code",
      "metadata": {
        "id": "jgsvWhXsNozn",
        "colab_type": "code",
        "colab": {}
      },
      "source": [
        ""
      ],
      "execution_count": 0,
      "outputs": []
    },
    {
      "cell_type": "code",
      "metadata": {
        "id": "CDjJvpGjNozn",
        "colab_type": "code",
        "colab": {}
      },
      "source": [
        ""
      ],
      "execution_count": 0,
      "outputs": []
    },
    {
      "cell_type": "code",
      "metadata": {
        "id": "buKvlBUKNozo",
        "colab_type": "code",
        "colab": {}
      },
      "source": [
        ""
      ],
      "execution_count": 0,
      "outputs": []
    },
    {
      "cell_type": "code",
      "metadata": {
        "id": "Ay9kSc3INozo",
        "colab_type": "code",
        "colab": {}
      },
      "source": [
        ""
      ],
      "execution_count": 0,
      "outputs": []
    },
    {
      "cell_type": "code",
      "metadata": {
        "id": "u8bctvcqNozp",
        "colab_type": "code",
        "colab": {}
      },
      "source": [
        ""
      ],
      "execution_count": 0,
      "outputs": []
    },
    {
      "cell_type": "code",
      "metadata": {
        "id": "DGxbxc9-Nozp",
        "colab_type": "code",
        "colab": {}
      },
      "source": [
        ""
      ],
      "execution_count": 0,
      "outputs": []
    },
    {
      "cell_type": "code",
      "metadata": {
        "id": "UQdRd4WONozq",
        "colab_type": "code",
        "colab": {}
      },
      "source": [
        ""
      ],
      "execution_count": 0,
      "outputs": []
    },
    {
      "cell_type": "code",
      "metadata": {
        "id": "2CTr49xCNozq",
        "colab_type": "code",
        "colab": {}
      },
      "source": [
        ""
      ],
      "execution_count": 0,
      "outputs": []
    },
    {
      "cell_type": "code",
      "metadata": {
        "id": "fn0Gh0fPNozr",
        "colab_type": "code",
        "colab": {}
      },
      "source": [
        ""
      ],
      "execution_count": 0,
      "outputs": []
    },
    {
      "cell_type": "code",
      "metadata": {
        "id": "e7W72F0cNozr",
        "colab_type": "code",
        "colab": {}
      },
      "source": [
        ""
      ],
      "execution_count": 0,
      "outputs": []
    },
    {
      "cell_type": "code",
      "metadata": {
        "id": "eEUqAOLMNozs",
        "colab_type": "code",
        "colab": {}
      },
      "source": [
        ""
      ],
      "execution_count": 0,
      "outputs": []
    },
    {
      "cell_type": "code",
      "metadata": {
        "id": "U_Fqh8YyNozs",
        "colab_type": "code",
        "colab": {}
      },
      "source": [
        ""
      ],
      "execution_count": 0,
      "outputs": []
    },
    {
      "cell_type": "code",
      "metadata": {
        "id": "b_vgUMquNozt",
        "colab_type": "code",
        "colab": {}
      },
      "source": [
        ""
      ],
      "execution_count": 0,
      "outputs": []
    },
    {
      "cell_type": "code",
      "metadata": {
        "id": "1_MW9ewVNozu",
        "colab_type": "code",
        "colab": {}
      },
      "source": [
        ""
      ],
      "execution_count": 0,
      "outputs": []
    },
    {
      "cell_type": "code",
      "metadata": {
        "id": "ZTVFVaI-Nozv",
        "colab_type": "code",
        "colab": {}
      },
      "source": [
        ""
      ],
      "execution_count": 0,
      "outputs": []
    },
    {
      "cell_type": "code",
      "metadata": {
        "id": "Sx0ues3vNozv",
        "colab_type": "code",
        "colab": {}
      },
      "source": [
        ""
      ],
      "execution_count": 0,
      "outputs": []
    },
    {
      "cell_type": "code",
      "metadata": {
        "id": "0mDpSRGCNozw",
        "colab_type": "code",
        "colab": {}
      },
      "source": [
        ""
      ],
      "execution_count": 0,
      "outputs": []
    },
    {
      "cell_type": "code",
      "metadata": {
        "id": "1TBlmqv2Nozw",
        "colab_type": "code",
        "colab": {}
      },
      "source": [
        ""
      ],
      "execution_count": 0,
      "outputs": []
    },
    {
      "cell_type": "code",
      "metadata": {
        "id": "uWC4sAQZNozx",
        "colab_type": "code",
        "colab": {}
      },
      "source": [
        ""
      ],
      "execution_count": 0,
      "outputs": []
    },
    {
      "cell_type": "code",
      "metadata": {
        "id": "tITWig3KNozy",
        "colab_type": "code",
        "colab": {}
      },
      "source": [
        ""
      ],
      "execution_count": 0,
      "outputs": []
    },
    {
      "cell_type": "code",
      "metadata": {
        "id": "7rx18DBvNozy",
        "colab_type": "code",
        "colab": {}
      },
      "source": [
        ""
      ],
      "execution_count": 0,
      "outputs": []
    },
    {
      "cell_type": "code",
      "metadata": {
        "id": "hoKlGbg7Nozz",
        "colab_type": "code",
        "colab": {}
      },
      "source": [
        ""
      ],
      "execution_count": 0,
      "outputs": []
    },
    {
      "cell_type": "code",
      "metadata": {
        "id": "0FmO9D9zNozz",
        "colab_type": "code",
        "colab": {}
      },
      "source": [
        ""
      ],
      "execution_count": 0,
      "outputs": []
    },
    {
      "cell_type": "code",
      "metadata": {
        "id": "bm5UL8gVNoz0",
        "colab_type": "code",
        "colab": {}
      },
      "source": [
        ""
      ],
      "execution_count": 0,
      "outputs": []
    },
    {
      "cell_type": "code",
      "metadata": {
        "id": "-mK2vXBBNoz1",
        "colab_type": "code",
        "colab": {}
      },
      "source": [
        ""
      ],
      "execution_count": 0,
      "outputs": []
    },
    {
      "cell_type": "code",
      "metadata": {
        "id": "1F8vry1wNoz1",
        "colab_type": "code",
        "colab": {}
      },
      "source": [
        ""
      ],
      "execution_count": 0,
      "outputs": []
    },
    {
      "cell_type": "code",
      "metadata": {
        "id": "HEo-s9kjNoz2",
        "colab_type": "code",
        "colab": {}
      },
      "source": [
        ""
      ],
      "execution_count": 0,
      "outputs": []
    },
    {
      "cell_type": "code",
      "metadata": {
        "id": "wHMO321-Noz2",
        "colab_type": "code",
        "colab": {}
      },
      "source": [
        ""
      ],
      "execution_count": 0,
      "outputs": []
    },
    {
      "cell_type": "code",
      "metadata": {
        "id": "2qEaghk5Noz3",
        "colab_type": "code",
        "colab": {}
      },
      "source": [
        ""
      ],
      "execution_count": 0,
      "outputs": []
    },
    {
      "cell_type": "code",
      "metadata": {
        "id": "e4dhsM3CNoz3",
        "colab_type": "code",
        "colab": {}
      },
      "source": [
        ""
      ],
      "execution_count": 0,
      "outputs": []
    },
    {
      "cell_type": "code",
      "metadata": {
        "id": "Qz8RjqZeNoz4",
        "colab_type": "code",
        "colab": {}
      },
      "source": [
        ""
      ],
      "execution_count": 0,
      "outputs": []
    },
    {
      "cell_type": "code",
      "metadata": {
        "id": "KWQT2PBoNoz4",
        "colab_type": "code",
        "colab": {}
      },
      "source": [
        ""
      ],
      "execution_count": 0,
      "outputs": []
    },
    {
      "cell_type": "code",
      "metadata": {
        "id": "i3ZKKLYANoz6",
        "colab_type": "code",
        "colab": {}
      },
      "source": [
        ""
      ],
      "execution_count": 0,
      "outputs": []
    },
    {
      "cell_type": "code",
      "metadata": {
        "id": "XZPo6TTPNoz6",
        "colab_type": "code",
        "colab": {}
      },
      "source": [
        ""
      ],
      "execution_count": 0,
      "outputs": []
    },
    {
      "cell_type": "code",
      "metadata": {
        "id": "JY9eaFlkNoz7",
        "colab_type": "code",
        "colab": {}
      },
      "source": [
        ""
      ],
      "execution_count": 0,
      "outputs": []
    },
    {
      "cell_type": "code",
      "metadata": {
        "id": "0HfaWb5QNoz7",
        "colab_type": "code",
        "colab": {}
      },
      "source": [
        ""
      ],
      "execution_count": 0,
      "outputs": []
    },
    {
      "cell_type": "code",
      "metadata": {
        "id": "ci-o2REGNoz7",
        "colab_type": "code",
        "colab": {}
      },
      "source": [
        ""
      ],
      "execution_count": 0,
      "outputs": []
    },
    {
      "cell_type": "code",
      "metadata": {
        "id": "9KeC9IO7Noz8",
        "colab_type": "code",
        "colab": {}
      },
      "source": [
        ""
      ],
      "execution_count": 0,
      "outputs": []
    },
    {
      "cell_type": "code",
      "metadata": {
        "id": "Djse9xl6Noz8",
        "colab_type": "code",
        "outputId": "242a955e-bf08-4b61-d8ed-775d7d5c8f2b",
        "colab": {}
      },
      "source": [
        "b_corr.corrcoef_"
      ],
      "execution_count": 0,
      "outputs": [
        {
          "output_type": "error",
          "ename": "NameError",
          "evalue": "name 'b_corr' is not defined",
          "traceback": [
            "\u001b[1;31m---------------------------------------------------------------------------\u001b[0m",
            "\u001b[1;31mNameError\u001b[0m                                 Traceback (most recent call last)",
            "\u001b[1;32m<ipython-input-46-a917d8d917bf>\u001b[0m in \u001b[0;36m<module>\u001b[1;34m\u001b[0m\n\u001b[1;32m----> 1\u001b[1;33m \u001b[0mb_corr\u001b[0m\u001b[1;33m.\u001b[0m\u001b[0mcorrcoef_\u001b[0m\u001b[1;33m\u001b[0m\u001b[1;33m\u001b[0m\u001b[0m\n\u001b[0m",
            "\u001b[1;31mNameError\u001b[0m: name 'b_corr' is not defined"
          ]
        }
      ]
    },
    {
      "cell_type": "code",
      "metadata": {
        "id": "PgMTXI0KNoz9",
        "colab_type": "code",
        "colab": {}
      },
      "source": [
        "import pandas as pd\n",
        "import numpy as np "
      ],
      "execution_count": 0,
      "outputs": []
    },
    {
      "cell_type": "code",
      "metadata": {
        "id": "UaNYCpbRNoz9",
        "colab_type": "code",
        "colab": {}
      },
      "source": [
        ""
      ],
      "execution_count": 0,
      "outputs": []
    },
    {
      "cell_type": "code",
      "metadata": {
        "id": "lhSrGhkbNoz-",
        "colab_type": "code",
        "colab": {}
      },
      "source": [
        ""
      ],
      "execution_count": 0,
      "outputs": []
    },
    {
      "cell_type": "code",
      "metadata": {
        "id": "ojIhPqnONoz-",
        "colab_type": "code",
        "colab": {}
      },
      "source": [
        ""
      ],
      "execution_count": 0,
      "outputs": []
    },
    {
      "cell_type": "code",
      "metadata": {
        "id": "XQgjJWTSNoz_",
        "colab_type": "code",
        "colab": {}
      },
      "source": [
        ""
      ],
      "execution_count": 0,
      "outputs": []
    },
    {
      "cell_type": "code",
      "metadata": {
        "id": "RvBQ2iVBNoz_",
        "colab_type": "code",
        "colab": {}
      },
      "source": [
        ""
      ],
      "execution_count": 0,
      "outputs": []
    },
    {
      "cell_type": "code",
      "metadata": {
        "id": "XBGR5GtvNo0A",
        "colab_type": "code",
        "colab": {}
      },
      "source": [
        ""
      ],
      "execution_count": 0,
      "outputs": []
    },
    {
      "cell_type": "code",
      "metadata": {
        "id": "h-VKZlT8No0A",
        "colab_type": "code",
        "colab": {}
      },
      "source": [
        ""
      ],
      "execution_count": 0,
      "outputs": []
    },
    {
      "cell_type": "code",
      "metadata": {
        "id": "RIc5CNzSNo0B",
        "colab_type": "code",
        "colab": {}
      },
      "source": [
        ""
      ],
      "execution_count": 0,
      "outputs": []
    },
    {
      "cell_type": "code",
      "metadata": {
        "id": "iURic6LKNo0B",
        "colab_type": "code",
        "colab": {}
      },
      "source": [
        ""
      ],
      "execution_count": 0,
      "outputs": []
    },
    {
      "cell_type": "code",
      "metadata": {
        "id": "ekgiszFXNo0C",
        "colab_type": "code",
        "colab": {}
      },
      "source": [
        ""
      ],
      "execution_count": 0,
      "outputs": []
    },
    {
      "cell_type": "code",
      "metadata": {
        "id": "oOmSjfvwNo0C",
        "colab_type": "code",
        "colab": {}
      },
      "source": [
        ""
      ],
      "execution_count": 0,
      "outputs": []
    },
    {
      "cell_type": "code",
      "metadata": {
        "id": "Hubc2ttANo0C",
        "colab_type": "code",
        "colab": {}
      },
      "source": [
        ""
      ],
      "execution_count": 0,
      "outputs": []
    },
    {
      "cell_type": "code",
      "metadata": {
        "id": "8P0m6-F2No0D",
        "colab_type": "code",
        "colab": {}
      },
      "source": [
        ""
      ],
      "execution_count": 0,
      "outputs": []
    }
  ]
}