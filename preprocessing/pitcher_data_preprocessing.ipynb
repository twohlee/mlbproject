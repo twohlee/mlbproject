{
  "nbformat": 4,
  "nbformat_minor": 0,
  "metadata": {
    "kernelspec": {
      "display_name": "Python 3",
      "language": "python",
      "name": "python3"
    },
    "language_info": {
      "codemirror_mode": {
        "name": "ipython",
        "version": 3
      },
      "file_extension": ".py",
      "mimetype": "text/x-python",
      "name": "python",
      "nbconvert_exporter": "python",
      "pygments_lexer": "ipython3",
      "version": "3.7.4"
    },
    "colab": {
      "name": "pitcher_data_preprocessing.ipynb",
      "provenance": []
    }
  },
  "cells": [
    {
      "cell_type": "code",
      "metadata": {
        "id": "K1kA71vNNJNK",
        "colab_type": "code",
        "colab": {}
      },
      "source": [
        "import pandas as pd\n",
        "import numpy as np"
      ],
      "execution_count": 0,
      "outputs": []
    },
    {
      "cell_type": "code",
      "metadata": {
        "id": "WpCYp6Y2NJNO",
        "colab_type": "code",
        "colab": {}
      },
      "source": [
        "pit_11 = pd.read_csv('../MLB_data/2011_pit.csv')\n",
        "def pit(x):\n",
        "    pd.\n",
        "    x = pit_11.drop(['Age'], axis=1)\n",
        "    x.to_csv('../MLB_data/{0}.csv'.format(x))"
      ],
      "execution_count": 0,
      "outputs": []
    },
    {
      "cell_type": "code",
      "metadata": {
        "id": "-232-zxdNJNR",
        "colab_type": "code",
        "colab": {}
      },
      "source": [
        "pit_11 = pd.read_csv('../MLB_data/2011_pit.csv')\n",
        "pit_12 = pd.read_csv('../MLB_data/2012_pit.csv')\n",
        "pit_13 = pd.read_csv('../MLB_data/2013_pit.csv')\n",
        "pit_14 = pd.read_csv('../MLB_data/2014_pit.csv')\n",
        "pit_15 = pd.read_csv('../MLB_data/2015_pit.csv')\n",
        "pit_16 = pd.read_csv('../MLB_data/2016_pit.csv')\n",
        "pit_17 = pd.read_csv('../MLB_data/2017_pit.csv')\n",
        "pit_18 = pd.read_csv('../MLB_data/2018_pit.csv')\n",
        "pit_19 = pd.read_csv('../MLB_data/2019_pit.csv')"
      ],
      "execution_count": 0,
      "outputs": []
    },
    {
      "cell_type": "code",
      "metadata": {
        "id": "bnfDfNpKNJNU",
        "colab_type": "code",
        "colab": {}
      },
      "source": [
        "pit_11 = pit_11.drop(['Age'], axis=1 )\n",
        "pit_12 = pit_12.drop(['Age'], axis=1 )\n",
        "pit_13 = pit_13.drop(['Age'], axis=1 )\n",
        "pit_14 = pit_14.drop(['Age'], axis=1 )\n",
        "pit_15 = pit_15.drop(['Age'], axis=1 )\n",
        "pit_16 = pit_16.drop(['Age'], axis=1 )\n",
        "pit_17 = pit_17.drop(['Age'], axis=1 )\n",
        "pit_18 = pit_18.drop(['Age'], axis=1 )\n",
        "pit_19 = pit_19.drop(['Age'], axis=1 )"
      ],
      "execution_count": 0,
      "outputs": []
    },
    {
      "cell_type": "code",
      "metadata": {
        "id": "5Uj0jreENJNW",
        "colab_type": "code",
        "outputId": "3e59c8f2-529d-494e-b2d9-ea6df42e4610",
        "colab": {}
      },
      "source": [
        "pit_19.head()"
      ],
      "execution_count": 0,
      "outputs": [
        {
          "output_type": "execute_result",
          "data": {
            "text/html": [
              "<div>\n",
              "<style scoped>\n",
              "    .dataframe tbody tr th:only-of-type {\n",
              "        vertical-align: middle;\n",
              "    }\n",
              "\n",
              "    .dataframe tbody tr th {\n",
              "        vertical-align: top;\n",
              "    }\n",
              "\n",
              "    .dataframe thead th {\n",
              "        text-align: right;\n",
              "    }\n",
              "</style>\n",
              "<table border=\"1\" class=\"dataframe\">\n",
              "  <thead>\n",
              "    <tr style=\"text-align: right;\">\n",
              "      <th></th>\n",
              "      <th>Player</th>\n",
              "      <th>Team</th>\n",
              "      <th>G</th>\n",
              "      <th>GS</th>\n",
              "      <th>CG</th>\n",
              "      <th>SHO</th>\n",
              "      <th>IP</th>\n",
              "      <th>H</th>\n",
              "      <th>ER</th>\n",
              "      <th>K</th>\n",
              "      <th>BB</th>\n",
              "      <th>HR</th>\n",
              "      <th>W</th>\n",
              "      <th>L</th>\n",
              "      <th>SV</th>\n",
              "      <th>BS</th>\n",
              "      <th>HLD</th>\n",
              "      <th>ERA</th>\n",
              "      <th>WHIP</th>\n",
              "    </tr>\n",
              "  </thead>\n",
              "  <tbody>\n",
              "    <tr>\n",
              "      <td>0</td>\n",
              "      <td>Justin Verlander</td>\n",
              "      <td>HOU</td>\n",
              "      <td>34</td>\n",
              "      <td>34</td>\n",
              "      <td>2</td>\n",
              "      <td>1</td>\n",
              "      <td>223.0</td>\n",
              "      <td>137</td>\n",
              "      <td>64</td>\n",
              "      <td>300</td>\n",
              "      <td>42</td>\n",
              "      <td>36</td>\n",
              "      <td>21</td>\n",
              "      <td>6</td>\n",
              "      <td>0</td>\n",
              "      <td>0</td>\n",
              "      <td>0</td>\n",
              "      <td>2.58</td>\n",
              "      <td>0.80</td>\n",
              "    </tr>\n",
              "    <tr>\n",
              "      <td>1</td>\n",
              "      <td>Shane Bieber</td>\n",
              "      <td>CLE</td>\n",
              "      <td>34</td>\n",
              "      <td>33</td>\n",
              "      <td>3</td>\n",
              "      <td>2</td>\n",
              "      <td>214.1</td>\n",
              "      <td>186</td>\n",
              "      <td>78</td>\n",
              "      <td>259</td>\n",
              "      <td>40</td>\n",
              "      <td>31</td>\n",
              "      <td>15</td>\n",
              "      <td>8</td>\n",
              "      <td>0</td>\n",
              "      <td>0</td>\n",
              "      <td>0</td>\n",
              "      <td>3.28</td>\n",
              "      <td>1.05</td>\n",
              "    </tr>\n",
              "    <tr>\n",
              "      <td>2</td>\n",
              "      <td>Gerrit Cole</td>\n",
              "      <td>HOU</td>\n",
              "      <td>33</td>\n",
              "      <td>33</td>\n",
              "      <td>0</td>\n",
              "      <td>0</td>\n",
              "      <td>212.1</td>\n",
              "      <td>142</td>\n",
              "      <td>59</td>\n",
              "      <td>326</td>\n",
              "      <td>48</td>\n",
              "      <td>29</td>\n",
              "      <td>20</td>\n",
              "      <td>5</td>\n",
              "      <td>0</td>\n",
              "      <td>0</td>\n",
              "      <td>0</td>\n",
              "      <td>2.50</td>\n",
              "      <td>0.89</td>\n",
              "    </tr>\n",
              "    <tr>\n",
              "      <td>3</td>\n",
              "      <td>Stephen Strasburg</td>\n",
              "      <td>WAS</td>\n",
              "      <td>33</td>\n",
              "      <td>33</td>\n",
              "      <td>0</td>\n",
              "      <td>0</td>\n",
              "      <td>209.0</td>\n",
              "      <td>161</td>\n",
              "      <td>77</td>\n",
              "      <td>251</td>\n",
              "      <td>56</td>\n",
              "      <td>24</td>\n",
              "      <td>18</td>\n",
              "      <td>6</td>\n",
              "      <td>0</td>\n",
              "      <td>0</td>\n",
              "      <td>0</td>\n",
              "      <td>3.32</td>\n",
              "      <td>1.04</td>\n",
              "    </tr>\n",
              "    <tr>\n",
              "      <td>4</td>\n",
              "      <td>Mike Minor</td>\n",
              "      <td>TEX</td>\n",
              "      <td>32</td>\n",
              "      <td>32</td>\n",
              "      <td>2</td>\n",
              "      <td>1</td>\n",
              "      <td>208.1</td>\n",
              "      <td>190</td>\n",
              "      <td>83</td>\n",
              "      <td>200</td>\n",
              "      <td>68</td>\n",
              "      <td>30</td>\n",
              "      <td>14</td>\n",
              "      <td>10</td>\n",
              "      <td>0</td>\n",
              "      <td>0</td>\n",
              "      <td>0</td>\n",
              "      <td>3.59</td>\n",
              "      <td>1.24</td>\n",
              "    </tr>\n",
              "  </tbody>\n",
              "</table>\n",
              "</div>"
            ],
            "text/plain": [
              "              Player Team   G  GS  CG  SHO     IP    H  ER    K  BB  HR   W  \\\n",
              "0   Justin Verlander  HOU  34  34   2    1  223.0  137  64  300  42  36  21   \n",
              "1       Shane Bieber  CLE  34  33   3    2  214.1  186  78  259  40  31  15   \n",
              "2        Gerrit Cole  HOU  33  33   0    0  212.1  142  59  326  48  29  20   \n",
              "3  Stephen Strasburg  WAS  33  33   0    0  209.0  161  77  251  56  24  18   \n",
              "4         Mike Minor  TEX  32  32   2    1  208.1  190  83  200  68  30  14   \n",
              "\n",
              "    L  SV  BS  HLD   ERA  WHIP  \n",
              "0   6   0   0    0  2.58  0.80  \n",
              "1   8   0   0    0  3.28  1.05  \n",
              "2   5   0   0    0  2.50  0.89  \n",
              "3   6   0   0    0  3.32  1.04  \n",
              "4  10   0   0    0  3.59  1.24  "
            ]
          },
          "metadata": {
            "tags": []
          },
          "execution_count": 37
        }
      ]
    },
    {
      "cell_type": "code",
      "metadata": {
        "id": "p6XxCmjsNJNZ",
        "colab_type": "code",
        "colab": {}
      },
      "source": [
        "pit_11.to_csv('../MLB_data/2011_pit.csv')\n",
        "pit_12.to_csv('../MLB_data/2012_pit.csv')\n",
        "pit_13.to_csv('../MLB_data/2013_pit.csv')\n",
        "pit_14.to_csv('../MLB_data/2014_pit.csv')\n",
        "pit_15.to_csv('../MLB_data/2015_pit.csv')\n",
        "pit_16.to_csv('../MLB_data/2016_pit.csv')\n",
        "pit_17.to_csv('../MLB_data/2017_pit.csv')\n",
        "pit_18.to_csv('../MLB_data/2018_pit.csv')\n",
        "pit_19.to_csv('../MLB_data/2019_pit.csv')"
      ],
      "execution_count": 0,
      "outputs": []
    },
    {
      "cell_type": "code",
      "metadata": {
        "id": "XZsAdW33NJNb",
        "colab_type": "code",
        "colab": {}
      },
      "source": [
        ""
      ],
      "execution_count": 0,
      "outputs": []
    }
  ]
}