{
  "nbformat": 4,
  "nbformat_minor": 0,
  "metadata": {
    "kernelspec": {
      "display_name": "Python 3",
      "language": "python",
      "name": "python3"
    },
    "language_info": {
      "codemirror_mode": {
        "name": "ipython",
        "version": 3
      },
      "file_extension": ".py",
      "mimetype": "text/x-python",
      "name": "python",
      "nbconvert_exporter": "python",
      "pygments_lexer": "ipython3",
      "version": "3.7.4"
    },
    "colab": {
      "name": "the accuracy according to model.ipynb",
      "provenance": [],
      "collapsed_sections": []
    }
  },
  "cells": [
    {
      "cell_type": "code",
      "metadata": {
        "id": "wZjdYfSKLB0g",
        "colab_type": "code",
        "colab": {}
      },
      "source": [
        "import pandas as pd"
      ],
      "execution_count": 0,
      "outputs": []
    },
    {
      "cell_type": "code",
      "metadata": {
        "id": "sGZS6L9pLB0j",
        "colab_type": "code",
        "colab": {}
      },
      "source": [
        "from pandas import DataFrame as df"
      ],
      "execution_count": 0,
      "outputs": []
    },
    {
      "cell_type": "code",
      "metadata": {
        "id": "FRaNwQBjLB0l",
        "colab_type": "code",
        "colab": {}
      },
      "source": [
        "df1 = df(data={'Model': ['LinearRegression','Ridge','RANSACRegressor','MultiTaskLasso','KNeighborsRegressor','Lasso'], 'Accuracy':[89.1524,91.5214,89.5214,90.0121,70.5475,89.6698]})"
      ],
      "execution_count": 0,
      "outputs": []
    },
    {
      "cell_type": "code",
      "metadata": {
        "id": "ewTOdVKgLB0o",
        "colab_type": "code",
        "outputId": "057ff529-564c-4367-db4d-f0183ae234c3",
        "colab": {}
      },
      "source": [
        "df1"
      ],
      "execution_count": 0,
      "outputs": [
        {
          "output_type": "execute_result",
          "data": {
            "text/html": [
              "<div>\n",
              "<style scoped>\n",
              "    .dataframe tbody tr th:only-of-type {\n",
              "        vertical-align: middle;\n",
              "    }\n",
              "\n",
              "    .dataframe tbody tr th {\n",
              "        vertical-align: top;\n",
              "    }\n",
              "\n",
              "    .dataframe thead th {\n",
              "        text-align: right;\n",
              "    }\n",
              "</style>\n",
              "<table border=\"1\" class=\"dataframe\">\n",
              "  <thead>\n",
              "    <tr style=\"text-align: right;\">\n",
              "      <th></th>\n",
              "      <th>Model</th>\n",
              "      <th>Accuracy</th>\n",
              "    </tr>\n",
              "  </thead>\n",
              "  <tbody>\n",
              "    <tr>\n",
              "      <td>0</td>\n",
              "      <td>LinearRegression</td>\n",
              "      <td>89.1524</td>\n",
              "    </tr>\n",
              "    <tr>\n",
              "      <td>1</td>\n",
              "      <td>Ridge</td>\n",
              "      <td>91.5214</td>\n",
              "    </tr>\n",
              "    <tr>\n",
              "      <td>2</td>\n",
              "      <td>RANSACRegressor</td>\n",
              "      <td>89.5214</td>\n",
              "    </tr>\n",
              "    <tr>\n",
              "      <td>3</td>\n",
              "      <td>MultiTaskLasso</td>\n",
              "      <td>90.0121</td>\n",
              "    </tr>\n",
              "    <tr>\n",
              "      <td>4</td>\n",
              "      <td>KNeighborsRegressor</td>\n",
              "      <td>70.5475</td>\n",
              "    </tr>\n",
              "    <tr>\n",
              "      <td>5</td>\n",
              "      <td>Lasso</td>\n",
              "      <td>89.6698</td>\n",
              "    </tr>\n",
              "  </tbody>\n",
              "</table>\n",
              "</div>"
            ],
            "text/plain": [
              "                 Model  Accuracy\n",
              "0     LinearRegression   89.1524\n",
              "1                Ridge   91.5214\n",
              "2      RANSACRegressor   89.5214\n",
              "3       MultiTaskLasso   90.0121\n",
              "4  KNeighborsRegressor   70.5475\n",
              "5                Lasso   89.6698"
            ]
          },
          "metadata": {
            "tags": []
          },
          "execution_count": 89
        }
      ]
    },
    {
      "cell_type": "code",
      "metadata": {
        "id": "qo5duoQ6LB0s",
        "colab_type": "code",
        "colab": {}
      },
      "source": [
        "import numpy as np\n",
        "import matplotlib.pyplot as plt\n",
        "import seaborn as sns"
      ],
      "execution_count": 0,
      "outputs": []
    },
    {
      "cell_type": "code",
      "metadata": {
        "id": "GBPhH_kLLB0u",
        "colab_type": "code",
        "outputId": "356f63bb-d643-4e88-ad78-ddd5076fae6a",
        "colab": {}
      },
      "source": [
        "df1['Model']"
      ],
      "execution_count": 0,
      "outputs": [
        {
          "output_type": "execute_result",
          "data": {
            "text/plain": [
              "0       LinearRegression\n",
              "1                  Ridge\n",
              "2        RANSACRegressor\n",
              "3         MultiTaskLasso\n",
              "4    KNeighborsRegressor\n",
              "5                  Lasso\n",
              "Name: Model, dtype: object"
            ]
          },
          "metadata": {
            "tags": []
          },
          "execution_count": 91
        }
      ]
    },
    {
      "cell_type": "code",
      "metadata": {
        "id": "9eW55EJXLB0w",
        "colab_type": "code",
        "outputId": "4e822f41-d3ec-4d8b-fc55-852dc3c8109b",
        "colab": {}
      },
      "source": [
        "df1['Accuracy']"
      ],
      "execution_count": 0,
      "outputs": [
        {
          "output_type": "execute_result",
          "data": {
            "text/plain": [
              "0    89.1524\n",
              "1    91.5214\n",
              "2    89.5214\n",
              "3    90.0121\n",
              "4    70.5475\n",
              "5    89.6698\n",
              "Name: Accuracy, dtype: float64"
            ]
          },
          "metadata": {
            "tags": []
          },
          "execution_count": 92
        }
      ]
    },
    {
      "cell_type": "code",
      "metadata": {
        "id": "YVoLi0HILB0z",
        "colab_type": "code",
        "colab": {}
      },
      "source": [
        "df2 = df1.set_index(\"Model\")"
      ],
      "execution_count": 0,
      "outputs": []
    },
    {
      "cell_type": "code",
      "metadata": {
        "id": "Fzgzd-oQLB01",
        "colab_type": "code",
        "outputId": "0a7637c1-6d9c-4353-e976-b6ca59fcbf8e",
        "colab": {}
      },
      "source": [
        "df2"
      ],
      "execution_count": 0,
      "outputs": [
        {
          "output_type": "execute_result",
          "data": {
            "text/html": [
              "<div>\n",
              "<style scoped>\n",
              "    .dataframe tbody tr th:only-of-type {\n",
              "        vertical-align: middle;\n",
              "    }\n",
              "\n",
              "    .dataframe tbody tr th {\n",
              "        vertical-align: top;\n",
              "    }\n",
              "\n",
              "    .dataframe thead th {\n",
              "        text-align: right;\n",
              "    }\n",
              "</style>\n",
              "<table border=\"1\" class=\"dataframe\">\n",
              "  <thead>\n",
              "    <tr style=\"text-align: right;\">\n",
              "      <th></th>\n",
              "      <th>Accuracy</th>\n",
              "    </tr>\n",
              "    <tr>\n",
              "      <th>Model</th>\n",
              "      <th></th>\n",
              "    </tr>\n",
              "  </thead>\n",
              "  <tbody>\n",
              "    <tr>\n",
              "      <td>LinearRegression</td>\n",
              "      <td>89.1524</td>\n",
              "    </tr>\n",
              "    <tr>\n",
              "      <td>Ridge</td>\n",
              "      <td>91.5214</td>\n",
              "    </tr>\n",
              "    <tr>\n",
              "      <td>RANSACRegressor</td>\n",
              "      <td>89.5214</td>\n",
              "    </tr>\n",
              "    <tr>\n",
              "      <td>MultiTaskLasso</td>\n",
              "      <td>90.0121</td>\n",
              "    </tr>\n",
              "    <tr>\n",
              "      <td>KNeighborsRegressor</td>\n",
              "      <td>70.5475</td>\n",
              "    </tr>\n",
              "    <tr>\n",
              "      <td>Lasso</td>\n",
              "      <td>89.6698</td>\n",
              "    </tr>\n",
              "  </tbody>\n",
              "</table>\n",
              "</div>"
            ],
            "text/plain": [
              "                     Accuracy\n",
              "Model                        \n",
              "LinearRegression      89.1524\n",
              "Ridge                 91.5214\n",
              "RANSACRegressor       89.5214\n",
              "MultiTaskLasso        90.0121\n",
              "KNeighborsRegressor   70.5475\n",
              "Lasso                 89.6698"
            ]
          },
          "metadata": {
            "tags": []
          },
          "execution_count": 95
        }
      ]
    },
    {
      "cell_type": "code",
      "metadata": {
        "id": "cfO-s0qbLB03",
        "colab_type": "code",
        "outputId": "f415161b-b563-4fe2-b94f-e9cff3900c02",
        "colab": {}
      },
      "source": [
        "col = ['Accuracy']\n",
        "plt.figure(figsize=(10,3))\n",
        "sns.heatmap(df2[col].T,annot=True, fmt='f', linewidths=1, cmap='gnuplot')\n",
        "plt.title('Accuracy Per Model')\n",
        "plt.show()"
      ],
      "execution_count": 0,
      "outputs": [
        {
          "output_type": "display_data",
          "data": {
            "image/png": "[encoded data removed]",
            "text/plain": [
              "<Figure size 720x216 with 2 Axes>"
            ]
          },
          "metadata": {
            "tags": [],
            "needs_background": "light"
          }
        }
      ]
    },
    {
      "cell_type": "code",
      "metadata": {
        "id": "WEpiFIZpLB05",
        "colab_type": "code",
        "colab": {}
      },
      "source": [
        "Accent, Accent_r, Blues, Blues_r, BrBG, BrBG_r, BuGn, BuGn_r, BuPu, BuPu_r, CMRmap, CMRmap_r, Dark2, Dark2_r, GnBu, GnBu_r, Greens, Greens_r, Greys, Greys_r, OrRd, OrRd_r, Oranges, Oranges_r, PRGn, PRGn_r, Paired, Paired_r, Pastel1, Pastel1_r, Pastel2, Pastel2_r, PiYG, PiYG_r, PuBu, PuBuGn, PuBuGn_r, PuBu_r, PuOr, PuOr_r, PuRd, PuRd_r, Purples, Purples_r, RdBu, RdBu_r, RdGy, RdGy_r, RdPu, RdPu_r, RdYlBu, RdYlBu_r, RdYlGn, RdYlGn_r, Reds, Reds_r, Set1, Set1_r, Set2, Set2_r, Set3, Set3_r, Spectral, Spectral_r, Wistia, Wistia_r, YlGn, YlGnBu, YlGnBu_r, YlGn_r, YlOrBr, YlOrBr_r, YlOrRd, YlOrRd_r, afmhot, afmhot_r, autumn, autumn_r, binary, binary_r, bone, bone_r, brg, brg_r, bwr, bwr_r, cividis, cividis_r, cool, cool_r, coolwarm, coolwarm_r, copper, copper_r, cubehelix, cubehelix_r, flag, flag_r, gist_earth, gist_earth_r, gist_gray, gist_gray_r, gist_heat, gist_heat_r, gist_ncar, gist_ncar_r, gist_rainbow, gist_rainbow_r, gist_stern, gist_stern_r, gist_yarg, gist_yarg_r, gnuplot, gnuplot2, gnuplot2_r, gnuplot_r, gray, gray_r, hot, hot_r, hsv, hsv_r, icefire, icefire_r, inferno, inferno_r, jet, jet_r, magma, magma_r, mako, mako_r, nipy_spectral, nipy_spectral_r, ocean, ocean_r, pink, pink_r, plasma, plasma_r, prism, prism_r, rainbow, rainbow_r, rocket, rocket_r, seismic, seismic_r, spring, spring_r, summer, summer_r, tab10, tab10_r, tab20, tab20_r, tab20b, tab20b_r, tab20c, tab20c_r, terrain, terrain_r, twilight, twilight_r, twilight_shifted, twilight_shifted_r, viridis, viridis_r, vlag, vlag_r, winter, winter_r"
      ],
      "execution_count": 0,
      "outputs": []
    },
    {
      "cell_type": "code",
      "metadata": {
        "id": "htH8A3cvLB07",
        "colab_type": "code",
        "colab": {}
      },
      "source": [
        ""
      ],
      "execution_count": 0,
      "outputs": []
    }
  ]
}