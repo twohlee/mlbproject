{
  "nbformat": 4,
  "nbformat_minor": 0,
  "metadata": {
    "kernelspec": {
      "display_name": "Python 3.7.4 64-bit ('base': conda)",
      "language": "python",
      "name": "python37464bitbaseconda042737be1a4948808da2bd508eebc882"
    },
    "language_info": {
      "codemirror_mode": {
        "name": "ipython",
        "version": 3
      },
      "file_extension": ".py",
      "mimetype": "text/x-python",
      "name": "python",
      "nbconvert_exporter": "python",
      "pygments_lexer": "ipython3",
      "version": "3.7.4"
    },
    "colab": {
      "name": "predict_2019.ipynb",
      "provenance": []
    }
  },
  "cells": [
    {
      "cell_type": "code",
      "metadata": {
        "id": "Mu5tmD43Js1N",
        "colab_type": "code",
        "outputId": "c4b8c771-bcbf-46dd-e73c-e21844150672",
        "colab": {}
      },
      "source": [
        "import pandas as pd\n",
        "import numpy as np\n",
        "import matplotlib.pyplot as plt\n",
        "import seaborn as sns\n",
        "%matplotlib inline\n",
        "pit_total=pd.read_csv('../Data/MLB_data_edit/real_pit_total.csv')\n",
        "bat_total=pd.read_csv('../Data/MLB_data_edit/real_bat_total.csv')\n",
        "rank_total=pd.read_csv('../Data/MLB_data_edit/rank_total.csv')\n",
        "p_total_no_scale=pd.read_csv('../Data/MLB_data_edit/p_total_no_scale.csv')\n",
        "p_total_no_PCT=pd.read_csv('../Data/MLB_data_edit/p_total_PCT_none.csv')"
      ],
      "execution_count": 0,
      "outputs": [
        {
          "output_type": "error",
          "ename": "FileNotFoundError",
          "evalue": "[Errno 2] File b'../Data/MLB_data_edit/rank_total.csv' does not exist: b'../Data/MLB_data_edit/rank_total.csv'",
          "traceback": [
            "\u001b[1;31m---------------------------------------------------------------------------\u001b[0m",
            "\u001b[1;31mFileNotFoundError\u001b[0m                         Traceback (most recent call last)",
            "\u001b[1;32m<ipython-input-2-23e7e3a900bf>\u001b[0m in \u001b[0;36m<module>\u001b[1;34m\u001b[0m\n\u001b[0;32m      6\u001b[0m \u001b[0mpit_total\u001b[0m\u001b[1;33m=\u001b[0m\u001b[0mpd\u001b[0m\u001b[1;33m.\u001b[0m\u001b[0mread_csv\u001b[0m\u001b[1;33m(\u001b[0m\u001b[1;34m'../Data/MLB_data_edit/real_pit_total.csv'\u001b[0m\u001b[1;33m)\u001b[0m\u001b[1;33m\u001b[0m\u001b[1;33m\u001b[0m\u001b[0m\n\u001b[0;32m      7\u001b[0m \u001b[0mbat_total\u001b[0m\u001b[1;33m=\u001b[0m\u001b[0mpd\u001b[0m\u001b[1;33m.\u001b[0m\u001b[0mread_csv\u001b[0m\u001b[1;33m(\u001b[0m\u001b[1;34m'../Data/MLB_data_edit/real_bat_total.csv'\u001b[0m\u001b[1;33m)\u001b[0m\u001b[1;33m\u001b[0m\u001b[1;33m\u001b[0m\u001b[0m\n\u001b[1;32m----> 8\u001b[1;33m \u001b[0mrank_total\u001b[0m\u001b[1;33m=\u001b[0m\u001b[0mpd\u001b[0m\u001b[1;33m.\u001b[0m\u001b[0mread_csv\u001b[0m\u001b[1;33m(\u001b[0m\u001b[1;34m'../Data/MLB_data_edit/rank_total.csv'\u001b[0m\u001b[1;33m)\u001b[0m\u001b[1;33m\u001b[0m\u001b[1;33m\u001b[0m\u001b[0m\n\u001b[0m\u001b[0;32m      9\u001b[0m \u001b[0mp_total_no_scale\u001b[0m\u001b[1;33m=\u001b[0m\u001b[0mpd\u001b[0m\u001b[1;33m.\u001b[0m\u001b[0mread_csv\u001b[0m\u001b[1;33m(\u001b[0m\u001b[1;34m'../Data/MLB_data_edit/p_total_no_scale.csv'\u001b[0m\u001b[1;33m)\u001b[0m\u001b[1;33m\u001b[0m\u001b[1;33m\u001b[0m\u001b[0m\n\u001b[0;32m     10\u001b[0m \u001b[0mp_total_no_PCT\u001b[0m\u001b[1;33m=\u001b[0m\u001b[0mpd\u001b[0m\u001b[1;33m.\u001b[0m\u001b[0mread_csv\u001b[0m\u001b[1;33m(\u001b[0m\u001b[1;34m'../Data/MLB_data_edit/p_total_PCT_none.csv'\u001b[0m\u001b[1;33m)\u001b[0m\u001b[1;33m\u001b[0m\u001b[1;33m\u001b[0m\u001b[0m\n",
            "\u001b[1;32m~\\Anaconda3\\lib\\site-packages\\pandas\\io\\parsers.py\u001b[0m in \u001b[0;36mparser_f\u001b[1;34m(filepath_or_buffer, sep, delimiter, header, names, index_col, usecols, squeeze, prefix, mangle_dupe_cols, dtype, engine, converters, true_values, false_values, skipinitialspace, skiprows, skipfooter, nrows, na_values, keep_default_na, na_filter, verbose, skip_blank_lines, parse_dates, infer_datetime_format, keep_date_col, date_parser, dayfirst, cache_dates, iterator, chunksize, compression, thousands, decimal, lineterminator, quotechar, quoting, doublequote, escapechar, comment, encoding, dialect, error_bad_lines, warn_bad_lines, delim_whitespace, low_memory, memory_map, float_precision)\u001b[0m\n\u001b[0;32m    683\u001b[0m         )\n\u001b[0;32m    684\u001b[0m \u001b[1;33m\u001b[0m\u001b[0m\n\u001b[1;32m--> 685\u001b[1;33m         \u001b[1;32mreturn\u001b[0m \u001b[0m_read\u001b[0m\u001b[1;33m(\u001b[0m\u001b[0mfilepath_or_buffer\u001b[0m\u001b[1;33m,\u001b[0m \u001b[0mkwds\u001b[0m\u001b[1;33m)\u001b[0m\u001b[1;33m\u001b[0m\u001b[1;33m\u001b[0m\u001b[0m\n\u001b[0m\u001b[0;32m    686\u001b[0m \u001b[1;33m\u001b[0m\u001b[0m\n\u001b[0;32m    687\u001b[0m     \u001b[0mparser_f\u001b[0m\u001b[1;33m.\u001b[0m\u001b[0m__name__\u001b[0m \u001b[1;33m=\u001b[0m \u001b[0mname\u001b[0m\u001b[1;33m\u001b[0m\u001b[1;33m\u001b[0m\u001b[0m\n",
            "\u001b[1;32m~\\Anaconda3\\lib\\site-packages\\pandas\\io\\parsers.py\u001b[0m in \u001b[0;36m_read\u001b[1;34m(filepath_or_buffer, kwds)\u001b[0m\n\u001b[0;32m    455\u001b[0m \u001b[1;33m\u001b[0m\u001b[0m\n\u001b[0;32m    456\u001b[0m     \u001b[1;31m# Create the parser.\u001b[0m\u001b[1;33m\u001b[0m\u001b[1;33m\u001b[0m\u001b[1;33m\u001b[0m\u001b[0m\n\u001b[1;32m--> 457\u001b[1;33m     \u001b[0mparser\u001b[0m \u001b[1;33m=\u001b[0m \u001b[0mTextFileReader\u001b[0m\u001b[1;33m(\u001b[0m\u001b[0mfp_or_buf\u001b[0m\u001b[1;33m,\u001b[0m \u001b[1;33m**\u001b[0m\u001b[0mkwds\u001b[0m\u001b[1;33m)\u001b[0m\u001b[1;33m\u001b[0m\u001b[1;33m\u001b[0m\u001b[0m\n\u001b[0m\u001b[0;32m    458\u001b[0m \u001b[1;33m\u001b[0m\u001b[0m\n\u001b[0;32m    459\u001b[0m     \u001b[1;32mif\u001b[0m \u001b[0mchunksize\u001b[0m \u001b[1;32mor\u001b[0m \u001b[0miterator\u001b[0m\u001b[1;33m:\u001b[0m\u001b[1;33m\u001b[0m\u001b[1;33m\u001b[0m\u001b[0m\n",
            "\u001b[1;32m~\\Anaconda3\\lib\\site-packages\\pandas\\io\\parsers.py\u001b[0m in \u001b[0;36m__init__\u001b[1;34m(self, f, engine, **kwds)\u001b[0m\n\u001b[0;32m    893\u001b[0m             \u001b[0mself\u001b[0m\u001b[1;33m.\u001b[0m\u001b[0moptions\u001b[0m\u001b[1;33m[\u001b[0m\u001b[1;34m\"has_index_names\"\u001b[0m\u001b[1;33m]\u001b[0m \u001b[1;33m=\u001b[0m \u001b[0mkwds\u001b[0m\u001b[1;33m[\u001b[0m\u001b[1;34m\"has_index_names\"\u001b[0m\u001b[1;33m]\u001b[0m\u001b[1;33m\u001b[0m\u001b[1;33m\u001b[0m\u001b[0m\n\u001b[0;32m    894\u001b[0m \u001b[1;33m\u001b[0m\u001b[0m\n\u001b[1;32m--> 895\u001b[1;33m         \u001b[0mself\u001b[0m\u001b[1;33m.\u001b[0m\u001b[0m_make_engine\u001b[0m\u001b[1;33m(\u001b[0m\u001b[0mself\u001b[0m\u001b[1;33m.\u001b[0m\u001b[0mengine\u001b[0m\u001b[1;33m)\u001b[0m\u001b[1;33m\u001b[0m\u001b[1;33m\u001b[0m\u001b[0m\n\u001b[0m\u001b[0;32m    896\u001b[0m \u001b[1;33m\u001b[0m\u001b[0m\n\u001b[0;32m    897\u001b[0m     \u001b[1;32mdef\u001b[0m \u001b[0mclose\u001b[0m\u001b[1;33m(\u001b[0m\u001b[0mself\u001b[0m\u001b[1;33m)\u001b[0m\u001b[1;33m:\u001b[0m\u001b[1;33m\u001b[0m\u001b[1;33m\u001b[0m\u001b[0m\n",
            "\u001b[1;32m~\\Anaconda3\\lib\\site-packages\\pandas\\io\\parsers.py\u001b[0m in \u001b[0;36m_make_engine\u001b[1;34m(self, engine)\u001b[0m\n\u001b[0;32m   1133\u001b[0m     \u001b[1;32mdef\u001b[0m \u001b[0m_make_engine\u001b[0m\u001b[1;33m(\u001b[0m\u001b[0mself\u001b[0m\u001b[1;33m,\u001b[0m \u001b[0mengine\u001b[0m\u001b[1;33m=\u001b[0m\u001b[1;34m\"c\"\u001b[0m\u001b[1;33m)\u001b[0m\u001b[1;33m:\u001b[0m\u001b[1;33m\u001b[0m\u001b[1;33m\u001b[0m\u001b[0m\n\u001b[0;32m   1134\u001b[0m         \u001b[1;32mif\u001b[0m \u001b[0mengine\u001b[0m \u001b[1;33m==\u001b[0m \u001b[1;34m\"c\"\u001b[0m\u001b[1;33m:\u001b[0m\u001b[1;33m\u001b[0m\u001b[1;33m\u001b[0m\u001b[0m\n\u001b[1;32m-> 1135\u001b[1;33m             \u001b[0mself\u001b[0m\u001b[1;33m.\u001b[0m\u001b[0m_engine\u001b[0m \u001b[1;33m=\u001b[0m \u001b[0mCParserWrapper\u001b[0m\u001b[1;33m(\u001b[0m\u001b[0mself\u001b[0m\u001b[1;33m.\u001b[0m\u001b[0mf\u001b[0m\u001b[1;33m,\u001b[0m \u001b[1;33m**\u001b[0m\u001b[0mself\u001b[0m\u001b[1;33m.\u001b[0m\u001b[0moptions\u001b[0m\u001b[1;33m)\u001b[0m\u001b[1;33m\u001b[0m\u001b[1;33m\u001b[0m\u001b[0m\n\u001b[0m\u001b[0;32m   1136\u001b[0m         \u001b[1;32melse\u001b[0m\u001b[1;33m:\u001b[0m\u001b[1;33m\u001b[0m\u001b[1;33m\u001b[0m\u001b[0m\n\u001b[0;32m   1137\u001b[0m             \u001b[1;32mif\u001b[0m \u001b[0mengine\u001b[0m \u001b[1;33m==\u001b[0m \u001b[1;34m\"python\"\u001b[0m\u001b[1;33m:\u001b[0m\u001b[1;33m\u001b[0m\u001b[1;33m\u001b[0m\u001b[0m\n",
            "\u001b[1;32m~\\Anaconda3\\lib\\site-packages\\pandas\\io\\parsers.py\u001b[0m in \u001b[0;36m__init__\u001b[1;34m(self, src, **kwds)\u001b[0m\n\u001b[0;32m   1915\u001b[0m         \u001b[0mkwds\u001b[0m\u001b[1;33m[\u001b[0m\u001b[1;34m\"usecols\"\u001b[0m\u001b[1;33m]\u001b[0m \u001b[1;33m=\u001b[0m \u001b[0mself\u001b[0m\u001b[1;33m.\u001b[0m\u001b[0musecols\u001b[0m\u001b[1;33m\u001b[0m\u001b[1;33m\u001b[0m\u001b[0m\n\u001b[0;32m   1916\u001b[0m \u001b[1;33m\u001b[0m\u001b[0m\n\u001b[1;32m-> 1917\u001b[1;33m         \u001b[0mself\u001b[0m\u001b[1;33m.\u001b[0m\u001b[0m_reader\u001b[0m \u001b[1;33m=\u001b[0m \u001b[0mparsers\u001b[0m\u001b[1;33m.\u001b[0m\u001b[0mTextReader\u001b[0m\u001b[1;33m(\u001b[0m\u001b[0msrc\u001b[0m\u001b[1;33m,\u001b[0m \u001b[1;33m**\u001b[0m\u001b[0mkwds\u001b[0m\u001b[1;33m)\u001b[0m\u001b[1;33m\u001b[0m\u001b[1;33m\u001b[0m\u001b[0m\n\u001b[0m\u001b[0;32m   1918\u001b[0m         \u001b[0mself\u001b[0m\u001b[1;33m.\u001b[0m\u001b[0munnamed_cols\u001b[0m \u001b[1;33m=\u001b[0m \u001b[0mself\u001b[0m\u001b[1;33m.\u001b[0m\u001b[0m_reader\u001b[0m\u001b[1;33m.\u001b[0m\u001b[0munnamed_cols\u001b[0m\u001b[1;33m\u001b[0m\u001b[1;33m\u001b[0m\u001b[0m\n\u001b[0;32m   1919\u001b[0m \u001b[1;33m\u001b[0m\u001b[0m\n",
            "\u001b[1;32mpandas\\_libs\\parsers.pyx\u001b[0m in \u001b[0;36mpandas._libs.parsers.TextReader.__cinit__\u001b[1;34m()\u001b[0m\n",
            "\u001b[1;32mpandas\\_libs\\parsers.pyx\u001b[0m in \u001b[0;36mpandas._libs.parsers.TextReader._setup_parser_source\u001b[1;34m()\u001b[0m\n",
            "\u001b[1;31mFileNotFoundError\u001b[0m: [Errno 2] File b'../Data/MLB_data_edit/rank_total.csv' does not exist: b'../Data/MLB_data_edit/rank_total.csv'"
          ]
        }
      ]
    },
    {
      "cell_type": "code",
      "metadata": {
        "id": "IrdyywEsJs1R",
        "colab_type": "code",
        "colab": {}
      },
      "source": [
        "bat_total_2010_2018=bat_total[bat_total['Year']<2019]"
      ],
      "execution_count": 0,
      "outputs": []
    },
    {
      "cell_type": "code",
      "metadata": {
        "id": "mYTgY6qVJs1T",
        "colab_type": "code",
        "colab": {}
      },
      "source": [
        "#2010~2018년 타자지표 저장\n",
        "bat_total_2010_2018.to_csv('../Data/MLB_data_edit/bat_total_2010_2018.csv')"
      ],
      "execution_count": 0,
      "outputs": []
    },
    {
      "cell_type": "code",
      "metadata": {
        "id": "Wl8AjNwmJs1V",
        "colab_type": "code",
        "colab": {}
      },
      "source": [
        "#2019년 타자지표 저장\n",
        "bat_total_2019=bat_total[bat_total['Year']==2019]\n",
        "bat_total_2019.to_csv('../Data/MLB_data_edit/bat_total_2010_2018.csv')"
      ],
      "execution_count": 0,
      "outputs": []
    },
    {
      "cell_type": "code",
      "metadata": {
        "id": "0wiEW628Js1Y",
        "colab_type": "code",
        "colab": {}
      },
      "source": [
        "r=pd.read_csv('/Users/admin/Dropbox/Rank_Predict/Data/MLB_data_edit/bat_r.csv')"
      ],
      "execution_count": 0,
      "outputs": []
    },
    {
      "cell_type": "code",
      "metadata": {
        "id": "ZxyzThuPJs1a",
        "colab_type": "code",
        "colab": {}
      },
      "source": [
        "# 2010~2018 득점수 저장\n",
        "r_2010_2018=r[r['Year']<2019]\n",
        "r_2010_2018.to_csv('../Data/MLB_data_edit/r_2010_2018.csv')"
      ],
      "execution_count": 0,
      "outputs": []
    },
    {
      "cell_type": "code",
      "metadata": {
        "id": "Z9CPGpghJs1c",
        "colab_type": "code",
        "colab": {}
      },
      "source": [
        "# 2019 득점수 저장\n",
        "r_2019=r[r['Year']==2019]\n",
        "r_2019.to_csv('../Data/MLB_data_edit/r_2019.csv')"
      ],
      "execution_count": 0,
      "outputs": []
    },
    {
      "cell_type": "code",
      "metadata": {
        "id": "WrApOL7PJs1e",
        "colab_type": "code",
        "colab": {}
      },
      "source": [
        "a=pd.read_csv('../Data/MLB_data_edit/r_2019.csv')"
      ],
      "execution_count": 0,
      "outputs": []
    },
    {
      "cell_type": "code",
      "metadata": {
        "id": "OQ7PFihpJs1g",
        "colab_type": "code",
        "outputId": "fbae60fc-8851-47cc-9dcc-a0076b6a11a4",
        "colab": {}
      },
      "source": [
        "b_total=pd.read_csv('/Users/admin/Dropbox/Rank_Predict/Data/MLB_data_edit/real_bat_total.csv')\n",
        "b_total"
      ],
      "execution_count": 0,
      "outputs": [
        {
          "output_type": "execute_result",
          "data": {
            "text/html": [
              "<div>\n",
              "<style scoped>\n",
              "    .dataframe tbody tr th:only-of-type {\n",
              "        vertical-align: middle;\n",
              "    }\n",
              "\n",
              "    .dataframe tbody tr th {\n",
              "        vertical-align: top;\n",
              "    }\n",
              "\n",
              "    .dataframe thead th {\n",
              "        text-align: right;\n",
              "    }\n",
              "</style>\n",
              "<table border=\"1\" class=\"dataframe\">\n",
              "  <thead>\n",
              "    <tr style=\"text-align: right;\">\n",
              "      <th></th>\n",
              "      <th>Year</th>\n",
              "      <th>Team</th>\n",
              "      <th>R</th>\n",
              "      <th>H</th>\n",
              "      <th>2B</th>\n",
              "      <th>3B</th>\n",
              "      <th>HR</th>\n",
              "      <th>RBI</th>\n",
              "      <th>BB</th>\n",
              "      <th>SF</th>\n",
              "      <th>OBP</th>\n",
              "      <th>SLG</th>\n",
              "      <th>OPS</th>\n",
              "    </tr>\n",
              "  </thead>\n",
              "  <tbody>\n",
              "    <tr>\n",
              "      <td>0</td>\n",
              "      <td>2010</td>\n",
              "      <td>ARI</td>\n",
              "      <td>42.125000</td>\n",
              "      <td>49.312500</td>\n",
              "      <td>17.562500</td>\n",
              "      <td>2.125000</td>\n",
              "      <td>10.937500</td>\n",
              "      <td>40.625000</td>\n",
              "      <td>34.937500</td>\n",
              "      <td>2.250000</td>\n",
              "      <td>0.311937</td>\n",
              "      <td>0.391688</td>\n",
              "      <td>0.703625</td>\n",
              "    </tr>\n",
              "    <tr>\n",
              "      <td>1</td>\n",
              "      <td>2010</td>\n",
              "      <td>ATL</td>\n",
              "      <td>42.625000</td>\n",
              "      <td>55.312500</td>\n",
              "      <td>18.312500</td>\n",
              "      <td>1.500000</td>\n",
              "      <td>8.437500</td>\n",
              "      <td>42.000000</td>\n",
              "      <td>37.187500</td>\n",
              "      <td>2.125000</td>\n",
              "      <td>0.348500</td>\n",
              "      <td>0.415187</td>\n",
              "      <td>0.763688</td>\n",
              "    </tr>\n",
              "    <tr>\n",
              "      <td>2</td>\n",
              "      <td>2010</td>\n",
              "      <td>BAL</td>\n",
              "      <td>32.052632</td>\n",
              "      <td>53.105263</td>\n",
              "      <td>13.684211</td>\n",
              "      <td>1.105263</td>\n",
              "      <td>7.000000</td>\n",
              "      <td>30.000000</td>\n",
              "      <td>22.052632</td>\n",
              "      <td>2.368421</td>\n",
              "      <td>0.300053</td>\n",
              "      <td>0.365000</td>\n",
              "      <td>0.665053</td>\n",
              "    </tr>\n",
              "    <tr>\n",
              "      <td>3</td>\n",
              "      <td>2010</td>\n",
              "      <td>BOS</td>\n",
              "      <td>39.850000</td>\n",
              "      <td>44.800000</td>\n",
              "      <td>17.550000</td>\n",
              "      <td>1.100000</td>\n",
              "      <td>10.450000</td>\n",
              "      <td>38.300000</td>\n",
              "      <td>28.350000</td>\n",
              "      <td>2.100000</td>\n",
              "      <td>0.318800</td>\n",
              "      <td>0.417950</td>\n",
              "      <td>0.736750</td>\n",
              "    </tr>\n",
              "    <tr>\n",
              "      <td>4</td>\n",
              "      <td>2010</td>\n",
              "      <td>CHC</td>\n",
              "      <td>40.875000</td>\n",
              "      <td>55.312500</td>\n",
              "      <td>17.812500</td>\n",
              "      <td>1.687500</td>\n",
              "      <td>9.187500</td>\n",
              "      <td>38.687500</td>\n",
              "      <td>28.062500</td>\n",
              "      <td>2.312500</td>\n",
              "      <td>0.319750</td>\n",
              "      <td>0.395438</td>\n",
              "      <td>0.715188</td>\n",
              "    </tr>\n",
              "    <tr>\n",
              "      <td>...</td>\n",
              "      <td>...</td>\n",
              "      <td>...</td>\n",
              "      <td>...</td>\n",
              "      <td>...</td>\n",
              "      <td>...</td>\n",
              "      <td>...</td>\n",
              "      <td>...</td>\n",
              "      <td>...</td>\n",
              "      <td>...</td>\n",
              "      <td>...</td>\n",
              "      <td>...</td>\n",
              "      <td>...</td>\n",
              "      <td>...</td>\n",
              "    </tr>\n",
              "    <tr>\n",
              "      <td>295</td>\n",
              "      <td>2019</td>\n",
              "      <td>STL</td>\n",
              "      <td>48.733333</td>\n",
              "      <td>53.866667</td>\n",
              "      <td>15.666667</td>\n",
              "      <td>1.533333</td>\n",
              "      <td>13.533333</td>\n",
              "      <td>45.333333</td>\n",
              "      <td>36.333333</td>\n",
              "      <td>2.400000</td>\n",
              "      <td>0.319533</td>\n",
              "      <td>0.411533</td>\n",
              "      <td>0.731067</td>\n",
              "    </tr>\n",
              "    <tr>\n",
              "      <td>296</td>\n",
              "      <td>2019</td>\n",
              "      <td>TB</td>\n",
              "      <td>41.388889</td>\n",
              "      <td>48.333333</td>\n",
              "      <td>15.666667</td>\n",
              "      <td>1.555556</td>\n",
              "      <td>11.888889</td>\n",
              "      <td>39.888889</td>\n",
              "      <td>29.333333</td>\n",
              "      <td>1.888889</td>\n",
              "      <td>0.323111</td>\n",
              "      <td>0.420944</td>\n",
              "      <td>0.744056</td>\n",
              "    </tr>\n",
              "    <tr>\n",
              "      <td>297</td>\n",
              "      <td>2019</td>\n",
              "      <td>TEX</td>\n",
              "      <td>44.944444</td>\n",
              "      <td>45.944444</td>\n",
              "      <td>16.388889</td>\n",
              "      <td>1.333333</td>\n",
              "      <td>12.388889</td>\n",
              "      <td>42.444444</td>\n",
              "      <td>29.500000</td>\n",
              "      <td>2.444444</td>\n",
              "      <td>0.313722</td>\n",
              "      <td>0.422833</td>\n",
              "      <td>0.736556</td>\n",
              "    </tr>\n",
              "    <tr>\n",
              "      <td>298</td>\n",
              "      <td>2019</td>\n",
              "      <td>TOR</td>\n",
              "      <td>39.333333</td>\n",
              "      <td>41.277778</td>\n",
              "      <td>14.944444</td>\n",
              "      <td>1.111111</td>\n",
              "      <td>13.611111</td>\n",
              "      <td>38.111111</td>\n",
              "      <td>27.777778</td>\n",
              "      <td>1.444444</td>\n",
              "      <td>0.302611</td>\n",
              "      <td>0.420389</td>\n",
              "      <td>0.723000</td>\n",
              "    </tr>\n",
              "    <tr>\n",
              "      <td>299</td>\n",
              "      <td>2019</td>\n",
              "      <td>WAS</td>\n",
              "      <td>56.066667</td>\n",
              "      <td>56.333333</td>\n",
              "      <td>19.600000</td>\n",
              "      <td>1.733333</td>\n",
              "      <td>15.200000</td>\n",
              "      <td>53.400000</td>\n",
              "      <td>37.533333</td>\n",
              "      <td>2.800000</td>\n",
              "      <td>0.343533</td>\n",
              "      <td>0.462400</td>\n",
              "      <td>0.805933</td>\n",
              "    </tr>\n",
              "  </tbody>\n",
              "</table>\n",
              "<p>300 rows × 13 columns</p>\n",
              "</div>"
            ],
            "text/plain": [
              "     Year Team          R          H         2B        3B         HR  \\\n",
              "0    2010  ARI  42.125000  49.312500  17.562500  2.125000  10.937500   \n",
              "1    2010  ATL  42.625000  55.312500  18.312500  1.500000   8.437500   \n",
              "2    2010  BAL  32.052632  53.105263  13.684211  1.105263   7.000000   \n",
              "3    2010  BOS  39.850000  44.800000  17.550000  1.100000  10.450000   \n",
              "4    2010  CHC  40.875000  55.312500  17.812500  1.687500   9.187500   \n",
              "..    ...  ...        ...        ...        ...       ...        ...   \n",
              "295  2019  STL  48.733333  53.866667  15.666667  1.533333  13.533333   \n",
              "296  2019   TB  41.388889  48.333333  15.666667  1.555556  11.888889   \n",
              "297  2019  TEX  44.944444  45.944444  16.388889  1.333333  12.388889   \n",
              "298  2019  TOR  39.333333  41.277778  14.944444  1.111111  13.611111   \n",
              "299  2019  WAS  56.066667  56.333333  19.600000  1.733333  15.200000   \n",
              "\n",
              "           RBI         BB        SF       OBP       SLG       OPS  \n",
              "0    40.625000  34.937500  2.250000  0.311937  0.391688  0.703625  \n",
              "1    42.000000  37.187500  2.125000  0.348500  0.415187  0.763688  \n",
              "2    30.000000  22.052632  2.368421  0.300053  0.365000  0.665053  \n",
              "3    38.300000  28.350000  2.100000  0.318800  0.417950  0.736750  \n",
              "4    38.687500  28.062500  2.312500  0.319750  0.395438  0.715188  \n",
              "..         ...        ...       ...       ...       ...       ...  \n",
              "295  45.333333  36.333333  2.400000  0.319533  0.411533  0.731067  \n",
              "296  39.888889  29.333333  1.888889  0.323111  0.420944  0.744056  \n",
              "297  42.444444  29.500000  2.444444  0.313722  0.422833  0.736556  \n",
              "298  38.111111  27.777778  1.444444  0.302611  0.420389  0.723000  \n",
              "299  53.400000  37.533333  2.800000  0.343533  0.462400  0.805933  \n",
              "\n",
              "[300 rows x 13 columns]"
            ]
          },
          "metadata": {
            "tags": []
          },
          "execution_count": 4
        }
      ]
    },
    {
      "cell_type": "code",
      "metadata": {
        "id": "EIJcSWeQJs1j",
        "colab_type": "code",
        "outputId": "776c0583-7708-4760-ab34-742a3d6a45ca",
        "colab": {}
      },
      "source": [
        "bat_total=pd.read_csv('../Data/MLB_data_edit/bat_total.csv')\n",
        "bat_total"
      ],
      "execution_count": 0,
      "outputs": [
        {
          "output_type": "execute_result",
          "data": {
            "text/html": [
              "<div>\n",
              "<style scoped>\n",
              "    .dataframe tbody tr th:only-of-type {\n",
              "        vertical-align: middle;\n",
              "    }\n",
              "\n",
              "    .dataframe tbody tr th {\n",
              "        vertical-align: top;\n",
              "    }\n",
              "\n",
              "    .dataframe thead th {\n",
              "        text-align: right;\n",
              "    }\n",
              "</style>\n",
              "<table border=\"1\" class=\"dataframe\">\n",
              "  <thead>\n",
              "    <tr style=\"text-align: right;\">\n",
              "      <th></th>\n",
              "      <th>Unnamed: 0</th>\n",
              "      <th>Year</th>\n",
              "      <th>Player</th>\n",
              "      <th>Team</th>\n",
              "      <th>Pos</th>\n",
              "      <th>G</th>\n",
              "      <th>AB</th>\n",
              "      <th>R</th>\n",
              "      <th>TH</th>\n",
              "      <th>H</th>\n",
              "      <th>...</th>\n",
              "      <th>CS</th>\n",
              "      <th>BB</th>\n",
              "      <th>SO</th>\n",
              "      <th>SH</th>\n",
              "      <th>SF</th>\n",
              "      <th>HBP</th>\n",
              "      <th>AVG</th>\n",
              "      <th>OBP</th>\n",
              "      <th>SLG</th>\n",
              "      <th>OPS</th>\n",
              "    </tr>\n",
              "  </thead>\n",
              "  <tbody>\n",
              "    <tr>\n",
              "      <td>0</td>\n",
              "      <td>0</td>\n",
              "      <td>2010</td>\n",
              "      <td>Ichiro Suzuki</td>\n",
              "      <td>SEA</td>\n",
              "      <td>OF</td>\n",
              "      <td>162</td>\n",
              "      <td>680</td>\n",
              "      <td>74</td>\n",
              "      <td>214</td>\n",
              "      <td>175</td>\n",
              "      <td>...</td>\n",
              "      <td>9</td>\n",
              "      <td>45</td>\n",
              "      <td>86</td>\n",
              "      <td>3</td>\n",
              "      <td>1</td>\n",
              "      <td>3</td>\n",
              "      <td>0.315</td>\n",
              "      <td>0.359</td>\n",
              "      <td>0.394</td>\n",
              "      <td>0.753</td>\n",
              "    </tr>\n",
              "    <tr>\n",
              "      <td>1</td>\n",
              "      <td>1</td>\n",
              "      <td>2010</td>\n",
              "      <td>Derek Jeter</td>\n",
              "      <td>NYY</td>\n",
              "      <td>SS</td>\n",
              "      <td>157</td>\n",
              "      <td>663</td>\n",
              "      <td>111</td>\n",
              "      <td>179</td>\n",
              "      <td>136</td>\n",
              "      <td>...</td>\n",
              "      <td>5</td>\n",
              "      <td>63</td>\n",
              "      <td>106</td>\n",
              "      <td>1</td>\n",
              "      <td>3</td>\n",
              "      <td>9</td>\n",
              "      <td>0.270</td>\n",
              "      <td>0.340</td>\n",
              "      <td>0.370</td>\n",
              "      <td>0.710</td>\n",
              "    </tr>\n",
              "    <tr>\n",
              "      <td>2</td>\n",
              "      <td>2</td>\n",
              "      <td>2010</td>\n",
              "      <td>Michael Young</td>\n",
              "      <td>TEX</td>\n",
              "      <td>3B</td>\n",
              "      <td>157</td>\n",
              "      <td>656</td>\n",
              "      <td>99</td>\n",
              "      <td>186</td>\n",
              "      <td>126</td>\n",
              "      <td>...</td>\n",
              "      <td>2</td>\n",
              "      <td>50</td>\n",
              "      <td>115</td>\n",
              "      <td>0</td>\n",
              "      <td>11</td>\n",
              "      <td>1</td>\n",
              "      <td>0.284</td>\n",
              "      <td>0.330</td>\n",
              "      <td>0.444</td>\n",
              "      <td>0.774</td>\n",
              "    </tr>\n",
              "    <tr>\n",
              "      <td>3</td>\n",
              "      <td>3</td>\n",
              "      <td>2010</td>\n",
              "      <td>Juan Pierre</td>\n",
              "      <td>CWS</td>\n",
              "      <td>OF</td>\n",
              "      <td>160</td>\n",
              "      <td>651</td>\n",
              "      <td>96</td>\n",
              "      <td>179</td>\n",
              "      <td>157</td>\n",
              "      <td>...</td>\n",
              "      <td>18</td>\n",
              "      <td>45</td>\n",
              "      <td>47</td>\n",
              "      <td>15</td>\n",
              "      <td>2</td>\n",
              "      <td>21</td>\n",
              "      <td>0.275</td>\n",
              "      <td>0.341</td>\n",
              "      <td>0.316</td>\n",
              "      <td>0.657</td>\n",
              "    </tr>\n",
              "    <tr>\n",
              "      <td>4</td>\n",
              "      <td>4</td>\n",
              "      <td>2010</td>\n",
              "      <td>Rickie Weeks</td>\n",
              "      <td>MIL</td>\n",
              "      <td>DH</td>\n",
              "      <td>160</td>\n",
              "      <td>651</td>\n",
              "      <td>112</td>\n",
              "      <td>175</td>\n",
              "      <td>110</td>\n",
              "      <td>...</td>\n",
              "      <td>4</td>\n",
              "      <td>76</td>\n",
              "      <td>184</td>\n",
              "      <td>0</td>\n",
              "      <td>2</td>\n",
              "      <td>25</td>\n",
              "      <td>0.269</td>\n",
              "      <td>0.366</td>\n",
              "      <td>0.464</td>\n",
              "      <td>0.830</td>\n",
              "    </tr>\n",
              "    <tr>\n",
              "      <td>...</td>\n",
              "      <td>...</td>\n",
              "      <td>...</td>\n",
              "      <td>...</td>\n",
              "      <td>...</td>\n",
              "      <td>...</td>\n",
              "      <td>...</td>\n",
              "      <td>...</td>\n",
              "      <td>...</td>\n",
              "      <td>...</td>\n",
              "      <td>...</td>\n",
              "      <td>...</td>\n",
              "      <td>...</td>\n",
              "      <td>...</td>\n",
              "      <td>...</td>\n",
              "      <td>...</td>\n",
              "      <td>...</td>\n",
              "      <td>...</td>\n",
              "      <td>...</td>\n",
              "      <td>...</td>\n",
              "      <td>...</td>\n",
              "      <td>...</td>\n",
              "    </tr>\n",
              "    <tr>\n",
              "      <td>6843</td>\n",
              "      <td>688</td>\n",
              "      <td>2019</td>\n",
              "      <td>Jose Rondon</td>\n",
              "      <td>BAL</td>\n",
              "      <td>2B</td>\n",
              "      <td>1</td>\n",
              "      <td>1</td>\n",
              "      <td>0</td>\n",
              "      <td>0</td>\n",
              "      <td>0</td>\n",
              "      <td>...</td>\n",
              "      <td>0</td>\n",
              "      <td>0</td>\n",
              "      <td>0</td>\n",
              "      <td>0</td>\n",
              "      <td>0</td>\n",
              "      <td>0</td>\n",
              "      <td>0.000</td>\n",
              "      <td>0.000</td>\n",
              "      <td>0.000</td>\n",
              "      <td>0.000</td>\n",
              "    </tr>\n",
              "    <tr>\n",
              "      <td>6844</td>\n",
              "      <td>689</td>\n",
              "      <td>2019</td>\n",
              "      <td>Travis d'Arnaud</td>\n",
              "      <td>LAD</td>\n",
              "      <td>C</td>\n",
              "      <td>1</td>\n",
              "      <td>1</td>\n",
              "      <td>0</td>\n",
              "      <td>0</td>\n",
              "      <td>0</td>\n",
              "      <td>...</td>\n",
              "      <td>0</td>\n",
              "      <td>0</td>\n",
              "      <td>0</td>\n",
              "      <td>0</td>\n",
              "      <td>0</td>\n",
              "      <td>0</td>\n",
              "      <td>0.000</td>\n",
              "      <td>0.000</td>\n",
              "      <td>0.000</td>\n",
              "      <td>0.000</td>\n",
              "    </tr>\n",
              "    <tr>\n",
              "      <td>6845</td>\n",
              "      <td>690</td>\n",
              "      <td>2019</td>\n",
              "      <td>Aaron Altherr</td>\n",
              "      <td>SF</td>\n",
              "      <td>OF</td>\n",
              "      <td>1</td>\n",
              "      <td>1</td>\n",
              "      <td>0</td>\n",
              "      <td>0</td>\n",
              "      <td>0</td>\n",
              "      <td>...</td>\n",
              "      <td>0</td>\n",
              "      <td>0</td>\n",
              "      <td>1</td>\n",
              "      <td>0</td>\n",
              "      <td>0</td>\n",
              "      <td>0</td>\n",
              "      <td>0.000</td>\n",
              "      <td>0.000</td>\n",
              "      <td>0.000</td>\n",
              "      <td>0.000</td>\n",
              "    </tr>\n",
              "    <tr>\n",
              "      <td>6846</td>\n",
              "      <td>691</td>\n",
              "      <td>2019</td>\n",
              "      <td>Rob Brantly</td>\n",
              "      <td>PHI</td>\n",
              "      <td>C</td>\n",
              "      <td>1</td>\n",
              "      <td>1</td>\n",
              "      <td>0</td>\n",
              "      <td>0</td>\n",
              "      <td>0</td>\n",
              "      <td>...</td>\n",
              "      <td>0</td>\n",
              "      <td>0</td>\n",
              "      <td>1</td>\n",
              "      <td>0</td>\n",
              "      <td>0</td>\n",
              "      <td>0</td>\n",
              "      <td>0.000</td>\n",
              "      <td>0.000</td>\n",
              "      <td>0.000</td>\n",
              "      <td>0.000</td>\n",
              "    </tr>\n",
              "    <tr>\n",
              "      <td>6847</td>\n",
              "      <td>692</td>\n",
              "      <td>2019</td>\n",
              "      <td>John Ryan Murphy</td>\n",
              "      <td>ATL</td>\n",
              "      <td>C</td>\n",
              "      <td>1</td>\n",
              "      <td>1</td>\n",
              "      <td>0</td>\n",
              "      <td>0</td>\n",
              "      <td>0</td>\n",
              "      <td>...</td>\n",
              "      <td>0</td>\n",
              "      <td>0</td>\n",
              "      <td>0</td>\n",
              "      <td>0</td>\n",
              "      <td>0</td>\n",
              "      <td>0</td>\n",
              "      <td>0.000</td>\n",
              "      <td>0.000</td>\n",
              "      <td>0.000</td>\n",
              "      <td>0.000</td>\n",
              "    </tr>\n",
              "  </tbody>\n",
              "</table>\n",
              "<p>6848 rows × 25 columns</p>\n",
              "</div>"
            ],
            "text/plain": [
              "      Unnamed: 0  Year            Player Team Pos    G   AB    R   TH    H  \\\n",
              "0              0  2010     Ichiro Suzuki  SEA  OF  162  680   74  214  175   \n",
              "1              1  2010       Derek Jeter  NYY  SS  157  663  111  179  136   \n",
              "2              2  2010     Michael Young  TEX  3B  157  656   99  186  126   \n",
              "3              3  2010       Juan Pierre  CWS  OF  160  651   96  179  157   \n",
              "4              4  2010      Rickie Weeks  MIL  DH  160  651  112  175  110   \n",
              "...          ...   ...               ...  ...  ..  ...  ...  ...  ...  ...   \n",
              "6843         688  2019       Jose Rondon  BAL  2B    1    1    0    0    0   \n",
              "6844         689  2019   Travis d'Arnaud  LAD   C    1    1    0    0    0   \n",
              "6845         690  2019     Aaron Altherr   SF  OF    1    1    0    0    0   \n",
              "6846         691  2019       Rob Brantly  PHI   C    1    1    0    0    0   \n",
              "6847         692  2019  John Ryan Murphy  ATL   C    1    1    0    0    0   \n",
              "\n",
              "      ...  CS  BB   SO  SH  SF  HBP    AVG    OBP    SLG    OPS  \n",
              "0     ...   9  45   86   3   1    3  0.315  0.359  0.394  0.753  \n",
              "1     ...   5  63  106   1   3    9  0.270  0.340  0.370  0.710  \n",
              "2     ...   2  50  115   0  11    1  0.284  0.330  0.444  0.774  \n",
              "3     ...  18  45   47  15   2   21  0.275  0.341  0.316  0.657  \n",
              "4     ...   4  76  184   0   2   25  0.269  0.366  0.464  0.830  \n",
              "...   ...  ..  ..  ...  ..  ..  ...    ...    ...    ...    ...  \n",
              "6843  ...   0   0    0   0   0    0  0.000  0.000  0.000  0.000  \n",
              "6844  ...   0   0    0   0   0    0  0.000  0.000  0.000  0.000  \n",
              "6845  ...   0   0    1   0   0    0  0.000  0.000  0.000  0.000  \n",
              "6846  ...   0   0    1   0   0    0  0.000  0.000  0.000  0.000  \n",
              "6847  ...   0   0    0   0   0    0  0.000  0.000  0.000  0.000  \n",
              "\n",
              "[6848 rows x 25 columns]"
            ]
          },
          "metadata": {
            "tags": []
          },
          "execution_count": 3
        }
      ]
    },
    {
      "cell_type": "code",
      "metadata": {
        "id": "5APAWLCHJs1l",
        "colab_type": "code",
        "colab": {}
      },
      "source": [
        "# 2010~2018/2019\n",
        "bat_total1=bat_total[bat_total['Year']<2019]"
      ],
      "execution_count": 0,
      "outputs": []
    },
    {
      "cell_type": "code",
      "metadata": {
        "id": "LkXwdwbsJs1n",
        "colab_type": "code",
        "colab": {}
      },
      "source": [
        "# 2018년까지의 데이터\n",
        "# 'R','H','2B','3B','HR','RBI','SF','OPS' \n",
        "bat_total1.to_csv('../Data/MLB_data_edit/bat_total_2010_2018.csv')"
      ],
      "execution_count": 0,
      "outputs": []
    },
    {
      "cell_type": "code",
      "metadata": {
        "id": "h2GcrjHlJs1r",
        "colab_type": "code",
        "colab": {}
      },
      "source": [
        "# 2019년 데이터\n",
        "bat_total2=bat_total[bat_total['Year']==2019]"
      ],
      "execution_count": 0,
      "outputs": []
    },
    {
      "cell_type": "code",
      "metadata": {
        "id": "35Xj12rsJs1s",
        "colab_type": "code",
        "colab": {}
      },
      "source": [
        "bat_total2.to_csv('../Data/MLB_data_edit/bat_total_2019.csv')"
      ],
      "execution_count": 0,
      "outputs": []
    },
    {
      "cell_type": "code",
      "metadata": {
        "id": "1XouU8UzJs1u",
        "colab_type": "code",
        "colab": {}
      },
      "source": [
        "r1=pd.read_csv('../Data/MLB_data_edit/r_2010_2018.csv')"
      ],
      "execution_count": 0,
      "outputs": []
    },
    {
      "cell_type": "code",
      "metadata": {
        "id": "tmaRQwg5Js1x",
        "colab_type": "code",
        "colab": {}
      },
      "source": [
        "r2=pd.read_csv('../Data/MLB_data_edit/r_2019.csv')"
      ],
      "execution_count": 0,
      "outputs": []
    },
    {
      "cell_type": "code",
      "metadata": {
        "id": "ID4s0V9HJs1z",
        "colab_type": "code",
        "colab": {}
      },
      "source": [
        "R=bat_total1.groupby(by=['Year','Team']).R.mean()\n",
        "H=bat_total1.groupby(by=['Year','Team']).H.mean()\n",
        "B2=bat_total1.groupby(by=['Year','Team'])['2B'].mean()\n",
        "HR=bat_total1.groupby(by=['Year','Team']).HR.mean()\n",
        "RBI=bat_total1.groupby(by=['Year','Team']).RBI.mean()\n",
        "SF=bat_total1.groupby(by=['Year','Team']).SF.mean()\n",
        "OPS=bat_total1.groupby(by=['Year','Team']).OPS.mean()\n",
        "BB=bat_total1.groupby(by=['Year','Team']).BB.mean()"
      ],
      "execution_count": 0,
      "outputs": []
    },
    {
      "cell_type": "code",
      "metadata": {
        "id": "JOi-Hr0MJs11",
        "colab_type": "code",
        "colab": {}
      },
      "source": [
        "df = pd.DataFrame(data = {\n",
        "                     'R':R,\n",
        "                     'H':H,\n",
        "                     '2B':B2,\n",
        "                     'HR':HR,\n",
        "                     'RBI':RBI,\n",
        "                     'BB':BB,\n",
        "                     'SF':SF,\n",
        "                     'OPS':OPS,\n",
        "                     'BB':BB\n",
        "                             })"
      ],
      "execution_count": 0,
      "outputs": []
    },
    {
      "cell_type": "code",
      "metadata": {
        "id": "RoD3EsDYJs13",
        "colab_type": "code",
        "colab": {}
      },
      "source": [
        ""
      ],
      "execution_count": 0,
      "outputs": []
    },
    {
      "cell_type": "code",
      "metadata": {
        "id": "LWQqXJmdJs15",
        "colab_type": "code",
        "colab": {}
      },
      "source": [
        "R=bat_total2.groupby(by=['Year','Team']).R.mean()\n",
        "H=bat_total2.groupby(by=['Year','Team']).H.mean()\n",
        "B2=bat_total2.groupby(by=['Year','Team'])['2B'].mean()\n",
        "HR=bat_total2.groupby(by=['Year','Team']).HR.mean()\n",
        "RBI=bat_total2.groupby(by=['Year','Team']).RBI.mean()\n",
        "SF=bat_total2.groupby(by=['Year','Team']).SF.mean()\n",
        "OPS=bat_total2.groupby(by=['Year','Team']).OPS.mean()\n",
        "BB=bat_total2.groupby(by=['Year','Team']).BB.mean()"
      ],
      "execution_count": 0,
      "outputs": []
    },
    {
      "cell_type": "code",
      "metadata": {
        "id": "g2d87DwPJs16",
        "colab_type": "code",
        "colab": {}
      },
      "source": [
        "df1 = pd.DataFrame(data = {\n",
        "                     'R':R,\n",
        "                     'H':H,\n",
        "                     '2B':B2,\n",
        "                     'HR':HR,\n",
        "                     'RBI':RBI,\n",
        "                     'BB':BB,\n",
        "                     'SF':SF,\n",
        "                     'OPS':OPS,\n",
        "                     'BB':BB\n",
        "                             })"
      ],
      "execution_count": 0,
      "outputs": []
    },
    {
      "cell_type": "code",
      "metadata": {
        "id": "4DqRZ-joJs18",
        "colab_type": "code",
        "colab": {}
      },
      "source": [
        "df.to_csv('../Data/MLB_data_edit/bat_total_2010_2018.csv')"
      ],
      "execution_count": 0,
      "outputs": []
    },
    {
      "cell_type": "code",
      "metadata": {
        "id": "gZbwYSSsJs1-",
        "colab_type": "code",
        "colab": {}
      },
      "source": [
        "df1.to_csv('../Data/MLB_data_edit/bat_total_2019.csv')"
      ],
      "execution_count": 0,
      "outputs": []
    },
    {
      "cell_type": "code",
      "metadata": {
        "id": "RpUrWS0VJs1_",
        "colab_type": "code",
        "colab": {}
      },
      "source": [
        "del r1['Unnamed: 0']"
      ],
      "execution_count": 0,
      "outputs": []
    },
    {
      "cell_type": "code",
      "metadata": {
        "id": "SUV2u0cpJs2B",
        "colab_type": "code",
        "colab": {}
      },
      "source": [
        "r1.to_csv('../Data/MLB_data_edit/r_2010_2018.csv')"
      ],
      "execution_count": 0,
      "outputs": []
    },
    {
      "cell_type": "code",
      "metadata": {
        "id": "o9CWE_-6Js2E",
        "colab_type": "code",
        "colab": {}
      },
      "source": [
        "del r2['Unnamed: 0']"
      ],
      "execution_count": 0,
      "outputs": []
    },
    {
      "cell_type": "code",
      "metadata": {
        "id": "n0bukbuWJs2G",
        "colab_type": "code",
        "colab": {}
      },
      "source": [
        "r2.to_csv('../Data/MLB_data_edit/r_2019.csv')"
      ],
      "execution_count": 0,
      "outputs": []
    },
    {
      "cell_type": "code",
      "metadata": {
        "id": "BRURPY17Js2I",
        "colab_type": "code",
        "colab": {}
      },
      "source": [
        ""
      ],
      "execution_count": 0,
      "outputs": []
    },
    {
      "cell_type": "code",
      "metadata": {
        "id": "BQUWpkm0Js2J",
        "colab_type": "code",
        "colab": {}
      },
      "source": [
        "bat_total_2010_2018=pd.read_csv('/Users/admin/Dropbox/Rank_Predict/Data/MLB_data_edit/bat_total_2010_2018.csv')"
      ],
      "execution_count": 0,
      "outputs": []
    },
    {
      "cell_type": "code",
      "metadata": {
        "id": "9kU-wqg_Js2L",
        "colab_type": "code",
        "colab": {}
      },
      "source": [
        ""
      ],
      "execution_count": 0,
      "outputs": []
    },
    {
      "cell_type": "code",
      "metadata": {
        "id": "zp8ELii2Js2N",
        "colab_type": "code",
        "colab": {}
      },
      "source": [
        "# 최종 그래프\n",
        "# 득점 구하는 공식\n",
        "y=29.2425982*'R' + -11.67758112*'H' + -10.54728532*'2B' + -19.20780599*'HR'+ 3.68685604*'RBI'+ 12.05060106*'SF'+ \\\n",
        "35.13286933*'OPS'+-8.12028979*'BB' + 556.81641174"
      ],
      "execution_count": 0,
      "outputs": []
    },
    {
      "cell_type": "code",
      "metadata": {
        "id": "AcqmL6UXJs2P",
        "colab_type": "code",
        "colab": {}
      },
      "source": [
        ""
      ],
      "execution_count": 0,
      "outputs": []
    },
    {
      "cell_type": "code",
      "metadata": {
        "id": "vzTEXShCJs2Q",
        "colab_type": "code",
        "colab": {}
      },
      "source": [
        "r_total_2019=pd.read_csv('/Users/admin/Dropbox/Rank_Predict/Data/MLB_data_edit/r_2019.csv')"
      ],
      "execution_count": 0,
      "outputs": []
    },
    {
      "cell_type": "code",
      "metadata": {
        "id": "qGCiOrisJs2S",
        "colab_type": "code",
        "colab": {}
      },
      "source": [
        "del r_total_2019 ['Unnamed: 0']"
      ],
      "execution_count": 0,
      "outputs": []
    },
    {
      "cell_type": "code",
      "metadata": {
        "id": "enCXkFdGJs2V",
        "colab_type": "code",
        "outputId": "2d99fb6b-8ed6-44e9-e65f-7c48a700fe33",
        "colab": {}
      },
      "source": [
        "r_total_2019.head(1)"
      ],
      "execution_count": 0,
      "outputs": [
        {
          "output_type": "execute_result",
          "data": {
            "text/html": [
              "<div>\n",
              "<style scoped>\n",
              "    .dataframe tbody tr th:only-of-type {\n",
              "        vertical-align: middle;\n",
              "    }\n",
              "\n",
              "    .dataframe tbody tr th {\n",
              "        vertical-align: top;\n",
              "    }\n",
              "\n",
              "    .dataframe thead th {\n",
              "        text-align: right;\n",
              "    }\n",
              "</style>\n",
              "<table border=\"1\" class=\"dataframe\">\n",
              "  <thead>\n",
              "    <tr style=\"text-align: right;\">\n",
              "      <th></th>\n",
              "      <th>Year</th>\n",
              "      <th>Team</th>\n",
              "      <th>R</th>\n",
              "    </tr>\n",
              "  </thead>\n",
              "  <tbody>\n",
              "    <tr>\n",
              "      <td>0</td>\n",
              "      <td>2019</td>\n",
              "      <td>ARI</td>\n",
              "      <td>792</td>\n",
              "    </tr>\n",
              "  </tbody>\n",
              "</table>\n",
              "</div>"
            ],
            "text/plain": [
              "   Year Team    R\n",
              "0  2019  ARI  792"
            ]
          },
          "metadata": {
            "tags": []
          },
          "execution_count": 113
        }
      ]
    },
    {
      "cell_type": "code",
      "metadata": {
        "id": "cRvFHjXNJs2X",
        "colab_type": "code",
        "colab": {}
      },
      "source": [
        "Condition1=r_total_2019[['Team','R']]"
      ],
      "execution_count": 0,
      "outputs": []
    },
    {
      "cell_type": "code",
      "metadata": {
        "id": "YWGBFbriJs2Y",
        "colab_type": "code",
        "colab": {}
      },
      "source": [
        "Condition=Condition1.reset_index()"
      ],
      "execution_count": 0,
      "outputs": []
    },
    {
      "cell_type": "code",
      "metadata": {
        "id": "5GvvkE51Js2a",
        "colab_type": "code",
        "colab": {}
      },
      "source": [
        "del Condition['index']"
      ],
      "execution_count": 0,
      "outputs": []
    },
    {
      "cell_type": "code",
      "metadata": {
        "id": "jvDLw04iJs2c",
        "colab_type": "code",
        "colab": {}
      },
      "source": [
        "# 'R','H','2B','HR','RBI','SF','OPS','BB'"
      ],
      "execution_count": 0,
      "outputs": []
    },
    {
      "cell_type": "code",
      "metadata": {
        "id": "UOrtaxi9Js2e",
        "colab_type": "code",
        "colab": {}
      },
      "source": [
        "y1=29.2425982*bat_total_2019['R'] + -11.67758112*bat_total_2019['H'] + -10.54728532*bat_total_2019['2B']\\\n",
        "+ -19.20780599*bat_total_2019['HR']+ 3.68685604*bat_total_2019['RBI']+ 12.05060106*bat_total_2019['SF']+ \\\n",
        "35.13286933*bat_total_2019['OPS']+-8.12028979*bat_total_2019['BB'] + 556.81641174"
      ],
      "execution_count": 0,
      "outputs": []
    },
    {
      "cell_type": "code",
      "metadata": {
        "id": "pgqWbU3zJs2f",
        "colab_type": "code",
        "colab": {}
      },
      "source": [
        "y=y1.reset_index()\n",
        "del y['index']\n",
        "y=y.astype(int)"
      ],
      "execution_count": 0,
      "outputs": []
    },
    {
      "cell_type": "code",
      "metadata": {
        "id": "GiLvW9G9Js2h",
        "colab_type": "code",
        "colab": {}
      },
      "source": [
        "Precision1=pd.concat([Condition[['Team','R']],y],axis=1)"
      ],
      "execution_count": 0,
      "outputs": []
    },
    {
      "cell_type": "code",
      "metadata": {
        "id": "yYfYikvFJs2i",
        "colab_type": "code",
        "colab": {}
      },
      "source": [
        "Precision=Precision1.rename(columns={0:'Predict', 'R':'Condition'})"
      ],
      "execution_count": 0,
      "outputs": []
    },
    {
      "cell_type": "code",
      "metadata": {
        "id": "dzA2mVtdJs2k",
        "colab_type": "code",
        "colab": {}
      },
      "source": [
        "Precision['Error']=abs(Precision['Condition']-Precision['Predict'])"
      ],
      "execution_count": 0,
      "outputs": []
    },
    {
      "cell_type": "code",
      "metadata": {
        "id": "pYYgBCMpJs2m",
        "colab_type": "code",
        "colab": {}
      },
      "source": [
        "Precision['Min']=round(Precision['Condition']*0.9)\n",
        "Precision['Max']=round(Precision['Condition']*1.1)\n",
        "Precision['Predict']=round(Precision['Predict'])"
      ],
      "execution_count": 0,
      "outputs": []
    },
    {
      "cell_type": "code",
      "metadata": {
        "id": "knarJ2NsJs2o",
        "colab_type": "code",
        "colab": {}
      },
      "source": [
        "Precision=Precision[['Team','Condition','min','Predict','max','Error']]"
      ],
      "execution_count": 0,
      "outputs": []
    },
    {
      "cell_type": "code",
      "metadata": {
        "scrolled": true,
        "id": "IiTvu73gJs2q",
        "colab_type": "code",
        "outputId": "a6321967-b21c-4c26-8c35-a2aaf7dfe4e4",
        "colab": {}
      },
      "source": [
        "Precision.rename(columns={'min':'Min','max':'Max','Predict':'Predict'},inplace=True)"
      ],
      "execution_count": 0,
      "outputs": [
        {
          "output_type": "stream",
          "text": [
            "C:\\Users\\admin\\Anaconda3\\lib\\site-packages\\pandas\\core\\frame.py:4223: SettingWithCopyWarning: \n",
            "A value is trying to be set on a copy of a slice from a DataFrame\n",
            "\n",
            "See the caveats in the documentation: http://pandas.pydata.org/pandas-docs/stable/user_guide/indexing.html#returning-a-view-versus-a-copy\n",
            "  return super().rename(**kwargs)\n"
          ],
          "name": "stderr"
        }
      ]
    },
    {
      "cell_type": "code",
      "metadata": {
        "id": "iIhkvgRmJs2s",
        "colab_type": "code",
        "colab": {}
      },
      "source": [
        "for i in range(0,30):\n",
        "    if (Precision['Predict'][i]>=Precision['Min'][i])and(Precision['Predict'][i]<=Precision['Max'][i]):\n",
        "        Precision.loc[i,'OX']= True\n",
        "    else:\n",
        "        Precision.loc[i,'OX']= False"
      ],
      "execution_count": 0,
      "outputs": []
    },
    {
      "cell_type": "code",
      "metadata": {
        "id": "RD8LcJ6qJs2t",
        "colab_type": "code",
        "colab": {}
      },
      "source": [
        ""
      ],
      "execution_count": 0,
      "outputs": []
    },
    {
      "cell_type": "code",
      "metadata": {
        "id": "YSBzdS98Js2v",
        "colab_type": "code",
        "colab": {}
      },
      "source": [
        "# 몇 퍼센트 확률로 맞냐\n",
        "Precision['Accuracy']=Precision['Condition']/Precision['Predict']"
      ],
      "execution_count": 0,
      "outputs": []
    },
    {
      "cell_type": "code",
      "metadata": {
        "id": "-2atz7owJs2w",
        "colab_type": "code",
        "outputId": "7fa3bbee-739d-4f7c-cfeb-76abf5ef5e97",
        "colab": {}
      },
      "source": [
        "for i in range(0,30):\n",
        "    if Precision['OX'][i]==False: \n",
        "        Precision['Accuracy'][i]=False\n",
        "        \n",
        "for i in range(0,30):\n",
        "    if Precision['Accuracy'][i]>=1: \n",
        "        Precision['Accuracy'][i]=Precision['Predict'][i]/Precision['Condition'][i]"
      ],
      "execution_count": 0,
      "outputs": [
        {
          "output_type": "stream",
          "text": [
            "C:\\Users\\admin\\Anaconda3\\lib\\site-packages\\ipykernel_launcher.py:3: SettingWithCopyWarning: \n",
            "A value is trying to be set on a copy of a slice from a DataFrame\n",
            "\n",
            "See the caveats in the documentation: http://pandas.pydata.org/pandas-docs/stable/user_guide/indexing.html#returning-a-view-versus-a-copy\n",
            "  This is separate from the ipykernel package so we can avoid doing imports until\n",
            "C:\\Users\\admin\\Anaconda3\\lib\\site-packages\\pandas\\core\\indexing.py:205: SettingWithCopyWarning: \n",
            "A value is trying to be set on a copy of a slice from a DataFrame\n",
            "\n",
            "See the caveats in the documentation: http://pandas.pydata.org/pandas-docs/stable/user_guide/indexing.html#returning-a-view-versus-a-copy\n",
            "  self._setitem_with_indexer(indexer, value)\n"
          ],
          "name": "stderr"
        }
      ]
    },
    {
      "cell_type": "code",
      "metadata": {
        "id": "Ljc3zxSPJs2x",
        "colab_type": "code",
        "outputId": "6d4e73d6-0ded-42dc-dfa5-f00bbfc92d82",
        "colab": {}
      },
      "source": [
        "Precision"
      ],
      "execution_count": 0,
      "outputs": [
        {
          "output_type": "execute_result",
          "data": {
            "text/html": [
              "<div>\n",
              "<style scoped>\n",
              "    .dataframe tbody tr th:only-of-type {\n",
              "        vertical-align: middle;\n",
              "    }\n",
              "\n",
              "    .dataframe tbody tr th {\n",
              "        vertical-align: top;\n",
              "    }\n",
              "\n",
              "    .dataframe thead th {\n",
              "        text-align: right;\n",
              "    }\n",
              "</style>\n",
              "<table border=\"1\" class=\"dataframe\">\n",
              "  <thead>\n",
              "    <tr style=\"text-align: right;\">\n",
              "      <th></th>\n",
              "      <th>Team</th>\n",
              "      <th>Condition</th>\n",
              "      <th>Min</th>\n",
              "      <th>Predict</th>\n",
              "      <th>Max</th>\n",
              "      <th>Error</th>\n",
              "      <th>OX</th>\n",
              "      <th>Accuracy</th>\n",
              "    </tr>\n",
              "  </thead>\n",
              "  <tbody>\n",
              "    <tr>\n",
              "      <td>0</td>\n",
              "      <td>ARI</td>\n",
              "      <td>792</td>\n",
              "      <td>713.0</td>\n",
              "      <td>860</td>\n",
              "      <td>871.0</td>\n",
              "      <td>68</td>\n",
              "      <td>True</td>\n",
              "      <td>0.92093</td>\n",
              "    </tr>\n",
              "    <tr>\n",
              "      <td>1</td>\n",
              "      <td>ATL</td>\n",
              "      <td>839</td>\n",
              "      <td>755.0</td>\n",
              "      <td>915</td>\n",
              "      <td>923.0</td>\n",
              "      <td>76</td>\n",
              "      <td>True</td>\n",
              "      <td>0.91694</td>\n",
              "    </tr>\n",
              "    <tr>\n",
              "      <td>2</td>\n",
              "      <td>BAL</td>\n",
              "      <td>728</td>\n",
              "      <td>655.0</td>\n",
              "      <td>755</td>\n",
              "      <td>801.0</td>\n",
              "      <td>27</td>\n",
              "      <td>True</td>\n",
              "      <td>0.964238</td>\n",
              "    </tr>\n",
              "    <tr>\n",
              "      <td>3</td>\n",
              "      <td>BOS</td>\n",
              "      <td>899</td>\n",
              "      <td>809.0</td>\n",
              "      <td>970</td>\n",
              "      <td>989.0</td>\n",
              "      <td>71</td>\n",
              "      <td>True</td>\n",
              "      <td>0.926804</td>\n",
              "    </tr>\n",
              "    <tr>\n",
              "      <td>4</td>\n",
              "      <td>CHC</td>\n",
              "      <td>802</td>\n",
              "      <td>722.0</td>\n",
              "      <td>866</td>\n",
              "      <td>882.0</td>\n",
              "      <td>64</td>\n",
              "      <td>True</td>\n",
              "      <td>0.926097</td>\n",
              "    </tr>\n",
              "    <tr>\n",
              "      <td>5</td>\n",
              "      <td>CIN</td>\n",
              "      <td>682</td>\n",
              "      <td>614.0</td>\n",
              "      <td>730</td>\n",
              "      <td>750.0</td>\n",
              "      <td>48</td>\n",
              "      <td>True</td>\n",
              "      <td>0.934247</td>\n",
              "    </tr>\n",
              "    <tr>\n",
              "      <td>6</td>\n",
              "      <td>CLE</td>\n",
              "      <td>769</td>\n",
              "      <td>692.0</td>\n",
              "      <td>819</td>\n",
              "      <td>846.0</td>\n",
              "      <td>50</td>\n",
              "      <td>True</td>\n",
              "      <td>0.93895</td>\n",
              "    </tr>\n",
              "    <tr>\n",
              "      <td>7</td>\n",
              "      <td>COL</td>\n",
              "      <td>819</td>\n",
              "      <td>737.0</td>\n",
              "      <td>882</td>\n",
              "      <td>901.0</td>\n",
              "      <td>63</td>\n",
              "      <td>True</td>\n",
              "      <td>0.928571</td>\n",
              "    </tr>\n",
              "    <tr>\n",
              "      <td>8</td>\n",
              "      <td>CWS</td>\n",
              "      <td>708</td>\n",
              "      <td>637.0</td>\n",
              "      <td>729</td>\n",
              "      <td>779.0</td>\n",
              "      <td>21</td>\n",
              "      <td>True</td>\n",
              "      <td>0.971193</td>\n",
              "    </tr>\n",
              "    <tr>\n",
              "      <td>9</td>\n",
              "      <td>DET</td>\n",
              "      <td>580</td>\n",
              "      <td>522.0</td>\n",
              "      <td>608</td>\n",
              "      <td>638.0</td>\n",
              "      <td>28</td>\n",
              "      <td>True</td>\n",
              "      <td>0.953947</td>\n",
              "    </tr>\n",
              "    <tr>\n",
              "      <td>10</td>\n",
              "      <td>HOU</td>\n",
              "      <td>919</td>\n",
              "      <td>827.0</td>\n",
              "      <td>887</td>\n",
              "      <td>1011.0</td>\n",
              "      <td>32</td>\n",
              "      <td>True</td>\n",
              "      <td>0.96518</td>\n",
              "    </tr>\n",
              "    <tr>\n",
              "      <td>11</td>\n",
              "      <td>KC</td>\n",
              "      <td>691</td>\n",
              "      <td>622.0</td>\n",
              "      <td>730</td>\n",
              "      <td>760.0</td>\n",
              "      <td>39</td>\n",
              "      <td>True</td>\n",
              "      <td>0.946575</td>\n",
              "    </tr>\n",
              "    <tr>\n",
              "      <td>12</td>\n",
              "      <td>LAA</td>\n",
              "      <td>718</td>\n",
              "      <td>646.0</td>\n",
              "      <td>785</td>\n",
              "      <td>790.0</td>\n",
              "      <td>67</td>\n",
              "      <td>True</td>\n",
              "      <td>0.91465</td>\n",
              "    </tr>\n",
              "    <tr>\n",
              "      <td>13</td>\n",
              "      <td>LAD</td>\n",
              "      <td>869</td>\n",
              "      <td>782.0</td>\n",
              "      <td>1000</td>\n",
              "      <td>956.0</td>\n",
              "      <td>131</td>\n",
              "      <td>False</td>\n",
              "      <td>False</td>\n",
              "    </tr>\n",
              "    <tr>\n",
              "      <td>14</td>\n",
              "      <td>MIA</td>\n",
              "      <td>606</td>\n",
              "      <td>545.0</td>\n",
              "      <td>657</td>\n",
              "      <td>667.0</td>\n",
              "      <td>51</td>\n",
              "      <td>True</td>\n",
              "      <td>0.922374</td>\n",
              "    </tr>\n",
              "    <tr>\n",
              "      <td>15</td>\n",
              "      <td>MIL</td>\n",
              "      <td>757</td>\n",
              "      <td>681.0</td>\n",
              "      <td>789</td>\n",
              "      <td>833.0</td>\n",
              "      <td>32</td>\n",
              "      <td>True</td>\n",
              "      <td>0.959442</td>\n",
              "    </tr>\n",
              "    <tr>\n",
              "      <td>16</td>\n",
              "      <td>MIN</td>\n",
              "      <td>937</td>\n",
              "      <td>843.0</td>\n",
              "      <td>1032</td>\n",
              "      <td>1031.0</td>\n",
              "      <td>95</td>\n",
              "      <td>False</td>\n",
              "      <td>False</td>\n",
              "    </tr>\n",
              "    <tr>\n",
              "      <td>17</td>\n",
              "      <td>NYM</td>\n",
              "      <td>770</td>\n",
              "      <td>693.0</td>\n",
              "      <td>809</td>\n",
              "      <td>847.0</td>\n",
              "      <td>39</td>\n",
              "      <td>True</td>\n",
              "      <td>0.951792</td>\n",
              "    </tr>\n",
              "    <tr>\n",
              "      <td>18</td>\n",
              "      <td>NYY</td>\n",
              "      <td>942</td>\n",
              "      <td>848.0</td>\n",
              "      <td>954</td>\n",
              "      <td>1036.0</td>\n",
              "      <td>12</td>\n",
              "      <td>True</td>\n",
              "      <td>0.987421</td>\n",
              "    </tr>\n",
              "    <tr>\n",
              "      <td>19</td>\n",
              "      <td>OAK</td>\n",
              "      <td>844</td>\n",
              "      <td>760.0</td>\n",
              "      <td>907</td>\n",
              "      <td>928.0</td>\n",
              "      <td>63</td>\n",
              "      <td>True</td>\n",
              "      <td>0.93054</td>\n",
              "    </tr>\n",
              "    <tr>\n",
              "      <td>20</td>\n",
              "      <td>PHI</td>\n",
              "      <td>758</td>\n",
              "      <td>682.0</td>\n",
              "      <td>817</td>\n",
              "      <td>834.0</td>\n",
              "      <td>59</td>\n",
              "      <td>True</td>\n",
              "      <td>0.927785</td>\n",
              "    </tr>\n",
              "    <tr>\n",
              "      <td>21</td>\n",
              "      <td>PIT</td>\n",
              "      <td>738</td>\n",
              "      <td>664.0</td>\n",
              "      <td>806</td>\n",
              "      <td>812.0</td>\n",
              "      <td>68</td>\n",
              "      <td>True</td>\n",
              "      <td>0.915633</td>\n",
              "    </tr>\n",
              "    <tr>\n",
              "      <td>22</td>\n",
              "      <td>SD</td>\n",
              "      <td>672</td>\n",
              "      <td>605.0</td>\n",
              "      <td>742</td>\n",
              "      <td>739.0</td>\n",
              "      <td>70</td>\n",
              "      <td>False</td>\n",
              "      <td>False</td>\n",
              "    </tr>\n",
              "    <tr>\n",
              "      <td>23</td>\n",
              "      <td>SEA</td>\n",
              "      <td>757</td>\n",
              "      <td>681.0</td>\n",
              "      <td>775</td>\n",
              "      <td>833.0</td>\n",
              "      <td>18</td>\n",
              "      <td>True</td>\n",
              "      <td>0.976774</td>\n",
              "    </tr>\n",
              "    <tr>\n",
              "      <td>24</td>\n",
              "      <td>SF</td>\n",
              "      <td>670</td>\n",
              "      <td>603.0</td>\n",
              "      <td>747</td>\n",
              "      <td>737.0</td>\n",
              "      <td>77</td>\n",
              "      <td>False</td>\n",
              "      <td>False</td>\n",
              "    </tr>\n",
              "    <tr>\n",
              "      <td>25</td>\n",
              "      <td>STL</td>\n",
              "      <td>748</td>\n",
              "      <td>673.0</td>\n",
              "      <td>854</td>\n",
              "      <td>823.0</td>\n",
              "      <td>106</td>\n",
              "      <td>False</td>\n",
              "      <td>False</td>\n",
              "    </tr>\n",
              "    <tr>\n",
              "      <td>26</td>\n",
              "      <td>TB</td>\n",
              "      <td>767</td>\n",
              "      <td>690.0</td>\n",
              "      <td>766</td>\n",
              "      <td>844.0</td>\n",
              "      <td>1</td>\n",
              "      <td>True</td>\n",
              "      <td>0.998696</td>\n",
              "    </tr>\n",
              "    <tr>\n",
              "      <td>27</td>\n",
              "      <td>TEX</td>\n",
              "      <td>810</td>\n",
              "      <td>729.0</td>\n",
              "      <td>896</td>\n",
              "      <td>891.0</td>\n",
              "      <td>86</td>\n",
              "      <td>False</td>\n",
              "      <td>False</td>\n",
              "    </tr>\n",
              "    <tr>\n",
              "      <td>28</td>\n",
              "      <td>TOR</td>\n",
              "      <td>724</td>\n",
              "      <td>652.0</td>\n",
              "      <td>763</td>\n",
              "      <td>796.0</td>\n",
              "      <td>39</td>\n",
              "      <td>True</td>\n",
              "      <td>0.948886</td>\n",
              "    </tr>\n",
              "    <tr>\n",
              "      <td>29</td>\n",
              "      <td>WAS</td>\n",
              "      <td>853</td>\n",
              "      <td>768.0</td>\n",
              "      <td>993</td>\n",
              "      <td>938.0</td>\n",
              "      <td>140</td>\n",
              "      <td>False</td>\n",
              "      <td>False</td>\n",
              "    </tr>\n",
              "  </tbody>\n",
              "</table>\n",
              "</div>"
            ],
            "text/plain": [
              "   Team  Condition    Min  Predict     Max  Error     OX  Accuracy\n",
              "0   ARI        792  713.0      860   871.0     68   True   0.92093\n",
              "1   ATL        839  755.0      915   923.0     76   True   0.91694\n",
              "2   BAL        728  655.0      755   801.0     27   True  0.964238\n",
              "3   BOS        899  809.0      970   989.0     71   True  0.926804\n",
              "4   CHC        802  722.0      866   882.0     64   True  0.926097\n",
              "5   CIN        682  614.0      730   750.0     48   True  0.934247\n",
              "6   CLE        769  692.0      819   846.0     50   True   0.93895\n",
              "7   COL        819  737.0      882   901.0     63   True  0.928571\n",
              "8   CWS        708  637.0      729   779.0     21   True  0.971193\n",
              "9   DET        580  522.0      608   638.0     28   True  0.953947\n",
              "10  HOU        919  827.0      887  1011.0     32   True   0.96518\n",
              "11   KC        691  622.0      730   760.0     39   True  0.946575\n",
              "12  LAA        718  646.0      785   790.0     67   True   0.91465\n",
              "13  LAD        869  782.0     1000   956.0    131  False     False\n",
              "14  MIA        606  545.0      657   667.0     51   True  0.922374\n",
              "15  MIL        757  681.0      789   833.0     32   True  0.959442\n",
              "16  MIN        937  843.0     1032  1031.0     95  False     False\n",
              "17  NYM        770  693.0      809   847.0     39   True  0.951792\n",
              "18  NYY        942  848.0      954  1036.0     12   True  0.987421\n",
              "19  OAK        844  760.0      907   928.0     63   True   0.93054\n",
              "20  PHI        758  682.0      817   834.0     59   True  0.927785\n",
              "21  PIT        738  664.0      806   812.0     68   True  0.915633\n",
              "22   SD        672  605.0      742   739.0     70  False     False\n",
              "23  SEA        757  681.0      775   833.0     18   True  0.976774\n",
              "24   SF        670  603.0      747   737.0     77  False     False\n",
              "25  STL        748  673.0      854   823.0    106  False     False\n",
              "26   TB        767  690.0      766   844.0      1   True  0.998696\n",
              "27  TEX        810  729.0      896   891.0     86  False     False\n",
              "28  TOR        724  652.0      763   796.0     39   True  0.948886\n",
              "29  WAS        853  768.0      993   938.0    140  False     False"
            ]
          },
          "metadata": {
            "tags": []
          },
          "execution_count": 314
        }
      ]
    },
    {
      "cell_type": "code",
      "metadata": {
        "id": "uPox4iWKJs20",
        "colab_type": "code",
        "colab": {}
      },
      "source": [
        "Precision.to_csv('../Data/MLB_data_edit/Precision.csv')"
      ],
      "execution_count": 0,
      "outputs": []
    },
    {
      "cell_type": "code",
      "metadata": {
        "id": "aqW8utkAJs22",
        "colab_type": "code",
        "outputId": "d6b3fa01-0fe4-43ac-ea29-5f8312bcfcba",
        "colab": {}
      },
      "source": [
        "Precision"
      ],
      "execution_count": 0,
      "outputs": [
        {
          "output_type": "execute_result",
          "data": {
            "text/html": [
              "<div>\n",
              "<style scoped>\n",
              "    .dataframe tbody tr th:only-of-type {\n",
              "        vertical-align: middle;\n",
              "    }\n",
              "\n",
              "    .dataframe tbody tr th {\n",
              "        vertical-align: top;\n",
              "    }\n",
              "\n",
              "    .dataframe thead th {\n",
              "        text-align: right;\n",
              "    }\n",
              "</style>\n",
              "<table border=\"1\" class=\"dataframe\">\n",
              "  <thead>\n",
              "    <tr style=\"text-align: right;\">\n",
              "      <th></th>\n",
              "      <th>Team</th>\n",
              "      <th>Condition</th>\n",
              "      <th>Min</th>\n",
              "      <th>Predict</th>\n",
              "      <th>Max</th>\n",
              "      <th>Error</th>\n",
              "      <th>OX</th>\n",
              "      <th>Accuracy</th>\n",
              "    </tr>\n",
              "  </thead>\n",
              "  <tbody>\n",
              "    <tr>\n",
              "      <td>0</td>\n",
              "      <td>ARI</td>\n",
              "      <td>792</td>\n",
              "      <td>713.0</td>\n",
              "      <td>860</td>\n",
              "      <td>871.0</td>\n",
              "      <td>68</td>\n",
              "      <td>True</td>\n",
              "      <td>0.92093</td>\n",
              "    </tr>\n",
              "    <tr>\n",
              "      <td>1</td>\n",
              "      <td>ATL</td>\n",
              "      <td>839</td>\n",
              "      <td>755.0</td>\n",
              "      <td>915</td>\n",
              "      <td>923.0</td>\n",
              "      <td>76</td>\n",
              "      <td>True</td>\n",
              "      <td>0.91694</td>\n",
              "    </tr>\n",
              "    <tr>\n",
              "      <td>2</td>\n",
              "      <td>BAL</td>\n",
              "      <td>728</td>\n",
              "      <td>655.0</td>\n",
              "      <td>755</td>\n",
              "      <td>801.0</td>\n",
              "      <td>27</td>\n",
              "      <td>True</td>\n",
              "      <td>0.964238</td>\n",
              "    </tr>\n",
              "    <tr>\n",
              "      <td>3</td>\n",
              "      <td>BOS</td>\n",
              "      <td>899</td>\n",
              "      <td>809.0</td>\n",
              "      <td>970</td>\n",
              "      <td>989.0</td>\n",
              "      <td>71</td>\n",
              "      <td>True</td>\n",
              "      <td>0.926804</td>\n",
              "    </tr>\n",
              "    <tr>\n",
              "      <td>4</td>\n",
              "      <td>CHC</td>\n",
              "      <td>802</td>\n",
              "      <td>722.0</td>\n",
              "      <td>866</td>\n",
              "      <td>882.0</td>\n",
              "      <td>64</td>\n",
              "      <td>True</td>\n",
              "      <td>0.926097</td>\n",
              "    </tr>\n",
              "    <tr>\n",
              "      <td>5</td>\n",
              "      <td>CIN</td>\n",
              "      <td>682</td>\n",
              "      <td>614.0</td>\n",
              "      <td>730</td>\n",
              "      <td>750.0</td>\n",
              "      <td>48</td>\n",
              "      <td>True</td>\n",
              "      <td>0.934247</td>\n",
              "    </tr>\n",
              "    <tr>\n",
              "      <td>6</td>\n",
              "      <td>CLE</td>\n",
              "      <td>769</td>\n",
              "      <td>692.0</td>\n",
              "      <td>819</td>\n",
              "      <td>846.0</td>\n",
              "      <td>50</td>\n",
              "      <td>True</td>\n",
              "      <td>0.93895</td>\n",
              "    </tr>\n",
              "    <tr>\n",
              "      <td>7</td>\n",
              "      <td>COL</td>\n",
              "      <td>819</td>\n",
              "      <td>737.0</td>\n",
              "      <td>882</td>\n",
              "      <td>901.0</td>\n",
              "      <td>63</td>\n",
              "      <td>True</td>\n",
              "      <td>0.928571</td>\n",
              "    </tr>\n",
              "    <tr>\n",
              "      <td>8</td>\n",
              "      <td>CWS</td>\n",
              "      <td>708</td>\n",
              "      <td>637.0</td>\n",
              "      <td>729</td>\n",
              "      <td>779.0</td>\n",
              "      <td>21</td>\n",
              "      <td>True</td>\n",
              "      <td>0.971193</td>\n",
              "    </tr>\n",
              "    <tr>\n",
              "      <td>9</td>\n",
              "      <td>DET</td>\n",
              "      <td>580</td>\n",
              "      <td>522.0</td>\n",
              "      <td>608</td>\n",
              "      <td>638.0</td>\n",
              "      <td>28</td>\n",
              "      <td>True</td>\n",
              "      <td>0.953947</td>\n",
              "    </tr>\n",
              "    <tr>\n",
              "      <td>10</td>\n",
              "      <td>HOU</td>\n",
              "      <td>919</td>\n",
              "      <td>827.0</td>\n",
              "      <td>887</td>\n",
              "      <td>1011.0</td>\n",
              "      <td>32</td>\n",
              "      <td>True</td>\n",
              "      <td>0.96518</td>\n",
              "    </tr>\n",
              "    <tr>\n",
              "      <td>11</td>\n",
              "      <td>KC</td>\n",
              "      <td>691</td>\n",
              "      <td>622.0</td>\n",
              "      <td>730</td>\n",
              "      <td>760.0</td>\n",
              "      <td>39</td>\n",
              "      <td>True</td>\n",
              "      <td>0.946575</td>\n",
              "    </tr>\n",
              "    <tr>\n",
              "      <td>12</td>\n",
              "      <td>LAA</td>\n",
              "      <td>718</td>\n",
              "      <td>646.0</td>\n",
              "      <td>785</td>\n",
              "      <td>790.0</td>\n",
              "      <td>67</td>\n",
              "      <td>True</td>\n",
              "      <td>0.91465</td>\n",
              "    </tr>\n",
              "    <tr>\n",
              "      <td>13</td>\n",
              "      <td>LAD</td>\n",
              "      <td>869</td>\n",
              "      <td>782.0</td>\n",
              "      <td>1000</td>\n",
              "      <td>956.0</td>\n",
              "      <td>131</td>\n",
              "      <td>False</td>\n",
              "      <td>False</td>\n",
              "    </tr>\n",
              "    <tr>\n",
              "      <td>14</td>\n",
              "      <td>MIA</td>\n",
              "      <td>606</td>\n",
              "      <td>545.0</td>\n",
              "      <td>657</td>\n",
              "      <td>667.0</td>\n",
              "      <td>51</td>\n",
              "      <td>True</td>\n",
              "      <td>0.922374</td>\n",
              "    </tr>\n",
              "    <tr>\n",
              "      <td>15</td>\n",
              "      <td>MIL</td>\n",
              "      <td>757</td>\n",
              "      <td>681.0</td>\n",
              "      <td>789</td>\n",
              "      <td>833.0</td>\n",
              "      <td>32</td>\n",
              "      <td>True</td>\n",
              "      <td>0.959442</td>\n",
              "    </tr>\n",
              "    <tr>\n",
              "      <td>16</td>\n",
              "      <td>MIN</td>\n",
              "      <td>937</td>\n",
              "      <td>843.0</td>\n",
              "      <td>1032</td>\n",
              "      <td>1031.0</td>\n",
              "      <td>95</td>\n",
              "      <td>False</td>\n",
              "      <td>False</td>\n",
              "    </tr>\n",
              "    <tr>\n",
              "      <td>17</td>\n",
              "      <td>NYM</td>\n",
              "      <td>770</td>\n",
              "      <td>693.0</td>\n",
              "      <td>809</td>\n",
              "      <td>847.0</td>\n",
              "      <td>39</td>\n",
              "      <td>True</td>\n",
              "      <td>0.951792</td>\n",
              "    </tr>\n",
              "    <tr>\n",
              "      <td>18</td>\n",
              "      <td>NYY</td>\n",
              "      <td>942</td>\n",
              "      <td>848.0</td>\n",
              "      <td>954</td>\n",
              "      <td>1036.0</td>\n",
              "      <td>12</td>\n",
              "      <td>True</td>\n",
              "      <td>0.987421</td>\n",
              "    </tr>\n",
              "    <tr>\n",
              "      <td>19</td>\n",
              "      <td>OAK</td>\n",
              "      <td>844</td>\n",
              "      <td>760.0</td>\n",
              "      <td>907</td>\n",
              "      <td>928.0</td>\n",
              "      <td>63</td>\n",
              "      <td>True</td>\n",
              "      <td>0.93054</td>\n",
              "    </tr>\n",
              "    <tr>\n",
              "      <td>20</td>\n",
              "      <td>PHI</td>\n",
              "      <td>758</td>\n",
              "      <td>682.0</td>\n",
              "      <td>817</td>\n",
              "      <td>834.0</td>\n",
              "      <td>59</td>\n",
              "      <td>True</td>\n",
              "      <td>0.927785</td>\n",
              "    </tr>\n",
              "    <tr>\n",
              "      <td>21</td>\n",
              "      <td>PIT</td>\n",
              "      <td>738</td>\n",
              "      <td>664.0</td>\n",
              "      <td>806</td>\n",
              "      <td>812.0</td>\n",
              "      <td>68</td>\n",
              "      <td>True</td>\n",
              "      <td>0.915633</td>\n",
              "    </tr>\n",
              "    <tr>\n",
              "      <td>22</td>\n",
              "      <td>SD</td>\n",
              "      <td>672</td>\n",
              "      <td>605.0</td>\n",
              "      <td>742</td>\n",
              "      <td>739.0</td>\n",
              "      <td>70</td>\n",
              "      <td>False</td>\n",
              "      <td>False</td>\n",
              "    </tr>\n",
              "    <tr>\n",
              "      <td>23</td>\n",
              "      <td>SEA</td>\n",
              "      <td>757</td>\n",
              "      <td>681.0</td>\n",
              "      <td>775</td>\n",
              "      <td>833.0</td>\n",
              "      <td>18</td>\n",
              "      <td>True</td>\n",
              "      <td>0.976774</td>\n",
              "    </tr>\n",
              "    <tr>\n",
              "      <td>24</td>\n",
              "      <td>SF</td>\n",
              "      <td>670</td>\n",
              "      <td>603.0</td>\n",
              "      <td>747</td>\n",
              "      <td>737.0</td>\n",
              "      <td>77</td>\n",
              "      <td>False</td>\n",
              "      <td>False</td>\n",
              "    </tr>\n",
              "    <tr>\n",
              "      <td>25</td>\n",
              "      <td>STL</td>\n",
              "      <td>748</td>\n",
              "      <td>673.0</td>\n",
              "      <td>854</td>\n",
              "      <td>823.0</td>\n",
              "      <td>106</td>\n",
              "      <td>False</td>\n",
              "      <td>False</td>\n",
              "    </tr>\n",
              "    <tr>\n",
              "      <td>26</td>\n",
              "      <td>TB</td>\n",
              "      <td>767</td>\n",
              "      <td>690.0</td>\n",
              "      <td>766</td>\n",
              "      <td>844.0</td>\n",
              "      <td>1</td>\n",
              "      <td>True</td>\n",
              "      <td>0.998696</td>\n",
              "    </tr>\n",
              "    <tr>\n",
              "      <td>27</td>\n",
              "      <td>TEX</td>\n",
              "      <td>810</td>\n",
              "      <td>729.0</td>\n",
              "      <td>896</td>\n",
              "      <td>891.0</td>\n",
              "      <td>86</td>\n",
              "      <td>False</td>\n",
              "      <td>False</td>\n",
              "    </tr>\n",
              "    <tr>\n",
              "      <td>28</td>\n",
              "      <td>TOR</td>\n",
              "      <td>724</td>\n",
              "      <td>652.0</td>\n",
              "      <td>763</td>\n",
              "      <td>796.0</td>\n",
              "      <td>39</td>\n",
              "      <td>True</td>\n",
              "      <td>0.948886</td>\n",
              "    </tr>\n",
              "    <tr>\n",
              "      <td>29</td>\n",
              "      <td>WAS</td>\n",
              "      <td>853</td>\n",
              "      <td>768.0</td>\n",
              "      <td>993</td>\n",
              "      <td>938.0</td>\n",
              "      <td>140</td>\n",
              "      <td>False</td>\n",
              "      <td>False</td>\n",
              "    </tr>\n",
              "  </tbody>\n",
              "</table>\n",
              "</div>"
            ],
            "text/plain": [
              "   Team  Condition    Min  Predict     Max  Error     OX  Accuracy\n",
              "0   ARI        792  713.0      860   871.0     68   True   0.92093\n",
              "1   ATL        839  755.0      915   923.0     76   True   0.91694\n",
              "2   BAL        728  655.0      755   801.0     27   True  0.964238\n",
              "3   BOS        899  809.0      970   989.0     71   True  0.926804\n",
              "4   CHC        802  722.0      866   882.0     64   True  0.926097\n",
              "5   CIN        682  614.0      730   750.0     48   True  0.934247\n",
              "6   CLE        769  692.0      819   846.0     50   True   0.93895\n",
              "7   COL        819  737.0      882   901.0     63   True  0.928571\n",
              "8   CWS        708  637.0      729   779.0     21   True  0.971193\n",
              "9   DET        580  522.0      608   638.0     28   True  0.953947\n",
              "10  HOU        919  827.0      887  1011.0     32   True   0.96518\n",
              "11   KC        691  622.0      730   760.0     39   True  0.946575\n",
              "12  LAA        718  646.0      785   790.0     67   True   0.91465\n",
              "13  LAD        869  782.0     1000   956.0    131  False     False\n",
              "14  MIA        606  545.0      657   667.0     51   True  0.922374\n",
              "15  MIL        757  681.0      789   833.0     32   True  0.959442\n",
              "16  MIN        937  843.0     1032  1031.0     95  False     False\n",
              "17  NYM        770  693.0      809   847.0     39   True  0.951792\n",
              "18  NYY        942  848.0      954  1036.0     12   True  0.987421\n",
              "19  OAK        844  760.0      907   928.0     63   True   0.93054\n",
              "20  PHI        758  682.0      817   834.0     59   True  0.927785\n",
              "21  PIT        738  664.0      806   812.0     68   True  0.915633\n",
              "22   SD        672  605.0      742   739.0     70  False     False\n",
              "23  SEA        757  681.0      775   833.0     18   True  0.976774\n",
              "24   SF        670  603.0      747   737.0     77  False     False\n",
              "25  STL        748  673.0      854   823.0    106  False     False\n",
              "26   TB        767  690.0      766   844.0      1   True  0.998696\n",
              "27  TEX        810  729.0      896   891.0     86  False     False\n",
              "28  TOR        724  652.0      763   796.0     39   True  0.948886\n",
              "29  WAS        853  768.0      993   938.0    140  False     False"
            ]
          },
          "metadata": {
            "tags": []
          },
          "execution_count": 329
        }
      ]
    },
    {
      "cell_type": "code",
      "metadata": {
        "id": "-su2i7WyJs25",
        "colab_type": "code",
        "outputId": "4f0b77ae-fb86-4816-f46d-ca4e2dcd3b23",
        "colab": {}
      },
      "source": [
        "from csv import reader\n",
        "import pandas as pd\n",
        "import numpy as np\n",
        "import matplotlib.pyplot as plt\n",
        "import seaborn as sns\n",
        "from prettytable import PrettyTable\n",
        "\n",
        "\n",
        "# Prepare Data\n",
        "\n",
        "Precision=pd.read_csv('/Users/admin/Dropbox/Rank_Predict/Data/MLB_data_edit/Precision.csv')\n",
        "# print(type(Precision['Team']))\n",
        "# print(Precision['Team'])\n",
        "Team=Precision['Team']\n",
        "accuracy1=Precision['Accuracy']\n",
        "Accuracy=[]\n",
        "for i in accuracy1:\n",
        "    if i==\"False\":\n",
        "        Accuracy.append(0.88)\n",
        "    else:\n",
        "        Accuracy.append(round(float(i),2))\n",
        "\n",
        "# df.sort_values('cty', inplace=True)\n",
        "# df.reset_index(inplace=True)\n",
        "\n",
        "# Draw plot\n",
        "fig, ax = plt.subplots(figsize=(16,10), dpi= 80)\n",
        "ax.vlines(x=Precision.Team, ymin=0, ymax=Accuracy,color='firebrick', alpha=0.7, linewidth=2)\n",
        "ax.scatter(x=Precision.Team, y=Accuracy, s=75, color='firebrick', alpha=0.7)\n",
        "\n",
        "# Title, Label, Ticks and Ylim\n",
        "ax.set_title('Accuracy per MLB_Teams by modeling', fontdict={'size':22})\n",
        "ax.set_ylabel('Accuracy')\n",
        "ax.set_xticks(Precision.index)\n",
        "# ax.set_xticklabels(df.manufacturer.str.upper(), rotation=60, fontdict={'horizontalalignment': 'right', 'size':12})\n",
        "ax.set_ylim(0.85,1.01)\n",
        "\n",
        "# Annotate\n",
        "x=[]\n",
        "for i in range(0,29):\n",
        "    x.append(i)\n",
        "print(x)\n",
        "for i in range(0,29):\n",
        "    ax.text(x[i], Accuracy[i]+.01, s=Accuracy[i], horizontalalignment= 'center', verticalalignment='bottom', fontsize=14)\n",
        "    print(Accuracy[i])\n",
        "plt.show()\n",
        "\n",
        "# for row in df.itertuples():\n",
        "#     ax.text(row.Index, row.cty+.5, s=round(row.cty, 2), horizontalalignment= 'center', verticalalignment='bottom', fontsize=14)\n",
        "# print(row.cty)\n",
        "# plt.show()"
      ],
      "execution_count": 0,
      "outputs": [
        {
          "output_type": "stream",
          "text": [
            "[0, 1, 2, 3, 4, 5, 6, 7, 8, 9, 10, 11, 12, 13, 14, 15, 16, 17, 18, 19, 20, 21, 22, 23, 24, 25, 26, 27, 28]\n",
            "0.92\n",
            "0.92\n",
            "0.96\n",
            "0.93\n",
            "0.93\n",
            "0.93\n",
            "0.94\n",
            "0.93\n",
            "0.97\n",
            "0.95\n",
            "0.97\n",
            "0.95\n",
            "0.91\n",
            "0.88\n",
            "0.92\n",
            "0.96\n",
            "0.88\n",
            "0.95\n",
            "0.99\n",
            "0.93\n",
            "0.93\n",
            "0.92\n",
            "0.88\n",
            "0.98\n",
            "0.88\n",
            "0.88\n",
            "1.0\n",
            "0.88\n",
            "0.95\n"
          ],
          "name": "stdout"
        },
        {
          "output_type": "display_data",
          "data": {
            "image/png": "[encoded data removed]",
            "text/plain": [
              "<Figure size 1280x800 with 1 Axes>"
            ]
          },
          "metadata": {
            "tags": [],
            "needs_background": "light"
          }
        }
      ]
    },
    {
      "cell_type": "code",
      "metadata": {
        "id": "cEvBJ1LUJs26",
        "colab_type": "code",
        "colab": {}
      },
      "source": [
        "# 'R','H','2B','HR','RBI','SF','OPS','BB'"
      ],
      "execution_count": 0,
      "outputs": []
    },
    {
      "cell_type": "code",
      "metadata": {
        "id": "FqMYjcR1Js28",
        "colab_type": "code",
        "outputId": "f333540c-0f4a-4d94-e2e4-b6c18f505b00",
        "colab": {}
      },
      "source": [
        "y_60=(11.17089499*bat_total_2019['R'])+ (-2.32029601*bat_total_2019['H'])+(0.42220896*bat_total_2019['HR'])\\\n",
        "+(40.55230659*bat_total_2019['OPS']) +411.70683626\n",
        "y_60"
      ],
      "execution_count": 0,
      "outputs": [
        {
          "output_type": "execute_result",
          "data": {
            "text/plain": [
              "270    839.289749\n",
              "271    905.268547\n",
              "272    758.796391\n",
              "273    963.842506\n",
              "274    838.236568\n",
              "275    757.969223\n",
              "276    824.831685\n",
              "277    836.372783\n",
              "278    736.561271\n",
              "279    677.767778\n",
              "280    854.783876\n",
              "281    710.541448\n",
              "282    793.624191\n",
              "283    933.358076\n",
              "284    686.636492\n",
              "285    856.933312\n",
              "286    971.761736\n",
              "287    847.496551\n",
              "288    869.562237\n",
              "289    860.445754\n",
              "290    811.341792\n",
              "291    794.058248\n",
              "292    795.351100\n",
              "293    758.152851\n",
              "294    733.217689\n",
              "295    866.475508\n",
              "296    797.102892\n",
              "297    842.271521\n",
              "298    790.384760\n",
              "299    946.411705\n",
              "dtype: float64"
            ]
          },
          "metadata": {
            "tags": []
          },
          "execution_count": 333
        }
      ]
    },
    {
      "cell_type": "code",
      "metadata": {
        "id": "brUN_eOEJs2-",
        "colab_type": "code",
        "outputId": "1b6e09c6-0d30-455e-b316-3daf36eb0921",
        "colab": {}
      },
      "source": [
        "y_70=(13.52156933*bat_total_2019['R'])+( -4.56226176*bat_total_2019['H'] )+(2.11612747*bat_total_2019['SF'])\\\n",
        " +(50.3507891*bat_total_2019['OPS'])  + 422.62836405\n",
        "y_70"
      ],
      "execution_count": 0,
      "outputs": [
        {
          "output_type": "execute_result",
          "data": {
            "text/plain": [
              "270    853.388640\n",
              "271    925.380345\n",
              "272    761.042649\n",
              "273    982.359182\n",
              "274    860.649764\n",
              "275    763.481596\n",
              "276    839.242007\n",
              "277    850.678184\n",
              "278    726.345345\n",
              "279    668.841277\n",
              "280    880.216982\n",
              "281    713.374501\n",
              "282    805.397922\n",
              "283    969.432909\n",
              "284    677.782662\n",
              "285    873.147238\n",
              "286    999.594743\n",
              "287    853.775808\n",
              "288    897.709968\n",
              "289    885.922550\n",
              "290    829.112439\n",
              "291    791.369813\n",
              "292    800.224310\n",
              "293    776.505957\n",
              "294    740.785426\n",
              "295    877.714165\n",
              "296    803.222690\n",
              "297    862.996113\n",
              "298    805.616980\n",
              "299    970.234808\n",
              "dtype: float64"
            ]
          },
          "metadata": {
            "tags": []
          },
          "execution_count": 334
        }
      ]
    },
    {
      "cell_type": "code",
      "metadata": {
        "id": "ztitDQQ6Js2_",
        "colab_type": "code",
        "colab": {}
      },
      "source": [
        "y_60_70=pd.DataFrame({'y_60':y_60,'y_70':y_70})"
      ],
      "execution_count": 0,
      "outputs": []
    },
    {
      "cell_type": "code",
      "metadata": {
        "id": "nkmPIhZTJs3A",
        "colab_type": "code",
        "colab": {}
      },
      "source": [
        "y_60_70.to_csv('../Data/MLB_data_edit/y_60_70.csv')"
      ],
      "execution_count": 0,
      "outputs": []
    },
    {
      "cell_type": "code",
      "metadata": {
        "id": "WxwHeT7zJs3C",
        "colab_type": "code",
        "outputId": "2ee51fbb-e11e-432d-cbb5-684510c4ac74",
        "colab": {}
      },
      "source": [
        "y_60_70"
      ],
      "execution_count": 0,
      "outputs": [
        {
          "output_type": "execute_result",
          "data": {
            "text/html": [
              "<div>\n",
              "<style scoped>\n",
              "    .dataframe tbody tr th:only-of-type {\n",
              "        vertical-align: middle;\n",
              "    }\n",
              "\n",
              "    .dataframe tbody tr th {\n",
              "        vertical-align: top;\n",
              "    }\n",
              "\n",
              "    .dataframe thead th {\n",
              "        text-align: right;\n",
              "    }\n",
              "</style>\n",
              "<table border=\"1\" class=\"dataframe\">\n",
              "  <thead>\n",
              "    <tr style=\"text-align: right;\">\n",
              "      <th></th>\n",
              "      <th>y_60</th>\n",
              "      <th>y_70</th>\n",
              "    </tr>\n",
              "  </thead>\n",
              "  <tbody>\n",
              "    <tr>\n",
              "      <td>270</td>\n",
              "      <td>839.289749</td>\n",
              "      <td>853.388640</td>\n",
              "    </tr>\n",
              "    <tr>\n",
              "      <td>271</td>\n",
              "      <td>905.268547</td>\n",
              "      <td>925.380345</td>\n",
              "    </tr>\n",
              "    <tr>\n",
              "      <td>272</td>\n",
              "      <td>758.796391</td>\n",
              "      <td>761.042649</td>\n",
              "    </tr>\n",
              "    <tr>\n",
              "      <td>273</td>\n",
              "      <td>963.842506</td>\n",
              "      <td>982.359182</td>\n",
              "    </tr>\n",
              "    <tr>\n",
              "      <td>274</td>\n",
              "      <td>838.236568</td>\n",
              "      <td>860.649764</td>\n",
              "    </tr>\n",
              "    <tr>\n",
              "      <td>275</td>\n",
              "      <td>757.969223</td>\n",
              "      <td>763.481596</td>\n",
              "    </tr>\n",
              "    <tr>\n",
              "      <td>276</td>\n",
              "      <td>824.831685</td>\n",
              "      <td>839.242007</td>\n",
              "    </tr>\n",
              "    <tr>\n",
              "      <td>277</td>\n",
              "      <td>836.372783</td>\n",
              "      <td>850.678184</td>\n",
              "    </tr>\n",
              "    <tr>\n",
              "      <td>278</td>\n",
              "      <td>736.561271</td>\n",
              "      <td>726.345345</td>\n",
              "    </tr>\n",
              "    <tr>\n",
              "      <td>279</td>\n",
              "      <td>677.767778</td>\n",
              "      <td>668.841277</td>\n",
              "    </tr>\n",
              "    <tr>\n",
              "      <td>280</td>\n",
              "      <td>854.783876</td>\n",
              "      <td>880.216982</td>\n",
              "    </tr>\n",
              "    <tr>\n",
              "      <td>281</td>\n",
              "      <td>710.541448</td>\n",
              "      <td>713.374501</td>\n",
              "    </tr>\n",
              "    <tr>\n",
              "      <td>282</td>\n",
              "      <td>793.624191</td>\n",
              "      <td>805.397922</td>\n",
              "    </tr>\n",
              "    <tr>\n",
              "      <td>283</td>\n",
              "      <td>933.358076</td>\n",
              "      <td>969.432909</td>\n",
              "    </tr>\n",
              "    <tr>\n",
              "      <td>284</td>\n",
              "      <td>686.636492</td>\n",
              "      <td>677.782662</td>\n",
              "    </tr>\n",
              "    <tr>\n",
              "      <td>285</td>\n",
              "      <td>856.933312</td>\n",
              "      <td>873.147238</td>\n",
              "    </tr>\n",
              "    <tr>\n",
              "      <td>286</td>\n",
              "      <td>971.761736</td>\n",
              "      <td>999.594743</td>\n",
              "    </tr>\n",
              "    <tr>\n",
              "      <td>287</td>\n",
              "      <td>847.496551</td>\n",
              "      <td>853.775808</td>\n",
              "    </tr>\n",
              "    <tr>\n",
              "      <td>288</td>\n",
              "      <td>869.562237</td>\n",
              "      <td>897.709968</td>\n",
              "    </tr>\n",
              "    <tr>\n",
              "      <td>289</td>\n",
              "      <td>860.445754</td>\n",
              "      <td>885.922550</td>\n",
              "    </tr>\n",
              "    <tr>\n",
              "      <td>290</td>\n",
              "      <td>811.341792</td>\n",
              "      <td>829.112439</td>\n",
              "    </tr>\n",
              "    <tr>\n",
              "      <td>291</td>\n",
              "      <td>794.058248</td>\n",
              "      <td>791.369813</td>\n",
              "    </tr>\n",
              "    <tr>\n",
              "      <td>292</td>\n",
              "      <td>795.351100</td>\n",
              "      <td>800.224310</td>\n",
              "    </tr>\n",
              "    <tr>\n",
              "      <td>293</td>\n",
              "      <td>758.152851</td>\n",
              "      <td>776.505957</td>\n",
              "    </tr>\n",
              "    <tr>\n",
              "      <td>294</td>\n",
              "      <td>733.217689</td>\n",
              "      <td>740.785426</td>\n",
              "    </tr>\n",
              "    <tr>\n",
              "      <td>295</td>\n",
              "      <td>866.475508</td>\n",
              "      <td>877.714165</td>\n",
              "    </tr>\n",
              "    <tr>\n",
              "      <td>296</td>\n",
              "      <td>797.102892</td>\n",
              "      <td>803.222690</td>\n",
              "    </tr>\n",
              "    <tr>\n",
              "      <td>297</td>\n",
              "      <td>842.271521</td>\n",
              "      <td>862.996113</td>\n",
              "    </tr>\n",
              "    <tr>\n",
              "      <td>298</td>\n",
              "      <td>790.384760</td>\n",
              "      <td>805.616980</td>\n",
              "    </tr>\n",
              "    <tr>\n",
              "      <td>299</td>\n",
              "      <td>946.411705</td>\n",
              "      <td>970.234808</td>\n",
              "    </tr>\n",
              "  </tbody>\n",
              "</table>\n",
              "</div>"
            ],
            "text/plain": [
              "           y_60        y_70\n",
              "270  839.289749  853.388640\n",
              "271  905.268547  925.380345\n",
              "272  758.796391  761.042649\n",
              "273  963.842506  982.359182\n",
              "274  838.236568  860.649764\n",
              "275  757.969223  763.481596\n",
              "276  824.831685  839.242007\n",
              "277  836.372783  850.678184\n",
              "278  736.561271  726.345345\n",
              "279  677.767778  668.841277\n",
              "280  854.783876  880.216982\n",
              "281  710.541448  713.374501\n",
              "282  793.624191  805.397922\n",
              "283  933.358076  969.432909\n",
              "284  686.636492  677.782662\n",
              "285  856.933312  873.147238\n",
              "286  971.761736  999.594743\n",
              "287  847.496551  853.775808\n",
              "288  869.562237  897.709968\n",
              "289  860.445754  885.922550\n",
              "290  811.341792  829.112439\n",
              "291  794.058248  791.369813\n",
              "292  795.351100  800.224310\n",
              "293  758.152851  776.505957\n",
              "294  733.217689  740.785426\n",
              "295  866.475508  877.714165\n",
              "296  797.102892  803.222690\n",
              "297  842.271521  862.996113\n",
              "298  790.384760  805.616980\n",
              "299  946.411705  970.234808"
            ]
          },
          "metadata": {
            "tags": []
          },
          "execution_count": 338
        }
      ]
    },
    {
      "cell_type": "code",
      "metadata": {
        "id": "cR6SmRrJJs3F",
        "colab_type": "code",
        "colab": {}
      },
      "source": [
        ""
      ],
      "execution_count": 0,
      "outputs": []
    },
    {
      "cell_type": "code",
      "metadata": {
        "id": "655wvxBUJs3G",
        "colab_type": "code",
        "colab": {}
      },
      "source": [
        ""
      ],
      "execution_count": 0,
      "outputs": []
    },
    {
      "cell_type": "code",
      "metadata": {
        "id": "9vU-qyxLJs3I",
        "colab_type": "code",
        "colab": {}
      },
      "source": [
        ""
      ],
      "execution_count": 0,
      "outputs": []
    },
    {
      "cell_type": "code",
      "metadata": {
        "id": "jg4-WdWxJs3J",
        "colab_type": "code",
        "colab": {}
      },
      "source": [
        ""
      ],
      "execution_count": 0,
      "outputs": []
    },
    {
      "cell_type": "code",
      "metadata": {
        "id": "aHpzEDB-Js3K",
        "colab_type": "code",
        "colab": {}
      },
      "source": [
        ""
      ],
      "execution_count": 0,
      "outputs": []
    },
    {
      "cell_type": "code",
      "metadata": {
        "id": "1r_-Bid3Js3L",
        "colab_type": "code",
        "colab": {}
      },
      "source": [
        ""
      ],
      "execution_count": 0,
      "outputs": []
    },
    {
      "cell_type": "code",
      "metadata": {
        "id": "lRwEqgI9Js3M",
        "colab_type": "code",
        "colab": {}
      },
      "source": [
        ""
      ],
      "execution_count": 0,
      "outputs": []
    },
    {
      "cell_type": "code",
      "metadata": {
        "id": "sXAfwocPJs3N",
        "colab_type": "code",
        "colab": {}
      },
      "source": [
        ""
      ],
      "execution_count": 0,
      "outputs": []
    },
    {
      "cell_type": "code",
      "metadata": {
        "id": "hrdr9jVdJs3O",
        "colab_type": "code",
        "colab": {}
      },
      "source": [
        ""
      ],
      "execution_count": 0,
      "outputs": []
    },
    {
      "cell_type": "code",
      "metadata": {
        "id": "5dL3pWiXJs3Q",
        "colab_type": "code",
        "colab": {}
      },
      "source": [
        ""
      ],
      "execution_count": 0,
      "outputs": []
    },
    {
      "cell_type": "code",
      "metadata": {
        "id": "YJniPczVJs3R",
        "colab_type": "code",
        "colab": {}
      },
      "source": [
        ""
      ],
      "execution_count": 0,
      "outputs": []
    },
    {
      "cell_type": "code",
      "metadata": {
        "id": "d2eByv3zJs3S",
        "colab_type": "code",
        "colab": {}
      },
      "source": [
        ""
      ],
      "execution_count": 0,
      "outputs": []
    },
    {
      "cell_type": "code",
      "metadata": {
        "id": "SJ5fKqkLJs3U",
        "colab_type": "code",
        "colab": {}
      },
      "source": [
        ""
      ],
      "execution_count": 0,
      "outputs": []
    },
    {
      "cell_type": "code",
      "metadata": {
        "id": "3Sy-Vs79Js3V",
        "colab_type": "code",
        "colab": {}
      },
      "source": [
        ""
      ],
      "execution_count": 0,
      "outputs": []
    },
    {
      "cell_type": "code",
      "metadata": {
        "id": "U8Y8zVzgJs3W",
        "colab_type": "code",
        "colab": {}
      },
      "source": [
        ""
      ],
      "execution_count": 0,
      "outputs": []
    },
    {
      "cell_type": "code",
      "metadata": {
        "id": "NZKqEJZeJs3X",
        "colab_type": "code",
        "colab": {}
      },
      "source": [
        ""
      ],
      "execution_count": 0,
      "outputs": []
    },
    {
      "cell_type": "code",
      "metadata": {
        "id": "04O-m57jJs3Y",
        "colab_type": "code",
        "colab": {}
      },
      "source": [
        ""
      ],
      "execution_count": 0,
      "outputs": []
    },
    {
      "cell_type": "code",
      "metadata": {
        "id": "sGKDorv8Js3Z",
        "colab_type": "code",
        "colab": {}
      },
      "source": [
        ""
      ],
      "execution_count": 0,
      "outputs": []
    },
    {
      "cell_type": "code",
      "metadata": {
        "id": "exUeKt_pJs3a",
        "colab_type": "code",
        "colab": {}
      },
      "source": [
        ""
      ],
      "execution_count": 0,
      "outputs": []
    },
    {
      "cell_type": "code",
      "metadata": {
        "id": "sruheQizJs3b",
        "colab_type": "code",
        "colab": {}
      },
      "source": [
        ""
      ],
      "execution_count": 0,
      "outputs": []
    },
    {
      "cell_type": "code",
      "metadata": {
        "id": "ADlmRyP8Js3d",
        "colab_type": "code",
        "colab": {}
      },
      "source": [
        ""
      ],
      "execution_count": 0,
      "outputs": []
    },
    {
      "cell_type": "code",
      "metadata": {
        "id": "nUhZLSuQJs3e",
        "colab_type": "code",
        "colab": {}
      },
      "source": [
        ""
      ],
      "execution_count": 0,
      "outputs": []
    },
    {
      "cell_type": "code",
      "metadata": {
        "id": "_475DFjOJs3g",
        "colab_type": "code",
        "colab": {}
      },
      "source": [
        ""
      ],
      "execution_count": 0,
      "outputs": []
    },
    {
      "cell_type": "code",
      "metadata": {
        "id": "bLKHOSdCJs3h",
        "colab_type": "code",
        "colab": {}
      },
      "source": [
        ""
      ],
      "execution_count": 0,
      "outputs": []
    },
    {
      "cell_type": "code",
      "metadata": {
        "id": "crLZQWmPJs3i",
        "colab_type": "code",
        "colab": {}
      },
      "source": [
        ""
      ],
      "execution_count": 0,
      "outputs": []
    },
    {
      "cell_type": "code",
      "metadata": {
        "id": "lbuOQVWYJs3j",
        "colab_type": "code",
        "colab": {}
      },
      "source": [
        ""
      ],
      "execution_count": 0,
      "outputs": []
    },
    {
      "cell_type": "code",
      "metadata": {
        "id": "ww2nmS62Js3k",
        "colab_type": "code",
        "colab": {}
      },
      "source": [
        ""
      ],
      "execution_count": 0,
      "outputs": []
    },
    {
      "cell_type": "code",
      "metadata": {
        "id": "pvRMLQ3nJs3m",
        "colab_type": "code",
        "colab": {}
      },
      "source": [
        ""
      ],
      "execution_count": 0,
      "outputs": []
    },
    {
      "cell_type": "code",
      "metadata": {
        "id": "LGYyabkkJs3n",
        "colab_type": "code",
        "colab": {}
      },
      "source": [
        ""
      ],
      "execution_count": 0,
      "outputs": []
    }
  ]
}